{
 "cells": [
  {
   "cell_type": "markdown",
   "metadata": {
    "id": "3rYiDeEH0q0f"
   },
   "source": [
    "# ¿Cuál es la mejor tarifa?\n",
    "\n",
    "Trabajas como analista para el operador de telecomunicaciones Megaline. La empresa ofrece a sus clientes dos tarifas de prepago, Surf y Ultimate. El departamento comercial quiere saber cuál de las tarifas genera más ingresos para poder ajustar el presupuesto de publicidad.\n",
    "\n",
    "Vas a realizar un análisis preliminar de las tarifas basado en una selección de clientes relativamente pequeña. Tendrás los datos de 500 clientes de Megaline: quiénes son los clientes, de dónde son, qué tarifa usan, así como la cantidad de llamadas que hicieron y los mensajes de texto que enviaron en 2018. Tu trabajo es analizar el comportamiento de los clientes y determinar qué tarifa de prepago genera más ingresos."
   ]
  },
  {
   "cell_type": "markdown",
   "metadata": {
    "id": "VNddPNRQ0q0w"
   },
   "source": [
    "[Te proporcionamos algunos comentarios para orientarte mientras completas este proyecto. Pero debes asegurarte de eliminar todos los comentarios entre corchetes antes de entregar tu proyecto.]\n",
    "\n",
    "[Antes de sumergirte en el análisis de datos, explica por tu propia cuenta el propósito del proyecto y las acciones que planeas realizar.]\n",
    "\n",
    "[Ten en cuenta que estudiar, modificar y analizar datos es un proceso iterativo. Es normal volver a los pasos anteriores y corregirlos/ampliarlos para permitir nuevos pasos.]"
   ]
  },
  {
   "cell_type": "markdown",
   "metadata": {
    "id": "MQi4IPy70q0y"
   },
   "source": [
    "## Inicialización"
   ]
  },
  {
   "cell_type": "code",
   "execution_count": 1,
   "metadata": {
    "id": "MtYIuBxu0q0z"
   },
   "outputs": [],
   "source": [
    "# Cargar todas las librerías\n",
    "\n",
    "import pandas as pd\n",
    "import numpy as np\n",
    "from scipy import stats as st\n",
    "from matplotlib import pyplot as plt"
   ]
  },
  {
   "cell_type": "markdown",
   "metadata": {
    "id": "4ysWWC5i0q00"
   },
   "source": [
    "## Cargar datos"
   ]
  },
  {
   "cell_type": "code",
   "execution_count": 2,
   "metadata": {
    "id": "CCqPW7rS0q01"
   },
   "outputs": [],
   "source": [
    "# Carga los archivos de datos en diferentes DataFrames\n",
    "\n",
    "df_users = pd.read_csv(\"/datasets/megaline_users.csv\")\n",
    "df_calls = pd.read_csv(\"/datasets/megaline_calls.csv\")\n",
    "df_messages = pd.read_csv(\"/datasets/megaline_messages.csv\")\n",
    "df_internet = pd.read_csv(\"/datasets/megaline_internet.csv\")\n",
    "df_plans = pd.read_csv(\"/datasets/megaline_plans.csv\")"
   ]
  },
  {
   "cell_type": "markdown",
   "metadata": {
    "id": "69qqoJ3r0q01"
   },
   "source": [
    "## Preparar los datos"
   ]
  },
  {
   "cell_type": "markdown",
   "metadata": {
    "id": "vUuZw80S0q01"
   },
   "source": [
    "[Los datos para este proyecto se dividen en varias tablas. Explora cada una para tener una comprensión inicial de los datos. Si es necesario, haz las correcciones requeridas en cada tabla.]"
   ]
  },
  {
   "cell_type": "markdown",
   "metadata": {
    "id": "ohBhimvH0q01"
   },
   "source": [
    "## Tarifas"
   ]
  },
  {
   "cell_type": "code",
   "execution_count": 3,
   "metadata": {
    "id": "GptqP3Q40q02"
   },
   "outputs": [
    {
     "name": "stdout",
     "output_type": "stream",
     "text": [
      "<class 'pandas.core.frame.DataFrame'>\n",
      "RangeIndex: 2 entries, 0 to 1\n",
      "Data columns (total 8 columns):\n",
      " #   Column                 Non-Null Count  Dtype  \n",
      "---  ------                 --------------  -----  \n",
      " 0   messages_included      2 non-null      int64  \n",
      " 1   mb_per_month_included  2 non-null      int64  \n",
      " 2   minutes_included       2 non-null      int64  \n",
      " 3   usd_monthly_pay        2 non-null      int64  \n",
      " 4   usd_per_gb             2 non-null      int64  \n",
      " 5   usd_per_message        2 non-null      float64\n",
      " 6   usd_per_minute         2 non-null      float64\n",
      " 7   plan_name              2 non-null      object \n",
      "dtypes: float64(2), int64(5), object(1)\n",
      "memory usage: 256.0+ bytes\n"
     ]
    }
   ],
   "source": [
    "# Imprime la información general/resumida sobre el DataFrame de las tarifas\n",
    "\n",
    "df_plans.info()"
   ]
  },
  {
   "cell_type": "code",
   "execution_count": 4,
   "metadata": {
    "id": "64xzjwL70q02"
   },
   "outputs": [
    {
     "data": {
      "text/html": [
       "<div>\n",
       "<style scoped>\n",
       "    .dataframe tbody tr th:only-of-type {\n",
       "        vertical-align: middle;\n",
       "    }\n",
       "\n",
       "    .dataframe tbody tr th {\n",
       "        vertical-align: top;\n",
       "    }\n",
       "\n",
       "    .dataframe thead th {\n",
       "        text-align: right;\n",
       "    }\n",
       "</style>\n",
       "<table border=\"1\" class=\"dataframe\">\n",
       "  <thead>\n",
       "    <tr style=\"text-align: right;\">\n",
       "      <th></th>\n",
       "      <th>messages_included</th>\n",
       "      <th>mb_per_month_included</th>\n",
       "      <th>minutes_included</th>\n",
       "      <th>usd_monthly_pay</th>\n",
       "      <th>usd_per_gb</th>\n",
       "      <th>usd_per_message</th>\n",
       "      <th>usd_per_minute</th>\n",
       "      <th>plan_name</th>\n",
       "    </tr>\n",
       "  </thead>\n",
       "  <tbody>\n",
       "    <tr>\n",
       "      <th>1</th>\n",
       "      <td>1000</td>\n",
       "      <td>30720</td>\n",
       "      <td>3000</td>\n",
       "      <td>70</td>\n",
       "      <td>7</td>\n",
       "      <td>0.01</td>\n",
       "      <td>0.01</td>\n",
       "      <td>ultimate</td>\n",
       "    </tr>\n",
       "    <tr>\n",
       "      <th>0</th>\n",
       "      <td>50</td>\n",
       "      <td>15360</td>\n",
       "      <td>500</td>\n",
       "      <td>20</td>\n",
       "      <td>10</td>\n",
       "      <td>0.03</td>\n",
       "      <td>0.03</td>\n",
       "      <td>surf</td>\n",
       "    </tr>\n",
       "  </tbody>\n",
       "</table>\n",
       "</div>"
      ],
      "text/plain": [
       "   messages_included  mb_per_month_included  minutes_included  \\\n",
       "1               1000                  30720              3000   \n",
       "0                 50                  15360               500   \n",
       "\n",
       "   usd_monthly_pay  usd_per_gb  usd_per_message  usd_per_minute plan_name  \n",
       "1               70           7             0.01            0.01  ultimate  \n",
       "0               20          10             0.03            0.03      surf  "
      ]
     },
     "execution_count": 4,
     "metadata": {},
     "output_type": "execute_result"
    }
   ],
   "source": [
    "# Imprime una muestra de los datos para las tarifas\n",
    "\n",
    "df_plans.sample(2)"
   ]
  },
  {
   "cell_type": "markdown",
   "metadata": {
    "id": "mEc_3_hs0q02"
   },
   "source": [
    "[Describe lo que ves y observas en la información general y en la muestra de datos impresa para el precio de datos anterior. ¿Hay algún problema (tipos de datos no adecuados, datos ausentes, etc.) que pudieran necesitar investigación y cambios adicionales? ¿Cómo se puede arreglar?]\n",
    "\n",
    "Revisando la información del dataset \"Tarifas\", en la información general, se observa que es una tabla con poca información (2 registros), se analiza la información tanto de la tabla (configuración), como también los datos que se encuentran almacenados. Se puede observarque no hay datos ausentes, ni nulos, los registros que se encuentran como object, estan todos en minúscula, por lo que no representa un tema a modificar. Lo que si se observa es que en las columnas que representan costos, de las cuatro columnas, dos son tipo entero, y dos son tipo float, por lo que es necesario corregir y unificar el tipo de datos"
   ]
  },
  {
   "cell_type": "markdown",
   "metadata": {
    "id": "R3C05i1l0q03"
   },
   "source": [
    "## Corregir datos"
   ]
  },
  {
   "cell_type": "markdown",
   "metadata": {
    "id": "bIi8StZI0q03"
   },
   "source": [
    "[Corrige los problemas obvios con los datos basándote en las observaciones iniciales.]"
   ]
  },
  {
   "cell_type": "code",
   "execution_count": 5,
   "metadata": {
    "id": "Y7SVmjGn0q03"
   },
   "outputs": [
    {
     "name": "stdout",
     "output_type": "stream",
     "text": [
      "<class 'pandas.core.frame.DataFrame'>\n",
      "RangeIndex: 2 entries, 0 to 1\n",
      "Data columns (total 8 columns):\n",
      " #   Column                 Non-Null Count  Dtype  \n",
      "---  ------                 --------------  -----  \n",
      " 0   messages_included      2 non-null      int64  \n",
      " 1   mb_per_month_included  2 non-null      int64  \n",
      " 2   minutes_included       2 non-null      int64  \n",
      " 3   usd_monthly_pay        2 non-null      float64\n",
      " 4   usd_per_gb             2 non-null      float64\n",
      " 5   usd_per_message        2 non-null      float64\n",
      " 6   usd_per_minute         2 non-null      float64\n",
      " 7   plan_name              2 non-null      object \n",
      "dtypes: float64(4), int64(3), object(1)\n",
      "memory usage: 256.0+ bytes\n"
     ]
    }
   ],
   "source": [
    "df_plans['usd_monthly_pay']=df_plans['usd_monthly_pay'].astype(float)\n",
    "df_plans['usd_per_gb']=df_plans['usd_per_gb'].astype(float)\n",
    "df_plans.info()"
   ]
  },
  {
   "cell_type": "markdown",
   "metadata": {
    "id": "LJir7bml0q03"
   },
   "source": [
    "## Enriquecer los datos"
   ]
  },
  {
   "cell_type": "markdown",
   "metadata": {
    "id": "eqADpCfg0q04"
   },
   "source": [
    "[Agrega factores adicionales a los datos si crees que pudieran ser útiles.]"
   ]
  },
  {
   "cell_type": "code",
   "execution_count": null,
   "metadata": {
    "id": "gfcIEuXV0q04"
   },
   "outputs": [],
   "source": []
  },
  {
   "cell_type": "markdown",
   "metadata": {
    "id": "1n2X6WXf0q04"
   },
   "source": [
    "## Usuarios/as"
   ]
  },
  {
   "cell_type": "code",
   "execution_count": 6,
   "metadata": {
    "id": "2NgjWFqx0q05"
   },
   "outputs": [
    {
     "name": "stdout",
     "output_type": "stream",
     "text": [
      "<class 'pandas.core.frame.DataFrame'>\n",
      "RangeIndex: 500 entries, 0 to 499\n",
      "Data columns (total 8 columns):\n",
      " #   Column      Non-Null Count  Dtype \n",
      "---  ------      --------------  ----- \n",
      " 0   user_id     500 non-null    int64 \n",
      " 1   first_name  500 non-null    object\n",
      " 2   last_name   500 non-null    object\n",
      " 3   age         500 non-null    int64 \n",
      " 4   city        500 non-null    object\n",
      " 5   reg_date    500 non-null    object\n",
      " 6   plan        500 non-null    object\n",
      " 7   churn_date  34 non-null     object\n",
      "dtypes: int64(2), object(6)\n",
      "memory usage: 31.4+ KB\n"
     ]
    }
   ],
   "source": [
    "# Imprime la información general/resumida sobre el DataFrame de usuarios\n",
    "\n",
    "df_users.info()"
   ]
  },
  {
   "cell_type": "code",
   "execution_count": 7,
   "metadata": {
    "id": "1IN1L9uh0q05"
   },
   "outputs": [
    {
     "data": {
      "text/html": [
       "<div>\n",
       "<style scoped>\n",
       "    .dataframe tbody tr th:only-of-type {\n",
       "        vertical-align: middle;\n",
       "    }\n",
       "\n",
       "    .dataframe tbody tr th {\n",
       "        vertical-align: top;\n",
       "    }\n",
       "\n",
       "    .dataframe thead th {\n",
       "        text-align: right;\n",
       "    }\n",
       "</style>\n",
       "<table border=\"1\" class=\"dataframe\">\n",
       "  <thead>\n",
       "    <tr style=\"text-align: right;\">\n",
       "      <th></th>\n",
       "      <th>user_id</th>\n",
       "      <th>first_name</th>\n",
       "      <th>last_name</th>\n",
       "      <th>age</th>\n",
       "      <th>city</th>\n",
       "      <th>reg_date</th>\n",
       "      <th>plan</th>\n",
       "      <th>churn_date</th>\n",
       "    </tr>\n",
       "  </thead>\n",
       "  <tbody>\n",
       "    <tr>\n",
       "      <th>47</th>\n",
       "      <td>1047</td>\n",
       "      <td>Yuk</td>\n",
       "      <td>French</td>\n",
       "      <td>22</td>\n",
       "      <td>Indianapolis-Carmel-Anderson, IN MSA</td>\n",
       "      <td>2018-06-16</td>\n",
       "      <td>ultimate</td>\n",
       "      <td>NaN</td>\n",
       "    </tr>\n",
       "    <tr>\n",
       "      <th>368</th>\n",
       "      <td>1368</td>\n",
       "      <td>Enola</td>\n",
       "      <td>Ray</td>\n",
       "      <td>60</td>\n",
       "      <td>Pittsburgh, PA MSA</td>\n",
       "      <td>2018-05-20</td>\n",
       "      <td>ultimate</td>\n",
       "      <td>NaN</td>\n",
       "    </tr>\n",
       "    <tr>\n",
       "      <th>408</th>\n",
       "      <td>1408</td>\n",
       "      <td>Alaine</td>\n",
       "      <td>Robertson</td>\n",
       "      <td>40</td>\n",
       "      <td>Baltimore-Columbia-Towson, MD MSA</td>\n",
       "      <td>2018-01-11</td>\n",
       "      <td>surf</td>\n",
       "      <td>NaN</td>\n",
       "    </tr>\n",
       "    <tr>\n",
       "      <th>494</th>\n",
       "      <td>1494</td>\n",
       "      <td>Preston</td>\n",
       "      <td>Downs</td>\n",
       "      <td>70</td>\n",
       "      <td>New York-Newark-Jersey City, NY-NJ-PA MSA</td>\n",
       "      <td>2018-04-19</td>\n",
       "      <td>surf</td>\n",
       "      <td>NaN</td>\n",
       "    </tr>\n",
       "    <tr>\n",
       "      <th>199</th>\n",
       "      <td>1199</td>\n",
       "      <td>Antonetta</td>\n",
       "      <td>Finley</td>\n",
       "      <td>39</td>\n",
       "      <td>San Antonio-New Braunfels, TX MSA</td>\n",
       "      <td>2018-08-01</td>\n",
       "      <td>ultimate</td>\n",
       "      <td>NaN</td>\n",
       "    </tr>\n",
       "    <tr>\n",
       "      <th>301</th>\n",
       "      <td>1301</td>\n",
       "      <td>Tomas</td>\n",
       "      <td>Horton</td>\n",
       "      <td>64</td>\n",
       "      <td>Chicago-Naperville-Elgin, IL-IN-WI MSA</td>\n",
       "      <td>2018-01-04</td>\n",
       "      <td>ultimate</td>\n",
       "      <td>NaN</td>\n",
       "    </tr>\n",
       "    <tr>\n",
       "      <th>384</th>\n",
       "      <td>1384</td>\n",
       "      <td>Dominique</td>\n",
       "      <td>Good</td>\n",
       "      <td>36</td>\n",
       "      <td>Philadelphia-Camden-Wilmington, PA-NJ-DE-MD MSA</td>\n",
       "      <td>2018-06-09</td>\n",
       "      <td>ultimate</td>\n",
       "      <td>NaN</td>\n",
       "    </tr>\n",
       "    <tr>\n",
       "      <th>56</th>\n",
       "      <td>1056</td>\n",
       "      <td>Denis</td>\n",
       "      <td>Chandler</td>\n",
       "      <td>33</td>\n",
       "      <td>Cincinnati, OH-KY-IN MSA</td>\n",
       "      <td>2018-03-01</td>\n",
       "      <td>surf</td>\n",
       "      <td>NaN</td>\n",
       "    </tr>\n",
       "    <tr>\n",
       "      <th>37</th>\n",
       "      <td>1037</td>\n",
       "      <td>Reena</td>\n",
       "      <td>Velazquez</td>\n",
       "      <td>20</td>\n",
       "      <td>Seattle-Tacoma-Bellevue, WA MSA</td>\n",
       "      <td>2018-08-11</td>\n",
       "      <td>ultimate</td>\n",
       "      <td>NaN</td>\n",
       "    </tr>\n",
       "    <tr>\n",
       "      <th>428</th>\n",
       "      <td>1428</td>\n",
       "      <td>Asuncion</td>\n",
       "      <td>Conrad</td>\n",
       "      <td>66</td>\n",
       "      <td>Phoenix-Mesa-Chandler, AZ MSA</td>\n",
       "      <td>2018-10-23</td>\n",
       "      <td>surf</td>\n",
       "      <td>NaN</td>\n",
       "    </tr>\n",
       "    <tr>\n",
       "      <th>335</th>\n",
       "      <td>1335</td>\n",
       "      <td>Gail</td>\n",
       "      <td>Coleman</td>\n",
       "      <td>61</td>\n",
       "      <td>Dallas-Fort Worth-Arlington, TX MSA</td>\n",
       "      <td>2018-06-02</td>\n",
       "      <td>surf</td>\n",
       "      <td>NaN</td>\n",
       "    </tr>\n",
       "    <tr>\n",
       "      <th>202</th>\n",
       "      <td>1202</td>\n",
       "      <td>Osvaldo</td>\n",
       "      <td>Mayer</td>\n",
       "      <td>36</td>\n",
       "      <td>Minneapolis-St. Paul-Bloomington, MN-WI MSA</td>\n",
       "      <td>2018-09-30</td>\n",
       "      <td>ultimate</td>\n",
       "      <td>NaN</td>\n",
       "    </tr>\n",
       "    <tr>\n",
       "      <th>12</th>\n",
       "      <td>1012</td>\n",
       "      <td>Jonelle</td>\n",
       "      <td>Mcbride</td>\n",
       "      <td>59</td>\n",
       "      <td>Chicago-Naperville-Elgin, IL-IN-WI MSA</td>\n",
       "      <td>2018-06-28</td>\n",
       "      <td>surf</td>\n",
       "      <td>2018-11-16</td>\n",
       "    </tr>\n",
       "    <tr>\n",
       "      <th>435</th>\n",
       "      <td>1435</td>\n",
       "      <td>Darnell</td>\n",
       "      <td>Powell</td>\n",
       "      <td>23</td>\n",
       "      <td>Washington-Arlington-Alexandria, DC-VA-MD-WV MSA</td>\n",
       "      <td>2018-07-24</td>\n",
       "      <td>ultimate</td>\n",
       "      <td>NaN</td>\n",
       "    </tr>\n",
       "    <tr>\n",
       "      <th>256</th>\n",
       "      <td>1256</td>\n",
       "      <td>Johnny</td>\n",
       "      <td>Wise</td>\n",
       "      <td>53</td>\n",
       "      <td>Chicago-Naperville-Elgin, IL-IN-WI MSA</td>\n",
       "      <td>2018-09-11</td>\n",
       "      <td>surf</td>\n",
       "      <td>NaN</td>\n",
       "    </tr>\n",
       "    <tr>\n",
       "      <th>495</th>\n",
       "      <td>1495</td>\n",
       "      <td>Fidel</td>\n",
       "      <td>Sharpe</td>\n",
       "      <td>67</td>\n",
       "      <td>New York-Newark-Jersey City, NY-NJ-PA MSA</td>\n",
       "      <td>2018-09-04</td>\n",
       "      <td>surf</td>\n",
       "      <td>NaN</td>\n",
       "    </tr>\n",
       "    <tr>\n",
       "      <th>397</th>\n",
       "      <td>1397</td>\n",
       "      <td>Willow</td>\n",
       "      <td>Steele</td>\n",
       "      <td>70</td>\n",
       "      <td>Oklahoma City, OK MSA</td>\n",
       "      <td>2018-06-01</td>\n",
       "      <td>surf</td>\n",
       "      <td>NaN</td>\n",
       "    </tr>\n",
       "    <tr>\n",
       "      <th>176</th>\n",
       "      <td>1176</td>\n",
       "      <td>Terrance</td>\n",
       "      <td>Shaffer</td>\n",
       "      <td>75</td>\n",
       "      <td>New York-Newark-Jersey City, NY-NJ-PA MSA</td>\n",
       "      <td>2018-10-03</td>\n",
       "      <td>surf</td>\n",
       "      <td>NaN</td>\n",
       "    </tr>\n",
       "    <tr>\n",
       "      <th>34</th>\n",
       "      <td>1034</td>\n",
       "      <td>Jc</td>\n",
       "      <td>Gentry</td>\n",
       "      <td>22</td>\n",
       "      <td>New York-Newark-Jersey City, NY-NJ-PA MSA</td>\n",
       "      <td>2018-08-13</td>\n",
       "      <td>surf</td>\n",
       "      <td>NaN</td>\n",
       "    </tr>\n",
       "    <tr>\n",
       "      <th>450</th>\n",
       "      <td>1450</td>\n",
       "      <td>Errol</td>\n",
       "      <td>Marquez</td>\n",
       "      <td>67</td>\n",
       "      <td>Bakersfield, CA MSA</td>\n",
       "      <td>2018-06-16</td>\n",
       "      <td>ultimate</td>\n",
       "      <td>NaN</td>\n",
       "    </tr>\n",
       "    <tr>\n",
       "      <th>150</th>\n",
       "      <td>1150</td>\n",
       "      <td>Earlie</td>\n",
       "      <td>Giles</td>\n",
       "      <td>46</td>\n",
       "      <td>Houston-The Woodlands-Sugar Land, TX MSA</td>\n",
       "      <td>2018-09-19</td>\n",
       "      <td>ultimate</td>\n",
       "      <td>NaN</td>\n",
       "    </tr>\n",
       "    <tr>\n",
       "      <th>456</th>\n",
       "      <td>1456</td>\n",
       "      <td>Seymour</td>\n",
       "      <td>Olsen</td>\n",
       "      <td>66</td>\n",
       "      <td>Minneapolis-St. Paul-Bloomington, MN-WI MSA</td>\n",
       "      <td>2018-06-02</td>\n",
       "      <td>ultimate</td>\n",
       "      <td>NaN</td>\n",
       "    </tr>\n",
       "    <tr>\n",
       "      <th>306</th>\n",
       "      <td>1306</td>\n",
       "      <td>Darron</td>\n",
       "      <td>Craig</td>\n",
       "      <td>19</td>\n",
       "      <td>Washington-Arlington-Alexandria, DC-VA-MD-WV MSA</td>\n",
       "      <td>2018-11-26</td>\n",
       "      <td>surf</td>\n",
       "      <td>NaN</td>\n",
       "    </tr>\n",
       "    <tr>\n",
       "      <th>192</th>\n",
       "      <td>1192</td>\n",
       "      <td>Korey</td>\n",
       "      <td>Goodwin</td>\n",
       "      <td>36</td>\n",
       "      <td>Buffalo-Cheektowaga, NY MSA</td>\n",
       "      <td>2018-10-02</td>\n",
       "      <td>surf</td>\n",
       "      <td>NaN</td>\n",
       "    </tr>\n",
       "    <tr>\n",
       "      <th>187</th>\n",
       "      <td>1187</td>\n",
       "      <td>Tanner</td>\n",
       "      <td>Goodman</td>\n",
       "      <td>49</td>\n",
       "      <td>Austin-Round Rock-Georgetown, TX MSA</td>\n",
       "      <td>2018-02-20</td>\n",
       "      <td>surf</td>\n",
       "      <td>NaN</td>\n",
       "    </tr>\n",
       "    <tr>\n",
       "      <th>295</th>\n",
       "      <td>1295</td>\n",
       "      <td>Hung</td>\n",
       "      <td>Flowers</td>\n",
       "      <td>68</td>\n",
       "      <td>Kansas City, MO-KS MSA</td>\n",
       "      <td>2018-08-11</td>\n",
       "      <td>surf</td>\n",
       "      <td>NaN</td>\n",
       "    </tr>\n",
       "    <tr>\n",
       "      <th>129</th>\n",
       "      <td>1129</td>\n",
       "      <td>Marin</td>\n",
       "      <td>Bolton</td>\n",
       "      <td>70</td>\n",
       "      <td>Baton Rouge, LA MSA</td>\n",
       "      <td>2018-11-10</td>\n",
       "      <td>surf</td>\n",
       "      <td>2018-12-27</td>\n",
       "    </tr>\n",
       "    <tr>\n",
       "      <th>177</th>\n",
       "      <td>1177</td>\n",
       "      <td>Seymour</td>\n",
       "      <td>Anderson</td>\n",
       "      <td>33</td>\n",
       "      <td>Seattle-Tacoma-Bellevue, WA MSA</td>\n",
       "      <td>2018-11-09</td>\n",
       "      <td>surf</td>\n",
       "      <td>NaN</td>\n",
       "    </tr>\n",
       "    <tr>\n",
       "      <th>289</th>\n",
       "      <td>1289</td>\n",
       "      <td>Steve</td>\n",
       "      <td>Blair</td>\n",
       "      <td>47</td>\n",
       "      <td>Detroit-Warren-Dearborn, MI MSA</td>\n",
       "      <td>2018-11-12</td>\n",
       "      <td>ultimate</td>\n",
       "      <td>NaN</td>\n",
       "    </tr>\n",
       "    <tr>\n",
       "      <th>388</th>\n",
       "      <td>1388</td>\n",
       "      <td>Thu</td>\n",
       "      <td>Noel</td>\n",
       "      <td>75</td>\n",
       "      <td>New York-Newark-Jersey City, NY-NJ-PA MSA</td>\n",
       "      <td>2018-03-28</td>\n",
       "      <td>ultimate</td>\n",
       "      <td>NaN</td>\n",
       "    </tr>\n",
       "  </tbody>\n",
       "</table>\n",
       "</div>"
      ],
      "text/plain": [
       "     user_id first_name  last_name  age  \\\n",
       "47      1047        Yuk     French   22   \n",
       "368     1368      Enola        Ray   60   \n",
       "408     1408     Alaine  Robertson   40   \n",
       "494     1494    Preston      Downs   70   \n",
       "199     1199  Antonetta     Finley   39   \n",
       "301     1301      Tomas     Horton   64   \n",
       "384     1384  Dominique       Good   36   \n",
       "56      1056      Denis   Chandler   33   \n",
       "37      1037      Reena  Velazquez   20   \n",
       "428     1428   Asuncion     Conrad   66   \n",
       "335     1335       Gail    Coleman   61   \n",
       "202     1202    Osvaldo      Mayer   36   \n",
       "12      1012    Jonelle    Mcbride   59   \n",
       "435     1435    Darnell     Powell   23   \n",
       "256     1256     Johnny       Wise   53   \n",
       "495     1495      Fidel     Sharpe   67   \n",
       "397     1397     Willow     Steele   70   \n",
       "176     1176   Terrance    Shaffer   75   \n",
       "34      1034         Jc     Gentry   22   \n",
       "450     1450      Errol    Marquez   67   \n",
       "150     1150     Earlie      Giles   46   \n",
       "456     1456    Seymour      Olsen   66   \n",
       "306     1306     Darron      Craig   19   \n",
       "192     1192      Korey    Goodwin   36   \n",
       "187     1187     Tanner    Goodman   49   \n",
       "295     1295       Hung    Flowers   68   \n",
       "129     1129      Marin     Bolton   70   \n",
       "177     1177    Seymour   Anderson   33   \n",
       "289     1289      Steve      Blair   47   \n",
       "388     1388        Thu       Noel   75   \n",
       "\n",
       "                                                 city    reg_date      plan  \\\n",
       "47               Indianapolis-Carmel-Anderson, IN MSA  2018-06-16  ultimate   \n",
       "368                                Pittsburgh, PA MSA  2018-05-20  ultimate   \n",
       "408                 Baltimore-Columbia-Towson, MD MSA  2018-01-11      surf   \n",
       "494         New York-Newark-Jersey City, NY-NJ-PA MSA  2018-04-19      surf   \n",
       "199                 San Antonio-New Braunfels, TX MSA  2018-08-01  ultimate   \n",
       "301            Chicago-Naperville-Elgin, IL-IN-WI MSA  2018-01-04  ultimate   \n",
       "384   Philadelphia-Camden-Wilmington, PA-NJ-DE-MD MSA  2018-06-09  ultimate   \n",
       "56                           Cincinnati, OH-KY-IN MSA  2018-03-01      surf   \n",
       "37                    Seattle-Tacoma-Bellevue, WA MSA  2018-08-11  ultimate   \n",
       "428                     Phoenix-Mesa-Chandler, AZ MSA  2018-10-23      surf   \n",
       "335               Dallas-Fort Worth-Arlington, TX MSA  2018-06-02      surf   \n",
       "202       Minneapolis-St. Paul-Bloomington, MN-WI MSA  2018-09-30  ultimate   \n",
       "12             Chicago-Naperville-Elgin, IL-IN-WI MSA  2018-06-28      surf   \n",
       "435  Washington-Arlington-Alexandria, DC-VA-MD-WV MSA  2018-07-24  ultimate   \n",
       "256            Chicago-Naperville-Elgin, IL-IN-WI MSA  2018-09-11      surf   \n",
       "495         New York-Newark-Jersey City, NY-NJ-PA MSA  2018-09-04      surf   \n",
       "397                             Oklahoma City, OK MSA  2018-06-01      surf   \n",
       "176         New York-Newark-Jersey City, NY-NJ-PA MSA  2018-10-03      surf   \n",
       "34          New York-Newark-Jersey City, NY-NJ-PA MSA  2018-08-13      surf   \n",
       "450                               Bakersfield, CA MSA  2018-06-16  ultimate   \n",
       "150          Houston-The Woodlands-Sugar Land, TX MSA  2018-09-19  ultimate   \n",
       "456       Minneapolis-St. Paul-Bloomington, MN-WI MSA  2018-06-02  ultimate   \n",
       "306  Washington-Arlington-Alexandria, DC-VA-MD-WV MSA  2018-11-26      surf   \n",
       "192                       Buffalo-Cheektowaga, NY MSA  2018-10-02      surf   \n",
       "187              Austin-Round Rock-Georgetown, TX MSA  2018-02-20      surf   \n",
       "295                            Kansas City, MO-KS MSA  2018-08-11      surf   \n",
       "129                               Baton Rouge, LA MSA  2018-11-10      surf   \n",
       "177                   Seattle-Tacoma-Bellevue, WA MSA  2018-11-09      surf   \n",
       "289                   Detroit-Warren-Dearborn, MI MSA  2018-11-12  ultimate   \n",
       "388         New York-Newark-Jersey City, NY-NJ-PA MSA  2018-03-28  ultimate   \n",
       "\n",
       "     churn_date  \n",
       "47          NaN  \n",
       "368         NaN  \n",
       "408         NaN  \n",
       "494         NaN  \n",
       "199         NaN  \n",
       "301         NaN  \n",
       "384         NaN  \n",
       "56          NaN  \n",
       "37          NaN  \n",
       "428         NaN  \n",
       "335         NaN  \n",
       "202         NaN  \n",
       "12   2018-11-16  \n",
       "435         NaN  \n",
       "256         NaN  \n",
       "495         NaN  \n",
       "397         NaN  \n",
       "176         NaN  \n",
       "34          NaN  \n",
       "450         NaN  \n",
       "150         NaN  \n",
       "456         NaN  \n",
       "306         NaN  \n",
       "192         NaN  \n",
       "187         NaN  \n",
       "295         NaN  \n",
       "129  2018-12-27  \n",
       "177         NaN  \n",
       "289         NaN  \n",
       "388         NaN  "
      ]
     },
     "execution_count": 7,
     "metadata": {},
     "output_type": "execute_result"
    }
   ],
   "source": [
    "# Imprime una muestra de datos para usuarios\n",
    "\n",
    "df_users.sample(30)"
   ]
  },
  {
   "cell_type": "markdown",
   "metadata": {
    "id": "dCZoUq4f0q06"
   },
   "source": [
    "En general los dataframes antes tratados no cuentan con muchas inconsistencias, sin embargo, se encontraron algunos detalles que se tuvieron que tratar, como en el caso del df plans, se detecta que las columnas de internet, en una se maneja Mb incluidos, y otra columna se maneja el costo por Gb, por lo tanto hay que tener cuidado a la hora de realizar calculos, para hacer la conversión adecuada y los cálculos sean los correctos. En el caso del df users, se detecta que hay valores nulos en la columna churn date, sin embargo estos no se tratarán, ya que el valor nulo lo más probable es que se deba a que el usuario no ha realizado la cancelación del plan. Así mismo, se detecta que en df plans, se encuentran 4 columnas que manejan costos, sin embargo dos de las columnas cuentan con un tipo de datos int, y las otras dos su tipo de datos es float, al manejarse costos es necesario que su tipo de datos sea float, por lo que se unifican los tipos de datos a float. También se detecta que en df users se encuentran columnas que muestran fechas, sin embargo su tipo de datos se marca como object, por lo que es necesario tratar este detalle, y cambiarlo a tipo fecha."
   ]
  },
  {
   "cell_type": "markdown",
   "metadata": {
    "id": "BX5FQh_I0q06"
   },
   "source": [
    "### Corregir los datos"
   ]
  },
  {
   "cell_type": "markdown",
   "metadata": {
    "id": "8OdKMwJv0q06"
   },
   "source": [
    "[Corrige los problemas obvios con los datos basándote en las observaciones iniciales.]"
   ]
  },
  {
   "cell_type": "code",
   "execution_count": 8,
   "metadata": {
    "id": "yUqX-K0C0q07"
   },
   "outputs": [
    {
     "name": "stdout",
     "output_type": "stream",
     "text": [
      "<class 'pandas.core.frame.DataFrame'>\n",
      "RangeIndex: 500 entries, 0 to 499\n",
      "Data columns (total 8 columns):\n",
      " #   Column      Non-Null Count  Dtype         \n",
      "---  ------      --------------  -----         \n",
      " 0   user_id     500 non-null    int64         \n",
      " 1   first_name  500 non-null    object        \n",
      " 2   last_name   500 non-null    object        \n",
      " 3   age         500 non-null    int64         \n",
      " 4   city        500 non-null    object        \n",
      " 5   reg_date    500 non-null    datetime64[ns]\n",
      " 6   plan        500 non-null    object        \n",
      " 7   churn_date  34 non-null     datetime64[ns]\n",
      "dtypes: datetime64[ns](2), int64(2), object(4)\n",
      "memory usage: 31.4+ KB\n"
     ]
    }
   ],
   "source": [
    "df_users['reg_date']=pd.to_datetime(df_users['reg_date'], format = '%Y-%m-%d')\n",
    "df_users['churn_date']= pd.to_datetime(df_users['churn_date'], format = '%Y-%m-%d')\n",
    "df_users.info()"
   ]
  },
  {
   "cell_type": "markdown",
   "metadata": {
    "id": "ycwuARJp0q07"
   },
   "source": [
    "### Enriquecer los datos"
   ]
  },
  {
   "cell_type": "markdown",
   "metadata": {
    "id": "96NIh4CJ0q08"
   },
   "source": [
    "[Agrega factores adicionales a los datos si crees que pudieran ser útiles.]"
   ]
  },
  {
   "cell_type": "code",
   "execution_count": 9,
   "metadata": {
    "id": "iq0AaBS90q08"
   },
   "outputs": [
    {
     "data": {
      "text/html": [
       "<div>\n",
       "<style scoped>\n",
       "    .dataframe tbody tr th:only-of-type {\n",
       "        vertical-align: middle;\n",
       "    }\n",
       "\n",
       "    .dataframe tbody tr th {\n",
       "        vertical-align: top;\n",
       "    }\n",
       "\n",
       "    .dataframe thead th {\n",
       "        text-align: right;\n",
       "    }\n",
       "</style>\n",
       "<table border=\"1\" class=\"dataframe\">\n",
       "  <thead>\n",
       "    <tr style=\"text-align: right;\">\n",
       "      <th></th>\n",
       "      <th>user_id</th>\n",
       "      <th>first_name</th>\n",
       "      <th>last_name</th>\n",
       "      <th>age</th>\n",
       "      <th>city</th>\n",
       "      <th>reg_date</th>\n",
       "      <th>plan</th>\n",
       "      <th>churn_date</th>\n",
       "      <th>reg_month</th>\n",
       "      <th>reg_day</th>\n",
       "    </tr>\n",
       "  </thead>\n",
       "  <tbody>\n",
       "    <tr>\n",
       "      <th>417</th>\n",
       "      <td>1417</td>\n",
       "      <td>Jorge</td>\n",
       "      <td>Madden</td>\n",
       "      <td>51</td>\n",
       "      <td>Minneapolis-St. Paul-Bloomington, MN-WI MSA</td>\n",
       "      <td>2018-06-22</td>\n",
       "      <td>ultimate</td>\n",
       "      <td>NaT</td>\n",
       "      <td>6</td>\n",
       "      <td>22</td>\n",
       "    </tr>\n",
       "    <tr>\n",
       "      <th>490</th>\n",
       "      <td>1490</td>\n",
       "      <td>Shane</td>\n",
       "      <td>Cortez</td>\n",
       "      <td>42</td>\n",
       "      <td>Sacramento–Roseville–Folsom, CA MSA</td>\n",
       "      <td>2018-01-20</td>\n",
       "      <td>ultimate</td>\n",
       "      <td>NaT</td>\n",
       "      <td>1</td>\n",
       "      <td>20</td>\n",
       "    </tr>\n",
       "    <tr>\n",
       "      <th>193</th>\n",
       "      <td>1193</td>\n",
       "      <td>Lacresha</td>\n",
       "      <td>Olsen</td>\n",
       "      <td>18</td>\n",
       "      <td>Houston-The Woodlands-Sugar Land, TX MSA</td>\n",
       "      <td>2018-07-07</td>\n",
       "      <td>surf</td>\n",
       "      <td>NaT</td>\n",
       "      <td>7</td>\n",
       "      <td>7</td>\n",
       "    </tr>\n",
       "    <tr>\n",
       "      <th>187</th>\n",
       "      <td>1187</td>\n",
       "      <td>Tanner</td>\n",
       "      <td>Goodman</td>\n",
       "      <td>49</td>\n",
       "      <td>Austin-Round Rock-Georgetown, TX MSA</td>\n",
       "      <td>2018-02-20</td>\n",
       "      <td>surf</td>\n",
       "      <td>NaT</td>\n",
       "      <td>2</td>\n",
       "      <td>20</td>\n",
       "    </tr>\n",
       "    <tr>\n",
       "      <th>192</th>\n",
       "      <td>1192</td>\n",
       "      <td>Korey</td>\n",
       "      <td>Goodwin</td>\n",
       "      <td>36</td>\n",
       "      <td>Buffalo-Cheektowaga, NY MSA</td>\n",
       "      <td>2018-10-02</td>\n",
       "      <td>surf</td>\n",
       "      <td>NaT</td>\n",
       "      <td>10</td>\n",
       "      <td>2</td>\n",
       "    </tr>\n",
       "    <tr>\n",
       "      <th>380</th>\n",
       "      <td>1380</td>\n",
       "      <td>Lajuana</td>\n",
       "      <td>Kelley</td>\n",
       "      <td>35</td>\n",
       "      <td>San Jose-Sunnyvale-Santa Clara, CA MSA</td>\n",
       "      <td>2018-09-04</td>\n",
       "      <td>ultimate</td>\n",
       "      <td>NaT</td>\n",
       "      <td>9</td>\n",
       "      <td>4</td>\n",
       "    </tr>\n",
       "    <tr>\n",
       "      <th>330</th>\n",
       "      <td>1330</td>\n",
       "      <td>Tobi</td>\n",
       "      <td>Kinney</td>\n",
       "      <td>48</td>\n",
       "      <td>Las Vegas-Henderson-Paradise, NV MSA</td>\n",
       "      <td>2018-11-06</td>\n",
       "      <td>ultimate</td>\n",
       "      <td>NaT</td>\n",
       "      <td>11</td>\n",
       "      <td>6</td>\n",
       "    </tr>\n",
       "    <tr>\n",
       "      <th>252</th>\n",
       "      <td>1252</td>\n",
       "      <td>Mitsue</td>\n",
       "      <td>York</td>\n",
       "      <td>27</td>\n",
       "      <td>Detroit-Warren-Dearborn, MI MSA</td>\n",
       "      <td>2018-06-10</td>\n",
       "      <td>surf</td>\n",
       "      <td>NaT</td>\n",
       "      <td>6</td>\n",
       "      <td>10</td>\n",
       "    </tr>\n",
       "    <tr>\n",
       "      <th>165</th>\n",
       "      <td>1165</td>\n",
       "      <td>Nigel</td>\n",
       "      <td>Huber</td>\n",
       "      <td>20</td>\n",
       "      <td>Philadelphia-Camden-Wilmington, PA-NJ-DE-MD MSA</td>\n",
       "      <td>2018-10-27</td>\n",
       "      <td>surf</td>\n",
       "      <td>NaT</td>\n",
       "      <td>10</td>\n",
       "      <td>27</td>\n",
       "    </tr>\n",
       "    <tr>\n",
       "      <th>8</th>\n",
       "      <td>1008</td>\n",
       "      <td>Emely</td>\n",
       "      <td>Hoffman</td>\n",
       "      <td>53</td>\n",
       "      <td>Orlando-Kissimmee-Sanford, FL MSA</td>\n",
       "      <td>2018-08-03</td>\n",
       "      <td>ultimate</td>\n",
       "      <td>NaT</td>\n",
       "      <td>8</td>\n",
       "      <td>3</td>\n",
       "    </tr>\n",
       "    <tr>\n",
       "      <th>49</th>\n",
       "      <td>1049</td>\n",
       "      <td>Loise</td>\n",
       "      <td>Avery</td>\n",
       "      <td>25</td>\n",
       "      <td>New York-Newark-Jersey City, NY-NJ-PA MSA</td>\n",
       "      <td>2018-02-21</td>\n",
       "      <td>surf</td>\n",
       "      <td>NaT</td>\n",
       "      <td>2</td>\n",
       "      <td>21</td>\n",
       "    </tr>\n",
       "    <tr>\n",
       "      <th>203</th>\n",
       "      <td>1203</td>\n",
       "      <td>Manie</td>\n",
       "      <td>Grimes</td>\n",
       "      <td>50</td>\n",
       "      <td>Boston-Cambridge-Newton, MA-NH MSA</td>\n",
       "      <td>2018-02-11</td>\n",
       "      <td>surf</td>\n",
       "      <td>NaT</td>\n",
       "      <td>2</td>\n",
       "      <td>11</td>\n",
       "    </tr>\n",
       "    <tr>\n",
       "      <th>302</th>\n",
       "      <td>1302</td>\n",
       "      <td>Leonila</td>\n",
       "      <td>Morris</td>\n",
       "      <td>62</td>\n",
       "      <td>Rochester, NY MSA</td>\n",
       "      <td>2018-01-21</td>\n",
       "      <td>surf</td>\n",
       "      <td>NaT</td>\n",
       "      <td>1</td>\n",
       "      <td>21</td>\n",
       "    </tr>\n",
       "    <tr>\n",
       "      <th>28</th>\n",
       "      <td>1028</td>\n",
       "      <td>Jefferey</td>\n",
       "      <td>Rasmussen</td>\n",
       "      <td>57</td>\n",
       "      <td>Philadelphia-Camden-Wilmington, PA-NJ-DE-MD MSA</td>\n",
       "      <td>2018-02-21</td>\n",
       "      <td>ultimate</td>\n",
       "      <td>NaT</td>\n",
       "      <td>2</td>\n",
       "      <td>21</td>\n",
       "    </tr>\n",
       "    <tr>\n",
       "      <th>17</th>\n",
       "      <td>1017</td>\n",
       "      <td>Boris</td>\n",
       "      <td>Gates</td>\n",
       "      <td>61</td>\n",
       "      <td>Washington-Arlington-Alexandria, DC-VA-MD-WV MSA</td>\n",
       "      <td>2018-08-26</td>\n",
       "      <td>surf</td>\n",
       "      <td>NaT</td>\n",
       "      <td>8</td>\n",
       "      <td>26</td>\n",
       "    </tr>\n",
       "    <tr>\n",
       "      <th>251</th>\n",
       "      <td>1251</td>\n",
       "      <td>Tifany</td>\n",
       "      <td>Mcgee</td>\n",
       "      <td>45</td>\n",
       "      <td>New York-Newark-Jersey City, NY-NJ-PA MSA</td>\n",
       "      <td>2018-01-01</td>\n",
       "      <td>surf</td>\n",
       "      <td>NaT</td>\n",
       "      <td>1</td>\n",
       "      <td>1</td>\n",
       "    </tr>\n",
       "    <tr>\n",
       "      <th>285</th>\n",
       "      <td>1285</td>\n",
       "      <td>Joesph</td>\n",
       "      <td>Barry</td>\n",
       "      <td>28</td>\n",
       "      <td>Los Angeles-Long Beach-Anaheim, CA MSA</td>\n",
       "      <td>2018-08-03</td>\n",
       "      <td>surf</td>\n",
       "      <td>NaT</td>\n",
       "      <td>8</td>\n",
       "      <td>3</td>\n",
       "    </tr>\n",
       "    <tr>\n",
       "      <th>477</th>\n",
       "      <td>1477</td>\n",
       "      <td>Magaly</td>\n",
       "      <td>Rivas</td>\n",
       "      <td>52</td>\n",
       "      <td>Riverside-San Bernardino-Ontario, CA MSA</td>\n",
       "      <td>2018-08-24</td>\n",
       "      <td>ultimate</td>\n",
       "      <td>NaT</td>\n",
       "      <td>8</td>\n",
       "      <td>24</td>\n",
       "    </tr>\n",
       "    <tr>\n",
       "      <th>90</th>\n",
       "      <td>1090</td>\n",
       "      <td>Brock</td>\n",
       "      <td>Skinner</td>\n",
       "      <td>30</td>\n",
       "      <td>Indianapolis-Carmel-Anderson, IN MSA</td>\n",
       "      <td>2018-05-12</td>\n",
       "      <td>surf</td>\n",
       "      <td>NaT</td>\n",
       "      <td>5</td>\n",
       "      <td>12</td>\n",
       "    </tr>\n",
       "    <tr>\n",
       "      <th>334</th>\n",
       "      <td>1334</td>\n",
       "      <td>Donovan</td>\n",
       "      <td>Horton</td>\n",
       "      <td>34</td>\n",
       "      <td>Seattle-Tacoma-Bellevue, WA MSA</td>\n",
       "      <td>2018-03-08</td>\n",
       "      <td>surf</td>\n",
       "      <td>NaT</td>\n",
       "      <td>3</td>\n",
       "      <td>8</td>\n",
       "    </tr>\n",
       "  </tbody>\n",
       "</table>\n",
       "</div>"
      ],
      "text/plain": [
       "     user_id first_name  last_name  age  \\\n",
       "417     1417      Jorge     Madden   51   \n",
       "490     1490      Shane     Cortez   42   \n",
       "193     1193   Lacresha      Olsen   18   \n",
       "187     1187     Tanner    Goodman   49   \n",
       "192     1192      Korey    Goodwin   36   \n",
       "380     1380    Lajuana     Kelley   35   \n",
       "330     1330       Tobi     Kinney   48   \n",
       "252     1252     Mitsue       York   27   \n",
       "165     1165      Nigel      Huber   20   \n",
       "8       1008      Emely    Hoffman   53   \n",
       "49      1049      Loise      Avery   25   \n",
       "203     1203      Manie     Grimes   50   \n",
       "302     1302    Leonila     Morris   62   \n",
       "28      1028   Jefferey  Rasmussen   57   \n",
       "17      1017      Boris      Gates   61   \n",
       "251     1251     Tifany      Mcgee   45   \n",
       "285     1285     Joesph      Barry   28   \n",
       "477     1477     Magaly      Rivas   52   \n",
       "90      1090      Brock    Skinner   30   \n",
       "334     1334    Donovan     Horton   34   \n",
       "\n",
       "                                                 city   reg_date      plan  \\\n",
       "417       Minneapolis-St. Paul-Bloomington, MN-WI MSA 2018-06-22  ultimate   \n",
       "490               Sacramento–Roseville–Folsom, CA MSA 2018-01-20  ultimate   \n",
       "193          Houston-The Woodlands-Sugar Land, TX MSA 2018-07-07      surf   \n",
       "187              Austin-Round Rock-Georgetown, TX MSA 2018-02-20      surf   \n",
       "192                       Buffalo-Cheektowaga, NY MSA 2018-10-02      surf   \n",
       "380            San Jose-Sunnyvale-Santa Clara, CA MSA 2018-09-04  ultimate   \n",
       "330              Las Vegas-Henderson-Paradise, NV MSA 2018-11-06  ultimate   \n",
       "252                   Detroit-Warren-Dearborn, MI MSA 2018-06-10      surf   \n",
       "165   Philadelphia-Camden-Wilmington, PA-NJ-DE-MD MSA 2018-10-27      surf   \n",
       "8                   Orlando-Kissimmee-Sanford, FL MSA 2018-08-03  ultimate   \n",
       "49          New York-Newark-Jersey City, NY-NJ-PA MSA 2018-02-21      surf   \n",
       "203                Boston-Cambridge-Newton, MA-NH MSA 2018-02-11      surf   \n",
       "302                                 Rochester, NY MSA 2018-01-21      surf   \n",
       "28    Philadelphia-Camden-Wilmington, PA-NJ-DE-MD MSA 2018-02-21  ultimate   \n",
       "17   Washington-Arlington-Alexandria, DC-VA-MD-WV MSA 2018-08-26      surf   \n",
       "251         New York-Newark-Jersey City, NY-NJ-PA MSA 2018-01-01      surf   \n",
       "285            Los Angeles-Long Beach-Anaheim, CA MSA 2018-08-03      surf   \n",
       "477          Riverside-San Bernardino-Ontario, CA MSA 2018-08-24  ultimate   \n",
       "90               Indianapolis-Carmel-Anderson, IN MSA 2018-05-12      surf   \n",
       "334                   Seattle-Tacoma-Bellevue, WA MSA 2018-03-08      surf   \n",
       "\n",
       "    churn_date  reg_month  reg_day  \n",
       "417        NaT          6       22  \n",
       "490        NaT          1       20  \n",
       "193        NaT          7        7  \n",
       "187        NaT          2       20  \n",
       "192        NaT         10        2  \n",
       "380        NaT          9        4  \n",
       "330        NaT         11        6  \n",
       "252        NaT          6       10  \n",
       "165        NaT         10       27  \n",
       "8          NaT          8        3  \n",
       "49         NaT          2       21  \n",
       "203        NaT          2       11  \n",
       "302        NaT          1       21  \n",
       "28         NaT          2       21  \n",
       "17         NaT          8       26  \n",
       "251        NaT          1        1  \n",
       "285        NaT          8        3  \n",
       "477        NaT          8       24  \n",
       "90         NaT          5       12  \n",
       "334        NaT          3        8  "
      ]
     },
     "execution_count": 9,
     "metadata": {},
     "output_type": "execute_result"
    }
   ],
   "source": [
    "df_users['reg_month']=df_users['reg_date'].dt.month\n",
    "df_users['reg_day']=df_users['reg_date'].dt.day\n",
    "df_users.sample(20)"
   ]
  },
  {
   "cell_type": "code",
   "execution_count": 10,
   "metadata": {},
   "outputs": [
    {
     "data": {
      "text/plain": [
       "0"
      ]
     },
     "execution_count": 10,
     "metadata": {},
     "output_type": "execute_result"
    }
   ],
   "source": [
    "#Se verifica que no haya datos completamente duplicados\n",
    "\n",
    "df_users['user_id'].duplicated().sum()"
   ]
  },
  {
   "cell_type": "code",
   "execution_count": 11,
   "metadata": {},
   "outputs": [
    {
     "data": {
      "text/plain": [
       "466"
      ]
     },
     "execution_count": 11,
     "metadata": {},
     "output_type": "execute_result"
    }
   ],
   "source": [
    "#Verificar valores ausentes en churn_date\n",
    "\n",
    "df_users['churn_date'].isna().sum()"
   ]
  },
  {
   "cell_type": "code",
   "execution_count": 12,
   "metadata": {},
   "outputs": [
    {
     "data": {
      "text/plain": [
       "0"
      ]
     },
     "execution_count": 12,
     "metadata": {},
     "output_type": "execute_result"
    }
   ],
   "source": [
    "df_users['reg_month'].isna().sum()"
   ]
  },
  {
   "cell_type": "markdown",
   "metadata": {
    "id": "o7MeKCid0q08"
   },
   "source": [
    "## Llamadas"
   ]
  },
  {
   "cell_type": "code",
   "execution_count": 13,
   "metadata": {
    "id": "6dDlnoDm0q08"
   },
   "outputs": [
    {
     "name": "stdout",
     "output_type": "stream",
     "text": [
      "<class 'pandas.core.frame.DataFrame'>\n",
      "RangeIndex: 137735 entries, 0 to 137734\n",
      "Data columns (total 4 columns):\n",
      " #   Column     Non-Null Count   Dtype  \n",
      "---  ------     --------------   -----  \n",
      " 0   id         137735 non-null  object \n",
      " 1   user_id    137735 non-null  int64  \n",
      " 2   call_date  137735 non-null  object \n",
      " 3   duration   137735 non-null  float64\n",
      "dtypes: float64(1), int64(1), object(2)\n",
      "memory usage: 4.2+ MB\n"
     ]
    }
   ],
   "source": [
    "# Imprime la información general/resumida sobre el DataFrame de las llamadas\n",
    "\n",
    "df_calls.info()"
   ]
  },
  {
   "cell_type": "code",
   "execution_count": 14,
   "metadata": {
    "id": "kuh1vlNB0q09"
   },
   "outputs": [
    {
     "data": {
      "text/html": [
       "<div>\n",
       "<style scoped>\n",
       "    .dataframe tbody tr th:only-of-type {\n",
       "        vertical-align: middle;\n",
       "    }\n",
       "\n",
       "    .dataframe tbody tr th {\n",
       "        vertical-align: top;\n",
       "    }\n",
       "\n",
       "    .dataframe thead th {\n",
       "        text-align: right;\n",
       "    }\n",
       "</style>\n",
       "<table border=\"1\" class=\"dataframe\">\n",
       "  <thead>\n",
       "    <tr style=\"text-align: right;\">\n",
       "      <th></th>\n",
       "      <th>id</th>\n",
       "      <th>user_id</th>\n",
       "      <th>call_date</th>\n",
       "      <th>duration</th>\n",
       "    </tr>\n",
       "  </thead>\n",
       "  <tbody>\n",
       "    <tr>\n",
       "      <th>124562</th>\n",
       "      <td>1440_78</td>\n",
       "      <td>1440</td>\n",
       "      <td>2018-08-02</td>\n",
       "      <td>13.59</td>\n",
       "    </tr>\n",
       "    <tr>\n",
       "      <th>127114</th>\n",
       "      <td>1454_104</td>\n",
       "      <td>1454</td>\n",
       "      <td>2018-10-01</td>\n",
       "      <td>0.00</td>\n",
       "    </tr>\n",
       "    <tr>\n",
       "      <th>81947</th>\n",
       "      <td>1295_339</td>\n",
       "      <td>1295</td>\n",
       "      <td>2018-09-24</td>\n",
       "      <td>0.00</td>\n",
       "    </tr>\n",
       "    <tr>\n",
       "      <th>125643</th>\n",
       "      <td>1445_58</td>\n",
       "      <td>1445</td>\n",
       "      <td>2018-08-06</td>\n",
       "      <td>10.27</td>\n",
       "    </tr>\n",
       "    <tr>\n",
       "      <th>7236</th>\n",
       "      <td>1033_252</td>\n",
       "      <td>1033</td>\n",
       "      <td>2018-11-14</td>\n",
       "      <td>4.57</td>\n",
       "    </tr>\n",
       "    <tr>\n",
       "      <th>92408</th>\n",
       "      <td>1332_64</td>\n",
       "      <td>1332</td>\n",
       "      <td>2018-11-18</td>\n",
       "      <td>16.29</td>\n",
       "    </tr>\n",
       "    <tr>\n",
       "      <th>55606</th>\n",
       "      <td>1199_230</td>\n",
       "      <td>1199</td>\n",
       "      <td>2018-08-14</td>\n",
       "      <td>0.00</td>\n",
       "    </tr>\n",
       "    <tr>\n",
       "      <th>123055</th>\n",
       "      <td>1434_382</td>\n",
       "      <td>1434</td>\n",
       "      <td>2018-12-18</td>\n",
       "      <td>8.02</td>\n",
       "    </tr>\n",
       "    <tr>\n",
       "      <th>28039</th>\n",
       "      <td>1106_399</td>\n",
       "      <td>1106</td>\n",
       "      <td>2018-09-13</td>\n",
       "      <td>0.00</td>\n",
       "    </tr>\n",
       "    <tr>\n",
       "      <th>62726</th>\n",
       "      <td>1226_125</td>\n",
       "      <td>1226</td>\n",
       "      <td>2018-08-02</td>\n",
       "      <td>4.00</td>\n",
       "    </tr>\n",
       "    <tr>\n",
       "      <th>36492</th>\n",
       "      <td>1138_453</td>\n",
       "      <td>1138</td>\n",
       "      <td>2018-05-27</td>\n",
       "      <td>10.53</td>\n",
       "    </tr>\n",
       "    <tr>\n",
       "      <th>47933</th>\n",
       "      <td>1173_269</td>\n",
       "      <td>1173</td>\n",
       "      <td>2018-10-14</td>\n",
       "      <td>0.89</td>\n",
       "    </tr>\n",
       "    <tr>\n",
       "      <th>68776</th>\n",
       "      <td>1247_109</td>\n",
       "      <td>1247</td>\n",
       "      <td>2018-10-20</td>\n",
       "      <td>0.00</td>\n",
       "    </tr>\n",
       "    <tr>\n",
       "      <th>31253</th>\n",
       "      <td>1117_227</td>\n",
       "      <td>1117</td>\n",
       "      <td>2018-08-30</td>\n",
       "      <td>6.05</td>\n",
       "    </tr>\n",
       "    <tr>\n",
       "      <th>21820</th>\n",
       "      <td>1081_13</td>\n",
       "      <td>1081</td>\n",
       "      <td>2018-10-25</td>\n",
       "      <td>8.73</td>\n",
       "    </tr>\n",
       "    <tr>\n",
       "      <th>130882</th>\n",
       "      <td>1470_331</td>\n",
       "      <td>1470</td>\n",
       "      <td>2018-06-10</td>\n",
       "      <td>4.22</td>\n",
       "    </tr>\n",
       "    <tr>\n",
       "      <th>61920</th>\n",
       "      <td>1223_73</td>\n",
       "      <td>1223</td>\n",
       "      <td>2018-07-29</td>\n",
       "      <td>17.43</td>\n",
       "    </tr>\n",
       "    <tr>\n",
       "      <th>71179</th>\n",
       "      <td>1253_25</td>\n",
       "      <td>1253</td>\n",
       "      <td>2018-11-08</td>\n",
       "      <td>8.28</td>\n",
       "    </tr>\n",
       "    <tr>\n",
       "      <th>128542</th>\n",
       "      <td>1461_183</td>\n",
       "      <td>1461</td>\n",
       "      <td>2018-10-10</td>\n",
       "      <td>9.28</td>\n",
       "    </tr>\n",
       "    <tr>\n",
       "      <th>28022</th>\n",
       "      <td>1106_372</td>\n",
       "      <td>1106</td>\n",
       "      <td>2018-10-29</td>\n",
       "      <td>17.46</td>\n",
       "    </tr>\n",
       "  </tbody>\n",
       "</table>\n",
       "</div>"
      ],
      "text/plain": [
       "              id  user_id   call_date  duration\n",
       "124562   1440_78     1440  2018-08-02     13.59\n",
       "127114  1454_104     1454  2018-10-01      0.00\n",
       "81947   1295_339     1295  2018-09-24      0.00\n",
       "125643   1445_58     1445  2018-08-06     10.27\n",
       "7236    1033_252     1033  2018-11-14      4.57\n",
       "92408    1332_64     1332  2018-11-18     16.29\n",
       "55606   1199_230     1199  2018-08-14      0.00\n",
       "123055  1434_382     1434  2018-12-18      8.02\n",
       "28039   1106_399     1106  2018-09-13      0.00\n",
       "62726   1226_125     1226  2018-08-02      4.00\n",
       "36492   1138_453     1138  2018-05-27     10.53\n",
       "47933   1173_269     1173  2018-10-14      0.89\n",
       "68776   1247_109     1247  2018-10-20      0.00\n",
       "31253   1117_227     1117  2018-08-30      6.05\n",
       "21820    1081_13     1081  2018-10-25      8.73\n",
       "130882  1470_331     1470  2018-06-10      4.22\n",
       "61920    1223_73     1223  2018-07-29     17.43\n",
       "71179    1253_25     1253  2018-11-08      8.28\n",
       "128542  1461_183     1461  2018-10-10      9.28\n",
       "28022   1106_372     1106  2018-10-29     17.46"
      ]
     },
     "execution_count": 14,
     "metadata": {},
     "output_type": "execute_result"
    }
   ],
   "source": [
    "# Imprime una muestra de datos para las llamadas\n",
    "\n",
    "df_calls.sample(20)"
   ]
  },
  {
   "cell_type": "markdown",
   "metadata": {
    "id": "DOAxYJSx0q09"
   },
   "source": [
    "Se cambia el tipo de datos de las fechas en df users, a formato datetime, y se agregan columnas extra de reg_month, que serían el mes y día, porque probablemente serán de bastante utilidad a la hora de realizar algunos análisis. En el caso de df calls, se analiza la información, y se visualiza que cuenta con una columna referente a fecha, con un tipo de datos object, por lo que hay que tratarlo de igual manera, y convertir su formato a datetime"
   ]
  },
  {
   "cell_type": "markdown",
   "metadata": {
    "id": "S7hzxmbX0q0-"
   },
   "source": [
    "### Corregir los datos"
   ]
  },
  {
   "cell_type": "markdown",
   "metadata": {
    "id": "YxWyAjD20q0-"
   },
   "source": [
    "[Corrige los problemas obvios con los datos basándote en las observaciones iniciales.]"
   ]
  },
  {
   "cell_type": "code",
   "execution_count": 15,
   "metadata": {
    "id": "S2r8xA4f0q0-"
   },
   "outputs": [
    {
     "name": "stdout",
     "output_type": "stream",
     "text": [
      "<class 'pandas.core.frame.DataFrame'>\n",
      "RangeIndex: 137735 entries, 0 to 137734\n",
      "Data columns (total 4 columns):\n",
      " #   Column     Non-Null Count   Dtype         \n",
      "---  ------     --------------   -----         \n",
      " 0   id         137735 non-null  object        \n",
      " 1   user_id    137735 non-null  int64         \n",
      " 2   call_date  137735 non-null  datetime64[ns]\n",
      " 3   duration   137735 non-null  float64       \n",
      "dtypes: datetime64[ns](1), float64(1), int64(1), object(1)\n",
      "memory usage: 4.2+ MB\n"
     ]
    }
   ],
   "source": [
    "df_calls['call_date']=pd.to_datetime(df_calls['call_date'], format = '%Y-%m-%d')\n",
    "df_calls.info()"
   ]
  },
  {
   "cell_type": "code",
   "execution_count": 16,
   "metadata": {},
   "outputs": [
    {
     "data": {
      "text/plain": [
       "0"
      ]
     },
     "execution_count": 16,
     "metadata": {},
     "output_type": "execute_result"
    }
   ],
   "source": [
    "df_calls['id'].duplicated().sum()"
   ]
  },
  {
   "cell_type": "markdown",
   "metadata": {
    "id": "KrMgTrlG0q0_"
   },
   "source": [
    "### Enriquecer los datos"
   ]
  },
  {
   "cell_type": "markdown",
   "metadata": {
    "id": "a9MbmEvE0q0_"
   },
   "source": [
    "[Agrega factores adicionales a los datos si crees que pudieran ser útiles.]"
   ]
  },
  {
   "cell_type": "code",
   "execution_count": 17,
   "metadata": {
    "id": "iZ1avpA_0q0_"
   },
   "outputs": [
    {
     "data": {
      "text/html": [
       "<div>\n",
       "<style scoped>\n",
       "    .dataframe tbody tr th:only-of-type {\n",
       "        vertical-align: middle;\n",
       "    }\n",
       "\n",
       "    .dataframe tbody tr th {\n",
       "        vertical-align: top;\n",
       "    }\n",
       "\n",
       "    .dataframe thead th {\n",
       "        text-align: right;\n",
       "    }\n",
       "</style>\n",
       "<table border=\"1\" class=\"dataframe\">\n",
       "  <thead>\n",
       "    <tr style=\"text-align: right;\">\n",
       "      <th></th>\n",
       "      <th>id</th>\n",
       "      <th>user_id</th>\n",
       "      <th>call_date</th>\n",
       "      <th>duration</th>\n",
       "      <th>call_month</th>\n",
       "    </tr>\n",
       "  </thead>\n",
       "  <tbody>\n",
       "    <tr>\n",
       "      <th>6857</th>\n",
       "      <td>1032_7</td>\n",
       "      <td>1032</td>\n",
       "      <td>2018-12-04</td>\n",
       "      <td>0.00</td>\n",
       "      <td>12</td>\n",
       "    </tr>\n",
       "    <tr>\n",
       "      <th>49141</th>\n",
       "      <td>1177_145</td>\n",
       "      <td>1177</td>\n",
       "      <td>2018-11-25</td>\n",
       "      <td>11.80</td>\n",
       "      <td>11</td>\n",
       "    </tr>\n",
       "    <tr>\n",
       "      <th>35809</th>\n",
       "      <td>1134_131</td>\n",
       "      <td>1134</td>\n",
       "      <td>2018-10-23</td>\n",
       "      <td>1.77</td>\n",
       "      <td>10</td>\n",
       "    </tr>\n",
       "    <tr>\n",
       "      <th>63894</th>\n",
       "      <td>1232_131</td>\n",
       "      <td>1232</td>\n",
       "      <td>2018-09-19</td>\n",
       "      <td>17.44</td>\n",
       "      <td>9</td>\n",
       "    </tr>\n",
       "    <tr>\n",
       "      <th>126909</th>\n",
       "      <td>1451_309</td>\n",
       "      <td>1451</td>\n",
       "      <td>2018-11-22</td>\n",
       "      <td>9.24</td>\n",
       "      <td>11</td>\n",
       "    </tr>\n",
       "    <tr>\n",
       "      <th>9737</th>\n",
       "      <td>1043_300</td>\n",
       "      <td>1043</td>\n",
       "      <td>2018-08-08</td>\n",
       "      <td>1.77</td>\n",
       "      <td>8</td>\n",
       "    </tr>\n",
       "    <tr>\n",
       "      <th>66763</th>\n",
       "      <td>1240_621</td>\n",
       "      <td>1240</td>\n",
       "      <td>2018-07-07</td>\n",
       "      <td>6.10</td>\n",
       "      <td>7</td>\n",
       "    </tr>\n",
       "    <tr>\n",
       "      <th>13159</th>\n",
       "      <td>1057_38</td>\n",
       "      <td>1057</td>\n",
       "      <td>2018-10-15</td>\n",
       "      <td>0.00</td>\n",
       "      <td>10</td>\n",
       "    </tr>\n",
       "    <tr>\n",
       "      <th>8074</th>\n",
       "      <td>1039_14</td>\n",
       "      <td>1039</td>\n",
       "      <td>2018-10-03</td>\n",
       "      <td>9.39</td>\n",
       "      <td>10</td>\n",
       "    </tr>\n",
       "    <tr>\n",
       "      <th>67313</th>\n",
       "      <td>1241_149</td>\n",
       "      <td>1241</td>\n",
       "      <td>2018-11-26</td>\n",
       "      <td>7.83</td>\n",
       "      <td>11</td>\n",
       "    </tr>\n",
       "  </tbody>\n",
       "</table>\n",
       "</div>"
      ],
      "text/plain": [
       "              id  user_id  call_date  duration  call_month\n",
       "6857      1032_7     1032 2018-12-04      0.00          12\n",
       "49141   1177_145     1177 2018-11-25     11.80          11\n",
       "35809   1134_131     1134 2018-10-23      1.77          10\n",
       "63894   1232_131     1232 2018-09-19     17.44           9\n",
       "126909  1451_309     1451 2018-11-22      9.24          11\n",
       "9737    1043_300     1043 2018-08-08      1.77           8\n",
       "66763   1240_621     1240 2018-07-07      6.10           7\n",
       "13159    1057_38     1057 2018-10-15      0.00          10\n",
       "8074     1039_14     1039 2018-10-03      9.39          10\n",
       "67313   1241_149     1241 2018-11-26      7.83          11"
      ]
     },
     "execution_count": 17,
     "metadata": {},
     "output_type": "execute_result"
    }
   ],
   "source": [
    "df_calls['call_month']=df_calls['call_date'].dt.month\n",
    "df_calls.sample(10)"
   ]
  },
  {
   "cell_type": "code",
   "execution_count": 18,
   "metadata": {},
   "outputs": [
    {
     "name": "stdout",
     "output_type": "stream",
     "text": [
      "<class 'pandas.core.frame.DataFrame'>\n",
      "RangeIndex: 137735 entries, 0 to 137734\n",
      "Data columns (total 5 columns):\n",
      " #   Column      Non-Null Count   Dtype         \n",
      "---  ------      --------------   -----         \n",
      " 0   id          137735 non-null  object        \n",
      " 1   user_id     137735 non-null  int64         \n",
      " 2   call_date   137735 non-null  datetime64[ns]\n",
      " 3   duration    137735 non-null  float64       \n",
      " 4   call_month  137735 non-null  int64         \n",
      "dtypes: datetime64[ns](1), float64(1), int64(2), object(1)\n",
      "memory usage: 5.3+ MB\n"
     ]
    }
   ],
   "source": [
    "df_calls.info()"
   ]
  },
  {
   "cell_type": "markdown",
   "metadata": {
    "id": "mOUZSi180q0_"
   },
   "source": [
    "## Mensajes"
   ]
  },
  {
   "cell_type": "code",
   "execution_count": 19,
   "metadata": {
    "id": "R-bYJpdV0q1A"
   },
   "outputs": [
    {
     "name": "stdout",
     "output_type": "stream",
     "text": [
      "<class 'pandas.core.frame.DataFrame'>\n",
      "RangeIndex: 76051 entries, 0 to 76050\n",
      "Data columns (total 3 columns):\n",
      " #   Column        Non-Null Count  Dtype \n",
      "---  ------        --------------  ----- \n",
      " 0   id            76051 non-null  object\n",
      " 1   user_id       76051 non-null  int64 \n",
      " 2   message_date  76051 non-null  object\n",
      "dtypes: int64(1), object(2)\n",
      "memory usage: 1.7+ MB\n"
     ]
    }
   ],
   "source": [
    "# Imprime la información general/resumida sobre el DataFrame de los mensajes\n",
    "\n",
    "df_messages.info()"
   ]
  },
  {
   "cell_type": "code",
   "execution_count": 20,
   "metadata": {
    "id": "mCEl2iGE0q1A"
   },
   "outputs": [
    {
     "data": {
      "text/html": [
       "<div>\n",
       "<style scoped>\n",
       "    .dataframe tbody tr th:only-of-type {\n",
       "        vertical-align: middle;\n",
       "    }\n",
       "\n",
       "    .dataframe tbody tr th {\n",
       "        vertical-align: top;\n",
       "    }\n",
       "\n",
       "    .dataframe thead th {\n",
       "        text-align: right;\n",
       "    }\n",
       "</style>\n",
       "<table border=\"1\" class=\"dataframe\">\n",
       "  <thead>\n",
       "    <tr style=\"text-align: right;\">\n",
       "      <th></th>\n",
       "      <th>id</th>\n",
       "      <th>user_id</th>\n",
       "      <th>message_date</th>\n",
       "    </tr>\n",
       "  </thead>\n",
       "  <tbody>\n",
       "    <tr>\n",
       "      <th>65398</th>\n",
       "      <td>1419_207</td>\n",
       "      <td>1419</td>\n",
       "      <td>2018-12-12</td>\n",
       "    </tr>\n",
       "    <tr>\n",
       "      <th>41277</th>\n",
       "      <td>1264_451</td>\n",
       "      <td>1264</td>\n",
       "      <td>2018-12-05</td>\n",
       "    </tr>\n",
       "    <tr>\n",
       "      <th>21675</th>\n",
       "      <td>1132_1122</td>\n",
       "      <td>1132</td>\n",
       "      <td>2018-10-20</td>\n",
       "    </tr>\n",
       "    <tr>\n",
       "      <th>9608</th>\n",
       "      <td>1069_924</td>\n",
       "      <td>1069</td>\n",
       "      <td>2018-10-17</td>\n",
       "    </tr>\n",
       "    <tr>\n",
       "      <th>1245</th>\n",
       "      <td>1011_208</td>\n",
       "      <td>1011</td>\n",
       "      <td>2018-10-04</td>\n",
       "    </tr>\n",
       "    <tr>\n",
       "      <th>7858</th>\n",
       "      <td>1060_194</td>\n",
       "      <td>1060</td>\n",
       "      <td>2018-12-29</td>\n",
       "    </tr>\n",
       "    <tr>\n",
       "      <th>62878</th>\n",
       "      <td>1398_69</td>\n",
       "      <td>1398</td>\n",
       "      <td>2018-10-28</td>\n",
       "    </tr>\n",
       "    <tr>\n",
       "      <th>30585</th>\n",
       "      <td>1193_192</td>\n",
       "      <td>1193</td>\n",
       "      <td>2018-08-10</td>\n",
       "    </tr>\n",
       "    <tr>\n",
       "      <th>75116</th>\n",
       "      <td>1489_191</td>\n",
       "      <td>1489</td>\n",
       "      <td>2018-10-06</td>\n",
       "    </tr>\n",
       "    <tr>\n",
       "      <th>40369</th>\n",
       "      <td>1260_394</td>\n",
       "      <td>1260</td>\n",
       "      <td>2018-12-30</td>\n",
       "    </tr>\n",
       "    <tr>\n",
       "      <th>41307</th>\n",
       "      <td>1264_509</td>\n",
       "      <td>1264</td>\n",
       "      <td>2018-10-12</td>\n",
       "    </tr>\n",
       "    <tr>\n",
       "      <th>30292</th>\n",
       "      <td>1190_0</td>\n",
       "      <td>1190</td>\n",
       "      <td>2018-12-26</td>\n",
       "    </tr>\n",
       "    <tr>\n",
       "      <th>63537</th>\n",
       "      <td>1405_233</td>\n",
       "      <td>1405</td>\n",
       "      <td>2018-11-30</td>\n",
       "    </tr>\n",
       "    <tr>\n",
       "      <th>66592</th>\n",
       "      <td>1434_118</td>\n",
       "      <td>1434</td>\n",
       "      <td>2018-11-30</td>\n",
       "    </tr>\n",
       "    <tr>\n",
       "      <th>45883</th>\n",
       "      <td>1313_79</td>\n",
       "      <td>1313</td>\n",
       "      <td>2018-07-24</td>\n",
       "    </tr>\n",
       "    <tr>\n",
       "      <th>1066</th>\n",
       "      <td>1011_29</td>\n",
       "      <td>1011</td>\n",
       "      <td>2018-07-12</td>\n",
       "    </tr>\n",
       "    <tr>\n",
       "      <th>50519</th>\n",
       "      <td>1329_552</td>\n",
       "      <td>1329</td>\n",
       "      <td>2018-12-31</td>\n",
       "    </tr>\n",
       "    <tr>\n",
       "      <th>31928</th>\n",
       "      <td>1199_9</td>\n",
       "      <td>1199</td>\n",
       "      <td>2018-11-25</td>\n",
       "    </tr>\n",
       "    <tr>\n",
       "      <th>57807</th>\n",
       "      <td>1364_113</td>\n",
       "      <td>1364</td>\n",
       "      <td>2018-11-24</td>\n",
       "    </tr>\n",
       "    <tr>\n",
       "      <th>68305</th>\n",
       "      <td>1440_171</td>\n",
       "      <td>1440</td>\n",
       "      <td>2018-09-21</td>\n",
       "    </tr>\n",
       "  </tbody>\n",
       "</table>\n",
       "</div>"
      ],
      "text/plain": [
       "              id  user_id message_date\n",
       "65398   1419_207     1419   2018-12-12\n",
       "41277   1264_451     1264   2018-12-05\n",
       "21675  1132_1122     1132   2018-10-20\n",
       "9608    1069_924     1069   2018-10-17\n",
       "1245    1011_208     1011   2018-10-04\n",
       "7858    1060_194     1060   2018-12-29\n",
       "62878    1398_69     1398   2018-10-28\n",
       "30585   1193_192     1193   2018-08-10\n",
       "75116   1489_191     1489   2018-10-06\n",
       "40369   1260_394     1260   2018-12-30\n",
       "41307   1264_509     1264   2018-10-12\n",
       "30292     1190_0     1190   2018-12-26\n",
       "63537   1405_233     1405   2018-11-30\n",
       "66592   1434_118     1434   2018-11-30\n",
       "45883    1313_79     1313   2018-07-24\n",
       "1066     1011_29     1011   2018-07-12\n",
       "50519   1329_552     1329   2018-12-31\n",
       "31928     1199_9     1199   2018-11-25\n",
       "57807   1364_113     1364   2018-11-24\n",
       "68305   1440_171     1440   2018-09-21"
      ]
     },
     "execution_count": 20,
     "metadata": {},
     "output_type": "execute_result"
    }
   ],
   "source": [
    "# Imprime una muestra de datos para los mensajes\n",
    "\n",
    "df_messages.sample(20)"
   ]
  },
  {
   "cell_type": "markdown",
   "metadata": {
    "id": "04xDj7KH0q1A"
   },
   "source": [
    "Se cambia el formato se fecha en df calls, se visualiza que no contiene valores nulos, y se verifica que no se encuentren valores duplicados tanto en df calls, como en df messages, sin embargo en este ultimo df se visualiza que maneja una columna con valores de fechas, con un tipo de datos object, por lo que es necesario convertir el formato a datetime"
   ]
  },
  {
   "cell_type": "markdown",
   "metadata": {
    "id": "Sprfak900q1B"
   },
   "source": [
    "### Corregir los datos"
   ]
  },
  {
   "cell_type": "markdown",
   "metadata": {
    "id": "eGw7d9j10q1B"
   },
   "source": [
    "[Corrige los problemas obvios con los datos basándote en las observaciones iniciales.]"
   ]
  },
  {
   "cell_type": "code",
   "execution_count": 21,
   "metadata": {
    "id": "vsllvkoa0q1B"
   },
   "outputs": [
    {
     "name": "stdout",
     "output_type": "stream",
     "text": [
      "<class 'pandas.core.frame.DataFrame'>\n",
      "RangeIndex: 76051 entries, 0 to 76050\n",
      "Data columns (total 3 columns):\n",
      " #   Column        Non-Null Count  Dtype         \n",
      "---  ------        --------------  -----         \n",
      " 0   id            76051 non-null  object        \n",
      " 1   user_id       76051 non-null  int64         \n",
      " 2   message_date  76051 non-null  datetime64[ns]\n",
      "dtypes: datetime64[ns](1), int64(1), object(1)\n",
      "memory usage: 1.7+ MB\n"
     ]
    }
   ],
   "source": [
    "df_messages['message_date']=pd.to_datetime(df_messages['message_date'], format = '%Y-%m-%d')\n",
    "df_messages.info()"
   ]
  },
  {
   "cell_type": "code",
   "execution_count": 22,
   "metadata": {},
   "outputs": [
    {
     "data": {
      "text/plain": [
       "0"
      ]
     },
     "execution_count": 22,
     "metadata": {},
     "output_type": "execute_result"
    }
   ],
   "source": [
    "df_messages['id'].duplicated().sum()"
   ]
  },
  {
   "cell_type": "code",
   "execution_count": null,
   "metadata": {},
   "outputs": [],
   "source": []
  },
  {
   "cell_type": "markdown",
   "metadata": {
    "id": "HvLid7iD0q1B"
   },
   "source": [
    "### Enriquecer los datos"
   ]
  },
  {
   "cell_type": "markdown",
   "metadata": {
    "id": "8nhPFKIe0q1C"
   },
   "source": [
    "[Agrega factores adicionales a los datos si crees que pudieran ser útiles.]"
   ]
  },
  {
   "cell_type": "code",
   "execution_count": 23,
   "metadata": {
    "id": "zYEXZac10q1C"
   },
   "outputs": [
    {
     "data": {
      "text/html": [
       "<div>\n",
       "<style scoped>\n",
       "    .dataframe tbody tr th:only-of-type {\n",
       "        vertical-align: middle;\n",
       "    }\n",
       "\n",
       "    .dataframe tbody tr th {\n",
       "        vertical-align: top;\n",
       "    }\n",
       "\n",
       "    .dataframe thead th {\n",
       "        text-align: right;\n",
       "    }\n",
       "</style>\n",
       "<table border=\"1\" class=\"dataframe\">\n",
       "  <thead>\n",
       "    <tr style=\"text-align: right;\">\n",
       "      <th></th>\n",
       "      <th>id</th>\n",
       "      <th>user_id</th>\n",
       "      <th>message_date</th>\n",
       "      <th>message_month</th>\n",
       "    </tr>\n",
       "  </thead>\n",
       "  <tbody>\n",
       "    <tr>\n",
       "      <th>9208</th>\n",
       "      <td>1067_63</td>\n",
       "      <td>1067</td>\n",
       "      <td>2018-11-07</td>\n",
       "      <td>11</td>\n",
       "    </tr>\n",
       "    <tr>\n",
       "      <th>28406</th>\n",
       "      <td>1174_196</td>\n",
       "      <td>1174</td>\n",
       "      <td>2018-08-11</td>\n",
       "      <td>8</td>\n",
       "    </tr>\n",
       "    <tr>\n",
       "      <th>72625</th>\n",
       "      <td>1470_253</td>\n",
       "      <td>1470</td>\n",
       "      <td>2018-12-10</td>\n",
       "      <td>12</td>\n",
       "    </tr>\n",
       "    <tr>\n",
       "      <th>53730</th>\n",
       "      <td>1341_6</td>\n",
       "      <td>1341</td>\n",
       "      <td>2018-12-22</td>\n",
       "      <td>12</td>\n",
       "    </tr>\n",
       "    <tr>\n",
       "      <th>5404</th>\n",
       "      <td>1052_161</td>\n",
       "      <td>1052</td>\n",
       "      <td>2018-12-04</td>\n",
       "      <td>12</td>\n",
       "    </tr>\n",
       "    <tr>\n",
       "      <th>28702</th>\n",
       "      <td>1174_492</td>\n",
       "      <td>1174</td>\n",
       "      <td>2018-06-26</td>\n",
       "      <td>6</td>\n",
       "    </tr>\n",
       "    <tr>\n",
       "      <th>13517</th>\n",
       "      <td>1090_23</td>\n",
       "      <td>1090</td>\n",
       "      <td>2018-10-17</td>\n",
       "      <td>10</td>\n",
       "    </tr>\n",
       "    <tr>\n",
       "      <th>71851</th>\n",
       "      <td>1467_183</td>\n",
       "      <td>1467</td>\n",
       "      <td>2018-07-11</td>\n",
       "      <td>7</td>\n",
       "    </tr>\n",
       "    <tr>\n",
       "      <th>20243</th>\n",
       "      <td>1128_212</td>\n",
       "      <td>1128</td>\n",
       "      <td>2018-08-17</td>\n",
       "      <td>8</td>\n",
       "    </tr>\n",
       "    <tr>\n",
       "      <th>75279</th>\n",
       "      <td>1491_48</td>\n",
       "      <td>1491</td>\n",
       "      <td>2018-07-29</td>\n",
       "      <td>7</td>\n",
       "    </tr>\n",
       "  </tbody>\n",
       "</table>\n",
       "</div>"
      ],
      "text/plain": [
       "             id  user_id message_date  message_month\n",
       "9208    1067_63     1067   2018-11-07             11\n",
       "28406  1174_196     1174   2018-08-11              8\n",
       "72625  1470_253     1470   2018-12-10             12\n",
       "53730    1341_6     1341   2018-12-22             12\n",
       "5404   1052_161     1052   2018-12-04             12\n",
       "28702  1174_492     1174   2018-06-26              6\n",
       "13517   1090_23     1090   2018-10-17             10\n",
       "71851  1467_183     1467   2018-07-11              7\n",
       "20243  1128_212     1128   2018-08-17              8\n",
       "75279   1491_48     1491   2018-07-29              7"
      ]
     },
     "execution_count": 23,
     "metadata": {},
     "output_type": "execute_result"
    }
   ],
   "source": [
    "df_messages['message_month']=df_messages['message_date'].dt.month\n",
    "df_messages.sample(10)"
   ]
  },
  {
   "cell_type": "code",
   "execution_count": 24,
   "metadata": {},
   "outputs": [
    {
     "data": {
      "text/plain": [
       "0"
      ]
     },
     "execution_count": 24,
     "metadata": {},
     "output_type": "execute_result"
    }
   ],
   "source": [
    "df_messages['message_month'].isna().sum()"
   ]
  },
  {
   "cell_type": "markdown",
   "metadata": {
    "id": "bStkaxn40q1C"
   },
   "source": [
    "## Internet"
   ]
  },
  {
   "cell_type": "code",
   "execution_count": 25,
   "metadata": {
    "id": "e-Uz5qyn0q1C"
   },
   "outputs": [
    {
     "name": "stdout",
     "output_type": "stream",
     "text": [
      "<class 'pandas.core.frame.DataFrame'>\n",
      "RangeIndex: 104825 entries, 0 to 104824\n",
      "Data columns (total 4 columns):\n",
      " #   Column        Non-Null Count   Dtype  \n",
      "---  ------        --------------   -----  \n",
      " 0   id            104825 non-null  object \n",
      " 1   user_id       104825 non-null  int64  \n",
      " 2   session_date  104825 non-null  object \n",
      " 3   mb_used       104825 non-null  float64\n",
      "dtypes: float64(1), int64(1), object(2)\n",
      "memory usage: 3.2+ MB\n"
     ]
    }
   ],
   "source": [
    "# Imprime la información general/resumida sobre el DataFrame de internet\n",
    "\n",
    "df_internet.info()"
   ]
  },
  {
   "cell_type": "code",
   "execution_count": 26,
   "metadata": {
    "id": "9r3x_XLw0q1C"
   },
   "outputs": [
    {
     "data": {
      "text/html": [
       "<div>\n",
       "<style scoped>\n",
       "    .dataframe tbody tr th:only-of-type {\n",
       "        vertical-align: middle;\n",
       "    }\n",
       "\n",
       "    .dataframe tbody tr th {\n",
       "        vertical-align: top;\n",
       "    }\n",
       "\n",
       "    .dataframe thead th {\n",
       "        text-align: right;\n",
       "    }\n",
       "</style>\n",
       "<table border=\"1\" class=\"dataframe\">\n",
       "  <thead>\n",
       "    <tr style=\"text-align: right;\">\n",
       "      <th></th>\n",
       "      <th>id</th>\n",
       "      <th>user_id</th>\n",
       "      <th>session_date</th>\n",
       "      <th>mb_used</th>\n",
       "    </tr>\n",
       "  </thead>\n",
       "  <tbody>\n",
       "    <tr>\n",
       "      <th>2079</th>\n",
       "      <td>1010_251</td>\n",
       "      <td>1010</td>\n",
       "      <td>2018-11-10</td>\n",
       "      <td>38.98</td>\n",
       "    </tr>\n",
       "    <tr>\n",
       "      <th>72312</th>\n",
       "      <td>1336_362</td>\n",
       "      <td>1336</td>\n",
       "      <td>2018-06-15</td>\n",
       "      <td>0.00</td>\n",
       "    </tr>\n",
       "    <tr>\n",
       "      <th>35362</th>\n",
       "      <td>1160_66</td>\n",
       "      <td>1160</td>\n",
       "      <td>2018-10-16</td>\n",
       "      <td>370.28</td>\n",
       "    </tr>\n",
       "    <tr>\n",
       "      <th>17079</th>\n",
       "      <td>1077_199</td>\n",
       "      <td>1077</td>\n",
       "      <td>2018-03-17</td>\n",
       "      <td>557.56</td>\n",
       "    </tr>\n",
       "    <tr>\n",
       "      <th>6683</th>\n",
       "      <td>1038_171</td>\n",
       "      <td>1038</td>\n",
       "      <td>2018-11-13</td>\n",
       "      <td>277.71</td>\n",
       "    </tr>\n",
       "    <tr>\n",
       "      <th>317</th>\n",
       "      <td>1002_299</td>\n",
       "      <td>1002</td>\n",
       "      <td>2018-12-26</td>\n",
       "      <td>491.99</td>\n",
       "    </tr>\n",
       "    <tr>\n",
       "      <th>38572</th>\n",
       "      <td>1172_227</td>\n",
       "      <td>1172</td>\n",
       "      <td>2018-10-15</td>\n",
       "      <td>629.10</td>\n",
       "    </tr>\n",
       "    <tr>\n",
       "      <th>41101</th>\n",
       "      <td>1185_138</td>\n",
       "      <td>1185</td>\n",
       "      <td>2018-01-22</td>\n",
       "      <td>535.05</td>\n",
       "    </tr>\n",
       "    <tr>\n",
       "      <th>28626</th>\n",
       "      <td>1131_209</td>\n",
       "      <td>1131</td>\n",
       "      <td>2018-06-21</td>\n",
       "      <td>858.79</td>\n",
       "    </tr>\n",
       "    <tr>\n",
       "      <th>5932</th>\n",
       "      <td>1032_93</td>\n",
       "      <td>1032</td>\n",
       "      <td>2018-11-25</td>\n",
       "      <td>246.39</td>\n",
       "    </tr>\n",
       "  </tbody>\n",
       "</table>\n",
       "</div>"
      ],
      "text/plain": [
       "             id  user_id session_date  mb_used\n",
       "2079   1010_251     1010   2018-11-10    38.98\n",
       "72312  1336_362     1336   2018-06-15     0.00\n",
       "35362   1160_66     1160   2018-10-16   370.28\n",
       "17079  1077_199     1077   2018-03-17   557.56\n",
       "6683   1038_171     1038   2018-11-13   277.71\n",
       "317    1002_299     1002   2018-12-26   491.99\n",
       "38572  1172_227     1172   2018-10-15   629.10\n",
       "41101  1185_138     1185   2018-01-22   535.05\n",
       "28626  1131_209     1131   2018-06-21   858.79\n",
       "5932    1032_93     1032   2018-11-25   246.39"
      ]
     },
     "execution_count": 26,
     "metadata": {},
     "output_type": "execute_result"
    }
   ],
   "source": [
    "# Imprime una muestra de datos para el tráfico de internet\n",
    "\n",
    "df_internet.sample(10)"
   ]
  },
  {
   "cell_type": "markdown",
   "metadata": {
    "id": "EzOG5ik30q1D"
   },
   "source": [
    "Df messages, se cambia el formato de la columna a tipo datetime, y se agregan columna adicional extrayendo el mes, ya que puede ser de utilidad más adelante, para realizar algunos análisis. De igual manera se analiza la información de df internet, se visualiza que no hay valores ausentes, sin embargo es necesario verificar que no se encuentren valores duplicados, y también se visualiza que tiene una columna que maneja valores de fecha, y su tipo de datos es object, por lo que es necesario realizar la conversión a formato datetime"
   ]
  },
  {
   "cell_type": "markdown",
   "metadata": {
    "id": "yA0tkPFg0q1D"
   },
   "source": [
    "### Corregir los datos"
   ]
  },
  {
   "cell_type": "markdown",
   "metadata": {
    "id": "zlZMuIEK0q1D"
   },
   "source": [
    "[Corrige los problemas obvios con los datos basándote en las observaciones iniciales.]"
   ]
  },
  {
   "cell_type": "code",
   "execution_count": 27,
   "metadata": {
    "id": "zVeanzdd0q1E"
   },
   "outputs": [
    {
     "name": "stdout",
     "output_type": "stream",
     "text": [
      "<class 'pandas.core.frame.DataFrame'>\n",
      "RangeIndex: 104825 entries, 0 to 104824\n",
      "Data columns (total 4 columns):\n",
      " #   Column        Non-Null Count   Dtype         \n",
      "---  ------        --------------   -----         \n",
      " 0   id            104825 non-null  object        \n",
      " 1   user_id       104825 non-null  int64         \n",
      " 2   session_date  104825 non-null  datetime64[ns]\n",
      " 3   mb_used       104825 non-null  float64       \n",
      "dtypes: datetime64[ns](1), float64(1), int64(1), object(1)\n",
      "memory usage: 3.2+ MB\n"
     ]
    }
   ],
   "source": [
    "df_internet['session_date']=pd.to_datetime(df_internet['session_date'], format = '%Y-%m-%d')\n",
    "df_internet.info()"
   ]
  },
  {
   "cell_type": "code",
   "execution_count": 28,
   "metadata": {},
   "outputs": [
    {
     "data": {
      "text/plain": [
       "0"
      ]
     },
     "execution_count": 28,
     "metadata": {},
     "output_type": "execute_result"
    }
   ],
   "source": [
    "df_internet['id'].duplicated().sum()"
   ]
  },
  {
   "cell_type": "markdown",
   "metadata": {
    "id": "e8_mLF4a0q1E"
   },
   "source": [
    "### Enriquecer los datos"
   ]
  },
  {
   "cell_type": "markdown",
   "metadata": {
    "id": "xhNdn2tE0q1E"
   },
   "source": [
    "[Agrega factores adicionales a los datos si crees que pudieran ser útiles.]"
   ]
  },
  {
   "cell_type": "code",
   "execution_count": 29,
   "metadata": {
    "id": "ESiYPIEK0q1E"
   },
   "outputs": [
    {
     "data": {
      "text/html": [
       "<div>\n",
       "<style scoped>\n",
       "    .dataframe tbody tr th:only-of-type {\n",
       "        vertical-align: middle;\n",
       "    }\n",
       "\n",
       "    .dataframe tbody tr th {\n",
       "        vertical-align: top;\n",
       "    }\n",
       "\n",
       "    .dataframe thead th {\n",
       "        text-align: right;\n",
       "    }\n",
       "</style>\n",
       "<table border=\"1\" class=\"dataframe\">\n",
       "  <thead>\n",
       "    <tr style=\"text-align: right;\">\n",
       "      <th></th>\n",
       "      <th>id</th>\n",
       "      <th>user_id</th>\n",
       "      <th>session_date</th>\n",
       "      <th>mb_used</th>\n",
       "      <th>month</th>\n",
       "    </tr>\n",
       "  </thead>\n",
       "  <tbody>\n",
       "    <tr>\n",
       "      <th>5695</th>\n",
       "      <td>1031_279</td>\n",
       "      <td>1031</td>\n",
       "      <td>2018-12-05</td>\n",
       "      <td>413.73</td>\n",
       "      <td>12</td>\n",
       "    </tr>\n",
       "    <tr>\n",
       "      <th>57029</th>\n",
       "      <td>1257_296</td>\n",
       "      <td>1257</td>\n",
       "      <td>2018-06-03</td>\n",
       "      <td>0.00</td>\n",
       "      <td>6</td>\n",
       "    </tr>\n",
       "    <tr>\n",
       "      <th>64737</th>\n",
       "      <td>1299_25</td>\n",
       "      <td>1299</td>\n",
       "      <td>2018-04-02</td>\n",
       "      <td>250.89</td>\n",
       "      <td>4</td>\n",
       "    </tr>\n",
       "    <tr>\n",
       "      <th>32948</th>\n",
       "      <td>1148_78</td>\n",
       "      <td>1148</td>\n",
       "      <td>2018-11-10</td>\n",
       "      <td>256.55</td>\n",
       "      <td>11</td>\n",
       "    </tr>\n",
       "    <tr>\n",
       "      <th>96429</th>\n",
       "      <td>1451_174</td>\n",
       "      <td>1451</td>\n",
       "      <td>2018-12-04</td>\n",
       "      <td>0.00</td>\n",
       "      <td>12</td>\n",
       "    </tr>\n",
       "    <tr>\n",
       "      <th>13471</th>\n",
       "      <td>1062_441</td>\n",
       "      <td>1062</td>\n",
       "      <td>2018-09-01</td>\n",
       "      <td>472.37</td>\n",
       "      <td>9</td>\n",
       "    </tr>\n",
       "    <tr>\n",
       "      <th>27338</th>\n",
       "      <td>1126_493</td>\n",
       "      <td>1126</td>\n",
       "      <td>2018-06-27</td>\n",
       "      <td>920.04</td>\n",
       "      <td>6</td>\n",
       "    </tr>\n",
       "    <tr>\n",
       "      <th>54009</th>\n",
       "      <td>1245_42</td>\n",
       "      <td>1245</td>\n",
       "      <td>2018-10-17</td>\n",
       "      <td>0.00</td>\n",
       "      <td>10</td>\n",
       "    </tr>\n",
       "    <tr>\n",
       "      <th>88285</th>\n",
       "      <td>1408_4</td>\n",
       "      <td>1408</td>\n",
       "      <td>2018-06-10</td>\n",
       "      <td>171.19</td>\n",
       "      <td>6</td>\n",
       "    </tr>\n",
       "    <tr>\n",
       "      <th>19798</th>\n",
       "      <td>1090_29</td>\n",
       "      <td>1090</td>\n",
       "      <td>2018-07-12</td>\n",
       "      <td>690.40</td>\n",
       "      <td>7</td>\n",
       "    </tr>\n",
       "  </tbody>\n",
       "</table>\n",
       "</div>"
      ],
      "text/plain": [
       "             id  user_id session_date  mb_used  month\n",
       "5695   1031_279     1031   2018-12-05   413.73     12\n",
       "57029  1257_296     1257   2018-06-03     0.00      6\n",
       "64737   1299_25     1299   2018-04-02   250.89      4\n",
       "32948   1148_78     1148   2018-11-10   256.55     11\n",
       "96429  1451_174     1451   2018-12-04     0.00     12\n",
       "13471  1062_441     1062   2018-09-01   472.37      9\n",
       "27338  1126_493     1126   2018-06-27   920.04      6\n",
       "54009   1245_42     1245   2018-10-17     0.00     10\n",
       "88285    1408_4     1408   2018-06-10   171.19      6\n",
       "19798   1090_29     1090   2018-07-12   690.40      7"
      ]
     },
     "execution_count": 29,
     "metadata": {},
     "output_type": "execute_result"
    }
   ],
   "source": [
    "df_internet['month']=df_internet['session_date'].dt.month\n",
    "df_internet.sample(10)"
   ]
  },
  {
   "cell_type": "code",
   "execution_count": 30,
   "metadata": {},
   "outputs": [
    {
     "data": {
      "text/plain": [
       "0"
      ]
     },
     "execution_count": 30,
     "metadata": {},
     "output_type": "execute_result"
    }
   ],
   "source": [
    "df_internet['month'].isna().sum()"
   ]
  },
  {
   "cell_type": "markdown",
   "metadata": {
    "id": "3UA2cqIW0q1E"
   },
   "source": [
    "## Estudiar las condiciones de las tarifas"
   ]
  },
  {
   "cell_type": "markdown",
   "metadata": {
    "id": "T86Sqltq0q1F"
   },
   "source": [
    "[Es sumamente importante entender cómo funcionan las tarifas, cómo se les cobra a los usuarios en función de su plan de suscripción. Así que te sugerimos imprimir la información de la tarifa para ver una vez más sus condiciones.]"
   ]
  },
  {
   "cell_type": "code",
   "execution_count": 31,
   "metadata": {
    "id": "i409op8p0q1F"
   },
   "outputs": [
    {
     "data": {
      "text/html": [
       "<div>\n",
       "<style scoped>\n",
       "    .dataframe tbody tr th:only-of-type {\n",
       "        vertical-align: middle;\n",
       "    }\n",
       "\n",
       "    .dataframe tbody tr th {\n",
       "        vertical-align: top;\n",
       "    }\n",
       "\n",
       "    .dataframe thead th {\n",
       "        text-align: right;\n",
       "    }\n",
       "</style>\n",
       "<table border=\"1\" class=\"dataframe\">\n",
       "  <thead>\n",
       "    <tr style=\"text-align: right;\">\n",
       "      <th></th>\n",
       "      <th>messages_included</th>\n",
       "      <th>mb_per_month_included</th>\n",
       "      <th>minutes_included</th>\n",
       "      <th>usd_monthly_pay</th>\n",
       "      <th>usd_per_gb</th>\n",
       "      <th>usd_per_message</th>\n",
       "      <th>usd_per_minute</th>\n",
       "      <th>plan_name</th>\n",
       "    </tr>\n",
       "  </thead>\n",
       "  <tbody>\n",
       "    <tr>\n",
       "      <th>0</th>\n",
       "      <td>50</td>\n",
       "      <td>15360</td>\n",
       "      <td>500</td>\n",
       "      <td>20.0</td>\n",
       "      <td>10.0</td>\n",
       "      <td>0.03</td>\n",
       "      <td>0.03</td>\n",
       "      <td>surf</td>\n",
       "    </tr>\n",
       "    <tr>\n",
       "      <th>1</th>\n",
       "      <td>1000</td>\n",
       "      <td>30720</td>\n",
       "      <td>3000</td>\n",
       "      <td>70.0</td>\n",
       "      <td>7.0</td>\n",
       "      <td>0.01</td>\n",
       "      <td>0.01</td>\n",
       "      <td>ultimate</td>\n",
       "    </tr>\n",
       "  </tbody>\n",
       "</table>\n",
       "</div>"
      ],
      "text/plain": [
       "   messages_included  mb_per_month_included  minutes_included  \\\n",
       "0                 50                  15360               500   \n",
       "1               1000                  30720              3000   \n",
       "\n",
       "   usd_monthly_pay  usd_per_gb  usd_per_message  usd_per_minute plan_name  \n",
       "0             20.0        10.0             0.03            0.03      surf  \n",
       "1             70.0         7.0             0.01            0.01  ultimate  "
      ]
     },
     "execution_count": 31,
     "metadata": {},
     "output_type": "execute_result"
    }
   ],
   "source": [
    "# Imprime las condiciones de la tarifa y asegúrate de que te quedan claras\n",
    "\n",
    "df_plans"
   ]
  },
  {
   "cell_type": "markdown",
   "metadata": {
    "id": "hMR1tP5d0q1F"
   },
   "source": [
    "## Agregar datos por usuario\n",
    "\n",
    "[Ahora que los datos están limpios, agrega los datos por usuario y por periodo para que solo haya un registro por usuario y por periodo. Esto facilitará mucho el análisis posterior.]"
   ]
  },
  {
   "cell_type": "code",
   "execution_count": 32,
   "metadata": {},
   "outputs": [
    {
     "data": {
      "text/html": [
       "<div>\n",
       "<style scoped>\n",
       "    .dataframe tbody tr th:only-of-type {\n",
       "        vertical-align: middle;\n",
       "    }\n",
       "\n",
       "    .dataframe tbody tr th {\n",
       "        vertical-align: top;\n",
       "    }\n",
       "\n",
       "    .dataframe thead th {\n",
       "        text-align: right;\n",
       "    }\n",
       "</style>\n",
       "<table border=\"1\" class=\"dataframe\">\n",
       "  <thead>\n",
       "    <tr style=\"text-align: right;\">\n",
       "      <th></th>\n",
       "      <th>id</th>\n",
       "      <th>user_id</th>\n",
       "      <th>call_date</th>\n",
       "      <th>duration</th>\n",
       "      <th>call_month</th>\n",
       "    </tr>\n",
       "  </thead>\n",
       "  <tbody>\n",
       "    <tr>\n",
       "      <th>0</th>\n",
       "      <td>1000_93</td>\n",
       "      <td>1000</td>\n",
       "      <td>2018-12-27</td>\n",
       "      <td>8.52</td>\n",
       "      <td>12</td>\n",
       "    </tr>\n",
       "    <tr>\n",
       "      <th>1</th>\n",
       "      <td>1000_145</td>\n",
       "      <td>1000</td>\n",
       "      <td>2018-12-27</td>\n",
       "      <td>13.66</td>\n",
       "      <td>12</td>\n",
       "    </tr>\n",
       "    <tr>\n",
       "      <th>2</th>\n",
       "      <td>1000_247</td>\n",
       "      <td>1000</td>\n",
       "      <td>2018-12-27</td>\n",
       "      <td>14.48</td>\n",
       "      <td>12</td>\n",
       "    </tr>\n",
       "    <tr>\n",
       "      <th>3</th>\n",
       "      <td>1000_309</td>\n",
       "      <td>1000</td>\n",
       "      <td>2018-12-28</td>\n",
       "      <td>5.76</td>\n",
       "      <td>12</td>\n",
       "    </tr>\n",
       "    <tr>\n",
       "      <th>4</th>\n",
       "      <td>1000_380</td>\n",
       "      <td>1000</td>\n",
       "      <td>2018-12-30</td>\n",
       "      <td>4.22</td>\n",
       "      <td>12</td>\n",
       "    </tr>\n",
       "    <tr>\n",
       "      <th>...</th>\n",
       "      <td>...</td>\n",
       "      <td>...</td>\n",
       "      <td>...</td>\n",
       "      <td>...</td>\n",
       "      <td>...</td>\n",
       "    </tr>\n",
       "    <tr>\n",
       "      <th>137730</th>\n",
       "      <td>1499_199</td>\n",
       "      <td>1499</td>\n",
       "      <td>2018-11-21</td>\n",
       "      <td>8.72</td>\n",
       "      <td>11</td>\n",
       "    </tr>\n",
       "    <tr>\n",
       "      <th>137731</th>\n",
       "      <td>1499_200</td>\n",
       "      <td>1499</td>\n",
       "      <td>2018-10-20</td>\n",
       "      <td>10.89</td>\n",
       "      <td>10</td>\n",
       "    </tr>\n",
       "    <tr>\n",
       "      <th>137732</th>\n",
       "      <td>1499_201</td>\n",
       "      <td>1499</td>\n",
       "      <td>2018-09-21</td>\n",
       "      <td>8.12</td>\n",
       "      <td>9</td>\n",
       "    </tr>\n",
       "    <tr>\n",
       "      <th>137733</th>\n",
       "      <td>1499_202</td>\n",
       "      <td>1499</td>\n",
       "      <td>2018-10-10</td>\n",
       "      <td>0.37</td>\n",
       "      <td>10</td>\n",
       "    </tr>\n",
       "    <tr>\n",
       "      <th>137734</th>\n",
       "      <td>1499_203</td>\n",
       "      <td>1499</td>\n",
       "      <td>2018-12-29</td>\n",
       "      <td>13.86</td>\n",
       "      <td>12</td>\n",
       "    </tr>\n",
       "  </tbody>\n",
       "</table>\n",
       "<p>137735 rows × 5 columns</p>\n",
       "</div>"
      ],
      "text/plain": [
       "              id  user_id  call_date  duration  call_month\n",
       "0        1000_93     1000 2018-12-27      8.52          12\n",
       "1       1000_145     1000 2018-12-27     13.66          12\n",
       "2       1000_247     1000 2018-12-27     14.48          12\n",
       "3       1000_309     1000 2018-12-28      5.76          12\n",
       "4       1000_380     1000 2018-12-30      4.22          12\n",
       "...          ...      ...        ...       ...         ...\n",
       "137730  1499_199     1499 2018-11-21      8.72          11\n",
       "137731  1499_200     1499 2018-10-20     10.89          10\n",
       "137732  1499_201     1499 2018-09-21      8.12           9\n",
       "137733  1499_202     1499 2018-10-10      0.37          10\n",
       "137734  1499_203     1499 2018-12-29     13.86          12\n",
       "\n",
       "[137735 rows x 5 columns]"
      ]
     },
     "execution_count": 32,
     "metadata": {},
     "output_type": "execute_result"
    }
   ],
   "source": [
    "df_calls"
   ]
  },
  {
   "cell_type": "code",
   "execution_count": 33,
   "metadata": {
    "id": "A332cedB0q1G"
   },
   "outputs": [
    {
     "data": {
      "text/html": [
       "<div>\n",
       "<style scoped>\n",
       "    .dataframe tbody tr th:only-of-type {\n",
       "        vertical-align: middle;\n",
       "    }\n",
       "\n",
       "    .dataframe tbody tr th {\n",
       "        vertical-align: top;\n",
       "    }\n",
       "\n",
       "    .dataframe thead th {\n",
       "        text-align: right;\n",
       "    }\n",
       "</style>\n",
       "<table border=\"1\" class=\"dataframe\">\n",
       "  <thead>\n",
       "    <tr style=\"text-align: right;\">\n",
       "      <th></th>\n",
       "      <th>user_id</th>\n",
       "      <th>call_month</th>\n",
       "      <th>id</th>\n",
       "    </tr>\n",
       "  </thead>\n",
       "  <tbody>\n",
       "    <tr>\n",
       "      <th>155</th>\n",
       "      <td>1042</td>\n",
       "      <td>1</td>\n",
       "      <td>18</td>\n",
       "    </tr>\n",
       "    <tr>\n",
       "      <th>360</th>\n",
       "      <td>1077</td>\n",
       "      <td>1</td>\n",
       "      <td>42</td>\n",
       "    </tr>\n",
       "    <tr>\n",
       "      <th>861</th>\n",
       "      <td>1185</td>\n",
       "      <td>1</td>\n",
       "      <td>23</td>\n",
       "    </tr>\n",
       "    <tr>\n",
       "      <th>913</th>\n",
       "      <td>1196</td>\n",
       "      <td>1</td>\n",
       "      <td>42</td>\n",
       "    </tr>\n",
       "    <tr>\n",
       "      <th>991</th>\n",
       "      <td>1214</td>\n",
       "      <td>1</td>\n",
       "      <td>5</td>\n",
       "    </tr>\n",
       "    <tr>\n",
       "      <th>...</th>\n",
       "      <td>...</td>\n",
       "      <td>...</td>\n",
       "      <td>...</td>\n",
       "    </tr>\n",
       "    <tr>\n",
       "      <th>2236</th>\n",
       "      <td>1495</td>\n",
       "      <td>12</td>\n",
       "      <td>65</td>\n",
       "    </tr>\n",
       "    <tr>\n",
       "      <th>2241</th>\n",
       "      <td>1496</td>\n",
       "      <td>12</td>\n",
       "      <td>40</td>\n",
       "    </tr>\n",
       "    <tr>\n",
       "      <th>2242</th>\n",
       "      <td>1497</td>\n",
       "      <td>12</td>\n",
       "      <td>54</td>\n",
       "    </tr>\n",
       "    <tr>\n",
       "      <th>2253</th>\n",
       "      <td>1498</td>\n",
       "      <td>12</td>\n",
       "      <td>39</td>\n",
       "    </tr>\n",
       "    <tr>\n",
       "      <th>2257</th>\n",
       "      <td>1499</td>\n",
       "      <td>12</td>\n",
       "      <td>65</td>\n",
       "    </tr>\n",
       "  </tbody>\n",
       "</table>\n",
       "<p>2258 rows × 3 columns</p>\n",
       "</div>"
      ],
      "text/plain": [
       "      user_id  call_month  id\n",
       "155      1042           1  18\n",
       "360      1077           1  42\n",
       "861      1185           1  23\n",
       "913      1196           1  42\n",
       "991      1214           1   5\n",
       "...       ...         ...  ..\n",
       "2236     1495          12  65\n",
       "2241     1496          12  40\n",
       "2242     1497          12  54\n",
       "2253     1498          12  39\n",
       "2257     1499          12  65\n",
       "\n",
       "[2258 rows x 3 columns]"
      ]
     },
     "execution_count": 33,
     "metadata": {},
     "output_type": "execute_result"
    }
   ],
   "source": [
    "# Calcula el número de llamadas hechas por cada usuario al mes. Guarda el resultado.\n",
    "\n",
    "calls_per_user = df_calls.groupby(['user_id','call_month'])['id'].count().reset_index().sort_values(['call_month','user_id'])\n",
    "calls_per_user\n",
    "#pivot_calls = df_calls.pivot_table(index='user_id',columns='call_month',values='id',aggfunc='count')\n",
    "#pivot_calls"
   ]
  },
  {
   "cell_type": "code",
   "execution_count": 34,
   "metadata": {
    "id": "aw2cmuql0q1G"
   },
   "outputs": [
    {
     "data": {
      "text/html": [
       "<div>\n",
       "<style scoped>\n",
       "    .dataframe tbody tr th:only-of-type {\n",
       "        vertical-align: middle;\n",
       "    }\n",
       "\n",
       "    .dataframe tbody tr th {\n",
       "        vertical-align: top;\n",
       "    }\n",
       "\n",
       "    .dataframe thead th {\n",
       "        text-align: right;\n",
       "    }\n",
       "</style>\n",
       "<table border=\"1\" class=\"dataframe\">\n",
       "  <thead>\n",
       "    <tr style=\"text-align: right;\">\n",
       "      <th></th>\n",
       "      <th>call_month</th>\n",
       "      <th>user_id</th>\n",
       "      <th>duration</th>\n",
       "    </tr>\n",
       "  </thead>\n",
       "  <tbody>\n",
       "    <tr>\n",
       "      <th>0</th>\n",
       "      <td>1</td>\n",
       "      <td>1042</td>\n",
       "      <td>106.83</td>\n",
       "    </tr>\n",
       "    <tr>\n",
       "      <th>1</th>\n",
       "      <td>1</td>\n",
       "      <td>1077</td>\n",
       "      <td>275.07</td>\n",
       "    </tr>\n",
       "    <tr>\n",
       "      <th>2</th>\n",
       "      <td>1</td>\n",
       "      <td>1185</td>\n",
       "      <td>170.29</td>\n",
       "    </tr>\n",
       "    <tr>\n",
       "      <th>3</th>\n",
       "      <td>1</td>\n",
       "      <td>1196</td>\n",
       "      <td>272.56</td>\n",
       "    </tr>\n",
       "    <tr>\n",
       "      <th>4</th>\n",
       "      <td>1</td>\n",
       "      <td>1214</td>\n",
       "      <td>14.73</td>\n",
       "    </tr>\n",
       "    <tr>\n",
       "      <th>...</th>\n",
       "      <td>...</td>\n",
       "      <td>...</td>\n",
       "      <td>...</td>\n",
       "    </tr>\n",
       "    <tr>\n",
       "      <th>2253</th>\n",
       "      <td>12</td>\n",
       "      <td>1495</td>\n",
       "      <td>467.47</td>\n",
       "    </tr>\n",
       "    <tr>\n",
       "      <th>2254</th>\n",
       "      <td>12</td>\n",
       "      <td>1496</td>\n",
       "      <td>278.61</td>\n",
       "    </tr>\n",
       "    <tr>\n",
       "      <th>2255</th>\n",
       "      <td>12</td>\n",
       "      <td>1497</td>\n",
       "      <td>276.53</td>\n",
       "    </tr>\n",
       "    <tr>\n",
       "      <th>2256</th>\n",
       "      <td>12</td>\n",
       "      <td>1498</td>\n",
       "      <td>324.77</td>\n",
       "    </tr>\n",
       "    <tr>\n",
       "      <th>2257</th>\n",
       "      <td>12</td>\n",
       "      <td>1499</td>\n",
       "      <td>468.10</td>\n",
       "    </tr>\n",
       "  </tbody>\n",
       "</table>\n",
       "<p>2258 rows × 3 columns</p>\n",
       "</div>"
      ],
      "text/plain": [
       "      call_month  user_id  duration\n",
       "0              1     1042    106.83\n",
       "1              1     1077    275.07\n",
       "2              1     1185    170.29\n",
       "3              1     1196    272.56\n",
       "4              1     1214     14.73\n",
       "...          ...      ...       ...\n",
       "2253          12     1495    467.47\n",
       "2254          12     1496    278.61\n",
       "2255          12     1497    276.53\n",
       "2256          12     1498    324.77\n",
       "2257          12     1499    468.10\n",
       "\n",
       "[2258 rows x 3 columns]"
      ]
     },
     "execution_count": 34,
     "metadata": {},
     "output_type": "execute_result"
    }
   ],
   "source": [
    "# Calcula la cantidad de minutos usados por cada usuario al mes. Guarda el resultado.\n",
    "\n",
    "minutes_per_user = df_calls.groupby(['call_month','user_id'])['duration'].sum().reset_index().sort_values(['call_month','user_id'])\n",
    "minutes_per_user"
   ]
  },
  {
   "cell_type": "code",
   "execution_count": 35,
   "metadata": {},
   "outputs": [
    {
     "data": {
      "text/html": [
       "<div>\n",
       "<style scoped>\n",
       "    .dataframe tbody tr th:only-of-type {\n",
       "        vertical-align: middle;\n",
       "    }\n",
       "\n",
       "    .dataframe tbody tr th {\n",
       "        vertical-align: top;\n",
       "    }\n",
       "\n",
       "    .dataframe thead th {\n",
       "        text-align: right;\n",
       "    }\n",
       "</style>\n",
       "<table border=\"1\" class=\"dataframe\">\n",
       "  <thead>\n",
       "    <tr style=\"text-align: right;\">\n",
       "      <th></th>\n",
       "      <th>call_month</th>\n",
       "      <th>user_id</th>\n",
       "      <th>duration</th>\n",
       "    </tr>\n",
       "  </thead>\n",
       "  <tbody>\n",
       "    <tr>\n",
       "      <th>0</th>\n",
       "      <td>1</td>\n",
       "      <td>1042</td>\n",
       "      <td>107</td>\n",
       "    </tr>\n",
       "    <tr>\n",
       "      <th>1</th>\n",
       "      <td>1</td>\n",
       "      <td>1077</td>\n",
       "      <td>276</td>\n",
       "    </tr>\n",
       "    <tr>\n",
       "      <th>2</th>\n",
       "      <td>1</td>\n",
       "      <td>1185</td>\n",
       "      <td>171</td>\n",
       "    </tr>\n",
       "    <tr>\n",
       "      <th>3</th>\n",
       "      <td>1</td>\n",
       "      <td>1196</td>\n",
       "      <td>273</td>\n",
       "    </tr>\n",
       "    <tr>\n",
       "      <th>4</th>\n",
       "      <td>1</td>\n",
       "      <td>1214</td>\n",
       "      <td>15</td>\n",
       "    </tr>\n",
       "    <tr>\n",
       "      <th>...</th>\n",
       "      <td>...</td>\n",
       "      <td>...</td>\n",
       "      <td>...</td>\n",
       "    </tr>\n",
       "    <tr>\n",
       "      <th>2253</th>\n",
       "      <td>12</td>\n",
       "      <td>1495</td>\n",
       "      <td>468</td>\n",
       "    </tr>\n",
       "    <tr>\n",
       "      <th>2254</th>\n",
       "      <td>12</td>\n",
       "      <td>1496</td>\n",
       "      <td>279</td>\n",
       "    </tr>\n",
       "    <tr>\n",
       "      <th>2255</th>\n",
       "      <td>12</td>\n",
       "      <td>1497</td>\n",
       "      <td>277</td>\n",
       "    </tr>\n",
       "    <tr>\n",
       "      <th>2256</th>\n",
       "      <td>12</td>\n",
       "      <td>1498</td>\n",
       "      <td>325</td>\n",
       "    </tr>\n",
       "    <tr>\n",
       "      <th>2257</th>\n",
       "      <td>12</td>\n",
       "      <td>1499</td>\n",
       "      <td>469</td>\n",
       "    </tr>\n",
       "  </tbody>\n",
       "</table>\n",
       "<p>2258 rows × 3 columns</p>\n",
       "</div>"
      ],
      "text/plain": [
       "      call_month  user_id  duration\n",
       "0              1     1042       107\n",
       "1              1     1077       276\n",
       "2              1     1185       171\n",
       "3              1     1196       273\n",
       "4              1     1214        15\n",
       "...          ...      ...       ...\n",
       "2253          12     1495       468\n",
       "2254          12     1496       279\n",
       "2255          12     1497       277\n",
       "2256          12     1498       325\n",
       "2257          12     1499       469\n",
       "\n",
       "[2258 rows x 3 columns]"
      ]
     },
     "execution_count": 35,
     "metadata": {},
     "output_type": "execute_result"
    }
   ],
   "source": [
    "import math\n",
    "\n",
    "def redondeo_min(num):\n",
    "    return math.ceil(num)\n",
    "\n",
    "minutes_per_user['duration'] = minutes_per_user['duration'].apply(redondeo_min)\n",
    "minutes_per_user"
   ]
  },
  {
   "cell_type": "code",
   "execution_count": 36,
   "metadata": {
    "id": "CcQvNHn60q1G"
   },
   "outputs": [
    {
     "data": {
      "text/html": [
       "<div>\n",
       "<style scoped>\n",
       "    .dataframe tbody tr th:only-of-type {\n",
       "        vertical-align: middle;\n",
       "    }\n",
       "\n",
       "    .dataframe tbody tr th {\n",
       "        vertical-align: top;\n",
       "    }\n",
       "\n",
       "    .dataframe thead th {\n",
       "        text-align: right;\n",
       "    }\n",
       "</style>\n",
       "<table border=\"1\" class=\"dataframe\">\n",
       "  <thead>\n",
       "    <tr style=\"text-align: right;\">\n",
       "      <th></th>\n",
       "      <th>message_month</th>\n",
       "      <th>user_id</th>\n",
       "      <th>id</th>\n",
       "    </tr>\n",
       "  </thead>\n",
       "  <tbody>\n",
       "    <tr>\n",
       "      <th>0</th>\n",
       "      <td>1</td>\n",
       "      <td>1077</td>\n",
       "      <td>37</td>\n",
       "    </tr>\n",
       "    <tr>\n",
       "      <th>1</th>\n",
       "      <td>1</td>\n",
       "      <td>1196</td>\n",
       "      <td>23</td>\n",
       "    </tr>\n",
       "    <tr>\n",
       "      <th>2</th>\n",
       "      <td>1</td>\n",
       "      <td>1214</td>\n",
       "      <td>2</td>\n",
       "    </tr>\n",
       "    <tr>\n",
       "      <th>3</th>\n",
       "      <td>1</td>\n",
       "      <td>1362</td>\n",
       "      <td>21</td>\n",
       "    </tr>\n",
       "    <tr>\n",
       "      <th>4</th>\n",
       "      <td>2</td>\n",
       "      <td>1028</td>\n",
       "      <td>12</td>\n",
       "    </tr>\n",
       "    <tr>\n",
       "      <th>...</th>\n",
       "      <td>...</td>\n",
       "      <td>...</td>\n",
       "      <td>...</td>\n",
       "    </tr>\n",
       "    <tr>\n",
       "      <th>1801</th>\n",
       "      <td>12</td>\n",
       "      <td>1491</td>\n",
       "      <td>43</td>\n",
       "    </tr>\n",
       "    <tr>\n",
       "      <th>1802</th>\n",
       "      <td>12</td>\n",
       "      <td>1492</td>\n",
       "      <td>37</td>\n",
       "    </tr>\n",
       "    <tr>\n",
       "      <th>1803</th>\n",
       "      <td>12</td>\n",
       "      <td>1494</td>\n",
       "      <td>33</td>\n",
       "    </tr>\n",
       "    <tr>\n",
       "      <th>1804</th>\n",
       "      <td>12</td>\n",
       "      <td>1496</td>\n",
       "      <td>11</td>\n",
       "    </tr>\n",
       "    <tr>\n",
       "      <th>1805</th>\n",
       "      <td>12</td>\n",
       "      <td>1497</td>\n",
       "      <td>50</td>\n",
       "    </tr>\n",
       "  </tbody>\n",
       "</table>\n",
       "<p>1806 rows × 3 columns</p>\n",
       "</div>"
      ],
      "text/plain": [
       "      message_month  user_id  id\n",
       "0                 1     1077  37\n",
       "1                 1     1196  23\n",
       "2                 1     1214   2\n",
       "3                 1     1362  21\n",
       "4                 2     1028  12\n",
       "...             ...      ...  ..\n",
       "1801             12     1491  43\n",
       "1802             12     1492  37\n",
       "1803             12     1494  33\n",
       "1804             12     1496  11\n",
       "1805             12     1497  50\n",
       "\n",
       "[1806 rows x 3 columns]"
      ]
     },
     "execution_count": 36,
     "metadata": {},
     "output_type": "execute_result"
    }
   ],
   "source": [
    "# Calcula el número de mensajes enviados por cada usuario al mes. Guarda el resultado.\n",
    "\n",
    "sent_messages = df_messages.groupby(['message_month','user_id'])['id'].count().reset_index().sort_values(['message_month','user_id'])\n",
    "sent_messages"
   ]
  },
  {
   "cell_type": "code",
   "execution_count": 37,
   "metadata": {
    "id": "H1AqN2eG0q1H"
   },
   "outputs": [
    {
     "data": {
      "text/html": [
       "<div>\n",
       "<style scoped>\n",
       "    .dataframe tbody tr th:only-of-type {\n",
       "        vertical-align: middle;\n",
       "    }\n",
       "\n",
       "    .dataframe tbody tr th {\n",
       "        vertical-align: top;\n",
       "    }\n",
       "\n",
       "    .dataframe thead th {\n",
       "        text-align: right;\n",
       "    }\n",
       "</style>\n",
       "<table border=\"1\" class=\"dataframe\">\n",
       "  <thead>\n",
       "    <tr style=\"text-align: right;\">\n",
       "      <th></th>\n",
       "      <th>month</th>\n",
       "      <th>user_id</th>\n",
       "      <th>mb_used</th>\n",
       "    </tr>\n",
       "  </thead>\n",
       "  <tbody>\n",
       "    <tr>\n",
       "      <th>0</th>\n",
       "      <td>1</td>\n",
       "      <td>1042</td>\n",
       "      <td>1854.93</td>\n",
       "    </tr>\n",
       "    <tr>\n",
       "      <th>1</th>\n",
       "      <td>1</td>\n",
       "      <td>1077</td>\n",
       "      <td>10635.64</td>\n",
       "    </tr>\n",
       "    <tr>\n",
       "      <th>2</th>\n",
       "      <td>1</td>\n",
       "      <td>1185</td>\n",
       "      <td>6812.77</td>\n",
       "    </tr>\n",
       "    <tr>\n",
       "      <th>3</th>\n",
       "      <td>1</td>\n",
       "      <td>1196</td>\n",
       "      <td>8908.61</td>\n",
       "    </tr>\n",
       "    <tr>\n",
       "      <th>4</th>\n",
       "      <td>1</td>\n",
       "      <td>1214</td>\n",
       "      <td>1315.35</td>\n",
       "    </tr>\n",
       "    <tr>\n",
       "      <th>...</th>\n",
       "      <td>...</td>\n",
       "      <td>...</td>\n",
       "      <td>...</td>\n",
       "    </tr>\n",
       "    <tr>\n",
       "      <th>2272</th>\n",
       "      <td>12</td>\n",
       "      <td>1495</td>\n",
       "      <td>24097.40</td>\n",
       "    </tr>\n",
       "    <tr>\n",
       "      <th>2273</th>\n",
       "      <td>12</td>\n",
       "      <td>1496</td>\n",
       "      <td>16438.99</td>\n",
       "    </tr>\n",
       "    <tr>\n",
       "      <th>2274</th>\n",
       "      <td>12</td>\n",
       "      <td>1497</td>\n",
       "      <td>11106.55</td>\n",
       "    </tr>\n",
       "    <tr>\n",
       "      <th>2275</th>\n",
       "      <td>12</td>\n",
       "      <td>1498</td>\n",
       "      <td>23137.69</td>\n",
       "    </tr>\n",
       "    <tr>\n",
       "      <th>2276</th>\n",
       "      <td>12</td>\n",
       "      <td>1499</td>\n",
       "      <td>22059.21</td>\n",
       "    </tr>\n",
       "  </tbody>\n",
       "</table>\n",
       "<p>2277 rows × 3 columns</p>\n",
       "</div>"
      ],
      "text/plain": [
       "      month  user_id   mb_used\n",
       "0         1     1042   1854.93\n",
       "1         1     1077  10635.64\n",
       "2         1     1185   6812.77\n",
       "3         1     1196   8908.61\n",
       "4         1     1214   1315.35\n",
       "...     ...      ...       ...\n",
       "2272     12     1495  24097.40\n",
       "2273     12     1496  16438.99\n",
       "2274     12     1497  11106.55\n",
       "2275     12     1498  23137.69\n",
       "2276     12     1499  22059.21\n",
       "\n",
       "[2277 rows x 3 columns]"
      ]
     },
     "execution_count": 37,
     "metadata": {},
     "output_type": "execute_result"
    }
   ],
   "source": [
    "# Calcula el volumen del tráfico de Internet usado por cada usuario al mes. Guarda el resultado.\n",
    "\n",
    "mb_per_user = df_internet.groupby(['month','user_id'])['mb_used'].sum().reset_index().sort_values(['month','user_id'])\n",
    "mb_per_user"
   ]
  },
  {
   "cell_type": "code",
   "execution_count": 38,
   "metadata": {},
   "outputs": [
    {
     "data": {
      "text/html": [
       "<div>\n",
       "<style scoped>\n",
       "    .dataframe tbody tr th:only-of-type {\n",
       "        vertical-align: middle;\n",
       "    }\n",
       "\n",
       "    .dataframe tbody tr th {\n",
       "        vertical-align: top;\n",
       "    }\n",
       "\n",
       "    .dataframe thead th {\n",
       "        text-align: right;\n",
       "    }\n",
       "</style>\n",
       "<table border=\"1\" class=\"dataframe\">\n",
       "  <thead>\n",
       "    <tr style=\"text-align: right;\">\n",
       "      <th></th>\n",
       "      <th>month</th>\n",
       "      <th>user_id</th>\n",
       "      <th>mb_used</th>\n",
       "    </tr>\n",
       "  </thead>\n",
       "  <tbody>\n",
       "    <tr>\n",
       "      <th>0</th>\n",
       "      <td>1</td>\n",
       "      <td>1042</td>\n",
       "      <td>2</td>\n",
       "    </tr>\n",
       "    <tr>\n",
       "      <th>1</th>\n",
       "      <td>1</td>\n",
       "      <td>1077</td>\n",
       "      <td>11</td>\n",
       "    </tr>\n",
       "    <tr>\n",
       "      <th>2</th>\n",
       "      <td>1</td>\n",
       "      <td>1185</td>\n",
       "      <td>7</td>\n",
       "    </tr>\n",
       "    <tr>\n",
       "      <th>3</th>\n",
       "      <td>1</td>\n",
       "      <td>1196</td>\n",
       "      <td>9</td>\n",
       "    </tr>\n",
       "    <tr>\n",
       "      <th>4</th>\n",
       "      <td>1</td>\n",
       "      <td>1214</td>\n",
       "      <td>2</td>\n",
       "    </tr>\n",
       "    <tr>\n",
       "      <th>...</th>\n",
       "      <td>...</td>\n",
       "      <td>...</td>\n",
       "      <td>...</td>\n",
       "    </tr>\n",
       "    <tr>\n",
       "      <th>2272</th>\n",
       "      <td>12</td>\n",
       "      <td>1495</td>\n",
       "      <td>24</td>\n",
       "    </tr>\n",
       "    <tr>\n",
       "      <th>2273</th>\n",
       "      <td>12</td>\n",
       "      <td>1496</td>\n",
       "      <td>17</td>\n",
       "    </tr>\n",
       "    <tr>\n",
       "      <th>2274</th>\n",
       "      <td>12</td>\n",
       "      <td>1497</td>\n",
       "      <td>11</td>\n",
       "    </tr>\n",
       "    <tr>\n",
       "      <th>2275</th>\n",
       "      <td>12</td>\n",
       "      <td>1498</td>\n",
       "      <td>23</td>\n",
       "    </tr>\n",
       "    <tr>\n",
       "      <th>2276</th>\n",
       "      <td>12</td>\n",
       "      <td>1499</td>\n",
       "      <td>22</td>\n",
       "    </tr>\n",
       "  </tbody>\n",
       "</table>\n",
       "<p>2277 rows × 3 columns</p>\n",
       "</div>"
      ],
      "text/plain": [
       "      month  user_id  mb_used\n",
       "0         1     1042        2\n",
       "1         1     1077       11\n",
       "2         1     1185        7\n",
       "3         1     1196        9\n",
       "4         1     1214        2\n",
       "...     ...      ...      ...\n",
       "2272     12     1495       24\n",
       "2273     12     1496       17\n",
       "2274     12     1497       11\n",
       "2275     12     1498       23\n",
       "2276     12     1499       22\n",
       "\n",
       "[2277 rows x 3 columns]"
      ]
     },
     "execution_count": 38,
     "metadata": {},
     "output_type": "execute_result"
    }
   ],
   "source": [
    "import math\n",
    "\n",
    "def redondeo_mb(numero):\n",
    "    redondeo = numero/1024\n",
    "    return math.ceil(redondeo)\n",
    "\n",
    "mb_per_user['mb_used'] = mb_per_user['mb_used'].apply(redondeo_mb)\n",
    "mb_per_user"
   ]
  },
  {
   "cell_type": "markdown",
   "metadata": {
    "id": "VDfYXnj80q1H"
   },
   "source": [
    "[Junta los datos agregados en un DataFrame para que haya un registro que represente lo que consumió un usuario único en un mes determinado.]"
   ]
  },
  {
   "cell_type": "code",
   "execution_count": 39,
   "metadata": {
    "id": "FW99ykyf0q1H"
   },
   "outputs": [
    {
     "data": {
      "text/html": [
       "<div>\n",
       "<style scoped>\n",
       "    .dataframe tbody tr th:only-of-type {\n",
       "        vertical-align: middle;\n",
       "    }\n",
       "\n",
       "    .dataframe tbody tr th {\n",
       "        vertical-align: top;\n",
       "    }\n",
       "\n",
       "    .dataframe thead th {\n",
       "        text-align: right;\n",
       "    }\n",
       "</style>\n",
       "<table border=\"1\" class=\"dataframe\">\n",
       "  <thead>\n",
       "    <tr style=\"text-align: right;\">\n",
       "      <th></th>\n",
       "      <th>user_id</th>\n",
       "      <th>month</th>\n",
       "      <th>total_calls</th>\n",
       "      <th>total_mins</th>\n",
       "      <th>total_msg</th>\n",
       "      <th>total_mb</th>\n",
       "    </tr>\n",
       "  </thead>\n",
       "  <tbody>\n",
       "    <tr>\n",
       "      <th>0</th>\n",
       "      <td>1042</td>\n",
       "      <td>1.0</td>\n",
       "      <td>18.0</td>\n",
       "      <td>107.0</td>\n",
       "      <td>NaN</td>\n",
       "      <td>2</td>\n",
       "    </tr>\n",
       "    <tr>\n",
       "      <th>1</th>\n",
       "      <td>1077</td>\n",
       "      <td>1.0</td>\n",
       "      <td>42.0</td>\n",
       "      <td>276.0</td>\n",
       "      <td>37.0</td>\n",
       "      <td>11</td>\n",
       "    </tr>\n",
       "    <tr>\n",
       "      <th>2</th>\n",
       "      <td>1185</td>\n",
       "      <td>1.0</td>\n",
       "      <td>23.0</td>\n",
       "      <td>171.0</td>\n",
       "      <td>NaN</td>\n",
       "      <td>7</td>\n",
       "    </tr>\n",
       "    <tr>\n",
       "      <th>3</th>\n",
       "      <td>1196</td>\n",
       "      <td>1.0</td>\n",
       "      <td>42.0</td>\n",
       "      <td>273.0</td>\n",
       "      <td>23.0</td>\n",
       "      <td>9</td>\n",
       "    </tr>\n",
       "    <tr>\n",
       "      <th>4</th>\n",
       "      <td>1214</td>\n",
       "      <td>1.0</td>\n",
       "      <td>5.0</td>\n",
       "      <td>15.0</td>\n",
       "      <td>2.0</td>\n",
       "      <td>2</td>\n",
       "    </tr>\n",
       "    <tr>\n",
       "      <th>...</th>\n",
       "      <td>...</td>\n",
       "      <td>...</td>\n",
       "      <td>...</td>\n",
       "      <td>...</td>\n",
       "      <td>...</td>\n",
       "      <td>...</td>\n",
       "    </tr>\n",
       "    <tr>\n",
       "      <th>2272</th>\n",
       "      <td>1495</td>\n",
       "      <td>12.0</td>\n",
       "      <td>65.0</td>\n",
       "      <td>468.0</td>\n",
       "      <td>NaN</td>\n",
       "      <td>24</td>\n",
       "    </tr>\n",
       "    <tr>\n",
       "      <th>2273</th>\n",
       "      <td>1496</td>\n",
       "      <td>12.0</td>\n",
       "      <td>40.0</td>\n",
       "      <td>279.0</td>\n",
       "      <td>11.0</td>\n",
       "      <td>17</td>\n",
       "    </tr>\n",
       "    <tr>\n",
       "      <th>2274</th>\n",
       "      <td>1497</td>\n",
       "      <td>12.0</td>\n",
       "      <td>54.0</td>\n",
       "      <td>277.0</td>\n",
       "      <td>50.0</td>\n",
       "      <td>11</td>\n",
       "    </tr>\n",
       "    <tr>\n",
       "      <th>2275</th>\n",
       "      <td>1498</td>\n",
       "      <td>12.0</td>\n",
       "      <td>39.0</td>\n",
       "      <td>325.0</td>\n",
       "      <td>NaN</td>\n",
       "      <td>23</td>\n",
       "    </tr>\n",
       "    <tr>\n",
       "      <th>2276</th>\n",
       "      <td>1499</td>\n",
       "      <td>12.0</td>\n",
       "      <td>65.0</td>\n",
       "      <td>469.0</td>\n",
       "      <td>NaN</td>\n",
       "      <td>22</td>\n",
       "    </tr>\n",
       "  </tbody>\n",
       "</table>\n",
       "<p>2277 rows × 6 columns</p>\n",
       "</div>"
      ],
      "text/plain": [
       "      user_id  month  total_calls  total_mins  total_msg  total_mb\n",
       "0        1042    1.0         18.0       107.0        NaN         2\n",
       "1        1077    1.0         42.0       276.0       37.0        11\n",
       "2        1185    1.0         23.0       171.0        NaN         7\n",
       "3        1196    1.0         42.0       273.0       23.0         9\n",
       "4        1214    1.0          5.0        15.0        2.0         2\n",
       "...       ...    ...          ...         ...        ...       ...\n",
       "2272     1495   12.0         65.0       468.0        NaN        24\n",
       "2273     1496   12.0         40.0       279.0       11.0        17\n",
       "2274     1497   12.0         54.0       277.0       50.0        11\n",
       "2275     1498   12.0         39.0       325.0        NaN        23\n",
       "2276     1499   12.0         65.0       469.0        NaN        22\n",
       "\n",
       "[2277 rows x 6 columns]"
      ]
     },
     "execution_count": 39,
     "metadata": {},
     "output_type": "execute_result"
    }
   ],
   "source": [
    "# Fusiona los datos de llamadas, minutos, mensajes e Internet con base en user_id y month\n",
    "\n",
    "merge_info_user = calls_per_user.merge(minutes_per_user, on=['user_id','call_month'], how='inner')\n",
    "merge_info_user = merge_info_user.merge(sent_messages, how='outer', left_on=['user_id','call_month'], right_on=['user_id','message_month'])\n",
    "merge_info_user = merge_info_user.merge(mb_per_user, how='right', left_on=['user_id','call_month'], right_on=['user_id','month'])\n",
    "merge_info_user = merge_info_user.drop('message_month', axis = 'columns')\n",
    "merge_info_user = merge_info_user.drop('month', axis = 'columns')\n",
    "merge_info_user.columns = ['user_id', 'month','total_calls','total_mins','total_msg','total_mb']\n",
    "merge_info_user.sort_values(['month','user_id'])\n",
    "merge_info_user"
   ]
  },
  {
   "cell_type": "code",
   "execution_count": 40,
   "metadata": {
    "id": "0dNOXHag0q1H"
   },
   "outputs": [
    {
     "data": {
      "text/html": [
       "<div>\n",
       "<style scoped>\n",
       "    .dataframe tbody tr th:only-of-type {\n",
       "        vertical-align: middle;\n",
       "    }\n",
       "\n",
       "    .dataframe tbody tr th {\n",
       "        vertical-align: top;\n",
       "    }\n",
       "\n",
       "    .dataframe thead th {\n",
       "        text-align: right;\n",
       "    }\n",
       "</style>\n",
       "<table border=\"1\" class=\"dataframe\">\n",
       "  <thead>\n",
       "    <tr style=\"text-align: right;\">\n",
       "      <th></th>\n",
       "      <th>user_id</th>\n",
       "      <th>month</th>\n",
       "      <th>total_calls</th>\n",
       "      <th>total_mins</th>\n",
       "      <th>total_msg</th>\n",
       "      <th>total_mb</th>\n",
       "      <th>plan</th>\n",
       "      <th>messages_included</th>\n",
       "      <th>mb_per_month_included</th>\n",
       "      <th>minutes_included</th>\n",
       "      <th>usd_monthly_pay</th>\n",
       "      <th>usd_per_gb</th>\n",
       "      <th>usd_per_message</th>\n",
       "      <th>usd_per_minute</th>\n",
       "    </tr>\n",
       "  </thead>\n",
       "  <tbody>\n",
       "    <tr>\n",
       "      <th>0</th>\n",
       "      <td>1042</td>\n",
       "      <td>1.0</td>\n",
       "      <td>18.0</td>\n",
       "      <td>107.0</td>\n",
       "      <td>0.0</td>\n",
       "      <td>2</td>\n",
       "      <td>surf</td>\n",
       "      <td>50</td>\n",
       "      <td>15360</td>\n",
       "      <td>500</td>\n",
       "      <td>20.0</td>\n",
       "      <td>10.0</td>\n",
       "      <td>0.03</td>\n",
       "      <td>0.03</td>\n",
       "    </tr>\n",
       "    <tr>\n",
       "      <th>1</th>\n",
       "      <td>1077</td>\n",
       "      <td>1.0</td>\n",
       "      <td>42.0</td>\n",
       "      <td>276.0</td>\n",
       "      <td>37.0</td>\n",
       "      <td>11</td>\n",
       "      <td>ultimate</td>\n",
       "      <td>1000</td>\n",
       "      <td>30720</td>\n",
       "      <td>3000</td>\n",
       "      <td>70.0</td>\n",
       "      <td>7.0</td>\n",
       "      <td>0.01</td>\n",
       "      <td>0.01</td>\n",
       "    </tr>\n",
       "    <tr>\n",
       "      <th>2</th>\n",
       "      <td>1185</td>\n",
       "      <td>1.0</td>\n",
       "      <td>23.0</td>\n",
       "      <td>171.0</td>\n",
       "      <td>0.0</td>\n",
       "      <td>7</td>\n",
       "      <td>ultimate</td>\n",
       "      <td>1000</td>\n",
       "      <td>30720</td>\n",
       "      <td>3000</td>\n",
       "      <td>70.0</td>\n",
       "      <td>7.0</td>\n",
       "      <td>0.01</td>\n",
       "      <td>0.01</td>\n",
       "    </tr>\n",
       "    <tr>\n",
       "      <th>3</th>\n",
       "      <td>1196</td>\n",
       "      <td>1.0</td>\n",
       "      <td>42.0</td>\n",
       "      <td>273.0</td>\n",
       "      <td>23.0</td>\n",
       "      <td>9</td>\n",
       "      <td>ultimate</td>\n",
       "      <td>1000</td>\n",
       "      <td>30720</td>\n",
       "      <td>3000</td>\n",
       "      <td>70.0</td>\n",
       "      <td>7.0</td>\n",
       "      <td>0.01</td>\n",
       "      <td>0.01</td>\n",
       "    </tr>\n",
       "    <tr>\n",
       "      <th>4</th>\n",
       "      <td>1214</td>\n",
       "      <td>1.0</td>\n",
       "      <td>5.0</td>\n",
       "      <td>15.0</td>\n",
       "      <td>2.0</td>\n",
       "      <td>2</td>\n",
       "      <td>ultimate</td>\n",
       "      <td>1000</td>\n",
       "      <td>30720</td>\n",
       "      <td>3000</td>\n",
       "      <td>70.0</td>\n",
       "      <td>7.0</td>\n",
       "      <td>0.01</td>\n",
       "      <td>0.01</td>\n",
       "    </tr>\n",
       "    <tr>\n",
       "      <th>...</th>\n",
       "      <td>...</td>\n",
       "      <td>...</td>\n",
       "      <td>...</td>\n",
       "      <td>...</td>\n",
       "      <td>...</td>\n",
       "      <td>...</td>\n",
       "      <td>...</td>\n",
       "      <td>...</td>\n",
       "      <td>...</td>\n",
       "      <td>...</td>\n",
       "      <td>...</td>\n",
       "      <td>...</td>\n",
       "      <td>...</td>\n",
       "      <td>...</td>\n",
       "    </tr>\n",
       "    <tr>\n",
       "      <th>2272</th>\n",
       "      <td>1495</td>\n",
       "      <td>12.0</td>\n",
       "      <td>65.0</td>\n",
       "      <td>468.0</td>\n",
       "      <td>0.0</td>\n",
       "      <td>24</td>\n",
       "      <td>surf</td>\n",
       "      <td>50</td>\n",
       "      <td>15360</td>\n",
       "      <td>500</td>\n",
       "      <td>20.0</td>\n",
       "      <td>10.0</td>\n",
       "      <td>0.03</td>\n",
       "      <td>0.03</td>\n",
       "    </tr>\n",
       "    <tr>\n",
       "      <th>2273</th>\n",
       "      <td>1496</td>\n",
       "      <td>12.0</td>\n",
       "      <td>40.0</td>\n",
       "      <td>279.0</td>\n",
       "      <td>11.0</td>\n",
       "      <td>17</td>\n",
       "      <td>surf</td>\n",
       "      <td>50</td>\n",
       "      <td>15360</td>\n",
       "      <td>500</td>\n",
       "      <td>20.0</td>\n",
       "      <td>10.0</td>\n",
       "      <td>0.03</td>\n",
       "      <td>0.03</td>\n",
       "    </tr>\n",
       "    <tr>\n",
       "      <th>2274</th>\n",
       "      <td>1497</td>\n",
       "      <td>12.0</td>\n",
       "      <td>54.0</td>\n",
       "      <td>277.0</td>\n",
       "      <td>50.0</td>\n",
       "      <td>11</td>\n",
       "      <td>ultimate</td>\n",
       "      <td>1000</td>\n",
       "      <td>30720</td>\n",
       "      <td>3000</td>\n",
       "      <td>70.0</td>\n",
       "      <td>7.0</td>\n",
       "      <td>0.01</td>\n",
       "      <td>0.01</td>\n",
       "    </tr>\n",
       "    <tr>\n",
       "      <th>2275</th>\n",
       "      <td>1498</td>\n",
       "      <td>12.0</td>\n",
       "      <td>39.0</td>\n",
       "      <td>325.0</td>\n",
       "      <td>0.0</td>\n",
       "      <td>23</td>\n",
       "      <td>surf</td>\n",
       "      <td>50</td>\n",
       "      <td>15360</td>\n",
       "      <td>500</td>\n",
       "      <td>20.0</td>\n",
       "      <td>10.0</td>\n",
       "      <td>0.03</td>\n",
       "      <td>0.03</td>\n",
       "    </tr>\n",
       "    <tr>\n",
       "      <th>2276</th>\n",
       "      <td>1499</td>\n",
       "      <td>12.0</td>\n",
       "      <td>65.0</td>\n",
       "      <td>469.0</td>\n",
       "      <td>0.0</td>\n",
       "      <td>22</td>\n",
       "      <td>surf</td>\n",
       "      <td>50</td>\n",
       "      <td>15360</td>\n",
       "      <td>500</td>\n",
       "      <td>20.0</td>\n",
       "      <td>10.0</td>\n",
       "      <td>0.03</td>\n",
       "      <td>0.03</td>\n",
       "    </tr>\n",
       "  </tbody>\n",
       "</table>\n",
       "<p>2277 rows × 14 columns</p>\n",
       "</div>"
      ],
      "text/plain": [
       "      user_id  month  total_calls  total_mins  total_msg  total_mb      plan  \\\n",
       "0        1042    1.0         18.0       107.0        0.0         2      surf   \n",
       "1        1077    1.0         42.0       276.0       37.0        11  ultimate   \n",
       "2        1185    1.0         23.0       171.0        0.0         7  ultimate   \n",
       "3        1196    1.0         42.0       273.0       23.0         9  ultimate   \n",
       "4        1214    1.0          5.0        15.0        2.0         2  ultimate   \n",
       "...       ...    ...          ...         ...        ...       ...       ...   \n",
       "2272     1495   12.0         65.0       468.0        0.0        24      surf   \n",
       "2273     1496   12.0         40.0       279.0       11.0        17      surf   \n",
       "2274     1497   12.0         54.0       277.0       50.0        11  ultimate   \n",
       "2275     1498   12.0         39.0       325.0        0.0        23      surf   \n",
       "2276     1499   12.0         65.0       469.0        0.0        22      surf   \n",
       "\n",
       "      messages_included  mb_per_month_included  minutes_included  \\\n",
       "0                    50                  15360               500   \n",
       "1                  1000                  30720              3000   \n",
       "2                  1000                  30720              3000   \n",
       "3                  1000                  30720              3000   \n",
       "4                  1000                  30720              3000   \n",
       "...                 ...                    ...               ...   \n",
       "2272                 50                  15360               500   \n",
       "2273                 50                  15360               500   \n",
       "2274               1000                  30720              3000   \n",
       "2275                 50                  15360               500   \n",
       "2276                 50                  15360               500   \n",
       "\n",
       "      usd_monthly_pay  usd_per_gb  usd_per_message  usd_per_minute  \n",
       "0                20.0        10.0             0.03            0.03  \n",
       "1                70.0         7.0             0.01            0.01  \n",
       "2                70.0         7.0             0.01            0.01  \n",
       "3                70.0         7.0             0.01            0.01  \n",
       "4                70.0         7.0             0.01            0.01  \n",
       "...               ...         ...              ...             ...  \n",
       "2272             20.0        10.0             0.03            0.03  \n",
       "2273             20.0        10.0             0.03            0.03  \n",
       "2274             70.0         7.0             0.01            0.01  \n",
       "2275             20.0        10.0             0.03            0.03  \n",
       "2276             20.0        10.0             0.03            0.03  \n",
       "\n",
       "[2277 rows x 14 columns]"
      ]
     },
     "execution_count": 40,
     "metadata": {},
     "output_type": "execute_result"
    }
   ],
   "source": [
    "# Añade la información de la tarifa\n",
    "\n",
    "user_plan = df_users.query(\"plan in @df_plans['plan_name']\")[['user_id','plan']]\n",
    "merge_user_plan = user_plan.merge(df_plans, left_on = 'plan', right_on='plan_name', how='right')\n",
    "merge_user_plan = merge_user_plan.drop('plan_name', axis='columns')\n",
    "data_user = merge_info_user.merge(merge_user_plan, on = 'user_id', how='left')#.sort_values(['month', 'user_id'])\n",
    "data_user.fillna(0, inplace=True)\n",
    "data_user"
   ]
  },
  {
   "cell_type": "markdown",
   "metadata": {
    "id": "1IwGo4wg0q1I"
   },
   "source": [
    "[Calcula los ingresos mensuales por usuario (resta el límite del paquete gratuito del número total de llamadas, mensajes de texto y datos; multiplica el resultado por el valor del plan de llamadas; añade la tarifa mensual en función del plan de llamadas). Nota: Dadas las condiciones del plan, ¡esto podría no ser tan trivial como un par de líneas! Así que no pasa nada si dedicas algo de tiempo a ello.]"
   ]
  },
  {
   "cell_type": "code",
   "execution_count": 61,
   "metadata": {
    "id": "5FGCf_c60q1I",
    "scrolled": true
   },
   "outputs": [
    {
     "data": {
      "text/html": [
       "<div>\n",
       "<style scoped>\n",
       "    .dataframe tbody tr th:only-of-type {\n",
       "        vertical-align: middle;\n",
       "    }\n",
       "\n",
       "    .dataframe tbody tr th {\n",
       "        vertical-align: top;\n",
       "    }\n",
       "\n",
       "    .dataframe thead th {\n",
       "        text-align: right;\n",
       "    }\n",
       "</style>\n",
       "<table border=\"1\" class=\"dataframe\">\n",
       "  <thead>\n",
       "    <tr style=\"text-align: right;\">\n",
       "      <th></th>\n",
       "      <th>user_id</th>\n",
       "      <th>month</th>\n",
       "      <th>total_calls</th>\n",
       "      <th>total_mins</th>\n",
       "      <th>total_msg</th>\n",
       "      <th>total_mb</th>\n",
       "      <th>plan</th>\n",
       "      <th>messages_included</th>\n",
       "      <th>mb_per_month_included</th>\n",
       "      <th>minutes_included</th>\n",
       "      <th>usd_monthly_pay</th>\n",
       "      <th>usd_per_gb</th>\n",
       "      <th>usd_per_message</th>\n",
       "      <th>usd_per_minute</th>\n",
       "      <th>extra_min</th>\n",
       "      <th>extra_msg</th>\n",
       "      <th>extra_internet</th>\n",
       "      <th>costo_final</th>\n",
       "    </tr>\n",
       "  </thead>\n",
       "  <tbody>\n",
       "    <tr>\n",
       "      <th>782</th>\n",
       "      <td>1498</td>\n",
       "      <td>8.0</td>\n",
       "      <td>44.0</td>\n",
       "      <td>245.0</td>\n",
       "      <td>0.0</td>\n",
       "      <td>20</td>\n",
       "      <td>surf</td>\n",
       "      <td>50</td>\n",
       "      <td>15360</td>\n",
       "      <td>500</td>\n",
       "      <td>20.0</td>\n",
       "      <td>10.0</td>\n",
       "      <td>0.03</td>\n",
       "      <td>0.03</td>\n",
       "      <td>0.00</td>\n",
       "      <td>0.00</td>\n",
       "      <td>50.0</td>\n",
       "      <td>70.00</td>\n",
       "    </tr>\n",
       "    <tr>\n",
       "      <th>1665</th>\n",
       "      <td>1328</td>\n",
       "      <td>11.0</td>\n",
       "      <td>113.0</td>\n",
       "      <td>752.0</td>\n",
       "      <td>150.0</td>\n",
       "      <td>29</td>\n",
       "      <td>surf</td>\n",
       "      <td>50</td>\n",
       "      <td>15360</td>\n",
       "      <td>500</td>\n",
       "      <td>20.0</td>\n",
       "      <td>10.0</td>\n",
       "      <td>0.03</td>\n",
       "      <td>0.03</td>\n",
       "      <td>7.56</td>\n",
       "      <td>3.00</td>\n",
       "      <td>140.0</td>\n",
       "      <td>170.56</td>\n",
       "    </tr>\n",
       "    <tr>\n",
       "      <th>800</th>\n",
       "      <td>1043</td>\n",
       "      <td>9.0</td>\n",
       "      <td>28.0</td>\n",
       "      <td>189.0</td>\n",
       "      <td>101.0</td>\n",
       "      <td>32</td>\n",
       "      <td>ultimate</td>\n",
       "      <td>1000</td>\n",
       "      <td>30720</td>\n",
       "      <td>3000</td>\n",
       "      <td>70.0</td>\n",
       "      <td>7.0</td>\n",
       "      <td>0.01</td>\n",
       "      <td>0.01</td>\n",
       "      <td>0.00</td>\n",
       "      <td>0.00</td>\n",
       "      <td>14.0</td>\n",
       "      <td>84.00</td>\n",
       "    </tr>\n",
       "    <tr>\n",
       "      <th>702</th>\n",
       "      <td>1324</td>\n",
       "      <td>8.0</td>\n",
       "      <td>145.0</td>\n",
       "      <td>954.0</td>\n",
       "      <td>153.0</td>\n",
       "      <td>14</td>\n",
       "      <td>surf</td>\n",
       "      <td>50</td>\n",
       "      <td>15360</td>\n",
       "      <td>500</td>\n",
       "      <td>20.0</td>\n",
       "      <td>10.0</td>\n",
       "      <td>0.03</td>\n",
       "      <td>0.03</td>\n",
       "      <td>13.62</td>\n",
       "      <td>3.09</td>\n",
       "      <td>0.0</td>\n",
       "      <td>36.71</td>\n",
       "    </tr>\n",
       "    <tr>\n",
       "      <th>1909</th>\n",
       "      <td>1106</td>\n",
       "      <td>12.0</td>\n",
       "      <td>67.0</td>\n",
       "      <td>539.0</td>\n",
       "      <td>0.0</td>\n",
       "      <td>22</td>\n",
       "      <td>surf</td>\n",
       "      <td>50</td>\n",
       "      <td>15360</td>\n",
       "      <td>500</td>\n",
       "      <td>20.0</td>\n",
       "      <td>10.0</td>\n",
       "      <td>0.03</td>\n",
       "      <td>0.03</td>\n",
       "      <td>1.17</td>\n",
       "      <td>0.00</td>\n",
       "      <td>70.0</td>\n",
       "      <td>91.17</td>\n",
       "    </tr>\n",
       "    <tr>\n",
       "      <th>1143</th>\n",
       "      <td>1123</td>\n",
       "      <td>10.0</td>\n",
       "      <td>88.0</td>\n",
       "      <td>586.0</td>\n",
       "      <td>27.0</td>\n",
       "      <td>22</td>\n",
       "      <td>surf</td>\n",
       "      <td>50</td>\n",
       "      <td>15360</td>\n",
       "      <td>500</td>\n",
       "      <td>20.0</td>\n",
       "      <td>10.0</td>\n",
       "      <td>0.03</td>\n",
       "      <td>0.03</td>\n",
       "      <td>2.58</td>\n",
       "      <td>0.00</td>\n",
       "      <td>70.0</td>\n",
       "      <td>92.58</td>\n",
       "    </tr>\n",
       "    <tr>\n",
       "      <th>395</th>\n",
       "      <td>1056</td>\n",
       "      <td>7.0</td>\n",
       "      <td>8.0</td>\n",
       "      <td>70.0</td>\n",
       "      <td>3.0</td>\n",
       "      <td>4</td>\n",
       "      <td>surf</td>\n",
       "      <td>50</td>\n",
       "      <td>15360</td>\n",
       "      <td>500</td>\n",
       "      <td>20.0</td>\n",
       "      <td>10.0</td>\n",
       "      <td>0.03</td>\n",
       "      <td>0.03</td>\n",
       "      <td>0.00</td>\n",
       "      <td>0.00</td>\n",
       "      <td>0.0</td>\n",
       "      <td>20.00</td>\n",
       "    </tr>\n",
       "    <tr>\n",
       "      <th>237</th>\n",
       "      <td>1028</td>\n",
       "      <td>6.0</td>\n",
       "      <td>11.0</td>\n",
       "      <td>44.0</td>\n",
       "      <td>66.0</td>\n",
       "      <td>38</td>\n",
       "      <td>ultimate</td>\n",
       "      <td>1000</td>\n",
       "      <td>30720</td>\n",
       "      <td>3000</td>\n",
       "      <td>70.0</td>\n",
       "      <td>7.0</td>\n",
       "      <td>0.01</td>\n",
       "      <td>0.01</td>\n",
       "      <td>0.00</td>\n",
       "      <td>0.00</td>\n",
       "      <td>56.0</td>\n",
       "      <td>126.00</td>\n",
       "    </tr>\n",
       "    <tr>\n",
       "      <th>2024</th>\n",
       "      <td>1227</td>\n",
       "      <td>12.0</td>\n",
       "      <td>55.0</td>\n",
       "      <td>337.0</td>\n",
       "      <td>27.0</td>\n",
       "      <td>19</td>\n",
       "      <td>surf</td>\n",
       "      <td>50</td>\n",
       "      <td>15360</td>\n",
       "      <td>500</td>\n",
       "      <td>20.0</td>\n",
       "      <td>10.0</td>\n",
       "      <td>0.03</td>\n",
       "      <td>0.03</td>\n",
       "      <td>0.00</td>\n",
       "      <td>0.00</td>\n",
       "      <td>40.0</td>\n",
       "      <td>60.00</td>\n",
       "    </tr>\n",
       "    <tr>\n",
       "      <th>1516</th>\n",
       "      <td>1146</td>\n",
       "      <td>11.0</td>\n",
       "      <td>61.0</td>\n",
       "      <td>419.0</td>\n",
       "      <td>86.0</td>\n",
       "      <td>20</td>\n",
       "      <td>surf</td>\n",
       "      <td>50</td>\n",
       "      <td>15360</td>\n",
       "      <td>500</td>\n",
       "      <td>20.0</td>\n",
       "      <td>10.0</td>\n",
       "      <td>0.03</td>\n",
       "      <td>0.03</td>\n",
       "      <td>0.00</td>\n",
       "      <td>1.08</td>\n",
       "      <td>50.0</td>\n",
       "      <td>71.08</td>\n",
       "    </tr>\n",
       "    <tr>\n",
       "      <th>22</th>\n",
       "      <td>1010</td>\n",
       "      <td>3.0</td>\n",
       "      <td>63.0</td>\n",
       "      <td>409.0</td>\n",
       "      <td>0.0</td>\n",
       "      <td>11</td>\n",
       "      <td>surf</td>\n",
       "      <td>50</td>\n",
       "      <td>15360</td>\n",
       "      <td>500</td>\n",
       "      <td>20.0</td>\n",
       "      <td>10.0</td>\n",
       "      <td>0.03</td>\n",
       "      <td>0.03</td>\n",
       "      <td>0.00</td>\n",
       "      <td>0.00</td>\n",
       "      <td>0.0</td>\n",
       "      <td>20.00</td>\n",
       "    </tr>\n",
       "    <tr>\n",
       "      <th>1600</th>\n",
       "      <td>1250</td>\n",
       "      <td>11.0</td>\n",
       "      <td>77.0</td>\n",
       "      <td>566.0</td>\n",
       "      <td>69.0</td>\n",
       "      <td>12</td>\n",
       "      <td>ultimate</td>\n",
       "      <td>1000</td>\n",
       "      <td>30720</td>\n",
       "      <td>3000</td>\n",
       "      <td>70.0</td>\n",
       "      <td>7.0</td>\n",
       "      <td>0.01</td>\n",
       "      <td>0.01</td>\n",
       "      <td>0.00</td>\n",
       "      <td>0.00</td>\n",
       "      <td>0.0</td>\n",
       "      <td>70.00</td>\n",
       "    </tr>\n",
       "    <tr>\n",
       "      <th>150</th>\n",
       "      <td>1095</td>\n",
       "      <td>5.0</td>\n",
       "      <td>27.0</td>\n",
       "      <td>175.0</td>\n",
       "      <td>11.0</td>\n",
       "      <td>14</td>\n",
       "      <td>surf</td>\n",
       "      <td>50</td>\n",
       "      <td>15360</td>\n",
       "      <td>500</td>\n",
       "      <td>20.0</td>\n",
       "      <td>10.0</td>\n",
       "      <td>0.03</td>\n",
       "      <td>0.03</td>\n",
       "      <td>0.00</td>\n",
       "      <td>0.00</td>\n",
       "      <td>0.0</td>\n",
       "      <td>20.00</td>\n",
       "    </tr>\n",
       "    <tr>\n",
       "      <th>1953</th>\n",
       "      <td>1154</td>\n",
       "      <td>12.0</td>\n",
       "      <td>36.0</td>\n",
       "      <td>240.0</td>\n",
       "      <td>83.0</td>\n",
       "      <td>13</td>\n",
       "      <td>ultimate</td>\n",
       "      <td>1000</td>\n",
       "      <td>30720</td>\n",
       "      <td>3000</td>\n",
       "      <td>70.0</td>\n",
       "      <td>7.0</td>\n",
       "      <td>0.01</td>\n",
       "      <td>0.01</td>\n",
       "      <td>0.00</td>\n",
       "      <td>0.00</td>\n",
       "      <td>0.0</td>\n",
       "      <td>70.00</td>\n",
       "    </tr>\n",
       "    <tr>\n",
       "      <th>2060</th>\n",
       "      <td>1265</td>\n",
       "      <td>12.0</td>\n",
       "      <td>40.0</td>\n",
       "      <td>197.0</td>\n",
       "      <td>0.0</td>\n",
       "      <td>28</td>\n",
       "      <td>surf</td>\n",
       "      <td>50</td>\n",
       "      <td>15360</td>\n",
       "      <td>500</td>\n",
       "      <td>20.0</td>\n",
       "      <td>10.0</td>\n",
       "      <td>0.03</td>\n",
       "      <td>0.03</td>\n",
       "      <td>0.00</td>\n",
       "      <td>0.00</td>\n",
       "      <td>130.0</td>\n",
       "      <td>150.00</td>\n",
       "    </tr>\n",
       "    <tr>\n",
       "      <th>1259</th>\n",
       "      <td>1293</td>\n",
       "      <td>10.0</td>\n",
       "      <td>91.0</td>\n",
       "      <td>541.0</td>\n",
       "      <td>87.0</td>\n",
       "      <td>40</td>\n",
       "      <td>surf</td>\n",
       "      <td>50</td>\n",
       "      <td>15360</td>\n",
       "      <td>500</td>\n",
       "      <td>20.0</td>\n",
       "      <td>10.0</td>\n",
       "      <td>0.03</td>\n",
       "      <td>0.03</td>\n",
       "      <td>1.23</td>\n",
       "      <td>1.11</td>\n",
       "      <td>250.0</td>\n",
       "      <td>272.34</td>\n",
       "    </tr>\n",
       "    <tr>\n",
       "      <th>925</th>\n",
       "      <td>1253</td>\n",
       "      <td>9.0</td>\n",
       "      <td>13.0</td>\n",
       "      <td>95.0</td>\n",
       "      <td>26.0</td>\n",
       "      <td>13</td>\n",
       "      <td>ultimate</td>\n",
       "      <td>1000</td>\n",
       "      <td>30720</td>\n",
       "      <td>3000</td>\n",
       "      <td>70.0</td>\n",
       "      <td>7.0</td>\n",
       "      <td>0.01</td>\n",
       "      <td>0.01</td>\n",
       "      <td>0.00</td>\n",
       "      <td>0.00</td>\n",
       "      <td>0.0</td>\n",
       "      <td>70.00</td>\n",
       "    </tr>\n",
       "    <tr>\n",
       "      <th>1041</th>\n",
       "      <td>1465</td>\n",
       "      <td>9.0</td>\n",
       "      <td>106.0</td>\n",
       "      <td>723.0</td>\n",
       "      <td>28.0</td>\n",
       "      <td>16</td>\n",
       "      <td>ultimate</td>\n",
       "      <td>1000</td>\n",
       "      <td>30720</td>\n",
       "      <td>3000</td>\n",
       "      <td>70.0</td>\n",
       "      <td>7.0</td>\n",
       "      <td>0.01</td>\n",
       "      <td>0.01</td>\n",
       "      <td>0.00</td>\n",
       "      <td>0.00</td>\n",
       "      <td>0.0</td>\n",
       "      <td>70.00</td>\n",
       "    </tr>\n",
       "    <tr>\n",
       "      <th>1274</th>\n",
       "      <td>1321</td>\n",
       "      <td>10.0</td>\n",
       "      <td>63.0</td>\n",
       "      <td>389.0</td>\n",
       "      <td>0.0</td>\n",
       "      <td>23</td>\n",
       "      <td>surf</td>\n",
       "      <td>50</td>\n",
       "      <td>15360</td>\n",
       "      <td>500</td>\n",
       "      <td>20.0</td>\n",
       "      <td>10.0</td>\n",
       "      <td>0.03</td>\n",
       "      <td>0.03</td>\n",
       "      <td>0.00</td>\n",
       "      <td>0.00</td>\n",
       "      <td>80.0</td>\n",
       "      <td>100.00</td>\n",
       "    </tr>\n",
       "    <tr>\n",
       "      <th>1561</th>\n",
       "      <td>1198</td>\n",
       "      <td>11.0</td>\n",
       "      <td>54.0</td>\n",
       "      <td>426.0</td>\n",
       "      <td>6.0</td>\n",
       "      <td>15</td>\n",
       "      <td>surf</td>\n",
       "      <td>50</td>\n",
       "      <td>15360</td>\n",
       "      <td>500</td>\n",
       "      <td>20.0</td>\n",
       "      <td>10.0</td>\n",
       "      <td>0.03</td>\n",
       "      <td>0.03</td>\n",
       "      <td>0.00</td>\n",
       "      <td>0.00</td>\n",
       "      <td>0.0</td>\n",
       "      <td>20.00</td>\n",
       "    </tr>\n",
       "    <tr>\n",
       "      <th>941</th>\n",
       "      <td>1284</td>\n",
       "      <td>9.0</td>\n",
       "      <td>79.0</td>\n",
       "      <td>535.0</td>\n",
       "      <td>0.0</td>\n",
       "      <td>22</td>\n",
       "      <td>surf</td>\n",
       "      <td>50</td>\n",
       "      <td>15360</td>\n",
       "      <td>500</td>\n",
       "      <td>20.0</td>\n",
       "      <td>10.0</td>\n",
       "      <td>0.03</td>\n",
       "      <td>0.03</td>\n",
       "      <td>1.05</td>\n",
       "      <td>0.00</td>\n",
       "      <td>70.0</td>\n",
       "      <td>91.05</td>\n",
       "    </tr>\n",
       "    <tr>\n",
       "      <th>1095</th>\n",
       "      <td>1056</td>\n",
       "      <td>10.0</td>\n",
       "      <td>38.0</td>\n",
       "      <td>268.0</td>\n",
       "      <td>28.0</td>\n",
       "      <td>19</td>\n",
       "      <td>surf</td>\n",
       "      <td>50</td>\n",
       "      <td>15360</td>\n",
       "      <td>500</td>\n",
       "      <td>20.0</td>\n",
       "      <td>10.0</td>\n",
       "      <td>0.03</td>\n",
       "      <td>0.03</td>\n",
       "      <td>0.00</td>\n",
       "      <td>0.00</td>\n",
       "      <td>40.0</td>\n",
       "      <td>60.00</td>\n",
       "    </tr>\n",
       "    <tr>\n",
       "      <th>811</th>\n",
       "      <td>1059</td>\n",
       "      <td>9.0</td>\n",
       "      <td>95.0</td>\n",
       "      <td>764.0</td>\n",
       "      <td>63.0</td>\n",
       "      <td>15</td>\n",
       "      <td>ultimate</td>\n",
       "      <td>1000</td>\n",
       "      <td>30720</td>\n",
       "      <td>3000</td>\n",
       "      <td>70.0</td>\n",
       "      <td>7.0</td>\n",
       "      <td>0.01</td>\n",
       "      <td>0.01</td>\n",
       "      <td>0.00</td>\n",
       "      <td>0.00</td>\n",
       "      <td>0.0</td>\n",
       "      <td>70.00</td>\n",
       "    </tr>\n",
       "    <tr>\n",
       "      <th>561</th>\n",
       "      <td>1023</td>\n",
       "      <td>8.0</td>\n",
       "      <td>11.0</td>\n",
       "      <td>67.0</td>\n",
       "      <td>6.0</td>\n",
       "      <td>10</td>\n",
       "      <td>surf</td>\n",
       "      <td>50</td>\n",
       "      <td>15360</td>\n",
       "      <td>500</td>\n",
       "      <td>20.0</td>\n",
       "      <td>10.0</td>\n",
       "      <td>0.03</td>\n",
       "      <td>0.03</td>\n",
       "      <td>0.00</td>\n",
       "      <td>0.00</td>\n",
       "      <td>0.0</td>\n",
       "      <td>20.00</td>\n",
       "    </tr>\n",
       "    <tr>\n",
       "      <th>1783</th>\n",
       "      <td>1464</td>\n",
       "      <td>11.0</td>\n",
       "      <td>68.0</td>\n",
       "      <td>501.0</td>\n",
       "      <td>31.0</td>\n",
       "      <td>13</td>\n",
       "      <td>surf</td>\n",
       "      <td>50</td>\n",
       "      <td>15360</td>\n",
       "      <td>500</td>\n",
       "      <td>20.0</td>\n",
       "      <td>10.0</td>\n",
       "      <td>0.03</td>\n",
       "      <td>0.03</td>\n",
       "      <td>0.03</td>\n",
       "      <td>0.00</td>\n",
       "      <td>0.0</td>\n",
       "      <td>20.03</td>\n",
       "    </tr>\n",
       "    <tr>\n",
       "      <th>2018</th>\n",
       "      <td>1220</td>\n",
       "      <td>12.0</td>\n",
       "      <td>88.0</td>\n",
       "      <td>524.0</td>\n",
       "      <td>31.0</td>\n",
       "      <td>19</td>\n",
       "      <td>surf</td>\n",
       "      <td>50</td>\n",
       "      <td>15360</td>\n",
       "      <td>500</td>\n",
       "      <td>20.0</td>\n",
       "      <td>10.0</td>\n",
       "      <td>0.03</td>\n",
       "      <td>0.03</td>\n",
       "      <td>0.72</td>\n",
       "      <td>0.00</td>\n",
       "      <td>40.0</td>\n",
       "      <td>60.72</td>\n",
       "    </tr>\n",
       "    <tr>\n",
       "      <th>360</th>\n",
       "      <td>1439</td>\n",
       "      <td>6.0</td>\n",
       "      <td>46.0</td>\n",
       "      <td>381.0</td>\n",
       "      <td>69.0</td>\n",
       "      <td>18</td>\n",
       "      <td>surf</td>\n",
       "      <td>50</td>\n",
       "      <td>15360</td>\n",
       "      <td>500</td>\n",
       "      <td>20.0</td>\n",
       "      <td>10.0</td>\n",
       "      <td>0.03</td>\n",
       "      <td>0.03</td>\n",
       "      <td>0.00</td>\n",
       "      <td>0.57</td>\n",
       "      <td>30.0</td>\n",
       "      <td>50.57</td>\n",
       "    </tr>\n",
       "    <tr>\n",
       "      <th>2229</th>\n",
       "      <td>1446</td>\n",
       "      <td>12.0</td>\n",
       "      <td>55.0</td>\n",
       "      <td>423.0</td>\n",
       "      <td>25.0</td>\n",
       "      <td>20</td>\n",
       "      <td>surf</td>\n",
       "      <td>50</td>\n",
       "      <td>15360</td>\n",
       "      <td>500</td>\n",
       "      <td>20.0</td>\n",
       "      <td>10.0</td>\n",
       "      <td>0.03</td>\n",
       "      <td>0.03</td>\n",
       "      <td>0.00</td>\n",
       "      <td>0.00</td>\n",
       "      <td>50.0</td>\n",
       "      <td>70.00</td>\n",
       "    </tr>\n",
       "    <tr>\n",
       "      <th>1224</th>\n",
       "      <td>1237</td>\n",
       "      <td>10.0</td>\n",
       "      <td>105.0</td>\n",
       "      <td>702.0</td>\n",
       "      <td>36.0</td>\n",
       "      <td>11</td>\n",
       "      <td>ultimate</td>\n",
       "      <td>1000</td>\n",
       "      <td>30720</td>\n",
       "      <td>3000</td>\n",
       "      <td>70.0</td>\n",
       "      <td>7.0</td>\n",
       "      <td>0.01</td>\n",
       "      <td>0.01</td>\n",
       "      <td>0.00</td>\n",
       "      <td>0.00</td>\n",
       "      <td>0.0</td>\n",
       "      <td>70.00</td>\n",
       "    </tr>\n",
       "    <tr>\n",
       "      <th>1768</th>\n",
       "      <td>1444</td>\n",
       "      <td>11.0</td>\n",
       "      <td>22.0</td>\n",
       "      <td>155.0</td>\n",
       "      <td>49.0</td>\n",
       "      <td>22</td>\n",
       "      <td>surf</td>\n",
       "      <td>50</td>\n",
       "      <td>15360</td>\n",
       "      <td>500</td>\n",
       "      <td>20.0</td>\n",
       "      <td>10.0</td>\n",
       "      <td>0.03</td>\n",
       "      <td>0.03</td>\n",
       "      <td>0.00</td>\n",
       "      <td>0.00</td>\n",
       "      <td>70.0</td>\n",
       "      <td>90.00</td>\n",
       "    </tr>\n",
       "  </tbody>\n",
       "</table>\n",
       "</div>"
      ],
      "text/plain": [
       "      user_id  month  total_calls  total_mins  total_msg  total_mb      plan  \\\n",
       "782      1498    8.0         44.0       245.0        0.0        20      surf   \n",
       "1665     1328   11.0        113.0       752.0      150.0        29      surf   \n",
       "800      1043    9.0         28.0       189.0      101.0        32  ultimate   \n",
       "702      1324    8.0        145.0       954.0      153.0        14      surf   \n",
       "1909     1106   12.0         67.0       539.0        0.0        22      surf   \n",
       "1143     1123   10.0         88.0       586.0       27.0        22      surf   \n",
       "395      1056    7.0          8.0        70.0        3.0         4      surf   \n",
       "237      1028    6.0         11.0        44.0       66.0        38  ultimate   \n",
       "2024     1227   12.0         55.0       337.0       27.0        19      surf   \n",
       "1516     1146   11.0         61.0       419.0       86.0        20      surf   \n",
       "22       1010    3.0         63.0       409.0        0.0        11      surf   \n",
       "1600     1250   11.0         77.0       566.0       69.0        12  ultimate   \n",
       "150      1095    5.0         27.0       175.0       11.0        14      surf   \n",
       "1953     1154   12.0         36.0       240.0       83.0        13  ultimate   \n",
       "2060     1265   12.0         40.0       197.0        0.0        28      surf   \n",
       "1259     1293   10.0         91.0       541.0       87.0        40      surf   \n",
       "925      1253    9.0         13.0        95.0       26.0        13  ultimate   \n",
       "1041     1465    9.0        106.0       723.0       28.0        16  ultimate   \n",
       "1274     1321   10.0         63.0       389.0        0.0        23      surf   \n",
       "1561     1198   11.0         54.0       426.0        6.0        15      surf   \n",
       "941      1284    9.0         79.0       535.0        0.0        22      surf   \n",
       "1095     1056   10.0         38.0       268.0       28.0        19      surf   \n",
       "811      1059    9.0         95.0       764.0       63.0        15  ultimate   \n",
       "561      1023    8.0         11.0        67.0        6.0        10      surf   \n",
       "1783     1464   11.0         68.0       501.0       31.0        13      surf   \n",
       "2018     1220   12.0         88.0       524.0       31.0        19      surf   \n",
       "360      1439    6.0         46.0       381.0       69.0        18      surf   \n",
       "2229     1446   12.0         55.0       423.0       25.0        20      surf   \n",
       "1224     1237   10.0        105.0       702.0       36.0        11  ultimate   \n",
       "1768     1444   11.0         22.0       155.0       49.0        22      surf   \n",
       "\n",
       "      messages_included  mb_per_month_included  minutes_included  \\\n",
       "782                  50                  15360               500   \n",
       "1665                 50                  15360               500   \n",
       "800                1000                  30720              3000   \n",
       "702                  50                  15360               500   \n",
       "1909                 50                  15360               500   \n",
       "1143                 50                  15360               500   \n",
       "395                  50                  15360               500   \n",
       "237                1000                  30720              3000   \n",
       "2024                 50                  15360               500   \n",
       "1516                 50                  15360               500   \n",
       "22                   50                  15360               500   \n",
       "1600               1000                  30720              3000   \n",
       "150                  50                  15360               500   \n",
       "1953               1000                  30720              3000   \n",
       "2060                 50                  15360               500   \n",
       "1259                 50                  15360               500   \n",
       "925                1000                  30720              3000   \n",
       "1041               1000                  30720              3000   \n",
       "1274                 50                  15360               500   \n",
       "1561                 50                  15360               500   \n",
       "941                  50                  15360               500   \n",
       "1095                 50                  15360               500   \n",
       "811                1000                  30720              3000   \n",
       "561                  50                  15360               500   \n",
       "1783                 50                  15360               500   \n",
       "2018                 50                  15360               500   \n",
       "360                  50                  15360               500   \n",
       "2229                 50                  15360               500   \n",
       "1224               1000                  30720              3000   \n",
       "1768                 50                  15360               500   \n",
       "\n",
       "      usd_monthly_pay  usd_per_gb  usd_per_message  usd_per_minute  extra_min  \\\n",
       "782              20.0        10.0             0.03            0.03       0.00   \n",
       "1665             20.0        10.0             0.03            0.03       7.56   \n",
       "800              70.0         7.0             0.01            0.01       0.00   \n",
       "702              20.0        10.0             0.03            0.03      13.62   \n",
       "1909             20.0        10.0             0.03            0.03       1.17   \n",
       "1143             20.0        10.0             0.03            0.03       2.58   \n",
       "395              20.0        10.0             0.03            0.03       0.00   \n",
       "237              70.0         7.0             0.01            0.01       0.00   \n",
       "2024             20.0        10.0             0.03            0.03       0.00   \n",
       "1516             20.0        10.0             0.03            0.03       0.00   \n",
       "22               20.0        10.0             0.03            0.03       0.00   \n",
       "1600             70.0         7.0             0.01            0.01       0.00   \n",
       "150              20.0        10.0             0.03            0.03       0.00   \n",
       "1953             70.0         7.0             0.01            0.01       0.00   \n",
       "2060             20.0        10.0             0.03            0.03       0.00   \n",
       "1259             20.0        10.0             0.03            0.03       1.23   \n",
       "925              70.0         7.0             0.01            0.01       0.00   \n",
       "1041             70.0         7.0             0.01            0.01       0.00   \n",
       "1274             20.0        10.0             0.03            0.03       0.00   \n",
       "1561             20.0        10.0             0.03            0.03       0.00   \n",
       "941              20.0        10.0             0.03            0.03       1.05   \n",
       "1095             20.0        10.0             0.03            0.03       0.00   \n",
       "811              70.0         7.0             0.01            0.01       0.00   \n",
       "561              20.0        10.0             0.03            0.03       0.00   \n",
       "1783             20.0        10.0             0.03            0.03       0.03   \n",
       "2018             20.0        10.0             0.03            0.03       0.72   \n",
       "360              20.0        10.0             0.03            0.03       0.00   \n",
       "2229             20.0        10.0             0.03            0.03       0.00   \n",
       "1224             70.0         7.0             0.01            0.01       0.00   \n",
       "1768             20.0        10.0             0.03            0.03       0.00   \n",
       "\n",
       "      extra_msg  extra_internet  costo_final  \n",
       "782        0.00            50.0        70.00  \n",
       "1665       3.00           140.0       170.56  \n",
       "800        0.00            14.0        84.00  \n",
       "702        3.09             0.0        36.71  \n",
       "1909       0.00            70.0        91.17  \n",
       "1143       0.00            70.0        92.58  \n",
       "395        0.00             0.0        20.00  \n",
       "237        0.00            56.0       126.00  \n",
       "2024       0.00            40.0        60.00  \n",
       "1516       1.08            50.0        71.08  \n",
       "22         0.00             0.0        20.00  \n",
       "1600       0.00             0.0        70.00  \n",
       "150        0.00             0.0        20.00  \n",
       "1953       0.00             0.0        70.00  \n",
       "2060       0.00           130.0       150.00  \n",
       "1259       1.11           250.0       272.34  \n",
       "925        0.00             0.0        70.00  \n",
       "1041       0.00             0.0        70.00  \n",
       "1274       0.00            80.0       100.00  \n",
       "1561       0.00             0.0        20.00  \n",
       "941        0.00            70.0        91.05  \n",
       "1095       0.00            40.0        60.00  \n",
       "811        0.00             0.0        70.00  \n",
       "561        0.00             0.0        20.00  \n",
       "1783       0.00             0.0        20.03  \n",
       "2018       0.00            40.0        60.72  \n",
       "360        0.57            30.0        50.57  \n",
       "2229       0.00            50.0        70.00  \n",
       "1224       0.00             0.0        70.00  \n",
       "1768       0.00            70.0        90.00  "
      ]
     },
     "execution_count": 61,
     "metadata": {},
     "output_type": "execute_result"
    }
   ],
   "source": [
    "# Calcula el ingreso mensual para cada usuario\n",
    "#userid, plan, monto mens plan, monto excedente llamada, mensajes, datos, total de todo anterior\n",
    "#minuto - minutos del plan * cantidad por minuto\n",
    "#cuidar los negativos, igualar a 0\n",
    "\n",
    "def monthly_income(row):\n",
    "    if row['total_mins'] > row['minutes_included']:\n",
    "        minutes_fee = (row['total_mins'] - row['minutes_included']) * row['usd_per_minute']\n",
    "        row['extra_min']=minutes_fee\n",
    "    else:\n",
    "        row['extra_min']=0\n",
    "            \n",
    "    if row['total_msg'] > row['messages_included']:\n",
    "        msg_fee = (row['total_msg'] - row['messages_included']) * row['usd_per_message']\n",
    "        row['extra_msg']=msg_fee\n",
    "    else:\n",
    "        row['extra_msg']=0\n",
    "        \n",
    "    if row['total_mb'] > row['mb_per_month_included']/1024:\n",
    "        gb_fee = (row['total_mb'] - row['mb_per_month_included']/1024) * row['usd_per_gb']\n",
    "        row['extra_internet']=gb_fee\n",
    "    else:\n",
    "        row['extra_internet']=0\n",
    "        \n",
    "    row['costo_final'] = (row['extra_min'] + row['extra_msg'] + row['extra_internet']) + row['usd_monthly_pay']\n",
    "\n",
    "    return row\n",
    "\n",
    "data = data_user.apply(monthly_income, axis=1)\n",
    "#data.sort_values(['month','user_id'])\n",
    "data.sample(30)"
   ]
  },
  {
   "cell_type": "code",
   "execution_count": 62,
   "metadata": {},
   "outputs": [
    {
     "data": {
      "text/html": [
       "<div>\n",
       "<style scoped>\n",
       "    .dataframe tbody tr th:only-of-type {\n",
       "        vertical-align: middle;\n",
       "    }\n",
       "\n",
       "    .dataframe tbody tr th {\n",
       "        vertical-align: top;\n",
       "    }\n",
       "\n",
       "    .dataframe thead th {\n",
       "        text-align: right;\n",
       "    }\n",
       "</style>\n",
       "<table border=\"1\" class=\"dataframe\">\n",
       "  <thead>\n",
       "    <tr style=\"text-align: right;\">\n",
       "      <th></th>\n",
       "      <th>user_id</th>\n",
       "      <th>month</th>\n",
       "      <th>total_calls</th>\n",
       "      <th>total_mins</th>\n",
       "      <th>total_msg</th>\n",
       "      <th>total_mb</th>\n",
       "      <th>plan</th>\n",
       "      <th>messages_included</th>\n",
       "      <th>mb_per_month_included</th>\n",
       "      <th>minutes_included</th>\n",
       "      <th>usd_monthly_pay</th>\n",
       "      <th>usd_per_gb</th>\n",
       "      <th>usd_per_message</th>\n",
       "      <th>usd_per_minute</th>\n",
       "      <th>extra_min</th>\n",
       "      <th>extra_msg</th>\n",
       "      <th>extra_internet</th>\n",
       "      <th>costo_final</th>\n",
       "    </tr>\n",
       "  </thead>\n",
       "  <tbody>\n",
       "    <tr>\n",
       "      <th>1809</th>\n",
       "      <td>1000</td>\n",
       "      <td>12.0</td>\n",
       "      <td>16.0</td>\n",
       "      <td>117.0</td>\n",
       "      <td>11.0</td>\n",
       "      <td>2</td>\n",
       "      <td>ultimate</td>\n",
       "      <td>1000</td>\n",
       "      <td>30720</td>\n",
       "      <td>3000</td>\n",
       "      <td>70.0</td>\n",
       "      <td>7.0</td>\n",
       "      <td>0.01</td>\n",
       "      <td>0.01</td>\n",
       "      <td>0.0</td>\n",
       "      <td>0.00</td>\n",
       "      <td>0.0</td>\n",
       "      <td>70.00</td>\n",
       "    </tr>\n",
       "    <tr>\n",
       "      <th>553</th>\n",
       "      <td>1001</td>\n",
       "      <td>8.0</td>\n",
       "      <td>27.0</td>\n",
       "      <td>172.0</td>\n",
       "      <td>30.0</td>\n",
       "      <td>7</td>\n",
       "      <td>surf</td>\n",
       "      <td>50</td>\n",
       "      <td>15360</td>\n",
       "      <td>500</td>\n",
       "      <td>20.0</td>\n",
       "      <td>10.0</td>\n",
       "      <td>0.03</td>\n",
       "      <td>0.03</td>\n",
       "      <td>0.0</td>\n",
       "      <td>0.00</td>\n",
       "      <td>0.0</td>\n",
       "      <td>20.00</td>\n",
       "    </tr>\n",
       "    <tr>\n",
       "      <th>1062</th>\n",
       "      <td>1001</td>\n",
       "      <td>10.0</td>\n",
       "      <td>65.0</td>\n",
       "      <td>375.0</td>\n",
       "      <td>53.0</td>\n",
       "      <td>22</td>\n",
       "      <td>surf</td>\n",
       "      <td>50</td>\n",
       "      <td>15360</td>\n",
       "      <td>500</td>\n",
       "      <td>20.0</td>\n",
       "      <td>10.0</td>\n",
       "      <td>0.03</td>\n",
       "      <td>0.03</td>\n",
       "      <td>0.0</td>\n",
       "      <td>0.09</td>\n",
       "      <td>70.0</td>\n",
       "      <td>90.09</td>\n",
       "    </tr>\n",
       "    <tr>\n",
       "      <th>1401</th>\n",
       "      <td>1001</td>\n",
       "      <td>11.0</td>\n",
       "      <td>64.0</td>\n",
       "      <td>405.0</td>\n",
       "      <td>36.0</td>\n",
       "      <td>19</td>\n",
       "      <td>surf</td>\n",
       "      <td>50</td>\n",
       "      <td>15360</td>\n",
       "      <td>500</td>\n",
       "      <td>20.0</td>\n",
       "      <td>10.0</td>\n",
       "      <td>0.03</td>\n",
       "      <td>0.03</td>\n",
       "      <td>0.0</td>\n",
       "      <td>0.00</td>\n",
       "      <td>40.0</td>\n",
       "      <td>60.00</td>\n",
       "    </tr>\n",
       "    <tr>\n",
       "      <th>783</th>\n",
       "      <td>1001</td>\n",
       "      <td>9.0</td>\n",
       "      <td>49.0</td>\n",
       "      <td>298.0</td>\n",
       "      <td>44.0</td>\n",
       "      <td>14</td>\n",
       "      <td>surf</td>\n",
       "      <td>50</td>\n",
       "      <td>15360</td>\n",
       "      <td>500</td>\n",
       "      <td>20.0</td>\n",
       "      <td>10.0</td>\n",
       "      <td>0.03</td>\n",
       "      <td>0.03</td>\n",
       "      <td>0.0</td>\n",
       "      <td>0.00</td>\n",
       "      <td>0.0</td>\n",
       "      <td>20.00</td>\n",
       "    </tr>\n",
       "    <tr>\n",
       "      <th>...</th>\n",
       "      <td>...</td>\n",
       "      <td>...</td>\n",
       "      <td>...</td>\n",
       "      <td>...</td>\n",
       "      <td>...</td>\n",
       "      <td>...</td>\n",
       "      <td>...</td>\n",
       "      <td>...</td>\n",
       "      <td>...</td>\n",
       "      <td>...</td>\n",
       "      <td>...</td>\n",
       "      <td>...</td>\n",
       "      <td>...</td>\n",
       "      <td>...</td>\n",
       "      <td>...</td>\n",
       "      <td>...</td>\n",
       "      <td>...</td>\n",
       "      <td>...</td>\n",
       "    </tr>\n",
       "    <tr>\n",
       "      <th>552</th>\n",
       "      <td>1498</td>\n",
       "      <td>7.0</td>\n",
       "      <td>43.0</td>\n",
       "      <td>305.0</td>\n",
       "      <td>0.0</td>\n",
       "      <td>25</td>\n",
       "      <td>surf</td>\n",
       "      <td>50</td>\n",
       "      <td>15360</td>\n",
       "      <td>500</td>\n",
       "      <td>20.0</td>\n",
       "      <td>10.0</td>\n",
       "      <td>0.03</td>\n",
       "      <td>0.03</td>\n",
       "      <td>0.0</td>\n",
       "      <td>0.00</td>\n",
       "      <td>100.0</td>\n",
       "      <td>120.00</td>\n",
       "    </tr>\n",
       "    <tr>\n",
       "      <th>1061</th>\n",
       "      <td>1499</td>\n",
       "      <td>9.0</td>\n",
       "      <td>41.0</td>\n",
       "      <td>331.0</td>\n",
       "      <td>0.0</td>\n",
       "      <td>13</td>\n",
       "      <td>surf</td>\n",
       "      <td>50</td>\n",
       "      <td>15360</td>\n",
       "      <td>500</td>\n",
       "      <td>20.0</td>\n",
       "      <td>10.0</td>\n",
       "      <td>0.03</td>\n",
       "      <td>0.03</td>\n",
       "      <td>0.0</td>\n",
       "      <td>0.00</td>\n",
       "      <td>0.0</td>\n",
       "      <td>20.00</td>\n",
       "    </tr>\n",
       "    <tr>\n",
       "      <th>1400</th>\n",
       "      <td>1499</td>\n",
       "      <td>10.0</td>\n",
       "      <td>53.0</td>\n",
       "      <td>364.0</td>\n",
       "      <td>0.0</td>\n",
       "      <td>20</td>\n",
       "      <td>surf</td>\n",
       "      <td>50</td>\n",
       "      <td>15360</td>\n",
       "      <td>500</td>\n",
       "      <td>20.0</td>\n",
       "      <td>10.0</td>\n",
       "      <td>0.03</td>\n",
       "      <td>0.03</td>\n",
       "      <td>0.0</td>\n",
       "      <td>0.00</td>\n",
       "      <td>50.0</td>\n",
       "      <td>70.00</td>\n",
       "    </tr>\n",
       "    <tr>\n",
       "      <th>1808</th>\n",
       "      <td>1499</td>\n",
       "      <td>11.0</td>\n",
       "      <td>45.0</td>\n",
       "      <td>289.0</td>\n",
       "      <td>0.0</td>\n",
       "      <td>17</td>\n",
       "      <td>surf</td>\n",
       "      <td>50</td>\n",
       "      <td>15360</td>\n",
       "      <td>500</td>\n",
       "      <td>20.0</td>\n",
       "      <td>10.0</td>\n",
       "      <td>0.03</td>\n",
       "      <td>0.03</td>\n",
       "      <td>0.0</td>\n",
       "      <td>0.00</td>\n",
       "      <td>20.0</td>\n",
       "      <td>40.00</td>\n",
       "    </tr>\n",
       "    <tr>\n",
       "      <th>2276</th>\n",
       "      <td>1499</td>\n",
       "      <td>12.0</td>\n",
       "      <td>65.0</td>\n",
       "      <td>469.0</td>\n",
       "      <td>0.0</td>\n",
       "      <td>22</td>\n",
       "      <td>surf</td>\n",
       "      <td>50</td>\n",
       "      <td>15360</td>\n",
       "      <td>500</td>\n",
       "      <td>20.0</td>\n",
       "      <td>10.0</td>\n",
       "      <td>0.03</td>\n",
       "      <td>0.03</td>\n",
       "      <td>0.0</td>\n",
       "      <td>0.00</td>\n",
       "      <td>70.0</td>\n",
       "      <td>90.00</td>\n",
       "    </tr>\n",
       "  </tbody>\n",
       "</table>\n",
       "<p>2277 rows × 18 columns</p>\n",
       "</div>"
      ],
      "text/plain": [
       "      user_id  month  total_calls  total_mins  total_msg  total_mb      plan  \\\n",
       "1809     1000   12.0         16.0       117.0       11.0         2  ultimate   \n",
       "553      1001    8.0         27.0       172.0       30.0         7      surf   \n",
       "1062     1001   10.0         65.0       375.0       53.0        22      surf   \n",
       "1401     1001   11.0         64.0       405.0       36.0        19      surf   \n",
       "783      1001    9.0         49.0       298.0       44.0        14      surf   \n",
       "...       ...    ...          ...         ...        ...       ...       ...   \n",
       "552      1498    7.0         43.0       305.0        0.0        25      surf   \n",
       "1061     1499    9.0         41.0       331.0        0.0        13      surf   \n",
       "1400     1499   10.0         53.0       364.0        0.0        20      surf   \n",
       "1808     1499   11.0         45.0       289.0        0.0        17      surf   \n",
       "2276     1499   12.0         65.0       469.0        0.0        22      surf   \n",
       "\n",
       "      messages_included  mb_per_month_included  minutes_included  \\\n",
       "1809               1000                  30720              3000   \n",
       "553                  50                  15360               500   \n",
       "1062                 50                  15360               500   \n",
       "1401                 50                  15360               500   \n",
       "783                  50                  15360               500   \n",
       "...                 ...                    ...               ...   \n",
       "552                  50                  15360               500   \n",
       "1061                 50                  15360               500   \n",
       "1400                 50                  15360               500   \n",
       "1808                 50                  15360               500   \n",
       "2276                 50                  15360               500   \n",
       "\n",
       "      usd_monthly_pay  usd_per_gb  usd_per_message  usd_per_minute  extra_min  \\\n",
       "1809             70.0         7.0             0.01            0.01        0.0   \n",
       "553              20.0        10.0             0.03            0.03        0.0   \n",
       "1062             20.0        10.0             0.03            0.03        0.0   \n",
       "1401             20.0        10.0             0.03            0.03        0.0   \n",
       "783              20.0        10.0             0.03            0.03        0.0   \n",
       "...               ...         ...              ...             ...        ...   \n",
       "552              20.0        10.0             0.03            0.03        0.0   \n",
       "1061             20.0        10.0             0.03            0.03        0.0   \n",
       "1400             20.0        10.0             0.03            0.03        0.0   \n",
       "1808             20.0        10.0             0.03            0.03        0.0   \n",
       "2276             20.0        10.0             0.03            0.03        0.0   \n",
       "\n",
       "      extra_msg  extra_internet  costo_final  \n",
       "1809       0.00             0.0        70.00  \n",
       "553        0.00             0.0        20.00  \n",
       "1062       0.09            70.0        90.09  \n",
       "1401       0.00            40.0        60.00  \n",
       "783        0.00             0.0        20.00  \n",
       "...         ...             ...          ...  \n",
       "552        0.00           100.0       120.00  \n",
       "1061       0.00             0.0        20.00  \n",
       "1400       0.00            50.0        70.00  \n",
       "1808       0.00            20.0        40.00  \n",
       "2276       0.00            70.0        90.00  \n",
       "\n",
       "[2277 rows x 18 columns]"
      ]
     },
     "execution_count": 62,
     "metadata": {},
     "output_type": "execute_result"
    }
   ],
   "source": [
    "data.sort_values(by = \"user_id\")"
   ]
  },
  {
   "cell_type": "markdown",
   "metadata": {
    "id": "-jtyHzJb0q1I"
   },
   "source": [
    "## Estudia el comportamiento de usuario"
   ]
  },
  {
   "cell_type": "markdown",
   "metadata": {
    "id": "AxU3Y0N70q1J"
   },
   "source": [
    "[Calcula algunas estadísticas descriptivas para los datos agregados y fusionados que nos sean útiles y que muestren un panorama general captado por los datos. Dibuja gráficos útiles para facilitar la comprensión. Dado que la tarea principal es comparar las tarifas y decidir cuál es más rentable, las estadísticas y gráficas deben calcularse por tarifa.]\n",
    "\n",
    "[En los comentarios hallarás pistas relevantes para las llamadas, pero no las hay para los mensajes e Internet. Sin embargo, el principio del estudio estadístico que se aplica para ellos es el mismo que para las llamadas.]"
   ]
  },
  {
   "cell_type": "markdown",
   "metadata": {
    "id": "vtW4CJEe0q1J"
   },
   "source": [
    "### Llamadas"
   ]
  },
  {
   "cell_type": "code",
   "execution_count": 43,
   "metadata": {
    "id": "Jf5v5--k0q1J"
   },
   "outputs": [
    {
     "data": {
      "text/plain": [
       "<AxesSubplot:title={'center':'Duración promedio de llamadas'}, xlabel='Mes', ylabel='Duración'>"
      ]
     },
     "execution_count": 43,
     "metadata": {},
     "output_type": "execute_result"
    },
    {
     "data": {
      "image/png": "[encoded data removed]",
      "text/plain": [
       "<Figure size 640x480 with 1 Axes>"
      ]
     },
     "metadata": {},
     "output_type": "display_data"
    }
   ],
   "source": [
    "# Compara la duración promedio de llamadas por cada plan y por cada mes. Traza un gráfico de barras para visualizarla.\n",
    "\n",
    "prom = data.groupby(['month','plan'])['total_mins'].mean().unstack() #unstack separa los renglones en columnas\n",
    "prom.plot(kind='bar', title='Duración promedio de llamadas', xlabel='Mes', ylabel='Duración')"
   ]
  },
  {
   "cell_type": "code",
   "execution_count": 44,
   "metadata": {
    "id": "QoLqW1S_0q1J"
   },
   "outputs": [
    {
     "data": {
      "text/plain": [
       "<matplotlib.legend.Legend at 0x7f9a034d2d90>"
      ]
     },
     "execution_count": 44,
     "metadata": {},
     "output_type": "execute_result"
    },
    {
     "data": {
      "image/png": "[encoded data removed]",
      "text/plain": [
       "<Figure size 640x480 with 1 Axes>"
      ]
     },
     "metadata": {},
     "output_type": "display_data"
    }
   ],
   "source": [
    "# Compara el número de minutos mensuales que necesitan los usuarios de cada plan. Traza un histograma.\n",
    "\n",
    "data[data['plan'] == 'surf']['total_mins'].plot(kind='hist', bins=20, alpha=0.6, title='Minutos mensuales por plan')\n",
    "data[data['plan'] == 'ultimate']['total_mins'].plot(kind='hist',bins=20, alpha=0.7)\n",
    "plt.legend(['Plan Surf', 'Plan Ultimate'])\n",
    "#minutos_mensuales"
   ]
  },
  {
   "cell_type": "markdown",
   "metadata": {
    "id": "bLS9T8OH0q1K"
   },
   "source": [
    "[Calcula la media y la variable de la duración de las llamadas para averiguar si los usuarios de los distintos planes se comportan de forma diferente al realizar sus llamadas.]"
   ]
  },
  {
   "cell_type": "code",
   "execution_count": 45,
   "metadata": {
    "id": "oSndbAnt0q1K"
   },
   "outputs": [
    {
     "name": "stdout",
     "output_type": "stream",
     "text": [
      "La media de la duración mensual de llamadas es: \n",
      " month\n",
      "0.0       0.000000\n",
      "1.0     186.833333\n",
      "2.0     346.333333\n",
      "3.0     302.771429\n",
      "4.0     332.342857\n",
      "5.0     388.184466\n",
      "6.0     399.028777\n",
      "7.0     420.157303\n",
      "8.0     398.409692\n",
      "9.0     402.481884\n",
      "10.0    420.592814\n",
      "11.0    414.059850\n",
      "12.0    451.773420\n",
      "Name: total_mins, dtype: float64\n",
      "\n",
      "La varianza de la duración mensual de llamadas es: \n",
      " month\n",
      "0.0         0.000000\n",
      "1.0     12004.166667\n",
      "2.0     50999.809524\n",
      "3.0     38309.416807\n",
      "4.0     40246.257557\n",
      "5.0     47383.171521\n",
      "6.0     37194.767282\n",
      "7.0     57219.195455\n",
      "8.0     46059.977428\n",
      "9.0     43310.563307\n",
      "10.0    44976.776645\n",
      "11.0    46321.136409\n",
      "12.0    53807.616672\n",
      "Name: total_mins, dtype: float64\n"
     ]
    }
   ],
   "source": [
    "# Calcula la media y la varianza de la duración mensual de llamadas.\n",
    "\n",
    "media = data.groupby('month')['total_mins'].mean()\n",
    "varianza= data.groupby('month')['total_mins'].var()\n",
    "print('La media de la duración mensual de llamadas es: \\n', media)\n",
    "print()\n",
    "print('La varianza de la duración mensual de llamadas es: \\n', varianza)"
   ]
  },
  {
   "cell_type": "code",
   "execution_count": 46,
   "metadata": {
    "id": "nZzoRUKc0q1K"
   },
   "outputs": [
    {
     "data": {
      "text/plain": [
       "<AxesSubplot:title={'center':'total_mins'}, xlabel='plan'>"
      ]
     },
     "execution_count": 46,
     "metadata": {},
     "output_type": "execute_result"
    },
    {
     "data": {
      "image/png": "[encoded data removed]",
      "text/plain": [
       "<Figure size 640x480 with 1 Axes>"
      ]
     },
     "metadata": {},
     "output_type": "display_data"
    }
   ],
   "source": [
    "# Traza un diagrama de caja para visualizar la distribución de la duración mensual de llamadas\n",
    "\n",
    "data.boxplot(column='total_mins', by='plan')"
   ]
  },
  {
   "cell_type": "markdown",
   "metadata": {
    "id": "r627zBO50q1K"
   },
   "source": [
    "En cuanto a la duración promedio, podemos observar que ambos planes se encuentran bastante parejos, sin embargo, el plan surf sobrepasa la duración, por encima del plan ultimate, lo que nos muestra que aunque se encuentran en general bastante parejas, aún así la duración del plan surf es más alta que el plan ultimate.\n",
    "\n",
    "En cuanto a los minutos mensuales por plan, podemos observar que aunque hay sesgo en ambos planes, se visualiza que los usuarios del plan surf ocupan más minutos mensuales, por encima del plan ultimate, y esta diferencia se puede ver que es bastante considerable.\n",
    "\n",
    "La distribución de la duración mensual de llamadas, se puede ver que es bastante pareja, aunque hay bastante sesgo, según visualizamos en el diagrama de caja, aún así el plan surf cuenta con ligeramente con mayor duración en las llamadas que realiza el usuario.\n",
    "\n",
    "Lo que podemos ver en general, en cuanto a las llamadas, es que los ususarios del plan surf realizan más llamadas y con mayor duración que los usuarios del plan ultimate, en este caso es más rentable el plan surf, para el tema de las llamadas."
   ]
  },
  {
   "cell_type": "markdown",
   "metadata": {
    "id": "8idKy8Wh0q1L"
   },
   "source": [
    "### Mensajes"
   ]
  },
  {
   "cell_type": "code",
   "execution_count": 47,
   "metadata": {
    "id": "NXLxiTit0q1L"
   },
   "outputs": [
    {
     "data": {
      "text/plain": [
       "<AxesSubplot:xlabel='month'>"
      ]
     },
     "execution_count": 47,
     "metadata": {},
     "output_type": "execute_result"
    },
    {
     "data": {
      "image/png": "[encoded data removed]",
      "text/plain": [
       "<Figure size 640x480 with 1 Axes>"
      ]
     },
     "metadata": {},
     "output_type": "display_data"
    }
   ],
   "source": [
    "# Comprara el número de mensajes promedio que tienden a enviar cada mes los usuarios de cada plan\n",
    "\n",
    "prom_msg = data.groupby(['month','plan'])['total_msg'].mean().unstack() #unstack separa los renglones en columnas\n",
    "prom_msg.plot(kind='bar')"
   ]
  },
  {
   "cell_type": "code",
   "execution_count": 48,
   "metadata": {
    "id": "GRI_R7xF0q1L"
   },
   "outputs": [
    {
     "data": {
      "text/plain": [
       "<matplotlib.legend.Legend at 0x7f9a0373a490>"
      ]
     },
     "execution_count": 48,
     "metadata": {},
     "output_type": "execute_result"
    },
    {
     "data": {
      "image/png": "[encoded data removed]",
      "text/plain": [
       "<Figure size 640x480 with 1 Axes>"
      ]
     },
     "metadata": {},
     "output_type": "display_data"
    }
   ],
   "source": [
    "#Comparación de la cantidad de mensajes enviados por usuario por plan\n",
    "\n",
    "data[data['plan'] == 'surf']['total_msg'].plot(kind='hist', bins=10, alpha=0.6, title='Mensajes mensuales por plan')\n",
    "data[data['plan'] == 'ultimate']['total_msg'].plot(kind='hist',bins=10, alpha=0.7)\n",
    "plt.legend(['Plan Surf', 'Plan Ultimate'])"
   ]
  },
  {
   "cell_type": "code",
   "execution_count": 49,
   "metadata": {
    "id": "dtFwCGAp0q1M"
   },
   "outputs": [
    {
     "name": "stdout",
     "output_type": "stream",
     "text": [
      "La media de los mensajes enviados es: \n",
      " month\n",
      "0.0      0.000000\n",
      "1.0     13.833333\n",
      "2.0     16.466667\n",
      "3.0     16.971429\n",
      "4.0     18.957143\n",
      "5.0     26.300971\n",
      "6.0     26.374101\n",
      "7.0     28.275281\n",
      "8.0     31.590308\n",
      "9.0     32.358696\n",
      "10.0    34.988024\n",
      "11.0    33.915212\n",
      "12.0    40.193900\n",
      "Name: total_msg, dtype: float64\n",
      "\n",
      "La varianza de los mensajes enviados es: month\n",
      "0.0        0.000000\n",
      "1.0      238.966667\n",
      "2.0      449.980952\n",
      "3.0      441.734454\n",
      "4.0      516.157557\n",
      "5.0      988.447744\n",
      "6.0      831.105411\n",
      "7.0      869.454866\n",
      "8.0     1062.632295\n",
      "9.0      995.336324\n",
      "10.0    1235.759616\n",
      "11.0    1096.167793\n",
      "12.0    1481.147910\n",
      "Name: total_msg, dtype: float64\n"
     ]
    }
   ],
   "source": [
    "#Cálculo de la media y la varianza de los mensajes enviados por mes\n",
    "\n",
    "media_msg = data.groupby('month')['total_msg'].mean()\n",
    "varianza_msg= data.groupby('month')['total_msg'].var()\n",
    "print('La media de los mensajes enviados es: \\n', media_msg)\n",
    "print()\n",
    "print('La varianza de los mensajes enviados es:', varianza_msg)"
   ]
  },
  {
   "cell_type": "code",
   "execution_count": 50,
   "metadata": {},
   "outputs": [
    {
     "data": {
      "text/plain": [
       "<AxesSubplot:title={'center':'total_msg'}, xlabel='plan'>"
      ]
     },
     "execution_count": 50,
     "metadata": {},
     "output_type": "execute_result"
    },
    {
     "data": {
      "image/png": "[encoded data removed]",
      "text/plain": [
       "<Figure size 640x480 with 1 Axes>"
      ]
     },
     "metadata": {},
     "output_type": "display_data"
    }
   ],
   "source": [
    "#Diagrama de caja para visualizar la distribución de los mensajes enviados\n",
    "\n",
    "data.boxplot(column='total_msg', by='plan')"
   ]
  },
  {
   "cell_type": "markdown",
   "metadata": {
    "id": "390SSL480q1M"
   },
   "source": [
    "En cuanto a los mensajes, se puede observar en el diagrama de barras, que es mayor promedio que se envían en el plan ultimate, por encima del plan surf en todos los meses, sin embargo en el histograma, nos muestra que los usuarios del plan surf son los que mas cantidad de mensajes envías, aunque se puede observar que hay algo se sesgo, un punto que se puede observar en el diagrama de caja, el cual nos muestra que hay un mayor sesgo en el plan surf y este es bastante considerable, que en el plan ultimate, en donde también se encuentra sesgo, pero en menor cantidad, y en ambos casos podemos observar que hay una asimetría de distribución considerable, ya que hay bastantes datos en entre el Q3 y el valor máximo. Sin embargo, esto hace más sentido con el diagrama de barras, lo que nos muestra que en el caso de los mensajes, los usuarios del plan ultimate suelen utilizarlos en mayor medida que los usuarios del plan surf."
   ]
  },
  {
   "cell_type": "markdown",
   "metadata": {
    "id": "42YSypXz0q1M"
   },
   "source": [
    "### Internet"
   ]
  },
  {
   "cell_type": "code",
   "execution_count": 51,
   "metadata": {
    "id": "lSuKPtjh0q1M"
   },
   "outputs": [
    {
     "data": {
      "text/plain": [
       "<AxesSubplot:xlabel='month'>"
      ]
     },
     "execution_count": 51,
     "metadata": {},
     "output_type": "execute_result"
    },
    {
     "data": {
      "image/png": "[encoded data removed]",
      "text/plain": [
       "<Figure size 640x480 with 1 Axes>"
      ]
     },
     "metadata": {},
     "output_type": "display_data"
    }
   ],
   "source": [
    "#Comparación de el número mb consumidos por los usuarios cada mes de cada plan\n",
    "\n",
    "prom_internet = data.groupby(['month','plan'])['total_mb'].mean().unstack() #unstack separa los renglones en columnas\n",
    "prom_internet.plot(kind='bar')"
   ]
  },
  {
   "cell_type": "code",
   "execution_count": 52,
   "metadata": {
    "id": "wnh8jYXi0q1N"
   },
   "outputs": [
    {
     "data": {
      "text/plain": [
       "<matplotlib.legend.Legend at 0x7f9a031f43a0>"
      ]
     },
     "execution_count": 52,
     "metadata": {},
     "output_type": "execute_result"
    },
    {
     "data": {
      "image/png": "[encoded data removed]",
      "text/plain": [
       "<Figure size 640x480 with 1 Axes>"
      ]
     },
     "metadata": {},
     "output_type": "display_data"
    }
   ],
   "source": [
    "#Comparación de la cantidad de mb consumidos por usuario por plan\n",
    "\n",
    "data[data['plan'] == 'surf']['total_mb'].plot(kind='hist', bins=10, alpha=0.6, title='Mb consumidos por plan')\n",
    "data[data['plan'] == 'ultimate']['total_mb'].plot(kind='hist',bins=10, alpha=0.7)\n",
    "plt.legend(['Plan Surf', 'Plan Ultimate'])"
   ]
  },
  {
   "cell_type": "code",
   "execution_count": 53,
   "metadata": {
    "id": "5VlyJ9ry0q1N"
   },
   "outputs": [
    {
     "name": "stdout",
     "output_type": "stream",
     "text": [
      "La media de Mb consumidos por mes es: \n",
      " month\n",
      "0.0     18.264706\n",
      "1.0      6.500000\n",
      "2.0     14.533333\n",
      "3.0     15.228571\n",
      "4.0     13.628571\n",
      "5.0     15.213592\n",
      "6.0     15.877698\n",
      "7.0     16.842697\n",
      "8.0     17.458150\n",
      "9.0     16.750000\n",
      "10.0    17.670659\n",
      "11.0    16.685786\n",
      "12.0    18.230937\n",
      "Name: total_mb, dtype: float64\n",
      "\n",
      "La varianza de Mb consumidos por mes es:\n",
      " month\n",
      "0.0     197.533868\n",
      "1.0      13.900000\n",
      "2.0      46.980952\n",
      "3.0      91.710924\n",
      "4.0      65.773085\n",
      "5.0      55.267657\n",
      "6.0      50.093629\n",
      "7.0      61.172856\n",
      "8.0      64.328993\n",
      "9.0      46.428182\n",
      "10.0     55.122440\n",
      "11.0     51.071022\n",
      "12.0     59.348298\n",
      "Name: total_mb, dtype: float64\n"
     ]
    }
   ],
   "source": [
    "#Cálculo de la media y la varianza de los mb consumidos por mes\n",
    "\n",
    "media_mb = data.groupby('month')['total_mb'].mean()\n",
    "varianza_mb= data.groupby('month')['total_mb'].var()\n",
    "print('La media de Mb consumidos por mes es: \\n', media_mb)\n",
    "print()\n",
    "print('La varianza de Mb consumidos por mes es:\\n', varianza_mb)"
   ]
  },
  {
   "cell_type": "code",
   "execution_count": 54,
   "metadata": {},
   "outputs": [
    {
     "data": {
      "text/plain": [
       "<AxesSubplot:title={'center':'total_mb'}, xlabel='plan'>"
      ]
     },
     "execution_count": 54,
     "metadata": {},
     "output_type": "execute_result"
    },
    {
     "data": {
      "image/png": "[encoded data removed]",
      "text/plain": [
       "<Figure size 640x480 with 1 Axes>"
      ]
     },
     "metadata": {},
     "output_type": "display_data"
    }
   ],
   "source": [
    "#Diagrama de caja para visualizar la distribución de los Mb consumidos\n",
    "\n",
    "data.boxplot(column='total_mb', by='plan')"
   ]
  },
  {
   "cell_type": "markdown",
   "metadata": {
    "id": "UN9zwuMP0q1N"
   },
   "source": [
    "Aunque se puede visualizar que hay valores atípicos en la distribución, podemos observar que los usuarios del plan surf consumen más internet por encima de los usuarios del plan ultimate, podemos observar que la media de mb consumidos en ambos planes ronda los 18,000 mb aproximadamente, ocupando entre un rango aproximado entre los 12,000 a 21,000 mb que la mayoría de los usuarios consumen."
   ]
  },
  {
   "cell_type": "markdown",
   "metadata": {
    "id": "tCijq3260q1N"
   },
   "source": [
    "## Ingreso"
   ]
  },
  {
   "cell_type": "markdown",
   "metadata": {
    "id": "9nq5IAcy0q1O"
   },
   "source": [
    "[Del mismo modo que has estudiado el comportamiento de los usuarios, describe estadísticamente los ingresos de los planes.]"
   ]
  },
  {
   "cell_type": "code",
   "execution_count": 55,
   "metadata": {
    "id": "tz-dq_V00q1O"
   },
   "outputs": [
    {
     "data": {
      "text/plain": [
       "<AxesSubplot:title={'center':'Ingresos mensuales por plan'}, xlabel='month'>"
      ]
     },
     "execution_count": 55,
     "metadata": {},
     "output_type": "execute_result"
    },
    {
     "data": {
      "image/png": "[encoded data removed]",
      "text/plain": [
       "<Figure size 640x480 with 1 Axes>"
      ]
     },
     "metadata": {},
     "output_type": "display_data"
    }
   ],
   "source": [
    "#Ingresos de cada plan, por mes\n",
    "\n",
    "media_ingreso= data.groupby(['month','plan'])['costo_final'].sum().unstack()\n",
    "media_ingreso.plot(kind='bar', title='Ingresos mensuales por plan')\n",
    "#media_ingreso"
   ]
  },
  {
   "cell_type": "code",
   "execution_count": 56,
   "metadata": {},
   "outputs": [
    {
     "name": "stdout",
     "output_type": "stream",
     "text": [
      "La media de los ingresos por plan es: \n",
      " plan\n",
      "surf        21.673569\n",
      "ultimate    70.000000\n",
      "Name: costo_final, dtype: float64\n",
      "\n",
      "La varianza de los ingresos por plan es:\n",
      " plan\n",
      "surf        33767.42\n",
      "ultimate    50330.00\n",
      "Name: costo_final, dtype: float64\n"
     ]
    }
   ],
   "source": [
    "#Cálculo de la media y la varianza de los mb consumidos por mes\n",
    "\n",
    "media_ingresos = data.groupby(\"plan\")['costo_final'].mean()\n",
    "varianza_ingresos = data.groupby('plan')['costo_final'].sum()\n",
    "print('La media de los ingresos por plan es: \\n', media_ingresos)\n",
    "print()\n",
    "print('La varianza de los ingresos por plan es:\\n', varianza_ingresos)"
   ]
  },
  {
   "cell_type": "code",
   "execution_count": 57,
   "metadata": {
    "id": "0Y1v8ZUz0q1P"
   },
   "outputs": [
    {
     "data": {
      "text/plain": [
       "<matplotlib.legend.Legend at 0x7f9a0302f1f0>"
      ]
     },
     "execution_count": 57,
     "metadata": {},
     "output_type": "execute_result"
    },
    {
     "data": {
      "image/png": "[encoded data removed]",
      "text/plain": [
       "<Figure size 640x480 with 1 Axes>"
      ]
     },
     "metadata": {},
     "output_type": "display_data"
    }
   ],
   "source": [
    "#Cantidad de planes por mes\n",
    "\n",
    "data[data['plan'] == 'surf']['costo_final'].plot(kind='hist', bins=10, alpha=0.6, title='Cantidad de planes por mes')\n",
    "data[data['plan'] == 'ultimate']['costo_final'].plot(kind='hist',bins=10, alpha=0.7)\n",
    "plt.legend(['Plan Surf', 'Plan Ultimate'])"
   ]
  },
  {
   "cell_type": "code",
   "execution_count": 58,
   "metadata": {
    "id": "bYmwxyVh0q1P"
   },
   "outputs": [
    {
     "data": {
      "text/plain": [
       "<AxesSubplot:title={'center':'costo_final'}, xlabel='plan'>"
      ]
     },
     "execution_count": 58,
     "metadata": {},
     "output_type": "execute_result"
    },
    {
     "data": {
      "image/png": "[encoded data removed]",
      "text/plain": [
       "<Figure size 640x480 with 1 Axes>"
      ]
     },
     "metadata": {},
     "output_type": "display_data"
    }
   ],
   "source": [
    "data.boxplot(column='costo_final', by='plan')"
   ]
  },
  {
   "cell_type": "markdown",
   "metadata": {
    "id": "KAFidcXZ0q1P"
   },
   "source": [
    "Se observa una cantidad de valores atípicos, sin embargo, se puede observar que una cantidad bastante considerable de los ingresos se dan por parte del plan surf, muy por encima del plan ultimate, podemos observar que es más contratado y en dicho plan también observamos que se utilizan bastante los servicios que este contiene. Se podría intuir que los usuarios prefieren y contratan más el plan surf."
   ]
  },
  {
   "cell_type": "markdown",
   "metadata": {
    "id": "ajJ7VKeI0q1Q"
   },
   "source": [
    "## Prueba las hipótesis estadísticas"
   ]
  },
  {
   "cell_type": "markdown",
   "metadata": {
    "id": "AdXAZ-yL0q1Q"
   },
   "source": [
    "[Prueba la hipótesis de que son diferentes los ingresos promedio procedentes de los usuarios de los planes de llamada Ultimate y Surf.]"
   ]
  },
  {
   "cell_type": "markdown",
   "metadata": {
    "id": "IQwa_hsh0q1Q"
   },
   "source": [
    "[Elabora las hipótesis nula y alternativa, escoge la prueba estadística, determina el valor alfa.]"
   ]
  },
  {
   "cell_type": "code",
   "execution_count": 59,
   "metadata": {
    "id": "nFoPNlPq0q1R"
   },
   "outputs": [
    {
     "name": "stdout",
     "output_type": "stream",
     "text": [
      "valor-p: 0.0\n",
      "Se rechaza la hipótesis nula\n"
     ]
    },
    {
     "name": "stderr",
     "output_type": "stream",
     "text": [
      "/tmp/ipykernel_186/1521276794.py:11: RuntimeWarning: Precision loss occurred in moment calculation due to catastrophic cancellation. This occurs when the data are nearly identical. Results may be unreliable.\n",
      "  resultado_ingresos = st.ttest_ind(plan_surf,plan_ultimate)\n"
     ]
    }
   ],
   "source": [
    "# Prueba las hipótesis\n",
    "\n",
    "plan_surf = data.query(\"plan == 'surf'\")['costo_final']\n",
    "plan_ultimate = data.query(\"plan == 'ultimate'\")['costo_final']\n",
    "\n",
    "#print('La media del plan Surf es: ', plan_surf)\n",
    "#print('La media del plan Ultimate es: ', plan_ultimate)\n",
    "\n",
    "alpha=0.05\n",
    "\n",
    "resultado_ingresos = st.ttest_ind(plan_surf,plan_ultimate)\n",
    "print('valor-p:', resultado_ingresos.pvalue)\n",
    "\n",
    "if resultado_ingresos.pvalue < alpha:\n",
    "    print(\"Se rechaza la hipótesis nula\")\n",
    "else:\n",
    "    print(\"No se puede rechazar la hipótesis nula\")"
   ]
  },
  {
   "cell_type": "markdown",
   "metadata": {
    "id": "tCcAruM60q1R"
   },
   "source": [
    "[Prueba la hipótesis de que el ingreso promedio de los usuarios del área NY-NJ es diferente al de los usuarios de otras regiones.]"
   ]
  },
  {
   "cell_type": "markdown",
   "metadata": {
    "id": "LsBgitqj0q1R"
   },
   "source": [
    "[Elabora las hipótesis nula y alternativa, escoge la prueba estadística, determina el valor alfa.]"
   ]
  },
  {
   "cell_type": "code",
   "execution_count": 60,
   "metadata": {
    "id": "Cqcj7wrZ0q1S"
   },
   "outputs": [
    {
     "name": "stdout",
     "output_type": "stream",
     "text": [
      "valor-p: 6.186426027962109e-12\n",
      "Se rechaza la hipótesis nula\n"
     ]
    }
   ],
   "source": [
    "# Prueba las hipótesis\n",
    "\n",
    "merge_info = data.merge(df_users, on='user_id')\n",
    "merge_info = merge_info.drop('first_name', axis ='columns')\n",
    "merge_info = merge_info.drop('last_name', axis ='columns')\n",
    "merge_info = merge_info.drop('age', axis ='columns')\n",
    "merge_info = merge_info.drop('reg_month', axis ='columns')\n",
    "merge_info = merge_info.drop('reg_day', axis ='columns')\n",
    "\n",
    "contain_city = merge_info[merge_info['city'].str.contains('NY-NJ')]\n",
    "not_contain_city = merge_info.query('city not in @contain_city.city')\n",
    "\n",
    "contain_city = contain_city['costo_final']\n",
    "not_contain_city = not_contain_city['costo_final']\n",
    "\n",
    "#print('La media de ingresos en NY-NJ: ', contain_city)\n",
    "#print('La media de ingresos de otras regiones: ', not_contain_city)\n",
    "\n",
    "alpha=0.05\n",
    "\n",
    "resultado_ingresos = st.ttest_ind(contain_city,not_contain_city)\n",
    "print('valor-p:', resultado_ingresos.pvalue)\n",
    "\n",
    "if resultado_ingresos.pvalue < alpha:\n",
    "    print(\"Se rechaza la hipótesis nula\")\n",
    "else:\n",
    "    print(\"No se puede rechazar la hipótesis nula\")"
   ]
  },
  {
   "cell_type": "markdown",
   "metadata": {
    "id": "bbTR8UQO0q1T"
   },
   "source": [
    "## Conclusión general"
   ]
  },
  {
   "cell_type": "markdown",
   "metadata": {},
   "source": [
    "Podemos observar que el comportamiento de los usuarios difiere del plan surf al plan ultimate, observando que la mayoría de los usuarios contratan en mayor cantidad el plan surf, se intuye que esto puede deberse a que el plan surf es más económico y aunque en menor cantidad, tiene los mismos servicios que el plan ultimate, probablemente el usuario prefiera contratar el plan económico y gestionar los servicios, que un plan más costoso, con los mismos servicios, pero que también probablemente no los consuma al 100%, por lo que pudiera percibir un desperdicio no necesario. Conforme al gasto de los servicios, nos pudimos dar cuenta que ambos planes se consumen en buena cantidad tanto llamadas, mensajes, internet.\n",
    "\n",
    "Podemos concluir diciendo que conforme a los ingresos que generan cada uno de los planes, y uso, es más rentable el plan surf."
   ]
  }
 ],
 "metadata": {
  "ExecuteTimeLog": [
   {
    "duration": 828,
    "start_time": "2021-11-16T09:21:11.304Z"
   },
   {
    "duration": 893,
    "start_time": "2021-11-16T09:21:17.728Z"
   },
   {
    "duration": 1150,
    "start_time": "2021-11-16T09:21:29.568Z"
   },
   {
    "duration": 3,
    "start_time": "2021-11-16T09:24:14.495Z"
   },
   {
    "duration": 120,
    "start_time": "2021-11-16T09:24:46.630Z"
   },
   {
    "duration": 3,
    "start_time": "2021-11-16T09:28:27.882Z"
   },
   {
    "duration": 4,
    "start_time": "2021-11-16T09:29:54.281Z"
   },
   {
    "duration": 3,
    "start_time": "2021-11-16T09:30:45.936Z"
   },
   {
    "duration": 4,
    "start_time": "2021-11-16T09:31:06.300Z"
   },
   {
    "duration": 113,
    "start_time": "2021-11-16T09:31:37.208Z"
   },
   {
    "duration": 143,
    "start_time": "2021-11-16T09:31:48.656Z"
   },
   {
    "duration": 98,
    "start_time": "2021-11-16T09:31:55.678Z"
   },
   {
    "duration": 3,
    "start_time": "2021-11-16T09:32:08.535Z"
   },
   {
    "duration": 111,
    "start_time": "2021-11-16T09:32:10.120Z"
   },
   {
    "duration": 3,
    "start_time": "2021-11-16T09:32:15.732Z"
   },
   {
    "duration": 4,
    "start_time": "2021-11-16T09:32:29.423Z"
   },
   {
    "duration": 3,
    "start_time": "2021-11-16T10:03:03.074Z"
   },
   {
    "duration": 3,
    "start_time": "2021-11-16T10:10:01.288Z"
   },
   {
    "duration": 3,
    "start_time": "2021-11-16T10:10:46.923Z"
   },
   {
    "duration": 121,
    "start_time": "2021-11-16T10:37:46.494Z"
   },
   {
    "duration": 125,
    "start_time": "2021-11-16T10:38:20.632Z"
   },
   {
    "duration": 112,
    "start_time": "2021-11-16T10:46:53.001Z"
   },
   {
    "duration": 110,
    "start_time": "2021-11-16T10:48:25.775Z"
   },
   {
    "duration": 3,
    "start_time": "2021-11-16T10:50:18.720Z"
   },
   {
    "duration": 4,
    "start_time": "2021-11-16T10:50:37.649Z"
   },
   {
    "duration": 2,
    "start_time": "2021-11-16T10:50:51.884Z"
   },
   {
    "duration": 3,
    "start_time": "2021-11-16T10:51:56.237Z"
   },
   {
    "duration": 101,
    "start_time": "2021-11-16T10:53:13.791Z"
   },
   {
    "duration": 3,
    "start_time": "2021-11-16T10:55:59.186Z"
   },
   {
    "duration": 3,
    "start_time": "2021-11-16T10:56:10.751Z"
   },
   {
    "duration": 3,
    "start_time": "2021-11-16T10:56:49.038Z"
   },
   {
    "duration": 3,
    "start_time": "2021-11-16T10:56:49.174Z"
   },
   {
    "duration": 4,
    "start_time": "2021-11-16T10:56:49.414Z"
   },
   {
    "duration": 3,
    "start_time": "2021-11-16T10:56:49.680Z"
   },
   {
    "duration": 3,
    "start_time": "2021-11-16T10:56:50.370Z"
   },
   {
    "duration": 114,
    "start_time": "2021-11-16T10:59:34.518Z"
   },
   {
    "duration": 3,
    "start_time": "2021-11-16T11:01:41.201Z"
   },
   {
    "duration": 116,
    "start_time": "2021-11-16T11:01:48.754Z"
   },
   {
    "duration": 3,
    "start_time": "2021-11-16T11:02:16.685Z"
   },
   {
    "duration": 3,
    "start_time": "2021-11-16T11:02:19.479Z"
   },
   {
    "duration": 3,
    "start_time": "2021-11-16T11:02:47.067Z"
   },
   {
    "duration": 3,
    "start_time": "2021-11-16T11:02:49.353Z"
   },
   {
    "duration": 3,
    "start_time": "2021-11-16T11:03:07.835Z"
   },
   {
    "duration": 3,
    "start_time": "2021-11-16T11:03:07.953Z"
   },
   {
    "duration": 112,
    "start_time": "2021-11-16T11:07:52.072Z"
   },
   {
    "duration": 187,
    "start_time": "2021-11-16T11:09:23.468Z"
   },
   {
    "duration": 4,
    "start_time": "2021-11-16T11:10:01.455Z"
   },
   {
    "duration": 3,
    "start_time": "2021-11-16T11:10:05.069Z"
   },
   {
    "duration": 4,
    "start_time": "2021-11-16T11:10:13.376Z"
   },
   {
    "duration": 3,
    "start_time": "2021-11-16T11:10:14.434Z"
   },
   {
    "duration": 3,
    "start_time": "2021-11-16T11:10:22.853Z"
   },
   {
    "duration": 4,
    "start_time": "2021-11-16T11:27:29.279Z"
   },
   {
    "duration": 4,
    "start_time": "2021-11-16T11:29:08.919Z"
   },
   {
    "duration": 118,
    "start_time": "2021-11-16T11:29:46.703Z"
   },
   {
    "duration": 437,
    "start_time": "2021-11-16T11:36:02.181Z"
   },
   {
    "duration": 157,
    "start_time": "2021-11-16T11:36:14.388Z"
   },
   {
    "duration": 207,
    "start_time": "2021-11-16T11:47:15.898Z"
   },
   {
    "duration": 3,
    "start_time": "2021-11-16T11:53:52.092Z"
   },
   {
    "duration": 3,
    "start_time": "2021-11-16T11:53:52.236Z"
   },
   {
    "duration": 3,
    "start_time": "2021-11-16T11:59:12.005Z"
   },
   {
    "duration": 112,
    "start_time": "2021-11-16T12:00:33.446Z"
   },
   {
    "duration": 3,
    "start_time": "2021-11-16T12:02:14.453Z"
   },
   {
    "duration": 3,
    "start_time": "2021-11-16T12:02:39.512Z"
   },
   {
    "duration": 106,
    "start_time": "2021-11-16T12:03:03.460Z"
   },
   {
    "duration": 3,
    "start_time": "2021-11-17T20:37:21.139Z"
   },
   {
    "duration": 3,
    "start_time": "2021-11-17T20:37:22.229Z"
   },
   {
    "duration": 3,
    "start_time": "2021-11-17T20:38:38.806Z"
   },
   {
    "duration": 3,
    "start_time": "2021-11-17T20:38:41.958Z"
   },
   {
    "duration": 3,
    "start_time": "2021-11-17T20:43:46.551Z"
   },
   {
    "duration": 4,
    "start_time": "2021-11-17T20:58:21.835Z"
   },
   {
    "duration": 3,
    "start_time": "2021-11-17T20:59:21.872Z"
   },
   {
    "duration": 4,
    "start_time": "2021-11-17T20:59:45.352Z"
   },
   {
    "duration": 4,
    "start_time": "2021-11-17T20:59:49.646Z"
   },
   {
    "duration": 159,
    "start_time": "2021-11-17T21:02:26.949Z"
   },
   {
    "duration": 3,
    "start_time": "2021-11-17T21:03:53.461Z"
   },
   {
    "duration": 3,
    "start_time": "2021-11-17T21:03:53.694Z"
   },
   {
    "duration": 3,
    "start_time": "2021-11-17T21:05:28.145Z"
   },
   {
    "duration": 116,
    "start_time": "2021-11-17T21:05:57.787Z"
   },
   {
    "duration": 3,
    "start_time": "2021-11-17T21:06:37.993Z"
   },
   {
    "duration": 3,
    "start_time": "2021-11-17T21:06:38.261Z"
   },
   {
    "duration": 3,
    "start_time": "2021-11-17T21:11:54.358Z"
   },
   {
    "duration": 3,
    "start_time": "2021-11-17T21:12:43.846Z"
   },
   {
    "duration": 4,
    "start_time": "2021-11-17T21:13:08.773Z"
   },
   {
    "duration": 3,
    "start_time": "2021-11-17T21:14:44.441Z"
   },
   {
    "duration": 3,
    "start_time": "2021-11-17T21:15:42.059Z"
   },
   {
    "duration": 4,
    "start_time": "2021-11-17T21:15:51.995Z"
   },
   {
    "duration": 3,
    "start_time": "2021-11-17T21:15:53.923Z"
   },
   {
    "duration": 3,
    "start_time": "2021-11-17T21:15:55.282Z"
   },
   {
    "duration": 3,
    "start_time": "2021-11-17T21:16:28.492Z"
   },
   {
    "duration": 3,
    "start_time": "2021-11-17T21:16:32.603Z"
   },
   {
    "duration": 3,
    "start_time": "2021-11-17T21:17:06.941Z"
   },
   {
    "duration": 98,
    "start_time": "2021-11-17T21:18:05.733Z"
   },
   {
    "duration": 4,
    "start_time": "2021-11-17T21:21:35.255Z"
   },
   {
    "duration": 3,
    "start_time": "2021-11-17T21:21:37.804Z"
   },
   {
    "duration": 4,
    "start_time": "2021-11-17T21:23:06.071Z"
   },
   {
    "duration": 3,
    "start_time": "2021-11-17T21:23:24.799Z"
   },
   {
    "duration": 3,
    "start_time": "2021-11-17T21:23:32.591Z"
   },
   {
    "duration": 98,
    "start_time": "2021-11-17T21:28:31.559Z"
   },
   {
    "duration": 3,
    "start_time": "2021-11-17T21:28:45.448Z"
   },
   {
    "duration": 3,
    "start_time": "2021-11-17T21:29:17.303Z"
   },
   {
    "duration": 3,
    "start_time": "2021-11-17T21:29:29.617Z"
   },
   {
    "duration": 3,
    "start_time": "2021-11-17T21:29:32.681Z"
   },
   {
    "duration": 3,
    "start_time": "2021-11-17T21:36:11.474Z"
   },
   {
    "duration": 3,
    "start_time": "2021-11-17T21:36:14.791Z"
   },
   {
    "duration": 3,
    "start_time": "2021-11-17T21:36:53.943Z"
   },
   {
    "duration": 3,
    "start_time": "2021-11-17T21:36:56.165Z"
   },
   {
    "duration": 4,
    "start_time": "2021-11-17T21:37:16.590Z"
   },
   {
    "duration": 3,
    "start_time": "2021-11-17T21:37:22.702Z"
   },
   {
    "duration": 4,
    "start_time": "2021-11-17T21:38:03.479Z"
   },
   {
    "duration": 3,
    "start_time": "2021-11-17T21:38:08.601Z"
   },
   {
    "duration": 3,
    "start_time": "2021-11-17T21:38:12.928Z"
   },
   {
    "duration": 3,
    "start_time": "2021-11-17T21:38:48.896Z"
   },
   {
    "duration": 2,
    "start_time": "2021-11-17T21:38:49.171Z"
   },
   {
    "duration": 4,
    "start_time": "2021-11-17T21:39:57.889Z"
   },
   {
    "duration": 3,
    "start_time": "2021-11-17T21:39:58.057Z"
   },
   {
    "duration": 3,
    "start_time": "2021-11-17T21:41:20.108Z"
   },
   {
    "duration": 3,
    "start_time": "2021-11-17T21:41:20.629Z"
   },
   {
    "duration": 3,
    "start_time": "2021-11-17T21:42:49.136Z"
   },
   {
    "duration": 3,
    "start_time": "2021-11-17T21:43:15.137Z"
   },
   {
    "duration": 4,
    "start_time": "2021-11-17T21:43:16.766Z"
   },
   {
    "duration": 4,
    "start_time": "2021-11-17T21:43:31.711Z"
   },
   {
    "duration": 3,
    "start_time": "2021-11-17T21:43:36.312Z"
   },
   {
    "duration": 4,
    "start_time": "2021-11-17T21:45:08.825Z"
   },
   {
    "duration": 4,
    "start_time": "2021-11-17T21:45:10.119Z"
   },
   {
    "duration": 4,
    "start_time": "2021-11-17T21:45:13.748Z"
   },
   {
    "duration": 3,
    "start_time": "2021-11-17T21:45:22.219Z"
   },
   {
    "duration": 3,
    "start_time": "2021-11-17T21:45:33.412Z"
   },
   {
    "duration": 2,
    "start_time": "2021-11-17T21:46:01.885Z"
   },
   {
    "duration": 3,
    "start_time": "2021-11-17T21:46:03.628Z"
   },
   {
    "duration": 107,
    "start_time": "2021-11-17T21:47:32.512Z"
   },
   {
    "duration": 103,
    "start_time": "2021-11-17T21:50:36.243Z"
   },
   {
    "duration": 3,
    "start_time": "2021-11-18T06:28:31.440Z"
   },
   {
    "duration": 3,
    "start_time": "2021-11-18T06:29:00.168Z"
   },
   {
    "duration": 3,
    "start_time": "2021-11-18T06:31:27.008Z"
   },
   {
    "duration": 2,
    "start_time": "2021-11-18T06:35:34.288Z"
   },
   {
    "duration": 2,
    "start_time": "2021-11-18T06:38:04.527Z"
   },
   {
    "duration": 2422,
    "start_time": "2024-11-05T00:08:04.884Z"
   },
   {
    "duration": 155,
    "start_time": "2024-11-05T21:37:10.404Z"
   },
   {
    "duration": 2478,
    "start_time": "2024-11-05T21:37:27.222Z"
   },
   {
    "duration": 205,
    "start_time": "2024-11-05T21:37:32.785Z"
   },
   {
    "duration": 10,
    "start_time": "2024-11-05T21:37:40.520Z"
   },
   {
    "duration": 11,
    "start_time": "2024-11-05T21:40:00.178Z"
   },
   {
    "duration": 281,
    "start_time": "2024-11-05T21:40:07.037Z"
   },
   {
    "duration": 8,
    "start_time": "2024-11-05T21:40:24.685Z"
   },
   {
    "duration": 8,
    "start_time": "2024-11-05T21:41:25.775Z"
   },
   {
    "duration": 3,
    "start_time": "2024-11-05T21:50:15.761Z"
   },
   {
    "duration": 9,
    "start_time": "2024-11-05T21:50:29.890Z"
   },
   {
    "duration": 9,
    "start_time": "2024-11-05T21:59:57.923Z"
   },
   {
    "duration": 9,
    "start_time": "2024-11-05T22:00:37.082Z"
   },
   {
    "duration": 11,
    "start_time": "2024-11-05T22:02:09.898Z"
   },
   {
    "duration": 19,
    "start_time": "2024-11-05T23:54:40.292Z"
   },
   {
    "duration": 9,
    "start_time": "2024-11-05T23:55:16.166Z"
   },
   {
    "duration": 12,
    "start_time": "2024-11-05T23:58:34.876Z"
   },
   {
    "duration": 180,
    "start_time": "2024-11-06T00:03:08.591Z"
   },
   {
    "duration": 70,
    "start_time": "2024-11-06T00:04:17.537Z"
   },
   {
    "duration": 70,
    "start_time": "2024-11-06T00:05:21.625Z"
   },
   {
    "duration": 74,
    "start_time": "2024-11-06T00:05:56.919Z"
   },
   {
    "duration": 11,
    "start_time": "2024-11-06T00:07:17.477Z"
   },
   {
    "duration": 13,
    "start_time": "2024-11-06T00:13:54.279Z"
   },
   {
    "duration": 6,
    "start_time": "2024-11-06T00:14:12.608Z"
   },
   {
    "duration": 13,
    "start_time": "2024-11-06T00:14:32.130Z"
   },
   {
    "duration": 12,
    "start_time": "2024-11-06T00:16:10.490Z"
   },
   {
    "duration": 4,
    "start_time": "2024-11-06T00:18:50.202Z"
   },
   {
    "duration": 4,
    "start_time": "2024-11-06T00:20:50.014Z"
   },
   {
    "duration": 12,
    "start_time": "2024-11-06T00:21:13.046Z"
   },
   {
    "duration": 13,
    "start_time": "2024-11-06T00:21:18.266Z"
   },
   {
    "duration": 13,
    "start_time": "2024-11-06T00:21:26.060Z"
   },
   {
    "duration": 13,
    "start_time": "2024-11-06T00:21:32.634Z"
   },
   {
    "duration": 4,
    "start_time": "2024-11-06T00:26:33.977Z"
   },
   {
    "duration": 14,
    "start_time": "2024-11-06T00:28:05.643Z"
   },
   {
    "duration": 4,
    "start_time": "2024-11-06T00:28:16.002Z"
   },
   {
    "duration": 417,
    "start_time": "2024-11-06T00:31:00.906Z"
   },
   {
    "duration": 12,
    "start_time": "2024-11-06T00:31:14.087Z"
   },
   {
    "duration": 13,
    "start_time": "2024-11-06T00:32:01.486Z"
   },
   {
    "duration": 11,
    "start_time": "2024-11-06T00:32:44.687Z"
   },
   {
    "duration": 12,
    "start_time": "2024-11-06T00:32:50.915Z"
   },
   {
    "duration": 717,
    "start_time": "2024-11-06T00:33:29.569Z"
   },
   {
    "duration": 152,
    "start_time": "2024-11-06T00:33:30.288Z"
   },
   {
    "duration": 10,
    "start_time": "2024-11-06T00:33:30.441Z"
   },
   {
    "duration": 18,
    "start_time": "2024-11-06T00:33:30.453Z"
   },
   {
    "duration": 13,
    "start_time": "2024-11-06T00:33:30.473Z"
   },
   {
    "duration": 8,
    "start_time": "2024-11-06T00:33:30.488Z"
   },
   {
    "duration": 11,
    "start_time": "2024-11-06T00:33:30.498Z"
   },
   {
    "duration": 494,
    "start_time": "2024-11-06T00:33:30.511Z"
   },
   {
    "duration": 0,
    "start_time": "2024-11-06T00:33:31.007Z"
   },
   {
    "duration": 0,
    "start_time": "2024-11-06T00:33:31.009Z"
   },
   {
    "duration": 0,
    "start_time": "2024-11-06T00:33:31.010Z"
   },
   {
    "duration": 0,
    "start_time": "2024-11-06T00:33:31.011Z"
   },
   {
    "duration": 0,
    "start_time": "2024-11-06T00:33:31.013Z"
   },
   {
    "duration": 0,
    "start_time": "2024-11-06T00:33:31.015Z"
   },
   {
    "duration": 0,
    "start_time": "2024-11-06T00:33:31.016Z"
   },
   {
    "duration": 0,
    "start_time": "2024-11-06T00:33:31.018Z"
   },
   {
    "duration": 0,
    "start_time": "2024-11-06T00:33:31.020Z"
   },
   {
    "duration": 0,
    "start_time": "2024-11-06T00:33:31.021Z"
   },
   {
    "duration": 0,
    "start_time": "2024-11-06T00:33:31.022Z"
   },
   {
    "duration": 0,
    "start_time": "2024-11-06T00:33:31.024Z"
   },
   {
    "duration": 0,
    "start_time": "2024-11-06T00:33:31.026Z"
   },
   {
    "duration": 0,
    "start_time": "2024-11-06T00:33:31.027Z"
   },
   {
    "duration": 0,
    "start_time": "2024-11-06T00:33:31.029Z"
   },
   {
    "duration": 0,
    "start_time": "2024-11-06T00:33:31.030Z"
   },
   {
    "duration": 0,
    "start_time": "2024-11-06T00:33:31.031Z"
   },
   {
    "duration": 0,
    "start_time": "2024-11-06T00:33:31.033Z"
   },
   {
    "duration": 0,
    "start_time": "2024-11-06T00:33:31.034Z"
   },
   {
    "duration": 0,
    "start_time": "2024-11-06T00:33:31.035Z"
   },
   {
    "duration": 0,
    "start_time": "2024-11-06T00:33:31.036Z"
   },
   {
    "duration": 0,
    "start_time": "2024-11-06T00:33:31.037Z"
   },
   {
    "duration": 0,
    "start_time": "2024-11-06T00:33:31.038Z"
   },
   {
    "duration": 0,
    "start_time": "2024-11-06T00:33:31.086Z"
   },
   {
    "duration": 0,
    "start_time": "2024-11-06T00:33:31.088Z"
   },
   {
    "duration": 757,
    "start_time": "2024-11-06T00:35:23.717Z"
   },
   {
    "duration": 151,
    "start_time": "2024-11-06T00:35:24.476Z"
   },
   {
    "duration": 9,
    "start_time": "2024-11-06T00:35:24.629Z"
   },
   {
    "duration": 10,
    "start_time": "2024-11-06T00:35:24.639Z"
   },
   {
    "duration": 10,
    "start_time": "2024-11-06T00:35:24.651Z"
   },
   {
    "duration": 25,
    "start_time": "2024-11-06T00:35:24.663Z"
   },
   {
    "duration": 11,
    "start_time": "2024-11-06T00:35:24.689Z"
   },
   {
    "duration": 11,
    "start_time": "2024-11-06T00:35:24.702Z"
   },
   {
    "duration": 12,
    "start_time": "2024-11-06T00:35:24.714Z"
   },
   {
    "duration": 4,
    "start_time": "2024-11-06T00:35:24.728Z"
   },
   {
    "duration": 3,
    "start_time": "2024-11-06T00:35:24.734Z"
   },
   {
    "duration": 49,
    "start_time": "2024-11-06T00:35:24.739Z"
   },
   {
    "duration": 5,
    "start_time": "2024-11-06T00:35:24.790Z"
   },
   {
    "duration": 2,
    "start_time": "2024-11-06T00:35:24.799Z"
   },
   {
    "duration": 3,
    "start_time": "2024-11-06T00:35:24.802Z"
   },
   {
    "duration": 3,
    "start_time": "2024-11-06T00:35:24.806Z"
   },
   {
    "duration": 3,
    "start_time": "2024-11-06T00:35:24.810Z"
   },
   {
    "duration": 2,
    "start_time": "2024-11-06T00:35:24.814Z"
   },
   {
    "duration": 3,
    "start_time": "2024-11-06T00:35:24.817Z"
   },
   {
    "duration": 10,
    "start_time": "2024-11-06T00:35:24.822Z"
   },
   {
    "duration": 2,
    "start_time": "2024-11-06T00:35:24.834Z"
   },
   {
    "duration": 2,
    "start_time": "2024-11-06T00:35:24.838Z"
   },
   {
    "duration": 3,
    "start_time": "2024-11-06T00:35:24.841Z"
   },
   {
    "duration": 41,
    "start_time": "2024-11-06T00:35:24.846Z"
   },
   {
    "duration": 2,
    "start_time": "2024-11-06T00:35:24.888Z"
   },
   {
    "duration": 2,
    "start_time": "2024-11-06T00:35:24.892Z"
   },
   {
    "duration": 2,
    "start_time": "2024-11-06T00:35:24.896Z"
   },
   {
    "duration": 2,
    "start_time": "2024-11-06T00:35:24.900Z"
   },
   {
    "duration": 3,
    "start_time": "2024-11-06T00:35:24.905Z"
   },
   {
    "duration": 2,
    "start_time": "2024-11-06T00:35:24.910Z"
   },
   {
    "duration": 2,
    "start_time": "2024-11-06T00:35:24.914Z"
   },
   {
    "duration": 2,
    "start_time": "2024-11-06T00:35:24.917Z"
   },
   {
    "duration": 3,
    "start_time": "2024-11-06T00:35:24.920Z"
   },
   {
    "duration": 2,
    "start_time": "2024-11-06T00:35:24.925Z"
   },
   {
    "duration": 8,
    "start_time": "2024-11-06T00:36:49.393Z"
   },
   {
    "duration": 125,
    "start_time": "2024-11-06T00:38:43.417Z"
   },
   {
    "duration": 296,
    "start_time": "2024-11-06T00:39:29.514Z"
   },
   {
    "duration": 722,
    "start_time": "2024-11-06T00:41:25.457Z"
   },
   {
    "duration": 150,
    "start_time": "2024-11-06T00:41:26.181Z"
   },
   {
    "duration": 9,
    "start_time": "2024-11-06T00:41:26.333Z"
   },
   {
    "duration": 10,
    "start_time": "2024-11-06T00:41:26.344Z"
   },
   {
    "duration": 9,
    "start_time": "2024-11-06T00:41:26.357Z"
   },
   {
    "duration": 27,
    "start_time": "2024-11-06T00:41:26.368Z"
   },
   {
    "duration": 13,
    "start_time": "2024-11-06T00:41:26.397Z"
   },
   {
    "duration": 10,
    "start_time": "2024-11-06T00:41:26.412Z"
   },
   {
    "duration": 14,
    "start_time": "2024-11-06T00:41:26.424Z"
   },
   {
    "duration": 4,
    "start_time": "2024-11-06T00:41:26.439Z"
   },
   {
    "duration": 4,
    "start_time": "2024-11-06T00:41:26.444Z"
   },
   {
    "duration": 40,
    "start_time": "2024-11-06T00:41:26.454Z"
   },
   {
    "duration": 8,
    "start_time": "2024-11-06T00:41:26.496Z"
   },
   {
    "duration": 1,
    "start_time": "2024-11-06T00:41:26.508Z"
   },
   {
    "duration": 2,
    "start_time": "2024-11-06T00:41:26.511Z"
   },
   {
    "duration": 3,
    "start_time": "2024-11-06T00:41:26.514Z"
   },
   {
    "duration": 2,
    "start_time": "2024-11-06T00:41:26.520Z"
   },
   {
    "duration": 3,
    "start_time": "2024-11-06T00:41:26.523Z"
   },
   {
    "duration": 2,
    "start_time": "2024-11-06T00:41:26.527Z"
   },
   {
    "duration": 2,
    "start_time": "2024-11-06T00:41:26.531Z"
   },
   {
    "duration": 2,
    "start_time": "2024-11-06T00:41:26.536Z"
   },
   {
    "duration": 2,
    "start_time": "2024-11-06T00:41:26.588Z"
   },
   {
    "duration": 2,
    "start_time": "2024-11-06T00:41:26.592Z"
   },
   {
    "duration": 3,
    "start_time": "2024-11-06T00:41:26.595Z"
   },
   {
    "duration": 2,
    "start_time": "2024-11-06T00:41:26.600Z"
   },
   {
    "duration": 3,
    "start_time": "2024-11-06T00:41:26.603Z"
   },
   {
    "duration": 3,
    "start_time": "2024-11-06T00:41:26.607Z"
   },
   {
    "duration": 2,
    "start_time": "2024-11-06T00:41:26.612Z"
   },
   {
    "duration": 2,
    "start_time": "2024-11-06T00:41:26.615Z"
   },
   {
    "duration": 2,
    "start_time": "2024-11-06T00:41:26.619Z"
   },
   {
    "duration": 2,
    "start_time": "2024-11-06T00:41:26.623Z"
   },
   {
    "duration": 3,
    "start_time": "2024-11-06T00:41:26.627Z"
   },
   {
    "duration": 2,
    "start_time": "2024-11-06T00:41:26.631Z"
   },
   {
    "duration": 2,
    "start_time": "2024-11-06T00:41:26.687Z"
   },
   {
    "duration": 2,
    "start_time": "2024-11-06T00:41:26.691Z"
   },
   {
    "duration": 412,
    "start_time": "2024-11-06T00:42:26.930Z"
   },
   {
    "duration": 721,
    "start_time": "2024-11-06T00:43:55.862Z"
   },
   {
    "duration": 155,
    "start_time": "2024-11-06T00:43:56.586Z"
   },
   {
    "duration": 10,
    "start_time": "2024-11-06T00:43:56.742Z"
   },
   {
    "duration": 11,
    "start_time": "2024-11-06T00:43:56.754Z"
   },
   {
    "duration": 22,
    "start_time": "2024-11-06T00:43:56.766Z"
   },
   {
    "duration": 7,
    "start_time": "2024-11-06T00:43:56.790Z"
   },
   {
    "duration": 11,
    "start_time": "2024-11-06T00:43:56.799Z"
   },
   {
    "duration": 10,
    "start_time": "2024-11-06T00:43:56.812Z"
   },
   {
    "duration": 12,
    "start_time": "2024-11-06T00:43:56.824Z"
   },
   {
    "duration": 3,
    "start_time": "2024-11-06T00:43:56.840Z"
   },
   {
    "duration": 4,
    "start_time": "2024-11-06T00:43:56.845Z"
   },
   {
    "duration": 13,
    "start_time": "2024-11-06T00:43:56.889Z"
   },
   {
    "duration": 9,
    "start_time": "2024-11-06T00:43:56.904Z"
   },
   {
    "duration": 3,
    "start_time": "2024-11-06T00:43:56.914Z"
   },
   {
    "duration": 2,
    "start_time": "2024-11-06T00:43:56.918Z"
   },
   {
    "duration": 2,
    "start_time": "2024-11-06T00:43:56.922Z"
   },
   {
    "duration": 2,
    "start_time": "2024-11-06T00:43:56.926Z"
   },
   {
    "duration": 2,
    "start_time": "2024-11-06T00:43:56.930Z"
   },
   {
    "duration": 2,
    "start_time": "2024-11-06T00:43:56.934Z"
   },
   {
    "duration": 2,
    "start_time": "2024-11-06T00:43:56.938Z"
   },
   {
    "duration": 3,
    "start_time": "2024-11-06T00:43:56.987Z"
   },
   {
    "duration": 3,
    "start_time": "2024-11-06T00:43:56.991Z"
   },
   {
    "duration": 3,
    "start_time": "2024-11-06T00:43:56.995Z"
   },
   {
    "duration": 2,
    "start_time": "2024-11-06T00:43:57.000Z"
   },
   {
    "duration": 2,
    "start_time": "2024-11-06T00:43:57.004Z"
   },
   {
    "duration": 2,
    "start_time": "2024-11-06T00:43:57.008Z"
   },
   {
    "duration": 2,
    "start_time": "2024-11-06T00:43:57.012Z"
   },
   {
    "duration": 3,
    "start_time": "2024-11-06T00:43:57.019Z"
   },
   {
    "duration": 4,
    "start_time": "2024-11-06T00:43:57.023Z"
   },
   {
    "duration": 3,
    "start_time": "2024-11-06T00:43:57.028Z"
   },
   {
    "duration": 3,
    "start_time": "2024-11-06T00:43:57.032Z"
   },
   {
    "duration": 51,
    "start_time": "2024-11-06T00:43:57.037Z"
   },
   {
    "duration": 3,
    "start_time": "2024-11-06T00:43:57.089Z"
   },
   {
    "duration": 2,
    "start_time": "2024-11-06T00:43:57.093Z"
   },
   {
    "duration": 2,
    "start_time": "2024-11-06T00:43:57.097Z"
   },
   {
    "duration": 16,
    "start_time": "2024-11-06T00:51:27.131Z"
   },
   {
    "duration": 10,
    "start_time": "2024-11-06T00:52:00.120Z"
   },
   {
    "duration": 11,
    "start_time": "2024-11-06T00:54:24.064Z"
   },
   {
    "duration": 26,
    "start_time": "2024-11-06T00:57:19.659Z"
   },
   {
    "duration": 14,
    "start_time": "2024-11-06T00:58:25.593Z"
   },
   {
    "duration": 5,
    "start_time": "2024-11-06T00:59:05.503Z"
   },
   {
    "duration": 11,
    "start_time": "2024-11-06T01:00:01.108Z"
   },
   {
    "duration": 17,
    "start_time": "2024-11-06T01:03:02.715Z"
   },
   {
    "duration": 13,
    "start_time": "2024-11-06T01:03:29.162Z"
   },
   {
    "duration": 9,
    "start_time": "2024-11-06T01:03:59.233Z"
   },
   {
    "duration": 17,
    "start_time": "2024-11-06T01:06:03.721Z"
   },
   {
    "duration": 15,
    "start_time": "2024-11-06T01:06:59.257Z"
   },
   {
    "duration": 8,
    "start_time": "2024-11-06T01:07:51.906Z"
   },
   {
    "duration": 15,
    "start_time": "2024-11-06T01:08:31.621Z"
   },
   {
    "duration": 9,
    "start_time": "2024-11-06T01:08:52.807Z"
   },
   {
    "duration": 19,
    "start_time": "2024-11-06T01:10:16.140Z"
   },
   {
    "duration": 15,
    "start_time": "2024-11-06T01:10:39.541Z"
   },
   {
    "duration": 19,
    "start_time": "2024-11-06T01:11:52.667Z"
   },
   {
    "duration": 586,
    "start_time": "2024-11-06T01:12:01.786Z"
   },
   {
    "duration": 15,
    "start_time": "2024-11-06T01:12:18.400Z"
   },
   {
    "duration": 11,
    "start_time": "2024-11-06T01:13:39.223Z"
   },
   {
    "duration": 2557,
    "start_time": "2024-11-06T16:18:36.412Z"
   },
   {
    "duration": 214,
    "start_time": "2024-11-06T16:18:38.972Z"
   },
   {
    "duration": 10,
    "start_time": "2024-11-06T16:18:39.188Z"
   },
   {
    "duration": 10,
    "start_time": "2024-11-06T16:18:39.201Z"
   },
   {
    "duration": 10,
    "start_time": "2024-11-06T16:18:39.213Z"
   },
   {
    "duration": 8,
    "start_time": "2024-11-06T16:18:39.224Z"
   },
   {
    "duration": 11,
    "start_time": "2024-11-06T16:18:39.233Z"
   },
   {
    "duration": 10,
    "start_time": "2024-11-06T16:18:39.246Z"
   },
   {
    "duration": 13,
    "start_time": "2024-11-06T16:18:39.258Z"
   },
   {
    "duration": 35,
    "start_time": "2024-11-06T16:18:39.274Z"
   },
   {
    "duration": 4,
    "start_time": "2024-11-06T16:18:39.310Z"
   },
   {
    "duration": 12,
    "start_time": "2024-11-06T16:18:39.316Z"
   },
   {
    "duration": 8,
    "start_time": "2024-11-06T16:18:39.330Z"
   },
   {
    "duration": 15,
    "start_time": "2024-11-06T16:18:39.340Z"
   },
   {
    "duration": 11,
    "start_time": "2024-11-06T16:18:39.356Z"
   },
   {
    "duration": 59,
    "start_time": "2024-11-06T16:18:39.369Z"
   },
   {
    "duration": 13,
    "start_time": "2024-11-06T16:18:39.430Z"
   },
   {
    "duration": 16,
    "start_time": "2024-11-06T16:18:39.445Z"
   },
   {
    "duration": 12,
    "start_time": "2024-11-06T16:18:39.463Z"
   },
   {
    "duration": 34,
    "start_time": "2024-11-06T16:18:39.476Z"
   },
   {
    "duration": 17,
    "start_time": "2024-11-06T16:18:39.512Z"
   },
   {
    "duration": 8,
    "start_time": "2024-11-06T16:18:39.531Z"
   },
   {
    "duration": 11,
    "start_time": "2024-11-06T16:18:39.541Z"
   },
   {
    "duration": 14,
    "start_time": "2024-11-06T16:18:39.554Z"
   },
   {
    "duration": 39,
    "start_time": "2024-11-06T16:18:39.570Z"
   },
   {
    "duration": 21,
    "start_time": "2024-11-06T16:18:39.610Z"
   },
   {
    "duration": 16,
    "start_time": "2024-11-06T16:18:39.632Z"
   },
   {
    "duration": 15,
    "start_time": "2024-11-06T16:18:39.652Z"
   },
   {
    "duration": 2,
    "start_time": "2024-11-06T16:18:39.669Z"
   },
   {
    "duration": 2,
    "start_time": "2024-11-06T16:18:39.672Z"
   },
   {
    "duration": 34,
    "start_time": "2024-11-06T16:18:39.675Z"
   },
   {
    "duration": 2,
    "start_time": "2024-11-06T16:18:39.711Z"
   },
   {
    "duration": 2,
    "start_time": "2024-11-06T16:18:39.715Z"
   },
   {
    "duration": 2,
    "start_time": "2024-11-06T16:18:39.719Z"
   },
   {
    "duration": 2,
    "start_time": "2024-11-06T16:18:39.723Z"
   },
   {
    "duration": 3,
    "start_time": "2024-11-06T16:18:39.726Z"
   },
   {
    "duration": 2,
    "start_time": "2024-11-06T16:18:39.730Z"
   },
   {
    "duration": 2,
    "start_time": "2024-11-06T16:18:39.734Z"
   },
   {
    "duration": 3,
    "start_time": "2024-11-06T16:18:39.738Z"
   },
   {
    "duration": 3,
    "start_time": "2024-11-06T16:18:39.742Z"
   },
   {
    "duration": 2,
    "start_time": "2024-11-06T16:18:39.747Z"
   },
   {
    "duration": 4,
    "start_time": "2024-11-06T16:18:39.750Z"
   },
   {
    "duration": 3,
    "start_time": "2024-11-06T16:18:39.756Z"
   },
   {
    "duration": 49,
    "start_time": "2024-11-06T16:18:39.761Z"
   },
   {
    "duration": 395,
    "start_time": "2024-11-06T16:19:14.607Z"
   },
   {
    "duration": 12,
    "start_time": "2024-11-06T16:20:42.527Z"
   },
   {
    "duration": 776,
    "start_time": "2024-11-06T16:20:54.234Z"
   },
   {
    "duration": 154,
    "start_time": "2024-11-06T16:20:55.012Z"
   },
   {
    "duration": 9,
    "start_time": "2024-11-06T16:20:55.168Z"
   },
   {
    "duration": 10,
    "start_time": "2024-11-06T16:20:55.179Z"
   },
   {
    "duration": 23,
    "start_time": "2024-11-06T16:20:55.191Z"
   },
   {
    "duration": 9,
    "start_time": "2024-11-06T16:20:55.216Z"
   },
   {
    "duration": 12,
    "start_time": "2024-11-06T16:20:55.226Z"
   },
   {
    "duration": 11,
    "start_time": "2024-11-06T16:20:55.240Z"
   },
   {
    "duration": 14,
    "start_time": "2024-11-06T16:20:55.253Z"
   },
   {
    "duration": 38,
    "start_time": "2024-11-06T16:20:55.271Z"
   },
   {
    "duration": 4,
    "start_time": "2024-11-06T16:20:55.311Z"
   },
   {
    "duration": 13,
    "start_time": "2024-11-06T16:20:55.317Z"
   },
   {
    "duration": 9,
    "start_time": "2024-11-06T16:20:55.331Z"
   },
   {
    "duration": 452,
    "start_time": "2024-11-06T16:20:55.341Z"
   },
   {
    "duration": 0,
    "start_time": "2024-11-06T16:20:55.795Z"
   },
   {
    "duration": 0,
    "start_time": "2024-11-06T16:20:55.796Z"
   },
   {
    "duration": 0,
    "start_time": "2024-11-06T16:20:55.797Z"
   },
   {
    "duration": 0,
    "start_time": "2024-11-06T16:20:55.808Z"
   },
   {
    "duration": 0,
    "start_time": "2024-11-06T16:20:55.809Z"
   },
   {
    "duration": 0,
    "start_time": "2024-11-06T16:20:55.810Z"
   },
   {
    "duration": 0,
    "start_time": "2024-11-06T16:20:55.811Z"
   },
   {
    "duration": 0,
    "start_time": "2024-11-06T16:20:55.813Z"
   },
   {
    "duration": 0,
    "start_time": "2024-11-06T16:20:55.814Z"
   },
   {
    "duration": 0,
    "start_time": "2024-11-06T16:20:55.815Z"
   },
   {
    "duration": 0,
    "start_time": "2024-11-06T16:20:55.816Z"
   },
   {
    "duration": 0,
    "start_time": "2024-11-06T16:20:55.817Z"
   },
   {
    "duration": 0,
    "start_time": "2024-11-06T16:20:55.818Z"
   },
   {
    "duration": 0,
    "start_time": "2024-11-06T16:20:55.819Z"
   },
   {
    "duration": 0,
    "start_time": "2024-11-06T16:20:55.822Z"
   },
   {
    "duration": 0,
    "start_time": "2024-11-06T16:20:55.823Z"
   },
   {
    "duration": 0,
    "start_time": "2024-11-06T16:20:55.825Z"
   },
   {
    "duration": 0,
    "start_time": "2024-11-06T16:20:55.827Z"
   },
   {
    "duration": 0,
    "start_time": "2024-11-06T16:20:55.828Z"
   },
   {
    "duration": 0,
    "start_time": "2024-11-06T16:20:55.829Z"
   },
   {
    "duration": 0,
    "start_time": "2024-11-06T16:20:55.830Z"
   },
   {
    "duration": 0,
    "start_time": "2024-11-06T16:20:55.831Z"
   },
   {
    "duration": 0,
    "start_time": "2024-11-06T16:20:55.832Z"
   },
   {
    "duration": 0,
    "start_time": "2024-11-06T16:20:55.833Z"
   },
   {
    "duration": 0,
    "start_time": "2024-11-06T16:20:55.834Z"
   },
   {
    "duration": 0,
    "start_time": "2024-11-06T16:20:55.835Z"
   },
   {
    "duration": 0,
    "start_time": "2024-11-06T16:20:55.836Z"
   },
   {
    "duration": 0,
    "start_time": "2024-11-06T16:20:55.838Z"
   },
   {
    "duration": 0,
    "start_time": "2024-11-06T16:20:55.841Z"
   },
   {
    "duration": 0,
    "start_time": "2024-11-06T16:20:55.842Z"
   },
   {
    "duration": 0,
    "start_time": "2024-11-06T16:20:55.843Z"
   },
   {
    "duration": 739,
    "start_time": "2024-11-06T16:34:05.470Z"
   },
   {
    "duration": 158,
    "start_time": "2024-11-06T16:34:06.211Z"
   },
   {
    "duration": 10,
    "start_time": "2024-11-06T16:34:06.370Z"
   },
   {
    "duration": 9,
    "start_time": "2024-11-06T16:34:06.382Z"
   },
   {
    "duration": 16,
    "start_time": "2024-11-06T16:34:06.395Z"
   },
   {
    "duration": 8,
    "start_time": "2024-11-06T16:34:06.413Z"
   },
   {
    "duration": 10,
    "start_time": "2024-11-06T16:34:06.422Z"
   },
   {
    "duration": 10,
    "start_time": "2024-11-06T16:34:06.434Z"
   },
   {
    "duration": 12,
    "start_time": "2024-11-06T16:34:06.446Z"
   },
   {
    "duration": 4,
    "start_time": "2024-11-06T16:34:06.459Z"
   },
   {
    "duration": 3,
    "start_time": "2024-11-06T16:34:06.465Z"
   },
   {
    "duration": 47,
    "start_time": "2024-11-06T16:34:06.469Z"
   },
   {
    "duration": 17,
    "start_time": "2024-11-06T16:34:06.518Z"
   },
   {
    "duration": 10,
    "start_time": "2024-11-06T16:34:06.539Z"
   },
   {
    "duration": 26,
    "start_time": "2024-11-06T16:34:06.550Z"
   },
   {
    "duration": 42,
    "start_time": "2024-11-06T16:34:06.578Z"
   },
   {
    "duration": 16,
    "start_time": "2024-11-06T16:34:06.622Z"
   },
   {
    "duration": 12,
    "start_time": "2024-11-06T16:34:06.640Z"
   },
   {
    "duration": 7,
    "start_time": "2024-11-06T16:34:06.654Z"
   },
   {
    "duration": 17,
    "start_time": "2024-11-06T16:34:06.663Z"
   },
   {
    "duration": 8,
    "start_time": "2024-11-06T16:34:06.709Z"
   },
   {
    "duration": 11,
    "start_time": "2024-11-06T16:34:06.719Z"
   },
   {
    "duration": 13,
    "start_time": "2024-11-06T16:34:06.733Z"
   },
   {
    "duration": 9,
    "start_time": "2024-11-06T16:34:06.747Z"
   },
   {
    "duration": 21,
    "start_time": "2024-11-06T16:34:06.757Z"
   },
   {
    "duration": 16,
    "start_time": "2024-11-06T16:34:06.808Z"
   },
   {
    "duration": 14,
    "start_time": "2024-11-06T16:34:06.826Z"
   },
   {
    "duration": 2,
    "start_time": "2024-11-06T16:34:06.841Z"
   },
   {
    "duration": 2,
    "start_time": "2024-11-06T16:34:06.845Z"
   },
   {
    "duration": 3,
    "start_time": "2024-11-06T16:34:06.848Z"
   },
   {
    "duration": 2,
    "start_time": "2024-11-06T16:34:06.854Z"
   },
   {
    "duration": 2,
    "start_time": "2024-11-06T16:34:06.857Z"
   },
   {
    "duration": 2,
    "start_time": "2024-11-06T16:34:06.861Z"
   },
   {
    "duration": 44,
    "start_time": "2024-11-06T16:34:06.865Z"
   },
   {
    "duration": 2,
    "start_time": "2024-11-06T16:34:06.910Z"
   },
   {
    "duration": 3,
    "start_time": "2024-11-06T16:34:06.913Z"
   },
   {
    "duration": 2,
    "start_time": "2024-11-06T16:34:06.917Z"
   },
   {
    "duration": 2,
    "start_time": "2024-11-06T16:34:06.922Z"
   },
   {
    "duration": 2,
    "start_time": "2024-11-06T16:34:06.926Z"
   },
   {
    "duration": 2,
    "start_time": "2024-11-06T16:34:06.930Z"
   },
   {
    "duration": 1,
    "start_time": "2024-11-06T16:34:06.936Z"
   },
   {
    "duration": 2,
    "start_time": "2024-11-06T16:34:06.939Z"
   },
   {
    "duration": 2,
    "start_time": "2024-11-06T16:34:06.942Z"
   },
   {
    "duration": 8,
    "start_time": "2024-11-06T18:22:54.311Z"
   },
   {
    "duration": 7,
    "start_time": "2024-11-06T18:40:58.517Z"
   },
   {
    "duration": 217,
    "start_time": "2024-11-06T18:44:19.427Z"
   },
   {
    "duration": 125,
    "start_time": "2024-11-06T18:44:52.998Z"
   },
   {
    "duration": 183,
    "start_time": "2024-11-06T18:45:20.211Z"
   },
   {
    "duration": 13,
    "start_time": "2024-11-06T18:45:36.187Z"
   },
   {
    "duration": 12,
    "start_time": "2024-11-06T19:01:00.035Z"
   },
   {
    "duration": 13,
    "start_time": "2024-11-06T19:01:09.675Z"
   },
   {
    "duration": 9,
    "start_time": "2024-11-06T19:04:33.857Z"
   },
   {
    "duration": 11,
    "start_time": "2024-11-06T21:42:54.984Z"
   },
   {
    "duration": 13,
    "start_time": "2024-11-06T22:05:35.735Z"
   },
   {
    "duration": 8,
    "start_time": "2024-11-06T22:13:04.038Z"
   },
   {
    "duration": 9,
    "start_time": "2024-11-06T22:14:11.915Z"
   },
   {
    "duration": 24,
    "start_time": "2024-11-06T22:14:21.758Z"
   },
   {
    "duration": 11,
    "start_time": "2024-11-06T22:17:37.139Z"
   },
   {
    "duration": 23,
    "start_time": "2024-11-06T22:19:39.535Z"
   },
   {
    "duration": 25,
    "start_time": "2024-11-06T22:24:17.596Z"
   },
   {
    "duration": 379,
    "start_time": "2024-11-06T22:41:42.019Z"
   },
   {
    "duration": 381,
    "start_time": "2024-11-06T22:45:36.877Z"
   },
   {
    "duration": 40,
    "start_time": "2024-11-06T22:46:40.354Z"
   },
   {
    "duration": 4,
    "start_time": "2024-11-06T22:46:50.149Z"
   },
   {
    "duration": 35,
    "start_time": "2024-11-06T22:47:41.561Z"
   },
   {
    "duration": 32,
    "start_time": "2024-11-06T22:48:10.187Z"
   },
   {
    "duration": 32,
    "start_time": "2024-11-06T22:48:14.810Z"
   },
   {
    "duration": 65,
    "start_time": "2024-11-06T22:55:03.574Z"
   },
   {
    "duration": 15,
    "start_time": "2024-11-06T22:55:48.426Z"
   },
   {
    "duration": 2,
    "start_time": "2024-11-06T23:09:07.954Z"
   },
   {
    "duration": 792,
    "start_time": "2024-11-06T23:09:20.011Z"
   },
   {
    "duration": 161,
    "start_time": "2024-11-06T23:09:20.805Z"
   },
   {
    "duration": 10,
    "start_time": "2024-11-06T23:09:20.968Z"
   },
   {
    "duration": 10,
    "start_time": "2024-11-06T23:09:20.981Z"
   },
   {
    "duration": 17,
    "start_time": "2024-11-06T23:09:20.993Z"
   },
   {
    "duration": 7,
    "start_time": "2024-11-06T23:09:21.012Z"
   },
   {
    "duration": 11,
    "start_time": "2024-11-06T23:09:21.021Z"
   },
   {
    "duration": 10,
    "start_time": "2024-11-06T23:09:21.034Z"
   },
   {
    "duration": 13,
    "start_time": "2024-11-06T23:09:21.045Z"
   },
   {
    "duration": 3,
    "start_time": "2024-11-06T23:09:21.061Z"
   },
   {
    "duration": 4,
    "start_time": "2024-11-06T23:09:21.066Z"
   },
   {
    "duration": 16,
    "start_time": "2024-11-06T23:09:21.109Z"
   },
   {
    "duration": 9,
    "start_time": "2024-11-06T23:09:21.126Z"
   },
   {
    "duration": 25,
    "start_time": "2024-11-06T23:09:21.137Z"
   },
   {
    "duration": 11,
    "start_time": "2024-11-06T23:09:21.164Z"
   },
   {
    "duration": 41,
    "start_time": "2024-11-06T23:09:21.177Z"
   },
   {
    "duration": 12,
    "start_time": "2024-11-06T23:09:21.220Z"
   },
   {
    "duration": 8,
    "start_time": "2024-11-06T23:09:21.233Z"
   },
   {
    "duration": 17,
    "start_time": "2024-11-06T23:09:21.243Z"
   },
   {
    "duration": 8,
    "start_time": "2024-11-06T23:09:21.261Z"
   },
   {
    "duration": 45,
    "start_time": "2024-11-06T23:09:21.271Z"
   },
   {
    "duration": 17,
    "start_time": "2024-11-06T23:09:21.319Z"
   },
   {
    "duration": 9,
    "start_time": "2024-11-06T23:09:21.337Z"
   },
   {
    "duration": 27,
    "start_time": "2024-11-06T23:09:21.348Z"
   },
   {
    "duration": 34,
    "start_time": "2024-11-06T23:09:21.377Z"
   },
   {
    "duration": 14,
    "start_time": "2024-11-06T23:09:21.413Z"
   },
   {
    "duration": 7,
    "start_time": "2024-11-06T23:09:21.428Z"
   },
   {
    "duration": 12,
    "start_time": "2024-11-06T23:09:21.440Z"
   },
   {
    "duration": 11,
    "start_time": "2024-11-06T23:09:21.453Z"
   },
   {
    "duration": 45,
    "start_time": "2024-11-06T23:09:21.466Z"
   },
   {
    "duration": 10,
    "start_time": "2024-11-06T23:09:21.512Z"
   },
   {
    "duration": 23,
    "start_time": "2024-11-06T23:09:21.524Z"
   },
   {
    "duration": 2,
    "start_time": "2024-11-06T23:09:21.549Z"
   },
   {
    "duration": 3,
    "start_time": "2024-11-06T23:09:21.553Z"
   },
   {
    "duration": 3,
    "start_time": "2024-11-06T23:09:21.557Z"
   },
   {
    "duration": 2,
    "start_time": "2024-11-06T23:09:21.562Z"
   },
   {
    "duration": 2,
    "start_time": "2024-11-06T23:09:21.566Z"
   },
   {
    "duration": 38,
    "start_time": "2024-11-06T23:09:21.570Z"
   },
   {
    "duration": 4,
    "start_time": "2024-11-06T23:09:21.610Z"
   },
   {
    "duration": 3,
    "start_time": "2024-11-06T23:09:21.615Z"
   },
   {
    "duration": 4,
    "start_time": "2024-11-06T23:09:21.619Z"
   },
   {
    "duration": 3,
    "start_time": "2024-11-06T23:09:21.624Z"
   },
   {
    "duration": 593,
    "start_time": "2024-11-06T23:45:22.160Z"
   },
   {
    "duration": 42,
    "start_time": "2024-11-06T23:46:16.938Z"
   },
   {
    "duration": 21,
    "start_time": "2024-11-06T23:46:42.345Z"
   },
   {
    "duration": 2,
    "start_time": "2024-11-06T23:48:41.560Z"
   },
   {
    "duration": 13,
    "start_time": "2024-11-07T00:12:11.832Z"
   },
   {
    "duration": 2505,
    "start_time": "2024-11-07T15:38:25.882Z"
   },
   {
    "duration": 207,
    "start_time": "2024-11-07T15:38:28.389Z"
   },
   {
    "duration": 9,
    "start_time": "2024-11-07T15:38:28.598Z"
   },
   {
    "duration": 10,
    "start_time": "2024-11-07T15:38:28.609Z"
   },
   {
    "duration": 9,
    "start_time": "2024-11-07T15:38:28.621Z"
   },
   {
    "duration": 8,
    "start_time": "2024-11-07T15:38:28.632Z"
   },
   {
    "duration": 11,
    "start_time": "2024-11-07T15:38:28.641Z"
   },
   {
    "duration": 10,
    "start_time": "2024-11-07T15:38:28.654Z"
   },
   {
    "duration": 12,
    "start_time": "2024-11-07T15:38:28.666Z"
   },
   {
    "duration": 4,
    "start_time": "2024-11-07T15:38:28.682Z"
   },
   {
    "duration": 38,
    "start_time": "2024-11-07T15:38:28.688Z"
   },
   {
    "duration": 15,
    "start_time": "2024-11-07T15:38:28.727Z"
   },
   {
    "duration": 10,
    "start_time": "2024-11-07T15:38:28.743Z"
   },
   {
    "duration": 26,
    "start_time": "2024-11-07T15:38:28.755Z"
   },
   {
    "duration": 11,
    "start_time": "2024-11-07T15:38:28.783Z"
   },
   {
    "duration": 16,
    "start_time": "2024-11-07T15:38:28.824Z"
   },
   {
    "duration": 11,
    "start_time": "2024-11-07T15:38:28.842Z"
   },
   {
    "duration": 8,
    "start_time": "2024-11-07T15:38:28.855Z"
   },
   {
    "duration": 18,
    "start_time": "2024-11-07T15:38:28.864Z"
   },
   {
    "duration": 42,
    "start_time": "2024-11-07T15:38:28.883Z"
   },
   {
    "duration": 12,
    "start_time": "2024-11-07T15:38:28.927Z"
   },
   {
    "duration": 14,
    "start_time": "2024-11-07T15:38:28.941Z"
   },
   {
    "duration": 9,
    "start_time": "2024-11-07T15:38:28.957Z"
   },
   {
    "duration": 20,
    "start_time": "2024-11-07T15:38:28.967Z"
   },
   {
    "duration": 40,
    "start_time": "2024-11-07T15:38:28.989Z"
   },
   {
    "duration": 14,
    "start_time": "2024-11-07T15:38:29.031Z"
   },
   {
    "duration": 7,
    "start_time": "2024-11-07T15:38:29.047Z"
   },
   {
    "duration": 11,
    "start_time": "2024-11-07T15:38:29.058Z"
   },
   {
    "duration": 12,
    "start_time": "2024-11-07T15:38:29.070Z"
   },
   {
    "duration": 45,
    "start_time": "2024-11-07T15:38:29.084Z"
   },
   {
    "duration": 9,
    "start_time": "2024-11-07T15:38:29.130Z"
   },
   {
    "duration": 23,
    "start_time": "2024-11-07T15:38:29.141Z"
   },
   {
    "duration": 224,
    "start_time": "2024-11-07T15:38:29.166Z"
   },
   {
    "duration": 0,
    "start_time": "2024-11-07T15:38:29.392Z"
   },
   {
    "duration": 0,
    "start_time": "2024-11-07T15:38:29.393Z"
   },
   {
    "duration": 0,
    "start_time": "2024-11-07T15:38:29.394Z"
   },
   {
    "duration": 0,
    "start_time": "2024-11-07T15:38:29.395Z"
   },
   {
    "duration": 0,
    "start_time": "2024-11-07T15:38:29.396Z"
   },
   {
    "duration": 0,
    "start_time": "2024-11-07T15:38:29.397Z"
   },
   {
    "duration": 0,
    "start_time": "2024-11-07T15:38:29.399Z"
   },
   {
    "duration": 0,
    "start_time": "2024-11-07T15:38:29.401Z"
   },
   {
    "duration": 0,
    "start_time": "2024-11-07T15:38:29.402Z"
   },
   {
    "duration": 16,
    "start_time": "2024-11-07T15:41:00.297Z"
   },
   {
    "duration": 18,
    "start_time": "2024-11-07T15:41:27.882Z"
   },
   {
    "duration": 17,
    "start_time": "2024-11-07T15:42:26.114Z"
   },
   {
    "duration": 321,
    "start_time": "2024-11-07T15:47:21.511Z"
   },
   {
    "duration": 14,
    "start_time": "2024-11-07T15:48:00.707Z"
   },
   {
    "duration": 12,
    "start_time": "2024-11-07T15:48:28.890Z"
   },
   {
    "duration": 17,
    "start_time": "2024-11-07T15:48:39.496Z"
   },
   {
    "duration": 30,
    "start_time": "2024-11-07T15:59:20.416Z"
   },
   {
    "duration": 6,
    "start_time": "2024-11-07T16:04:20.580Z"
   },
   {
    "duration": 4,
    "start_time": "2024-11-07T16:04:45.343Z"
   },
   {
    "duration": 14,
    "start_time": "2024-11-07T16:05:08.967Z"
   },
   {
    "duration": 25,
    "start_time": "2024-11-07T16:05:19.839Z"
   },
   {
    "duration": 277,
    "start_time": "2024-11-07T16:09:58.295Z"
   },
   {
    "duration": 288,
    "start_time": "2024-11-07T16:10:07.785Z"
   },
   {
    "duration": 439,
    "start_time": "2024-11-07T16:10:20.538Z"
   },
   {
    "duration": 399,
    "start_time": "2024-11-07T16:10:23.390Z"
   },
   {
    "duration": 296,
    "start_time": "2024-11-07T16:10:34.618Z"
   },
   {
    "duration": 67,
    "start_time": "2024-11-07T16:11:43.850Z"
   },
   {
    "duration": 281,
    "start_time": "2024-11-07T16:12:25.636Z"
   },
   {
    "duration": 286,
    "start_time": "2024-11-07T16:13:18.421Z"
   },
   {
    "duration": 289,
    "start_time": "2024-11-07T16:14:23.530Z"
   },
   {
    "duration": 304,
    "start_time": "2024-11-07T16:15:11.094Z"
   },
   {
    "duration": 12,
    "start_time": "2024-11-07T16:17:20.264Z"
   },
   {
    "duration": 12,
    "start_time": "2024-11-07T16:17:31.260Z"
   },
   {
    "duration": 24,
    "start_time": "2024-11-07T16:17:37.831Z"
   },
   {
    "duration": 3,
    "start_time": "2024-11-07T16:26:02.474Z"
   },
   {
    "duration": 23,
    "start_time": "2024-11-07T16:26:09.837Z"
   },
   {
    "duration": 27,
    "start_time": "2024-11-07T16:27:21.429Z"
   },
   {
    "duration": 27,
    "start_time": "2024-11-07T16:27:40.621Z"
   },
   {
    "duration": 24,
    "start_time": "2024-11-07T16:29:55.474Z"
   },
   {
    "duration": 12,
    "start_time": "2024-11-07T16:30:32.450Z"
   },
   {
    "duration": 16,
    "start_time": "2024-11-07T16:30:38.908Z"
   },
   {
    "duration": 24,
    "start_time": "2024-11-07T16:30:53.803Z"
   },
   {
    "duration": 21,
    "start_time": "2024-11-07T16:31:41.687Z"
   },
   {
    "duration": 23,
    "start_time": "2024-11-07T16:32:54.312Z"
   },
   {
    "duration": 20,
    "start_time": "2024-11-07T16:33:56.075Z"
   },
   {
    "duration": 27,
    "start_time": "2024-11-07T16:34:08.815Z"
   },
   {
    "duration": 23,
    "start_time": "2024-11-07T16:34:15.149Z"
   },
   {
    "duration": 23,
    "start_time": "2024-11-07T16:34:37.673Z"
   },
   {
    "duration": 23,
    "start_time": "2024-11-07T16:35:43.055Z"
   },
   {
    "duration": 22,
    "start_time": "2024-11-07T16:35:50.401Z"
   },
   {
    "duration": 21,
    "start_time": "2024-11-07T16:36:20.912Z"
   },
   {
    "duration": 295,
    "start_time": "2024-11-07T16:39:33.900Z"
   },
   {
    "duration": 781,
    "start_time": "2024-11-07T16:40:17.922Z"
   },
   {
    "duration": 159,
    "start_time": "2024-11-07T16:40:18.705Z"
   },
   {
    "duration": 10,
    "start_time": "2024-11-07T16:40:18.866Z"
   },
   {
    "duration": 11,
    "start_time": "2024-11-07T16:40:18.878Z"
   },
   {
    "duration": 10,
    "start_time": "2024-11-07T16:40:18.891Z"
   },
   {
    "duration": 29,
    "start_time": "2024-11-07T16:40:18.902Z"
   },
   {
    "duration": 11,
    "start_time": "2024-11-07T16:40:18.933Z"
   },
   {
    "duration": 10,
    "start_time": "2024-11-07T16:40:18.945Z"
   },
   {
    "duration": 11,
    "start_time": "2024-11-07T16:40:18.957Z"
   },
   {
    "duration": 3,
    "start_time": "2024-11-07T16:40:18.970Z"
   },
   {
    "duration": 4,
    "start_time": "2024-11-07T16:40:18.975Z"
   },
   {
    "duration": 52,
    "start_time": "2024-11-07T16:40:18.980Z"
   },
   {
    "duration": 11,
    "start_time": "2024-11-07T16:40:19.033Z"
   },
   {
    "duration": 26,
    "start_time": "2024-11-07T16:40:19.047Z"
   },
   {
    "duration": 10,
    "start_time": "2024-11-07T16:40:19.075Z"
   },
   {
    "duration": 40,
    "start_time": "2024-11-07T16:40:19.087Z"
   },
   {
    "duration": 11,
    "start_time": "2024-11-07T16:40:19.129Z"
   },
   {
    "duration": 8,
    "start_time": "2024-11-07T16:40:19.142Z"
   },
   {
    "duration": 16,
    "start_time": "2024-11-07T16:40:19.152Z"
   },
   {
    "duration": 8,
    "start_time": "2024-11-07T16:40:19.170Z"
   },
   {
    "duration": 13,
    "start_time": "2024-11-07T16:40:19.179Z"
   },
   {
    "duration": 13,
    "start_time": "2024-11-07T16:40:19.225Z"
   },
   {
    "duration": 9,
    "start_time": "2024-11-07T16:40:19.239Z"
   },
   {
    "duration": 20,
    "start_time": "2024-11-07T16:40:19.250Z"
   },
   {
    "duration": 15,
    "start_time": "2024-11-07T16:40:19.272Z"
   },
   {
    "duration": 46,
    "start_time": "2024-11-07T16:40:19.289Z"
   },
   {
    "duration": 7,
    "start_time": "2024-11-07T16:40:19.337Z"
   },
   {
    "duration": 609,
    "start_time": "2024-11-07T16:40:26.241Z"
   },
   {
    "duration": 46,
    "start_time": "2024-11-07T16:40:30.905Z"
   },
   {
    "duration": 13,
    "start_time": "2024-11-07T16:40:53.165Z"
   },
   {
    "duration": 13,
    "start_time": "2024-11-07T16:43:57.846Z"
   },
   {
    "duration": 49,
    "start_time": "2024-11-07T16:44:28.359Z"
   },
   {
    "duration": 13,
    "start_time": "2024-11-07T16:45:23.102Z"
   },
   {
    "duration": 776,
    "start_time": "2024-11-07T16:47:13.354Z"
   },
   {
    "duration": 158,
    "start_time": "2024-11-07T16:47:14.132Z"
   },
   {
    "duration": 10,
    "start_time": "2024-11-07T16:47:14.292Z"
   },
   {
    "duration": 22,
    "start_time": "2024-11-07T16:47:14.304Z"
   },
   {
    "duration": 10,
    "start_time": "2024-11-07T16:47:14.328Z"
   },
   {
    "duration": 8,
    "start_time": "2024-11-07T16:47:14.340Z"
   },
   {
    "duration": 10,
    "start_time": "2024-11-07T16:47:14.351Z"
   },
   {
    "duration": 10,
    "start_time": "2024-11-07T16:47:14.363Z"
   },
   {
    "duration": 12,
    "start_time": "2024-11-07T16:47:14.374Z"
   },
   {
    "duration": 37,
    "start_time": "2024-11-07T16:47:14.388Z"
   },
   {
    "duration": 4,
    "start_time": "2024-11-07T16:47:14.426Z"
   },
   {
    "duration": 14,
    "start_time": "2024-11-07T16:47:14.433Z"
   },
   {
    "duration": 9,
    "start_time": "2024-11-07T16:47:14.449Z"
   },
   {
    "duration": 26,
    "start_time": "2024-11-07T16:47:14.462Z"
   },
   {
    "duration": 41,
    "start_time": "2024-11-07T16:47:14.490Z"
   },
   {
    "duration": 17,
    "start_time": "2024-11-07T16:47:14.532Z"
   },
   {
    "duration": 11,
    "start_time": "2024-11-07T16:47:14.551Z"
   },
   {
    "duration": 8,
    "start_time": "2024-11-07T16:47:14.564Z"
   },
   {
    "duration": 16,
    "start_time": "2024-11-07T16:47:14.574Z"
   },
   {
    "duration": 38,
    "start_time": "2024-11-07T16:47:14.592Z"
   },
   {
    "duration": 12,
    "start_time": "2024-11-07T16:47:14.631Z"
   },
   {
    "duration": 14,
    "start_time": "2024-11-07T16:47:14.644Z"
   },
   {
    "duration": 8,
    "start_time": "2024-11-07T16:47:14.660Z"
   },
   {
    "duration": 21,
    "start_time": "2024-11-07T16:47:14.670Z"
   },
   {
    "duration": 49,
    "start_time": "2024-11-07T16:47:14.692Z"
   },
   {
    "duration": 14,
    "start_time": "2024-11-07T16:47:14.743Z"
   },
   {
    "duration": 7,
    "start_time": "2024-11-07T16:47:14.758Z"
   },
   {
    "duration": 11,
    "start_time": "2024-11-07T16:47:41.500Z"
   },
   {
    "duration": 603,
    "start_time": "2024-11-07T16:48:18.418Z"
   },
   {
    "duration": 19,
    "start_time": "2024-11-07T16:49:27.050Z"
   },
   {
    "duration": 17,
    "start_time": "2024-11-07T16:50:07.618Z"
   },
   {
    "duration": 19,
    "start_time": "2024-11-07T16:50:17.184Z"
   },
   {
    "duration": 17,
    "start_time": "2024-11-07T16:51:09.670Z"
   },
   {
    "duration": 45,
    "start_time": "2024-11-07T16:52:27.069Z"
   },
   {
    "duration": 15,
    "start_time": "2024-11-07T16:52:46.402Z"
   },
   {
    "duration": 191,
    "start_time": "2024-11-07T16:53:17.866Z"
   },
   {
    "duration": 17,
    "start_time": "2024-11-07T16:54:00.475Z"
   },
   {
    "duration": 333,
    "start_time": "2024-11-07T16:54:13.858Z"
   },
   {
    "duration": 18,
    "start_time": "2024-11-07T16:55:01.613Z"
   },
   {
    "duration": 4,
    "start_time": "2024-11-07T17:07:00.943Z"
   },
   {
    "duration": 21,
    "start_time": "2024-11-07T17:07:18.543Z"
   },
   {
    "duration": 24,
    "start_time": "2024-11-07T17:28:13.984Z"
   },
   {
    "duration": 27,
    "start_time": "2024-11-07T17:28:26.297Z"
   },
   {
    "duration": 31,
    "start_time": "2024-11-07T17:29:30.810Z"
   },
   {
    "duration": 339,
    "start_time": "2024-11-07T17:29:49.152Z"
   },
   {
    "duration": 22,
    "start_time": "2024-11-07T17:30:09.804Z"
   },
   {
    "duration": 24,
    "start_time": "2024-11-07T17:30:28.025Z"
   },
   {
    "duration": 49,
    "start_time": "2024-11-07T17:30:52.894Z"
   },
   {
    "duration": 33,
    "start_time": "2024-11-07T17:31:18.964Z"
   },
   {
    "duration": 29,
    "start_time": "2024-11-07T17:35:23.739Z"
   },
   {
    "duration": 25,
    "start_time": "2024-11-07T17:38:42.958Z"
   },
   {
    "duration": 28,
    "start_time": "2024-11-07T17:39:08.138Z"
   },
   {
    "duration": 24,
    "start_time": "2024-11-07T18:47:27.387Z"
   },
   {
    "duration": 21,
    "start_time": "2024-11-07T18:47:33.973Z"
   },
   {
    "duration": 29,
    "start_time": "2024-11-07T18:47:50.543Z"
   },
   {
    "duration": 20,
    "start_time": "2024-11-07T18:47:59.349Z"
   },
   {
    "duration": 42,
    "start_time": "2024-11-07T18:49:00.915Z"
   },
   {
    "duration": 31,
    "start_time": "2024-11-07T18:49:34.803Z"
   },
   {
    "duration": 19,
    "start_time": "2024-11-07T18:50:23.631Z"
   },
   {
    "duration": 16,
    "start_time": "2024-11-07T18:50:48.060Z"
   },
   {
    "duration": 16,
    "start_time": "2024-11-07T18:51:14.739Z"
   },
   {
    "duration": 26,
    "start_time": "2024-11-07T18:51:38.001Z"
   },
   {
    "duration": 19,
    "start_time": "2024-11-07T18:51:53.578Z"
   },
   {
    "duration": 21,
    "start_time": "2024-11-07T18:52:59.026Z"
   },
   {
    "duration": 34,
    "start_time": "2024-11-07T19:07:18.629Z"
   },
   {
    "duration": 29,
    "start_time": "2024-11-07T21:18:31.231Z"
   },
   {
    "duration": 6,
    "start_time": "2024-11-07T21:29:10.336Z"
   },
   {
    "duration": 32,
    "start_time": "2024-11-07T21:29:45.068Z"
   },
   {
    "duration": 4,
    "start_time": "2024-11-07T23:14:03.744Z"
   },
   {
    "duration": 4,
    "start_time": "2024-11-07T23:14:07.886Z"
   },
   {
    "duration": 4,
    "start_time": "2024-11-07T23:26:07.678Z"
   },
   {
    "duration": 5,
    "start_time": "2024-11-07T23:26:22.115Z"
   },
   {
    "duration": 18,
    "start_time": "2024-11-07T23:28:18.497Z"
   },
   {
    "duration": 18,
    "start_time": "2024-11-07T23:42:48.555Z"
   },
   {
    "duration": 251,
    "start_time": "2024-11-08T15:25:39.385Z"
   },
   {
    "duration": 2508,
    "start_time": "2024-11-08T15:25:50.183Z"
   },
   {
    "duration": 234,
    "start_time": "2024-11-08T15:25:52.693Z"
   },
   {
    "duration": 10,
    "start_time": "2024-11-08T15:25:52.929Z"
   },
   {
    "duration": 9,
    "start_time": "2024-11-08T15:25:52.941Z"
   },
   {
    "duration": 10,
    "start_time": "2024-11-08T15:25:52.954Z"
   },
   {
    "duration": 13,
    "start_time": "2024-11-08T15:25:52.966Z"
   },
   {
    "duration": 11,
    "start_time": "2024-11-08T15:25:52.981Z"
   },
   {
    "duration": 10,
    "start_time": "2024-11-08T15:25:52.994Z"
   },
   {
    "duration": 38,
    "start_time": "2024-11-08T15:25:53.006Z"
   },
   {
    "duration": 3,
    "start_time": "2024-11-08T15:25:53.046Z"
   },
   {
    "duration": 4,
    "start_time": "2024-11-08T15:25:53.051Z"
   },
   {
    "duration": 17,
    "start_time": "2024-11-08T15:25:53.056Z"
   },
   {
    "duration": 11,
    "start_time": "2024-11-08T15:25:53.074Z"
   },
   {
    "duration": 58,
    "start_time": "2024-11-08T15:25:53.088Z"
   },
   {
    "duration": 14,
    "start_time": "2024-11-08T15:25:53.148Z"
   },
   {
    "duration": 16,
    "start_time": "2024-11-08T15:25:53.164Z"
   },
   {
    "duration": 12,
    "start_time": "2024-11-08T15:25:53.181Z"
   },
   {
    "duration": 7,
    "start_time": "2024-11-08T15:25:53.195Z"
   },
   {
    "duration": 45,
    "start_time": "2024-11-08T15:25:53.204Z"
   },
   {
    "duration": 9,
    "start_time": "2024-11-08T15:25:53.251Z"
   },
   {
    "duration": 12,
    "start_time": "2024-11-08T15:25:53.262Z"
   },
   {
    "duration": 13,
    "start_time": "2024-11-08T15:25:53.275Z"
   },
   {
    "duration": 9,
    "start_time": "2024-11-08T15:25:53.290Z"
   },
   {
    "duration": 53,
    "start_time": "2024-11-08T15:25:53.301Z"
   },
   {
    "duration": 15,
    "start_time": "2024-11-08T15:25:53.356Z"
   },
   {
    "duration": 14,
    "start_time": "2024-11-08T15:25:53.373Z"
   },
   {
    "duration": 8,
    "start_time": "2024-11-08T15:25:53.388Z"
   },
   {
    "duration": 10,
    "start_time": "2024-11-08T15:25:53.398Z"
   },
   {
    "duration": 50,
    "start_time": "2024-11-08T15:25:53.410Z"
   },
   {
    "duration": 16,
    "start_time": "2024-11-08T15:25:53.461Z"
   },
   {
    "duration": 12,
    "start_time": "2024-11-08T15:25:53.479Z"
   },
   {
    "duration": 12,
    "start_time": "2024-11-08T15:25:53.493Z"
   },
   {
    "duration": 45,
    "start_time": "2024-11-08T15:25:53.508Z"
   },
   {
    "duration": 150,
    "start_time": "2024-11-08T15:25:53.554Z"
   },
   {
    "duration": 116,
    "start_time": "2024-11-08T15:25:53.706Z"
   },
   {
    "duration": 0,
    "start_time": "2024-11-08T15:25:53.825Z"
   },
   {
    "duration": 0,
    "start_time": "2024-11-08T15:25:53.827Z"
   },
   {
    "duration": 1,
    "start_time": "2024-11-08T15:25:53.827Z"
   },
   {
    "duration": 0,
    "start_time": "2024-11-08T15:25:53.829Z"
   },
   {
    "duration": 0,
    "start_time": "2024-11-08T15:25:53.830Z"
   },
   {
    "duration": 0,
    "start_time": "2024-11-08T15:25:53.831Z"
   },
   {
    "duration": 0,
    "start_time": "2024-11-08T15:25:53.833Z"
   },
   {
    "duration": 0,
    "start_time": "2024-11-08T15:25:53.833Z"
   },
   {
    "duration": 16,
    "start_time": "2024-11-08T15:26:02.026Z"
   },
   {
    "duration": 9,
    "start_time": "2024-11-08T15:28:12.221Z"
   },
   {
    "duration": 16,
    "start_time": "2024-11-08T15:28:25.192Z"
   },
   {
    "duration": 19,
    "start_time": "2024-11-08T15:42:14.888Z"
   },
   {
    "duration": 27,
    "start_time": "2024-11-08T15:52:04.031Z"
   },
   {
    "duration": 22,
    "start_time": "2024-11-08T15:52:49.089Z"
   },
   {
    "duration": 18,
    "start_time": "2024-11-08T15:53:55.321Z"
   },
   {
    "duration": 782,
    "start_time": "2024-11-08T15:54:12.150Z"
   },
   {
    "duration": 162,
    "start_time": "2024-11-08T15:54:12.934Z"
   },
   {
    "duration": 9,
    "start_time": "2024-11-08T15:54:13.098Z"
   },
   {
    "duration": 9,
    "start_time": "2024-11-08T15:54:13.110Z"
   },
   {
    "duration": 22,
    "start_time": "2024-11-08T15:54:13.122Z"
   },
   {
    "duration": 9,
    "start_time": "2024-11-08T15:54:13.146Z"
   },
   {
    "duration": 12,
    "start_time": "2024-11-08T15:54:13.157Z"
   },
   {
    "duration": 10,
    "start_time": "2024-11-08T15:54:13.172Z"
   },
   {
    "duration": 14,
    "start_time": "2024-11-08T15:54:13.183Z"
   },
   {
    "duration": 4,
    "start_time": "2024-11-08T15:54:13.198Z"
   },
   {
    "duration": 40,
    "start_time": "2024-11-08T15:54:13.204Z"
   },
   {
    "duration": 17,
    "start_time": "2024-11-08T15:54:13.246Z"
   },
   {
    "duration": 11,
    "start_time": "2024-11-08T15:54:13.265Z"
   },
   {
    "duration": 26,
    "start_time": "2024-11-08T15:54:13.280Z"
   },
   {
    "duration": 37,
    "start_time": "2024-11-08T15:54:13.307Z"
   },
   {
    "duration": 18,
    "start_time": "2024-11-08T15:54:13.346Z"
   },
   {
    "duration": 12,
    "start_time": "2024-11-08T15:54:13.366Z"
   },
   {
    "duration": 8,
    "start_time": "2024-11-08T15:54:13.380Z"
   },
   {
    "duration": 17,
    "start_time": "2024-11-08T15:54:13.390Z"
   },
   {
    "duration": 38,
    "start_time": "2024-11-08T15:54:13.409Z"
   },
   {
    "duration": 12,
    "start_time": "2024-11-08T15:54:13.449Z"
   },
   {
    "duration": 15,
    "start_time": "2024-11-08T15:54:13.462Z"
   },
   {
    "duration": 10,
    "start_time": "2024-11-08T15:54:13.478Z"
   },
   {
    "duration": 20,
    "start_time": "2024-11-08T15:54:13.490Z"
   },
   {
    "duration": 51,
    "start_time": "2024-11-08T15:54:13.512Z"
   },
   {
    "duration": 14,
    "start_time": "2024-11-08T15:54:13.564Z"
   },
   {
    "duration": 7,
    "start_time": "2024-11-08T15:54:13.580Z"
   },
   {
    "duration": 10,
    "start_time": "2024-11-08T15:54:13.589Z"
   },
   {
    "duration": 46,
    "start_time": "2024-11-08T15:54:13.601Z"
   },
   {
    "duration": 17,
    "start_time": "2024-11-08T15:54:13.649Z"
   },
   {
    "duration": 13,
    "start_time": "2024-11-08T15:54:13.668Z"
   },
   {
    "duration": 13,
    "start_time": "2024-11-08T15:54:13.683Z"
   },
   {
    "duration": 46,
    "start_time": "2024-11-08T15:54:13.698Z"
   },
   {
    "duration": 156,
    "start_time": "2024-11-08T15:54:13.746Z"
   },
   {
    "duration": 120,
    "start_time": "2024-11-08T15:54:13.904Z"
   },
   {
    "duration": 0,
    "start_time": "2024-11-08T15:54:14.026Z"
   },
   {
    "duration": 0,
    "start_time": "2024-11-08T15:54:14.027Z"
   },
   {
    "duration": 0,
    "start_time": "2024-11-08T15:54:14.028Z"
   },
   {
    "duration": 0,
    "start_time": "2024-11-08T15:54:14.029Z"
   },
   {
    "duration": 0,
    "start_time": "2024-11-08T15:54:14.042Z"
   },
   {
    "duration": 0,
    "start_time": "2024-11-08T15:54:14.043Z"
   },
   {
    "duration": 1,
    "start_time": "2024-11-08T15:54:14.044Z"
   },
   {
    "duration": 0,
    "start_time": "2024-11-08T15:54:14.046Z"
   },
   {
    "duration": 4,
    "start_time": "2024-11-08T15:57:03.215Z"
   },
   {
    "duration": 6,
    "start_time": "2024-11-08T15:57:11.959Z"
   },
   {
    "duration": 18,
    "start_time": "2024-11-08T15:57:38.096Z"
   },
   {
    "duration": 18,
    "start_time": "2024-11-08T15:59:43.290Z"
   },
   {
    "duration": 61,
    "start_time": "2024-11-08T16:00:06.911Z"
   },
   {
    "duration": 17,
    "start_time": "2024-11-08T16:05:27.112Z"
   },
   {
    "duration": 18,
    "start_time": "2024-11-08T16:05:36.407Z"
   },
   {
    "duration": 17,
    "start_time": "2024-11-08T16:08:33.491Z"
   },
   {
    "duration": 4,
    "start_time": "2024-11-08T16:10:03.372Z"
   },
   {
    "duration": 15,
    "start_time": "2024-11-08T16:10:19.454Z"
   },
   {
    "duration": 426,
    "start_time": "2024-11-08T16:10:55.521Z"
   },
   {
    "duration": 45,
    "start_time": "2024-11-08T16:11:06.954Z"
   },
   {
    "duration": 16,
    "start_time": "2024-11-08T16:12:37.424Z"
   },
   {
    "duration": 14,
    "start_time": "2024-11-08T16:13:46.333Z"
   },
   {
    "duration": 13,
    "start_time": "2024-11-08T16:14:31.512Z"
   },
   {
    "duration": 14,
    "start_time": "2024-11-08T16:15:06.458Z"
   },
   {
    "duration": 15,
    "start_time": "2024-11-08T16:15:39.369Z"
   },
   {
    "duration": 4,
    "start_time": "2024-11-08T16:41:42.240Z"
   },
   {
    "duration": 3,
    "start_time": "2024-11-08T16:41:50.155Z"
   },
   {
    "duration": 14,
    "start_time": "2024-11-08T16:42:56.507Z"
   },
   {
    "duration": 14,
    "start_time": "2024-11-08T16:43:03.521Z"
   },
   {
    "duration": 21,
    "start_time": "2024-11-08T16:44:50.884Z"
   },
   {
    "duration": 21,
    "start_time": "2024-11-08T16:45:47.236Z"
   },
   {
    "duration": 91,
    "start_time": "2024-11-08T16:47:44.509Z"
   },
   {
    "duration": 99,
    "start_time": "2024-11-08T16:47:55.917Z"
   },
   {
    "duration": 183,
    "start_time": "2024-11-08T16:49:22.202Z"
   },
   {
    "duration": 41,
    "start_time": "2024-11-08T16:49:45.312Z"
   },
   {
    "duration": 170,
    "start_time": "2024-11-08T16:50:32.183Z"
   },
   {
    "duration": 272,
    "start_time": "2024-11-08T16:52:30.535Z"
   },
   {
    "duration": 157,
    "start_time": "2024-11-08T16:55:00.396Z"
   },
   {
    "duration": 64,
    "start_time": "2024-11-08T16:55:30.575Z"
   },
   {
    "duration": 19,
    "start_time": "2024-11-08T16:56:23.536Z"
   },
   {
    "duration": 81,
    "start_time": "2024-11-08T16:57:01.623Z"
   },
   {
    "duration": 5,
    "start_time": "2024-11-08T16:58:14.308Z"
   },
   {
    "duration": 173,
    "start_time": "2024-11-08T16:58:23.413Z"
   },
   {
    "duration": 101,
    "start_time": "2024-11-08T16:58:42.611Z"
   },
   {
    "duration": 39,
    "start_time": "2024-11-08T17:01:28.517Z"
   },
   {
    "duration": 5,
    "start_time": "2024-11-08T17:01:50.415Z"
   },
   {
    "duration": 137,
    "start_time": "2024-11-08T17:01:59.509Z"
   },
   {
    "duration": 18,
    "start_time": "2024-11-08T17:02:49.889Z"
   },
   {
    "duration": 100,
    "start_time": "2024-11-08T17:04:35.562Z"
   },
   {
    "duration": 188,
    "start_time": "2024-11-08T17:05:20.084Z"
   },
   {
    "duration": 64,
    "start_time": "2024-11-08T17:06:06.237Z"
   },
   {
    "duration": 786,
    "start_time": "2024-11-08T17:06:35.761Z"
   },
   {
    "duration": 159,
    "start_time": "2024-11-08T17:06:36.550Z"
   },
   {
    "duration": 9,
    "start_time": "2024-11-08T17:06:36.711Z"
   },
   {
    "duration": 9,
    "start_time": "2024-11-08T17:06:36.723Z"
   },
   {
    "duration": 9,
    "start_time": "2024-11-08T17:06:36.743Z"
   },
   {
    "duration": 9,
    "start_time": "2024-11-08T17:06:36.753Z"
   },
   {
    "duration": 12,
    "start_time": "2024-11-08T17:06:36.763Z"
   },
   {
    "duration": 11,
    "start_time": "2024-11-08T17:06:36.776Z"
   },
   {
    "duration": 12,
    "start_time": "2024-11-08T17:06:36.788Z"
   },
   {
    "duration": 38,
    "start_time": "2024-11-08T17:06:36.804Z"
   },
   {
    "duration": 4,
    "start_time": "2024-11-08T17:06:36.844Z"
   },
   {
    "duration": 24,
    "start_time": "2024-11-08T17:06:36.849Z"
   },
   {
    "duration": 10,
    "start_time": "2024-11-08T17:06:36.875Z"
   },
   {
    "duration": 26,
    "start_time": "2024-11-08T17:06:36.886Z"
   },
   {
    "duration": 31,
    "start_time": "2024-11-08T17:06:36.913Z"
   },
   {
    "duration": 17,
    "start_time": "2024-11-08T17:06:36.946Z"
   },
   {
    "duration": 12,
    "start_time": "2024-11-08T17:06:36.964Z"
   },
   {
    "duration": 8,
    "start_time": "2024-11-08T17:06:36.977Z"
   },
   {
    "duration": 17,
    "start_time": "2024-11-08T17:06:36.986Z"
   },
   {
    "duration": 40,
    "start_time": "2024-11-08T17:06:37.005Z"
   },
   {
    "duration": 11,
    "start_time": "2024-11-08T17:06:37.047Z"
   },
   {
    "duration": 13,
    "start_time": "2024-11-08T17:06:37.060Z"
   },
   {
    "duration": 8,
    "start_time": "2024-11-08T17:06:37.075Z"
   },
   {
    "duration": 20,
    "start_time": "2024-11-08T17:06:37.085Z"
   },
   {
    "duration": 40,
    "start_time": "2024-11-08T17:06:37.106Z"
   },
   {
    "duration": 14,
    "start_time": "2024-11-08T17:06:37.148Z"
   },
   {
    "duration": 7,
    "start_time": "2024-11-08T17:06:37.163Z"
   },
   {
    "duration": 9,
    "start_time": "2024-11-08T17:06:37.174Z"
   },
   {
    "duration": 19,
    "start_time": "2024-11-08T17:06:37.185Z"
   },
   {
    "duration": 52,
    "start_time": "2024-11-08T17:06:37.205Z"
   },
   {
    "duration": 13,
    "start_time": "2024-11-08T17:06:37.259Z"
   },
   {
    "duration": 12,
    "start_time": "2024-11-08T17:06:37.274Z"
   },
   {
    "duration": 22,
    "start_time": "2024-11-08T17:06:37.287Z"
   },
   {
    "duration": 171,
    "start_time": "2024-11-08T17:06:37.310Z"
   },
   {
    "duration": 118,
    "start_time": "2024-11-08T17:06:37.483Z"
   },
   {
    "duration": 2,
    "start_time": "2024-11-08T17:06:37.604Z"
   },
   {
    "duration": 3,
    "start_time": "2024-11-08T17:06:37.607Z"
   },
   {
    "duration": 3,
    "start_time": "2024-11-08T17:06:37.611Z"
   },
   {
    "duration": 3,
    "start_time": "2024-11-08T17:06:37.615Z"
   },
   {
    "duration": 2,
    "start_time": "2024-11-08T17:06:37.621Z"
   },
   {
    "duration": 3,
    "start_time": "2024-11-08T17:06:37.644Z"
   },
   {
    "duration": 3,
    "start_time": "2024-11-08T17:06:37.648Z"
   },
   {
    "duration": 3,
    "start_time": "2024-11-08T17:06:37.652Z"
   },
   {
    "duration": 370,
    "start_time": "2024-11-08T17:13:08.279Z"
   },
   {
    "duration": 42,
    "start_time": "2024-11-08T17:14:56.081Z"
   },
   {
    "duration": 321,
    "start_time": "2024-11-08T17:15:21.298Z"
   },
   {
    "duration": 94,
    "start_time": "2024-11-08T17:18:58.341Z"
   },
   {
    "duration": 39,
    "start_time": "2024-11-08T17:20:04.011Z"
   },
   {
    "duration": 176,
    "start_time": "2024-11-08T17:20:24.423Z"
   },
   {
    "duration": 5,
    "start_time": "2024-11-08T17:20:44.810Z"
   },
   {
    "duration": 98,
    "start_time": "2024-11-08T17:21:01.093Z"
   },
   {
    "duration": 279,
    "start_time": "2024-11-08T17:22:05.935Z"
   },
   {
    "duration": 337,
    "start_time": "2024-11-08T17:24:59.942Z"
   },
   {
    "duration": 266,
    "start_time": "2024-11-08T17:27:01.428Z"
   },
   {
    "duration": 266,
    "start_time": "2024-11-08T17:28:34.828Z"
   },
   {
    "duration": 309,
    "start_time": "2024-11-08T17:32:22.432Z"
   },
   {
    "duration": 4,
    "start_time": "2024-11-08T17:36:41.977Z"
   },
   {
    "duration": 44,
    "start_time": "2024-11-08T17:36:56.469Z"
   },
   {
    "duration": 42,
    "start_time": "2024-11-08T17:37:19.130Z"
   },
   {
    "duration": 42,
    "start_time": "2024-11-08T17:37:53.583Z"
   },
   {
    "duration": 43,
    "start_time": "2024-11-08T17:38:31.389Z"
   },
   {
    "duration": 43,
    "start_time": "2024-11-08T17:39:37.616Z"
   },
   {
    "duration": 41,
    "start_time": "2024-11-08T17:40:27.809Z"
   },
   {
    "duration": 6,
    "start_time": "2024-11-08T17:40:40.919Z"
   },
   {
    "duration": 4,
    "start_time": "2024-11-08T17:40:54.035Z"
   },
   {
    "duration": 42,
    "start_time": "2024-11-08T17:41:18.452Z"
   },
   {
    "duration": 177,
    "start_time": "2024-11-08T21:29:33.607Z"
   },
   {
    "duration": 2491,
    "start_time": "2024-11-08T21:31:20.570Z"
   },
   {
    "duration": 265,
    "start_time": "2024-11-08T21:31:23.064Z"
   },
   {
    "duration": 9,
    "start_time": "2024-11-08T21:31:23.331Z"
   },
   {
    "duration": 10,
    "start_time": "2024-11-08T21:31:23.342Z"
   },
   {
    "duration": 9,
    "start_time": "2024-11-08T21:31:23.353Z"
   },
   {
    "duration": 7,
    "start_time": "2024-11-08T21:31:23.365Z"
   },
   {
    "duration": 11,
    "start_time": "2024-11-08T21:31:23.374Z"
   },
   {
    "duration": 10,
    "start_time": "2024-11-08T21:31:23.387Z"
   },
   {
    "duration": 44,
    "start_time": "2024-11-08T21:31:23.399Z"
   },
   {
    "duration": 4,
    "start_time": "2024-11-08T21:31:23.447Z"
   },
   {
    "duration": 4,
    "start_time": "2024-11-08T21:31:23.452Z"
   },
   {
    "duration": 15,
    "start_time": "2024-11-08T21:31:23.458Z"
   },
   {
    "duration": 11,
    "start_time": "2024-11-08T21:31:23.475Z"
   },
   {
    "duration": 60,
    "start_time": "2024-11-08T21:31:23.487Z"
   },
   {
    "duration": 12,
    "start_time": "2024-11-08T21:31:23.548Z"
   },
   {
    "duration": 17,
    "start_time": "2024-11-08T21:31:23.561Z"
   },
   {
    "duration": 11,
    "start_time": "2024-11-08T21:31:23.580Z"
   },
   {
    "duration": 38,
    "start_time": "2024-11-08T21:31:23.593Z"
   },
   {
    "duration": 17,
    "start_time": "2024-11-08T21:31:23.633Z"
   },
   {
    "duration": 8,
    "start_time": "2024-11-08T21:31:23.651Z"
   },
   {
    "duration": 11,
    "start_time": "2024-11-08T21:31:23.661Z"
   },
   {
    "duration": 14,
    "start_time": "2024-11-08T21:31:23.674Z"
   },
   {
    "duration": 10,
    "start_time": "2024-11-08T21:31:23.690Z"
   },
   {
    "duration": 21,
    "start_time": "2024-11-08T21:31:23.734Z"
   },
   {
    "duration": 17,
    "start_time": "2024-11-08T21:31:23.757Z"
   },
   {
    "duration": 14,
    "start_time": "2024-11-08T21:31:23.776Z"
   },
   {
    "duration": 7,
    "start_time": "2024-11-08T21:31:23.792Z"
   },
   {
    "duration": 10,
    "start_time": "2024-11-08T21:31:23.832Z"
   },
   {
    "duration": 20,
    "start_time": "2024-11-08T21:31:23.844Z"
   },
   {
    "duration": 16,
    "start_time": "2024-11-08T21:31:23.866Z"
   },
   {
    "duration": 15,
    "start_time": "2024-11-08T21:31:23.884Z"
   },
   {
    "duration": 38,
    "start_time": "2024-11-08T21:31:23.900Z"
   },
   {
    "duration": 22,
    "start_time": "2024-11-08T21:31:23.940Z"
   },
   {
    "duration": 160,
    "start_time": "2024-11-08T21:31:23.964Z"
   },
   {
    "duration": 332,
    "start_time": "2024-11-08T21:31:24.126Z"
   },
   {
    "duration": 0,
    "start_time": "2024-11-08T21:31:24.460Z"
   },
   {
    "duration": 0,
    "start_time": "2024-11-08T21:31:24.461Z"
   },
   {
    "duration": 0,
    "start_time": "2024-11-08T21:31:24.462Z"
   },
   {
    "duration": 0,
    "start_time": "2024-11-08T21:31:24.464Z"
   },
   {
    "duration": 0,
    "start_time": "2024-11-08T21:31:24.466Z"
   },
   {
    "duration": 0,
    "start_time": "2024-11-08T21:31:24.467Z"
   },
   {
    "duration": 0,
    "start_time": "2024-11-08T21:31:24.468Z"
   },
   {
    "duration": 0,
    "start_time": "2024-11-08T21:31:24.470Z"
   },
   {
    "duration": 330,
    "start_time": "2024-11-08T21:34:34.494Z"
   },
   {
    "duration": 4,
    "start_time": "2024-11-08T21:36:14.391Z"
   },
   {
    "duration": 41,
    "start_time": "2024-11-08T21:36:23.708Z"
   },
   {
    "duration": 41,
    "start_time": "2024-11-08T21:36:42.712Z"
   },
   {
    "duration": 263,
    "start_time": "2024-11-08T21:37:44.455Z"
   },
   {
    "duration": 5,
    "start_time": "2024-11-08T21:37:56.664Z"
   },
   {
    "duration": 4,
    "start_time": "2024-11-08T21:38:57.945Z"
   },
   {
    "duration": 348,
    "start_time": "2024-11-08T21:39:13.572Z"
   },
   {
    "duration": 231,
    "start_time": "2024-11-08T21:40:27.557Z"
   },
   {
    "duration": 43,
    "start_time": "2024-11-08T21:41:55.891Z"
   },
   {
    "duration": 42,
    "start_time": "2024-11-08T21:42:23.973Z"
   },
   {
    "duration": 42,
    "start_time": "2024-11-08T21:42:57.789Z"
   },
   {
    "duration": 45,
    "start_time": "2024-11-08T21:43:01.151Z"
   },
   {
    "duration": 42,
    "start_time": "2024-11-08T21:48:47.559Z"
   },
   {
    "duration": 306,
    "start_time": "2024-11-08T21:49:28.622Z"
   },
   {
    "duration": 41,
    "start_time": "2024-11-08T21:49:59.060Z"
   },
   {
    "duration": 195,
    "start_time": "2024-11-08T21:54:31.156Z"
   },
   {
    "duration": 97,
    "start_time": "2024-11-08T21:55:02.208Z"
   },
   {
    "duration": 110,
    "start_time": "2024-11-08T21:55:15.440Z"
   },
   {
    "duration": 204,
    "start_time": "2024-11-08T21:59:02.404Z"
   },
   {
    "duration": 129,
    "start_time": "2024-11-08T21:59:54.974Z"
   },
   {
    "duration": 1990,
    "start_time": "2024-11-08T22:04:10.058Z"
   },
   {
    "duration": 1898,
    "start_time": "2024-11-08T22:05:20.728Z"
   },
   {
    "duration": 2742,
    "start_time": "2024-11-08T22:09:21.830Z"
   },
   {
    "duration": 5,
    "start_time": "2024-11-08T22:13:10.970Z"
   },
   {
    "duration": 403,
    "start_time": "2024-11-08T22:13:28.393Z"
   },
   {
    "duration": 3648,
    "start_time": "2024-11-08T22:13:43.709Z"
   },
   {
    "duration": 776,
    "start_time": "2024-11-08T22:14:23.784Z"
   },
   {
    "duration": 163,
    "start_time": "2024-11-08T22:14:24.562Z"
   },
   {
    "duration": 11,
    "start_time": "2024-11-08T22:14:24.727Z"
   },
   {
    "duration": 10,
    "start_time": "2024-11-08T22:14:24.742Z"
   },
   {
    "duration": 10,
    "start_time": "2024-11-08T22:14:24.754Z"
   },
   {
    "duration": 9,
    "start_time": "2024-11-08T22:14:24.766Z"
   },
   {
    "duration": 15,
    "start_time": "2024-11-08T22:14:24.777Z"
   },
   {
    "duration": 45,
    "start_time": "2024-11-08T22:14:24.795Z"
   },
   {
    "duration": 13,
    "start_time": "2024-11-08T22:14:24.842Z"
   },
   {
    "duration": 4,
    "start_time": "2024-11-08T22:14:24.859Z"
   },
   {
    "duration": 4,
    "start_time": "2024-11-08T22:14:24.865Z"
   },
   {
    "duration": 16,
    "start_time": "2024-11-08T22:14:24.871Z"
   },
   {
    "duration": 47,
    "start_time": "2024-11-08T22:14:24.889Z"
   },
   {
    "duration": 25,
    "start_time": "2024-11-08T22:14:24.938Z"
   },
   {
    "duration": 12,
    "start_time": "2024-11-08T22:14:24.965Z"
   },
   {
    "duration": 17,
    "start_time": "2024-11-08T22:14:24.979Z"
   },
   {
    "duration": 38,
    "start_time": "2024-11-08T22:14:24.998Z"
   },
   {
    "duration": 8,
    "start_time": "2024-11-08T22:14:25.038Z"
   },
   {
    "duration": 17,
    "start_time": "2024-11-08T22:14:25.049Z"
   },
   {
    "duration": 8,
    "start_time": "2024-11-08T22:14:25.068Z"
   },
   {
    "duration": 12,
    "start_time": "2024-11-08T22:14:25.078Z"
   },
   {
    "duration": 45,
    "start_time": "2024-11-08T22:14:25.092Z"
   },
   {
    "duration": 8,
    "start_time": "2024-11-08T22:14:25.139Z"
   },
   {
    "duration": 20,
    "start_time": "2024-11-08T22:14:25.149Z"
   },
   {
    "duration": 20,
    "start_time": "2024-11-08T22:14:25.172Z"
   },
   {
    "duration": 38,
    "start_time": "2024-11-08T22:14:25.194Z"
   },
   {
    "duration": 7,
    "start_time": "2024-11-08T22:14:25.234Z"
   },
   {
    "duration": 11,
    "start_time": "2024-11-08T22:14:25.245Z"
   },
   {
    "duration": 18,
    "start_time": "2024-11-08T22:14:25.258Z"
   },
   {
    "duration": 16,
    "start_time": "2024-11-08T22:14:25.278Z"
   },
   {
    "duration": 44,
    "start_time": "2024-11-08T22:14:25.295Z"
   },
   {
    "duration": 13,
    "start_time": "2024-11-08T22:14:25.341Z"
   },
   {
    "duration": 21,
    "start_time": "2024-11-08T22:14:25.356Z"
   },
   {
    "duration": 164,
    "start_time": "2024-11-08T22:14:25.379Z"
   },
   {
    "duration": 3796,
    "start_time": "2024-11-08T22:14:25.545Z"
   },
   {
    "duration": 3,
    "start_time": "2024-11-08T22:14:29.343Z"
   },
   {
    "duration": 3,
    "start_time": "2024-11-08T22:14:29.347Z"
   },
   {
    "duration": 3,
    "start_time": "2024-11-08T22:14:29.351Z"
   },
   {
    "duration": 2,
    "start_time": "2024-11-08T22:14:29.356Z"
   },
   {
    "duration": 2,
    "start_time": "2024-11-08T22:14:29.360Z"
   },
   {
    "duration": 2,
    "start_time": "2024-11-08T22:14:29.365Z"
   },
   {
    "duration": 2,
    "start_time": "2024-11-08T22:14:29.369Z"
   },
   {
    "duration": 2,
    "start_time": "2024-11-08T22:14:29.373Z"
   },
   {
    "duration": 31,
    "start_time": "2024-11-08T22:16:02.649Z"
   },
   {
    "duration": 25,
    "start_time": "2024-11-08T22:16:19.283Z"
   },
   {
    "duration": 415,
    "start_time": "2024-11-08T22:16:49.792Z"
   },
   {
    "duration": 3581,
    "start_time": "2024-11-08T22:17:16.284Z"
   },
   {
    "duration": 3779,
    "start_time": "2024-11-08T22:17:41.004Z"
   },
   {
    "duration": 3657,
    "start_time": "2024-11-08T22:18:01.691Z"
   },
   {
    "duration": 12,
    "start_time": "2024-11-08T22:30:02.506Z"
   },
   {
    "duration": 6,
    "start_time": "2024-11-08T22:31:43.417Z"
   },
   {
    "duration": 12,
    "start_time": "2024-11-08T22:31:49.024Z"
   },
   {
    "duration": 13,
    "start_time": "2024-11-08T22:35:05.472Z"
   },
   {
    "duration": 5,
    "start_time": "2024-11-08T22:35:26.098Z"
   },
   {
    "duration": 5,
    "start_time": "2024-11-08T22:37:18.454Z"
   },
   {
    "duration": 13,
    "start_time": "2024-11-08T22:37:23.663Z"
   },
   {
    "duration": 16,
    "start_time": "2024-11-08T22:38:47.841Z"
   },
   {
    "duration": 3705,
    "start_time": "2024-11-08T22:39:24.814Z"
   },
   {
    "duration": 13,
    "start_time": "2024-11-08T22:41:13.946Z"
   },
   {
    "duration": 14,
    "start_time": "2024-11-08T22:41:50.160Z"
   },
   {
    "duration": 5,
    "start_time": "2024-11-08T22:49:21.617Z"
   },
   {
    "duration": 6,
    "start_time": "2024-11-08T22:49:27.673Z"
   },
   {
    "duration": 12,
    "start_time": "2024-11-08T22:49:32.854Z"
   },
   {
    "duration": 16,
    "start_time": "2024-11-08T22:51:49.855Z"
   },
   {
    "duration": 13,
    "start_time": "2024-11-08T22:52:14.646Z"
   },
   {
    "duration": 13,
    "start_time": "2024-11-08T22:52:55.123Z"
   },
   {
    "duration": 13,
    "start_time": "2024-11-08T22:53:27.408Z"
   },
   {
    "duration": 12,
    "start_time": "2024-11-08T22:54:24.055Z"
   },
   {
    "duration": 14,
    "start_time": "2024-11-08T22:57:41.088Z"
   },
   {
    "duration": 14,
    "start_time": "2024-11-08T22:57:49.701Z"
   },
   {
    "duration": 14,
    "start_time": "2024-11-08T22:59:05.478Z"
   },
   {
    "duration": 13,
    "start_time": "2024-11-08T23:00:29.009Z"
   },
   {
    "duration": 15,
    "start_time": "2024-11-08T23:01:11.970Z"
   },
   {
    "duration": 9,
    "start_time": "2024-11-08T23:01:18.583Z"
   },
   {
    "duration": 413,
    "start_time": "2024-11-08T23:03:43.106Z"
   },
   {
    "duration": 5,
    "start_time": "2024-11-08T23:07:45.239Z"
   },
   {
    "duration": 117,
    "start_time": "2024-11-08T23:07:57.222Z"
   },
   {
    "duration": 9,
    "start_time": "2024-11-08T23:08:10.066Z"
   },
   {
    "duration": 6,
    "start_time": "2024-11-08T23:09:28.501Z"
   },
   {
    "duration": 4,
    "start_time": "2024-11-08T23:10:15.234Z"
   },
   {
    "duration": 3146,
    "start_time": "2024-11-08T23:10:29.923Z"
   },
   {
    "duration": 2254,
    "start_time": "2024-11-08T23:11:09.230Z"
   },
   {
    "duration": 2301,
    "start_time": "2024-11-08T23:11:32.891Z"
   },
   {
    "duration": 6,
    "start_time": "2024-11-08T23:11:48.146Z"
   },
   {
    "duration": 0,
    "start_time": "2024-11-08T23:11:53.709Z"
   },
   {
    "duration": 2257,
    "start_time": "2024-11-08T23:12:28.010Z"
   },
   {
    "duration": 2345,
    "start_time": "2024-11-08T23:12:46.577Z"
   },
   {
    "duration": 6,
    "start_time": "2024-11-08T23:12:55.276Z"
   },
   {
    "duration": 2382,
    "start_time": "2024-11-08T23:13:09.540Z"
   },
   {
    "duration": 3079,
    "start_time": "2024-11-08T23:13:31.934Z"
   },
   {
    "duration": 3103,
    "start_time": "2024-11-08T23:13:41.094Z"
   },
   {
    "duration": 3166,
    "start_time": "2024-11-08T23:15:13.825Z"
   },
   {
    "duration": 3147,
    "start_time": "2024-11-08T23:15:22.394Z"
   },
   {
    "duration": 3156,
    "start_time": "2024-11-08T23:15:33.685Z"
   },
   {
    "duration": 3423,
    "start_time": "2024-11-08T23:16:31.988Z"
   },
   {
    "duration": 119,
    "start_time": "2024-11-08T23:17:34.721Z"
   },
   {
    "duration": 3461,
    "start_time": "2024-11-08T23:18:40.132Z"
   },
   {
    "duration": 5,
    "start_time": "2024-11-08T23:22:14.179Z"
   },
   {
    "duration": 120,
    "start_time": "2024-11-08T23:22:18.157Z"
   },
   {
    "duration": 11,
    "start_time": "2024-11-08T23:22:24.806Z"
   },
   {
    "duration": 2697,
    "start_time": "2024-11-11T15:42:00.246Z"
   },
   {
    "duration": 236,
    "start_time": "2024-11-11T15:42:02.945Z"
   },
   {
    "duration": 11,
    "start_time": "2024-11-11T15:42:03.183Z"
   },
   {
    "duration": 12,
    "start_time": "2024-11-11T15:42:03.196Z"
   },
   {
    "duration": 10,
    "start_time": "2024-11-11T15:42:03.211Z"
   },
   {
    "duration": 11,
    "start_time": "2024-11-11T15:42:03.222Z"
   },
   {
    "duration": 11,
    "start_time": "2024-11-11T15:42:03.235Z"
   },
   {
    "duration": 11,
    "start_time": "2024-11-11T15:42:03.248Z"
   },
   {
    "duration": 13,
    "start_time": "2024-11-11T15:42:03.261Z"
   },
   {
    "duration": 38,
    "start_time": "2024-11-11T15:42:03.277Z"
   },
   {
    "duration": 5,
    "start_time": "2024-11-11T15:42:03.316Z"
   },
   {
    "duration": 15,
    "start_time": "2024-11-11T15:42:03.323Z"
   },
   {
    "duration": 11,
    "start_time": "2024-11-11T15:42:03.340Z"
   },
   {
    "duration": 28,
    "start_time": "2024-11-11T15:42:03.355Z"
   },
   {
    "duration": 11,
    "start_time": "2024-11-11T15:42:03.412Z"
   },
   {
    "duration": 19,
    "start_time": "2024-11-11T15:42:03.425Z"
   },
   {
    "duration": 15,
    "start_time": "2024-11-11T15:42:03.445Z"
   },
   {
    "duration": 10,
    "start_time": "2024-11-11T15:42:03.462Z"
   },
   {
    "duration": 42,
    "start_time": "2024-11-11T15:42:03.473Z"
   },
   {
    "duration": 9,
    "start_time": "2024-11-11T15:42:03.517Z"
   },
   {
    "duration": 12,
    "start_time": "2024-11-11T15:42:03.528Z"
   },
   {
    "duration": 13,
    "start_time": "2024-11-11T15:42:03.542Z"
   },
   {
    "duration": 9,
    "start_time": "2024-11-11T15:42:03.557Z"
   },
   {
    "duration": 53,
    "start_time": "2024-11-11T15:42:03.568Z"
   },
   {
    "duration": 19,
    "start_time": "2024-11-11T15:42:03.623Z"
   },
   {
    "duration": 15,
    "start_time": "2024-11-11T15:42:03.643Z"
   },
   {
    "duration": 7,
    "start_time": "2024-11-11T15:42:03.659Z"
   },
   {
    "duration": 12,
    "start_time": "2024-11-11T15:42:03.668Z"
   },
   {
    "duration": 46,
    "start_time": "2024-11-11T15:42:03.682Z"
   },
   {
    "duration": 16,
    "start_time": "2024-11-11T15:42:03.730Z"
   },
   {
    "duration": 16,
    "start_time": "2024-11-11T15:42:03.748Z"
   },
   {
    "duration": 15,
    "start_time": "2024-11-11T15:42:03.766Z"
   },
   {
    "duration": 48,
    "start_time": "2024-11-11T15:42:03.783Z"
   },
   {
    "duration": 150,
    "start_time": "2024-11-11T15:42:03.833Z"
   },
   {
    "duration": 3794,
    "start_time": "2024-11-11T15:42:03.985Z"
   },
   {
    "duration": 11,
    "start_time": "2024-11-11T15:42:07.780Z"
   },
   {
    "duration": 2,
    "start_time": "2024-11-11T15:42:07.792Z"
   },
   {
    "duration": 17,
    "start_time": "2024-11-11T15:42:07.796Z"
   },
   {
    "duration": 3,
    "start_time": "2024-11-11T15:42:07.814Z"
   },
   {
    "duration": 2,
    "start_time": "2024-11-11T15:42:07.819Z"
   },
   {
    "duration": 2,
    "start_time": "2024-11-11T15:42:07.826Z"
   },
   {
    "duration": 3,
    "start_time": "2024-11-11T15:42:07.830Z"
   },
   {
    "duration": 3,
    "start_time": "2024-11-11T15:42:07.834Z"
   },
   {
    "duration": 6,
    "start_time": "2024-11-11T16:52:50.273Z"
   },
   {
    "duration": 10,
    "start_time": "2024-11-11T16:53:47.219Z"
   },
   {
    "duration": 190,
    "start_time": "2024-11-11T16:54:52.085Z"
   },
   {
    "duration": 9,
    "start_time": "2024-11-11T16:55:47.279Z"
   },
   {
    "duration": 10,
    "start_time": "2024-11-11T16:56:03.016Z"
   },
   {
    "duration": 198,
    "start_time": "2024-11-11T16:57:17.711Z"
   },
   {
    "duration": 3,
    "start_time": "2024-11-11T16:59:46.324Z"
   },
   {
    "duration": 123,
    "start_time": "2024-11-11T17:02:18.560Z"
   },
   {
    "duration": 22572,
    "start_time": "2024-11-11T18:27:31.220Z"
   },
   {
    "duration": 34,
    "start_time": "2024-11-11T18:28:27.685Z"
   },
   {
    "duration": 8,
    "start_time": "2024-11-11T18:28:39.541Z"
   },
   {
    "duration": 33,
    "start_time": "2024-11-11T18:29:05.545Z"
   },
   {
    "duration": 9,
    "start_time": "2024-11-11T18:29:30.559Z"
   },
   {
    "duration": 110,
    "start_time": "2024-11-11T18:30:40.924Z"
   },
   {
    "duration": 121,
    "start_time": "2024-11-11T18:31:41.121Z"
   },
   {
    "duration": 0,
    "start_time": "2024-11-11T18:32:45.656Z"
   },
   {
    "duration": 768,
    "start_time": "2024-11-11T18:32:55.166Z"
   },
   {
    "duration": 162,
    "start_time": "2024-11-11T18:32:55.936Z"
   },
   {
    "duration": 14,
    "start_time": "2024-11-11T18:32:56.100Z"
   },
   {
    "duration": 10,
    "start_time": "2024-11-11T18:32:56.118Z"
   },
   {
    "duration": 10,
    "start_time": "2024-11-11T18:32:56.130Z"
   },
   {
    "duration": 8,
    "start_time": "2024-11-11T18:32:56.142Z"
   },
   {
    "duration": 11,
    "start_time": "2024-11-11T18:32:56.152Z"
   },
   {
    "duration": 11,
    "start_time": "2024-11-11T18:32:56.165Z"
   },
   {
    "duration": 15,
    "start_time": "2024-11-11T18:32:56.212Z"
   },
   {
    "duration": 4,
    "start_time": "2024-11-11T18:32:56.231Z"
   },
   {
    "duration": 4,
    "start_time": "2024-11-11T18:32:56.237Z"
   },
   {
    "duration": 16,
    "start_time": "2024-11-11T18:32:56.242Z"
   },
   {
    "duration": 11,
    "start_time": "2024-11-11T18:32:56.260Z"
   },
   {
    "duration": 64,
    "start_time": "2024-11-11T18:32:56.273Z"
   },
   {
    "duration": 12,
    "start_time": "2024-11-11T18:32:56.339Z"
   },
   {
    "duration": 18,
    "start_time": "2024-11-11T18:32:56.352Z"
   },
   {
    "duration": 12,
    "start_time": "2024-11-11T18:32:56.372Z"
   },
   {
    "duration": 33,
    "start_time": "2024-11-11T18:32:56.386Z"
   },
   {
    "duration": 18,
    "start_time": "2024-11-11T18:32:56.421Z"
   },
   {
    "duration": 9,
    "start_time": "2024-11-11T18:32:56.441Z"
   },
   {
    "duration": 13,
    "start_time": "2024-11-11T18:32:56.453Z"
   },
   {
    "duration": 44,
    "start_time": "2024-11-11T18:32:56.469Z"
   },
   {
    "duration": 10,
    "start_time": "2024-11-11T18:32:56.514Z"
   },
   {
    "duration": 21,
    "start_time": "2024-11-11T18:32:56.527Z"
   },
   {
    "duration": 15,
    "start_time": "2024-11-11T18:32:56.550Z"
   },
   {
    "duration": 15,
    "start_time": "2024-11-11T18:32:56.566Z"
   },
   {
    "duration": 32,
    "start_time": "2024-11-11T18:32:56.583Z"
   },
   {
    "duration": 10,
    "start_time": "2024-11-11T18:32:56.620Z"
   },
   {
    "duration": 19,
    "start_time": "2024-11-11T18:32:56.632Z"
   },
   {
    "duration": 17,
    "start_time": "2024-11-11T18:32:56.653Z"
   },
   {
    "duration": 47,
    "start_time": "2024-11-11T18:32:56.672Z"
   },
   {
    "duration": 13,
    "start_time": "2024-11-11T18:32:56.721Z"
   },
   {
    "duration": 21,
    "start_time": "2024-11-11T18:32:56.736Z"
   },
   {
    "duration": 162,
    "start_time": "2024-11-11T18:32:56.759Z"
   },
   {
    "duration": 3708,
    "start_time": "2024-11-11T18:32:56.923Z"
   },
   {
    "duration": 170,
    "start_time": "2024-11-11T18:33:00.633Z"
   },
   {
    "duration": 130,
    "start_time": "2024-11-11T18:33:00.805Z"
   },
   {
    "duration": 2,
    "start_time": "2024-11-11T18:33:00.937Z"
   },
   {
    "duration": 119,
    "start_time": "2024-11-11T18:33:00.941Z"
   },
   {
    "duration": 2,
    "start_time": "2024-11-11T18:33:01.062Z"
   },
   {
    "duration": 3,
    "start_time": "2024-11-11T18:33:01.066Z"
   },
   {
    "duration": 2,
    "start_time": "2024-11-11T18:33:01.071Z"
   },
   {
    "duration": 2,
    "start_time": "2024-11-11T18:33:01.075Z"
   },
   {
    "duration": 141,
    "start_time": "2024-11-11T18:33:43.881Z"
   },
   {
    "duration": 9,
    "start_time": "2024-11-11T18:34:50.240Z"
   },
   {
    "duration": 9,
    "start_time": "2024-11-11T18:35:21.980Z"
   },
   {
    "duration": 9,
    "start_time": "2024-11-11T18:35:35.991Z"
   },
   {
    "duration": 118,
    "start_time": "2024-11-11T18:35:53.619Z"
   },
   {
    "duration": 494,
    "start_time": "2024-11-11T18:36:18.036Z"
   },
   {
    "duration": 122,
    "start_time": "2024-11-11T18:37:01.320Z"
   },
   {
    "duration": 213,
    "start_time": "2024-11-11T18:45:01.845Z"
   },
   {
    "duration": 124,
    "start_time": "2024-11-11T18:45:39.380Z"
   },
   {
    "duration": 694,
    "start_time": "2024-11-11T18:48:58.804Z"
   },
   {
    "duration": 532,
    "start_time": "2024-11-11T18:52:09.030Z"
   },
   {
    "duration": 124,
    "start_time": "2024-11-11T18:52:37.583Z"
   },
   {
    "duration": 7,
    "start_time": "2024-11-11T18:55:19.547Z"
   },
   {
    "duration": 165,
    "start_time": "2024-11-11T18:55:28.432Z"
   },
   {
    "duration": 160,
    "start_time": "2024-11-11T18:55:50.292Z"
   },
   {
    "duration": 345,
    "start_time": "2024-11-11T18:56:27.690Z"
   },
   {
    "duration": 164,
    "start_time": "2024-11-11T18:56:37.817Z"
   },
   {
    "duration": 513,
    "start_time": "2024-11-11T19:01:19.402Z"
   },
   {
    "duration": 932,
    "start_time": "2024-11-11T19:01:34.294Z"
   },
   {
    "duration": 340,
    "start_time": "2024-11-11T19:02:55.952Z"
   },
   {
    "duration": 150,
    "start_time": "2024-11-11T19:03:14.297Z"
   },
   {
    "duration": 146,
    "start_time": "2024-11-11T19:03:26.439Z"
   },
   {
    "duration": 158,
    "start_time": "2024-11-11T19:03:57.970Z"
   },
   {
    "duration": 161,
    "start_time": "2024-11-11T19:04:10.917Z"
   },
   {
    "duration": 162,
    "start_time": "2024-11-11T19:04:58.953Z"
   },
   {
    "duration": 163,
    "start_time": "2024-11-11T19:05:15.153Z"
   },
   {
    "duration": 22,
    "start_time": "2024-11-11T20:55:59.477Z"
   },
   {
    "duration": 6,
    "start_time": "2024-11-11T20:56:18.820Z"
   },
   {
    "duration": 19,
    "start_time": "2024-11-11T20:59:50.621Z"
   },
   {
    "duration": 28,
    "start_time": "2024-11-11T21:00:15.792Z"
   },
   {
    "duration": 22,
    "start_time": "2024-11-11T21:01:11.587Z"
   },
   {
    "duration": 63,
    "start_time": "2024-11-11T21:01:27.222Z"
   },
   {
    "duration": 52,
    "start_time": "2024-11-11T21:05:43.768Z"
   },
   {
    "duration": 26,
    "start_time": "2024-11-11T21:09:49.540Z"
   },
   {
    "duration": 26,
    "start_time": "2024-11-11T21:12:00.012Z"
   },
   {
    "duration": 24,
    "start_time": "2024-11-11T21:12:10.293Z"
   },
   {
    "duration": 8,
    "start_time": "2024-11-11T21:12:52.290Z"
   },
   {
    "duration": 7,
    "start_time": "2024-11-11T21:13:03.821Z"
   },
   {
    "duration": 8,
    "start_time": "2024-11-11T21:13:13.007Z"
   },
   {
    "duration": 7,
    "start_time": "2024-11-11T21:13:20.363Z"
   },
   {
    "duration": 6,
    "start_time": "2024-11-11T21:13:31.833Z"
   },
   {
    "duration": 18,
    "start_time": "2024-11-11T21:14:29.440Z"
   },
   {
    "duration": 7,
    "start_time": "2024-11-11T21:14:41.411Z"
   },
   {
    "duration": 6,
    "start_time": "2024-11-11T21:15:15.797Z"
   },
   {
    "duration": 6,
    "start_time": "2024-11-11T21:16:02.809Z"
   },
   {
    "duration": 7,
    "start_time": "2024-11-11T21:16:06.345Z"
   },
   {
    "duration": 6,
    "start_time": "2024-11-11T21:16:35.093Z"
   },
   {
    "duration": 6,
    "start_time": "2024-11-11T21:17:50.542Z"
   },
   {
    "duration": 4,
    "start_time": "2024-11-11T21:18:17.642Z"
   },
   {
    "duration": 9,
    "start_time": "2024-11-11T21:18:31.480Z"
   },
   {
    "duration": 6,
    "start_time": "2024-11-11T21:18:38.577Z"
   },
   {
    "duration": 11,
    "start_time": "2024-11-11T21:19:00.436Z"
   },
   {
    "duration": 156,
    "start_time": "2024-11-11T21:22:56.249Z"
   },
   {
    "duration": 152,
    "start_time": "2024-11-11T21:24:26.881Z"
   },
   {
    "duration": 161,
    "start_time": "2024-11-11T21:29:58.774Z"
   },
   {
    "duration": 181,
    "start_time": "2024-11-11T21:30:09.935Z"
   },
   {
    "duration": 159,
    "start_time": "2024-11-11T21:30:14.201Z"
   },
   {
    "duration": 137,
    "start_time": "2024-11-11T21:30:21.917Z"
   },
   {
    "duration": 164,
    "start_time": "2024-11-11T21:32:39.782Z"
   },
   {
    "duration": 158,
    "start_time": "2024-11-11T21:33:11.880Z"
   },
   {
    "duration": 7,
    "start_time": "2024-11-11T21:36:16.028Z"
   },
   {
    "duration": 101,
    "start_time": "2024-11-11T21:38:02.431Z"
   },
   {
    "duration": 167,
    "start_time": "2024-11-11T21:41:15.547Z"
   },
   {
    "duration": 100,
    "start_time": "2024-11-11T21:41:29.048Z"
   },
   {
    "duration": 191,
    "start_time": "2024-11-11T21:50:28.647Z"
   },
   {
    "duration": 186,
    "start_time": "2024-11-11T21:52:12.083Z"
   },
   {
    "duration": 8,
    "start_time": "2024-11-11T21:56:13.710Z"
   },
   {
    "duration": 6,
    "start_time": "2024-11-11T21:56:30.577Z"
   },
   {
    "duration": 347,
    "start_time": "2024-11-11T21:58:48.413Z"
   },
   {
    "duration": 6,
    "start_time": "2024-11-11T22:08:34.805Z"
   },
   {
    "duration": 835,
    "start_time": "2024-11-11T22:11:27.684Z"
   },
   {
    "duration": 165,
    "start_time": "2024-11-11T22:11:28.521Z"
   },
   {
    "duration": 11,
    "start_time": "2024-11-11T22:11:28.688Z"
   },
   {
    "duration": 10,
    "start_time": "2024-11-11T22:11:28.702Z"
   },
   {
    "duration": 10,
    "start_time": "2024-11-11T22:11:28.715Z"
   },
   {
    "duration": 8,
    "start_time": "2024-11-11T22:11:28.727Z"
   },
   {
    "duration": 12,
    "start_time": "2024-11-11T22:11:28.737Z"
   },
   {
    "duration": 10,
    "start_time": "2024-11-11T22:11:28.751Z"
   },
   {
    "duration": 49,
    "start_time": "2024-11-11T22:11:28.763Z"
   },
   {
    "duration": 5,
    "start_time": "2024-11-11T22:11:28.816Z"
   },
   {
    "duration": 4,
    "start_time": "2024-11-11T22:11:28.822Z"
   },
   {
    "duration": 15,
    "start_time": "2024-11-11T22:11:28.828Z"
   },
   {
    "duration": 12,
    "start_time": "2024-11-11T22:11:28.845Z"
   },
   {
    "duration": 56,
    "start_time": "2024-11-11T22:11:28.859Z"
   },
   {
    "duration": 12,
    "start_time": "2024-11-11T22:11:28.917Z"
   },
   {
    "duration": 17,
    "start_time": "2024-11-11T22:11:28.931Z"
   },
   {
    "duration": 12,
    "start_time": "2024-11-11T22:11:28.950Z"
   },
   {
    "duration": 9,
    "start_time": "2024-11-11T22:11:28.964Z"
   },
   {
    "duration": 52,
    "start_time": "2024-11-11T22:11:28.974Z"
   },
   {
    "duration": 9,
    "start_time": "2024-11-11T22:11:29.028Z"
   },
   {
    "duration": 11,
    "start_time": "2024-11-11T22:11:29.039Z"
   },
   {
    "duration": 17,
    "start_time": "2024-11-11T22:11:29.052Z"
   },
   {
    "duration": 9,
    "start_time": "2024-11-11T22:11:29.072Z"
   },
   {
    "duration": 45,
    "start_time": "2024-11-11T22:11:29.083Z"
   },
   {
    "duration": 21,
    "start_time": "2024-11-11T22:11:29.131Z"
   },
   {
    "duration": 15,
    "start_time": "2024-11-11T22:11:29.154Z"
   },
   {
    "duration": 9,
    "start_time": "2024-11-11T22:11:29.171Z"
   },
   {
    "duration": 12,
    "start_time": "2024-11-11T22:11:29.213Z"
   },
   {
    "duration": 20,
    "start_time": "2024-11-11T22:11:29.228Z"
   },
   {
    "duration": 19,
    "start_time": "2024-11-11T22:11:29.250Z"
   },
   {
    "duration": 17,
    "start_time": "2024-11-11T22:11:29.271Z"
   },
   {
    "duration": 17,
    "start_time": "2024-11-11T22:11:29.313Z"
   },
   {
    "duration": 27,
    "start_time": "2024-11-11T22:11:29.332Z"
   },
   {
    "duration": 174,
    "start_time": "2024-11-11T22:11:29.361Z"
   },
   {
    "duration": 3817,
    "start_time": "2024-11-11T22:11:29.538Z"
   },
   {
    "duration": 184,
    "start_time": "2024-11-11T22:11:33.356Z"
   },
   {
    "duration": 201,
    "start_time": "2024-11-11T22:11:33.542Z"
   },
   {
    "duration": 7,
    "start_time": "2024-11-11T22:11:33.744Z"
   },
   {
    "duration": 125,
    "start_time": "2024-11-11T22:11:33.752Z"
   },
   {
    "duration": 166,
    "start_time": "2024-11-11T22:11:33.879Z"
   },
   {
    "duration": 155,
    "start_time": "2024-11-11T22:11:34.047Z"
   },
   {
    "duration": 12,
    "start_time": "2024-11-11T22:11:34.204Z"
   },
   {
    "duration": 125,
    "start_time": "2024-11-11T22:11:34.218Z"
   },
   {
    "duration": 173,
    "start_time": "2024-11-11T22:11:34.345Z"
   },
   {
    "duration": 178,
    "start_time": "2024-11-11T22:11:34.520Z"
   },
   {
    "duration": 7,
    "start_time": "2024-11-11T22:11:34.702Z"
   },
   {
    "duration": 131,
    "start_time": "2024-11-11T22:11:34.712Z"
   },
   {
    "duration": 269,
    "start_time": "2024-11-11T22:11:34.845Z"
   },
   {
    "duration": 3,
    "start_time": "2024-11-11T22:11:35.116Z"
   },
   {
    "duration": 2,
    "start_time": "2024-11-11T22:11:35.121Z"
   },
   {
    "duration": 181,
    "start_time": "2024-11-11T22:11:54.884Z"
   },
   {
    "duration": 10,
    "start_time": "2024-11-11T22:13:33.644Z"
   },
   {
    "duration": 186,
    "start_time": "2024-11-11T22:13:49.571Z"
   },
   {
    "duration": 35,
    "start_time": "2024-11-11T22:26:17.057Z"
   },
   {
    "duration": 149,
    "start_time": "2024-11-11T22:29:28.785Z"
   },
   {
    "duration": 6,
    "start_time": "2024-11-11T22:32:38.614Z"
   },
   {
    "duration": 8,
    "start_time": "2024-11-11T22:32:52.520Z"
   },
   {
    "duration": 442,
    "start_time": "2024-11-11T22:44:51.477Z"
   },
   {
    "duration": 101,
    "start_time": "2024-11-11T22:45:20.997Z"
   },
   {
    "duration": 6,
    "start_time": "2024-11-11T23:11:32.804Z"
   },
   {
    "duration": 21,
    "start_time": "2024-11-11T23:19:36.557Z"
   },
   {
    "duration": 24,
    "start_time": "2024-11-11T23:22:40.932Z"
   },
   {
    "duration": 14,
    "start_time": "2024-11-11T23:23:35.997Z"
   },
   {
    "duration": 5,
    "start_time": "2024-11-11T23:24:10.836Z"
   },
   {
    "duration": 6,
    "start_time": "2024-11-11T23:24:23.085Z"
   },
   {
    "duration": 5,
    "start_time": "2024-11-11T23:27:24.293Z"
   },
   {
    "duration": 11,
    "start_time": "2024-11-11T23:27:29.366Z"
   },
   {
    "duration": 8,
    "start_time": "2024-11-11T23:28:22.403Z"
   },
   {
    "duration": 12,
    "start_time": "2024-11-11T23:28:30.585Z"
   },
   {
    "duration": 22,
    "start_time": "2024-11-11T23:29:02.288Z"
   },
   {
    "duration": 10,
    "start_time": "2024-11-11T23:29:07.421Z"
   },
   {
    "duration": 31,
    "start_time": "2024-11-11T23:30:17.610Z"
   },
   {
    "duration": 10,
    "start_time": "2024-11-11T23:30:24.929Z"
   },
   {
    "duration": 28,
    "start_time": "2024-11-11T23:31:37.525Z"
   },
   {
    "duration": 11,
    "start_time": "2024-11-11T23:31:42.784Z"
   },
   {
    "duration": 13,
    "start_time": "2024-11-11T23:35:46.853Z"
   },
   {
    "duration": 11,
    "start_time": "2024-11-11T23:37:33.509Z"
   },
   {
    "duration": 12,
    "start_time": "2024-11-11T23:38:07.181Z"
   },
   {
    "duration": 12,
    "start_time": "2024-11-11T23:40:42.281Z"
   },
   {
    "duration": 12,
    "start_time": "2024-11-11T23:42:34.858Z"
   },
   {
    "duration": 879,
    "start_time": "2024-11-11T23:43:13.853Z"
   },
   {
    "duration": 175,
    "start_time": "2024-11-11T23:43:14.735Z"
   },
   {
    "duration": 12,
    "start_time": "2024-11-11T23:43:14.911Z"
   },
   {
    "duration": 10,
    "start_time": "2024-11-11T23:43:14.925Z"
   },
   {
    "duration": 9,
    "start_time": "2024-11-11T23:43:14.937Z"
   },
   {
    "duration": 10,
    "start_time": "2024-11-11T23:43:14.948Z"
   },
   {
    "duration": 11,
    "start_time": "2024-11-11T23:43:14.960Z"
   },
   {
    "duration": 46,
    "start_time": "2024-11-11T23:43:14.972Z"
   },
   {
    "duration": 14,
    "start_time": "2024-11-11T23:43:15.020Z"
   },
   {
    "duration": 4,
    "start_time": "2024-11-11T23:43:15.039Z"
   },
   {
    "duration": 5,
    "start_time": "2024-11-11T23:43:15.044Z"
   },
   {
    "duration": 15,
    "start_time": "2024-11-11T23:43:15.050Z"
   },
   {
    "duration": 10,
    "start_time": "2024-11-11T23:43:15.067Z"
   },
   {
    "duration": 59,
    "start_time": "2024-11-11T23:43:15.079Z"
   },
   {
    "duration": 13,
    "start_time": "2024-11-11T23:43:15.141Z"
   },
   {
    "duration": 18,
    "start_time": "2024-11-11T23:43:15.156Z"
   },
   {
    "duration": 40,
    "start_time": "2024-11-11T23:43:15.176Z"
   },
   {
    "duration": 9,
    "start_time": "2024-11-11T23:43:15.218Z"
   },
   {
    "duration": 17,
    "start_time": "2024-11-11T23:43:15.229Z"
   },
   {
    "duration": 8,
    "start_time": "2024-11-11T23:43:15.247Z"
   },
   {
    "duration": 11,
    "start_time": "2024-11-11T23:43:15.257Z"
   },
   {
    "duration": 47,
    "start_time": "2024-11-11T23:43:15.270Z"
   },
   {
    "duration": 10,
    "start_time": "2024-11-11T23:43:15.319Z"
   },
   {
    "duration": 21,
    "start_time": "2024-11-11T23:43:15.331Z"
   },
   {
    "duration": 18,
    "start_time": "2024-11-11T23:43:15.354Z"
   },
   {
    "duration": 43,
    "start_time": "2024-11-11T23:43:15.374Z"
   },
   {
    "duration": 8,
    "start_time": "2024-11-11T23:43:15.419Z"
   },
   {
    "duration": 10,
    "start_time": "2024-11-11T23:43:15.432Z"
   },
   {
    "duration": 20,
    "start_time": "2024-11-11T23:43:15.444Z"
   },
   {
    "duration": 15,
    "start_time": "2024-11-11T23:43:15.466Z"
   },
   {
    "duration": 42,
    "start_time": "2024-11-11T23:43:15.482Z"
   },
   {
    "duration": 13,
    "start_time": "2024-11-11T23:43:15.525Z"
   },
   {
    "duration": 20,
    "start_time": "2024-11-11T23:43:15.540Z"
   },
   {
    "duration": 166,
    "start_time": "2024-11-11T23:43:15.562Z"
   },
   {
    "duration": 3769,
    "start_time": "2024-11-11T23:43:15.730Z"
   },
   {
    "duration": 180,
    "start_time": "2024-11-11T23:43:19.501Z"
   },
   {
    "duration": 169,
    "start_time": "2024-11-11T23:43:19.683Z"
   },
   {
    "duration": 7,
    "start_time": "2024-11-11T23:43:19.854Z"
   },
   {
    "duration": 132,
    "start_time": "2024-11-11T23:43:19.862Z"
   },
   {
    "duration": 168,
    "start_time": "2024-11-11T23:43:19.996Z"
   },
   {
    "duration": 158,
    "start_time": "2024-11-11T23:43:20.165Z"
   },
   {
    "duration": 7,
    "start_time": "2024-11-11T23:43:20.325Z"
   },
   {
    "duration": 117,
    "start_time": "2024-11-11T23:43:20.333Z"
   },
   {
    "duration": 173,
    "start_time": "2024-11-11T23:43:20.453Z"
   },
   {
    "duration": 153,
    "start_time": "2024-11-11T23:43:20.628Z"
   },
   {
    "duration": 7,
    "start_time": "2024-11-11T23:43:20.783Z"
   },
   {
    "duration": 122,
    "start_time": "2024-11-11T23:43:20.791Z"
   },
   {
    "duration": 218,
    "start_time": "2024-11-11T23:43:20.915Z"
   },
   {
    "duration": 6,
    "start_time": "2024-11-11T23:43:21.134Z"
   },
   {
    "duration": 158,
    "start_time": "2024-11-11T23:43:21.142Z"
   },
   {
    "duration": 112,
    "start_time": "2024-11-11T23:43:21.302Z"
   },
   {
    "duration": 14,
    "start_time": "2024-11-11T23:43:21.416Z"
   },
   {
    "duration": 2,
    "start_time": "2024-11-11T23:43:21.432Z"
   },
   {
    "duration": 27,
    "start_time": "2024-11-11T23:44:18.368Z"
   },
   {
    "duration": 110,
    "start_time": "2024-11-11T23:45:17.598Z"
   },
   {
    "duration": 4,
    "start_time": "2024-11-11T23:45:28.004Z"
   },
   {
    "duration": 17,
    "start_time": "2024-11-11T23:45:31.663Z"
   },
   {
    "duration": 4,
    "start_time": "2024-11-11T23:46:17.883Z"
   },
   {
    "duration": 11,
    "start_time": "2024-11-11T23:46:25.477Z"
   },
   {
    "duration": 10,
    "start_time": "2024-11-11T23:55:34.940Z"
   },
   {
    "duration": 10,
    "start_time": "2024-11-11T23:56:49.370Z"
   },
   {
    "duration": 11,
    "start_time": "2024-11-11T23:56:58.673Z"
   },
   {
    "duration": 9,
    "start_time": "2024-11-12T00:12:19.386Z"
   },
   {
    "duration": 9,
    "start_time": "2024-11-12T00:12:46.252Z"
   },
   {
    "duration": 6,
    "start_time": "2024-11-12T00:23:46.693Z"
   },
   {
    "duration": 7,
    "start_time": "2024-11-12T00:23:56.736Z"
   },
   {
    "duration": 7,
    "start_time": "2024-11-12T00:24:36.793Z"
   },
   {
    "duration": 7,
    "start_time": "2024-11-12T00:25:13.722Z"
   },
   {
    "duration": 87,
    "start_time": "2024-11-12T00:25:57.269Z"
   },
   {
    "duration": 7,
    "start_time": "2024-11-12T00:26:18.577Z"
   },
   {
    "duration": 6,
    "start_time": "2024-11-12T00:29:25.893Z"
   },
   {
    "duration": 13,
    "start_time": "2024-11-12T00:30:44.161Z"
   },
   {
    "duration": 13,
    "start_time": "2024-11-12T00:31:29.035Z"
   },
   {
    "duration": 11,
    "start_time": "2024-11-12T00:32:36.721Z"
   },
   {
    "duration": 10,
    "start_time": "2024-11-12T00:32:42.848Z"
   },
   {
    "duration": 8,
    "start_time": "2024-11-12T00:32:54.882Z"
   },
   {
    "duration": 7,
    "start_time": "2024-11-12T00:43:19.295Z"
   },
   {
    "duration": 4,
    "start_time": "2024-11-12T00:44:20.518Z"
   },
   {
    "duration": 8,
    "start_time": "2024-11-12T00:44:59.579Z"
   },
   {
    "duration": 7,
    "start_time": "2024-11-12T00:45:21.769Z"
   },
   {
    "duration": 13,
    "start_time": "2024-11-12T00:53:12.996Z"
   },
   {
    "duration": 12,
    "start_time": "2024-11-12T00:56:35.469Z"
   },
   {
    "duration": 12,
    "start_time": "2024-11-12T00:56:39.664Z"
   },
   {
    "duration": 779,
    "start_time": "2024-11-12T00:56:59.457Z"
   },
   {
    "duration": 167,
    "start_time": "2024-11-12T00:57:00.238Z"
   },
   {
    "duration": 10,
    "start_time": "2024-11-12T00:57:00.406Z"
   },
   {
    "duration": 10,
    "start_time": "2024-11-12T00:57:00.419Z"
   },
   {
    "duration": 14,
    "start_time": "2024-11-12T00:57:00.430Z"
   },
   {
    "duration": 10,
    "start_time": "2024-11-12T00:57:00.446Z"
   },
   {
    "duration": 12,
    "start_time": "2024-11-12T00:57:00.458Z"
   },
   {
    "duration": 42,
    "start_time": "2024-11-12T00:57:00.472Z"
   },
   {
    "duration": 12,
    "start_time": "2024-11-12T00:57:00.516Z"
   },
   {
    "duration": 4,
    "start_time": "2024-11-12T00:57:00.532Z"
   },
   {
    "duration": 5,
    "start_time": "2024-11-12T00:57:00.537Z"
   },
   {
    "duration": 15,
    "start_time": "2024-11-12T00:57:00.544Z"
   },
   {
    "duration": 10,
    "start_time": "2024-11-12T00:57:00.560Z"
   },
   {
    "duration": 54,
    "start_time": "2024-11-12T00:57:00.572Z"
   },
   {
    "duration": 11,
    "start_time": "2024-11-12T00:57:00.628Z"
   },
   {
    "duration": 16,
    "start_time": "2024-11-12T00:57:00.641Z"
   },
   {
    "duration": 10,
    "start_time": "2024-11-12T00:57:00.659Z"
   },
   {
    "duration": 7,
    "start_time": "2024-11-12T00:57:00.671Z"
   },
   {
    "duration": 47,
    "start_time": "2024-11-12T00:57:00.680Z"
   },
   {
    "duration": 8,
    "start_time": "2024-11-12T00:57:00.729Z"
   },
   {
    "duration": 12,
    "start_time": "2024-11-12T00:57:00.738Z"
   },
   {
    "duration": 13,
    "start_time": "2024-11-12T00:57:00.752Z"
   },
   {
    "duration": 8,
    "start_time": "2024-11-12T00:57:00.767Z"
   },
   {
    "duration": 53,
    "start_time": "2024-11-12T00:57:00.776Z"
   },
   {
    "duration": 15,
    "start_time": "2024-11-12T00:57:00.830Z"
   },
   {
    "duration": 14,
    "start_time": "2024-11-12T00:57:00.847Z"
   },
   {
    "duration": 12,
    "start_time": "2024-11-12T00:57:00.863Z"
   },
   {
    "duration": 32,
    "start_time": "2024-11-12T00:57:00.880Z"
   },
   {
    "duration": 10,
    "start_time": "2024-11-12T00:57:00.914Z"
   },
   {
    "duration": 19,
    "start_time": "2024-11-12T00:57:00.925Z"
   },
   {
    "duration": 16,
    "start_time": "2024-11-12T00:57:00.945Z"
   },
   {
    "duration": 13,
    "start_time": "2024-11-12T00:57:00.962Z"
   },
   {
    "duration": 36,
    "start_time": "2024-11-12T00:57:00.977Z"
   },
   {
    "duration": 21,
    "start_time": "2024-11-12T00:57:01.015Z"
   },
   {
    "duration": 173,
    "start_time": "2024-11-12T00:57:01.037Z"
   },
   {
    "duration": 3723,
    "start_time": "2024-11-12T00:57:01.212Z"
   },
   {
    "duration": 178,
    "start_time": "2024-11-12T00:57:04.937Z"
   },
   {
    "duration": 178,
    "start_time": "2024-11-12T00:57:05.117Z"
   },
   {
    "duration": 21,
    "start_time": "2024-11-12T00:57:05.298Z"
   },
   {
    "duration": 122,
    "start_time": "2024-11-12T00:57:05.321Z"
   },
   {
    "duration": 370,
    "start_time": "2024-11-12T00:57:05.445Z"
   },
   {
    "duration": 297,
    "start_time": "2024-11-12T00:57:05.817Z"
   },
   {
    "duration": 7,
    "start_time": "2024-11-12T00:57:06.116Z"
   },
   {
    "duration": 221,
    "start_time": "2024-11-12T00:57:06.124Z"
   },
   {
    "duration": 181,
    "start_time": "2024-11-12T00:57:06.348Z"
   },
   {
    "duration": 159,
    "start_time": "2024-11-12T00:57:06.532Z"
   },
   {
    "duration": 6,
    "start_time": "2024-11-12T00:57:06.694Z"
   },
   {
    "duration": 119,
    "start_time": "2024-11-12T00:57:06.702Z"
   },
   {
    "duration": 228,
    "start_time": "2024-11-12T00:57:06.823Z"
   },
   {
    "duration": 7,
    "start_time": "2024-11-12T00:57:07.053Z"
   },
   {
    "duration": 160,
    "start_time": "2024-11-12T00:57:07.061Z"
   },
   {
    "duration": 120,
    "start_time": "2024-11-12T00:57:07.223Z"
   },
   {
    "duration": 9,
    "start_time": "2024-11-12T00:57:07.344Z"
   },
   {
    "duration": 670,
    "start_time": "2024-11-12T00:57:07.355Z"
   },
   {
    "duration": 15,
    "start_time": "2024-11-12T00:58:05.974Z"
   },
   {
    "duration": 22,
    "start_time": "2024-11-12T00:59:29.565Z"
   },
   {
    "duration": 31,
    "start_time": "2024-11-12T01:00:01.426Z"
   },
   {
    "duration": 463,
    "start_time": "2024-11-12T01:00:51.447Z"
   },
   {
    "duration": 80,
    "start_time": "2024-11-12T01:01:57.465Z"
   },
   {
    "duration": 724,
    "start_time": "2024-11-12T01:02:12.193Z"
   },
   {
    "duration": 161,
    "start_time": "2024-11-12T01:02:12.919Z"
   },
   {
    "duration": 10,
    "start_time": "2024-11-12T01:02:13.081Z"
   },
   {
    "duration": 10,
    "start_time": "2024-11-12T01:02:13.093Z"
   },
   {
    "duration": 9,
    "start_time": "2024-11-12T01:02:13.111Z"
   },
   {
    "duration": 8,
    "start_time": "2024-11-12T01:02:13.122Z"
   },
   {
    "duration": 10,
    "start_time": "2024-11-12T01:02:13.131Z"
   },
   {
    "duration": 9,
    "start_time": "2024-11-12T01:02:13.143Z"
   },
   {
    "duration": 13,
    "start_time": "2024-11-12T01:02:13.154Z"
   },
   {
    "duration": 4,
    "start_time": "2024-11-12T01:02:13.168Z"
   },
   {
    "duration": 4,
    "start_time": "2024-11-12T01:02:13.212Z"
   },
   {
    "duration": 16,
    "start_time": "2024-11-12T01:02:13.217Z"
   },
   {
    "duration": 10,
    "start_time": "2024-11-12T01:02:13.234Z"
   },
   {
    "duration": 25,
    "start_time": "2024-11-12T01:02:13.247Z"
   },
   {
    "duration": 10,
    "start_time": "2024-11-12T01:02:13.274Z"
   },
   {
    "duration": 41,
    "start_time": "2024-11-12T01:02:13.286Z"
   },
   {
    "duration": 12,
    "start_time": "2024-11-12T01:02:13.329Z"
   },
   {
    "duration": 9,
    "start_time": "2024-11-12T01:02:13.343Z"
   },
   {
    "duration": 19,
    "start_time": "2024-11-12T01:02:13.355Z"
   },
   {
    "duration": 39,
    "start_time": "2024-11-12T01:02:13.377Z"
   },
   {
    "duration": 12,
    "start_time": "2024-11-12T01:02:13.418Z"
   },
   {
    "duration": 13,
    "start_time": "2024-11-12T01:02:13.432Z"
   },
   {
    "duration": 9,
    "start_time": "2024-11-12T01:02:13.447Z"
   },
   {
    "duration": 22,
    "start_time": "2024-11-12T01:02:13.457Z"
   },
   {
    "duration": 19,
    "start_time": "2024-11-12T01:02:13.512Z"
   },
   {
    "duration": 14,
    "start_time": "2024-11-12T01:02:13.533Z"
   },
   {
    "duration": 13,
    "start_time": "2024-11-12T01:02:13.549Z"
   },
   {
    "duration": 7,
    "start_time": "2024-11-12T01:02:13.564Z"
   },
   {
    "duration": 40,
    "start_time": "2024-11-12T01:02:13.573Z"
   },
   {
    "duration": 19,
    "start_time": "2024-11-12T01:02:13.615Z"
   },
   {
    "duration": 16,
    "start_time": "2024-11-12T01:02:13.636Z"
   },
   {
    "duration": 14,
    "start_time": "2024-11-12T01:02:13.654Z"
   },
   {
    "duration": 43,
    "start_time": "2024-11-12T01:02:13.670Z"
   },
   {
    "duration": 225,
    "start_time": "2024-11-12T01:02:13.714Z"
   },
   {
    "duration": 0,
    "start_time": "2024-11-12T01:02:13.941Z"
   },
   {
    "duration": 0,
    "start_time": "2024-11-12T01:02:13.942Z"
   },
   {
    "duration": 0,
    "start_time": "2024-11-12T01:02:13.943Z"
   },
   {
    "duration": 0,
    "start_time": "2024-11-12T01:02:13.944Z"
   },
   {
    "duration": 0,
    "start_time": "2024-11-12T01:02:13.945Z"
   },
   {
    "duration": 0,
    "start_time": "2024-11-12T01:02:13.946Z"
   },
   {
    "duration": 0,
    "start_time": "2024-11-12T01:02:13.947Z"
   },
   {
    "duration": 0,
    "start_time": "2024-11-12T01:02:13.948Z"
   },
   {
    "duration": 0,
    "start_time": "2024-11-12T01:02:13.949Z"
   },
   {
    "duration": 0,
    "start_time": "2024-11-12T01:02:13.950Z"
   },
   {
    "duration": 0,
    "start_time": "2024-11-12T01:02:13.951Z"
   },
   {
    "duration": 0,
    "start_time": "2024-11-12T01:02:13.952Z"
   },
   {
    "duration": 0,
    "start_time": "2024-11-12T01:02:13.953Z"
   },
   {
    "duration": 0,
    "start_time": "2024-11-12T01:02:13.954Z"
   },
   {
    "duration": 0,
    "start_time": "2024-11-12T01:02:13.955Z"
   },
   {
    "duration": 0,
    "start_time": "2024-11-12T01:02:13.956Z"
   },
   {
    "duration": 0,
    "start_time": "2024-11-12T01:02:13.957Z"
   },
   {
    "duration": 0,
    "start_time": "2024-11-12T01:02:13.959Z"
   },
   {
    "duration": 0,
    "start_time": "2024-11-12T01:02:13.959Z"
   },
   {
    "duration": 0,
    "start_time": "2024-11-12T01:02:13.960Z"
   },
   {
    "duration": 22,
    "start_time": "2024-11-12T01:02:39.529Z"
   },
   {
    "duration": 37,
    "start_time": "2024-11-12T01:02:45.471Z"
   },
   {
    "duration": 621,
    "start_time": "2024-11-12T01:02:57.957Z"
   },
   {
    "duration": 160,
    "start_time": "2024-11-12T01:09:14.922Z"
   },
   {
    "duration": 50,
    "start_time": "2024-11-12T01:09:30.813Z"
   },
   {
    "duration": 44,
    "start_time": "2024-11-12T01:10:13.172Z"
   },
   {
    "duration": 61,
    "start_time": "2024-11-12T01:11:12.378Z"
   },
   {
    "duration": 753,
    "start_time": "2024-11-12T01:19:23.064Z"
   },
   {
    "duration": 160,
    "start_time": "2024-11-12T01:19:23.819Z"
   },
   {
    "duration": 9,
    "start_time": "2024-11-12T01:19:23.980Z"
   },
   {
    "duration": 10,
    "start_time": "2024-11-12T01:19:23.991Z"
   },
   {
    "duration": 9,
    "start_time": "2024-11-12T01:19:24.011Z"
   },
   {
    "duration": 7,
    "start_time": "2024-11-12T01:19:24.022Z"
   },
   {
    "duration": 11,
    "start_time": "2024-11-12T01:19:24.031Z"
   },
   {
    "duration": 10,
    "start_time": "2024-11-12T01:19:24.043Z"
   },
   {
    "duration": 12,
    "start_time": "2024-11-12T01:19:24.055Z"
   },
   {
    "duration": 4,
    "start_time": "2024-11-12T01:19:24.068Z"
   },
   {
    "duration": 40,
    "start_time": "2024-11-12T01:19:24.074Z"
   },
   {
    "duration": 15,
    "start_time": "2024-11-12T01:19:24.116Z"
   },
   {
    "duration": 10,
    "start_time": "2024-11-12T01:19:24.132Z"
   },
   {
    "duration": 25,
    "start_time": "2024-11-12T01:19:24.145Z"
   },
   {
    "duration": 40,
    "start_time": "2024-11-12T01:19:24.172Z"
   },
   {
    "duration": 16,
    "start_time": "2024-11-12T01:19:24.214Z"
   },
   {
    "duration": 12,
    "start_time": "2024-11-12T01:19:24.232Z"
   },
   {
    "duration": 8,
    "start_time": "2024-11-12T01:19:24.246Z"
   },
   {
    "duration": 16,
    "start_time": "2024-11-12T01:19:24.256Z"
   },
   {
    "duration": 7,
    "start_time": "2024-11-12T01:19:24.274Z"
   },
   {
    "duration": 13,
    "start_time": "2024-11-12T01:19:24.311Z"
   },
   {
    "duration": 15,
    "start_time": "2024-11-12T01:19:24.325Z"
   },
   {
    "duration": 9,
    "start_time": "2024-11-12T01:19:24.341Z"
   },
   {
    "duration": 24,
    "start_time": "2024-11-12T01:19:24.351Z"
   },
   {
    "duration": 49,
    "start_time": "2024-11-12T01:19:24.377Z"
   },
   {
    "duration": 14,
    "start_time": "2024-11-12T01:19:24.428Z"
   },
   {
    "duration": 12,
    "start_time": "2024-11-12T01:19:24.443Z"
   },
   {
    "duration": 8,
    "start_time": "2024-11-12T01:19:24.458Z"
   },
   {
    "duration": 11,
    "start_time": "2024-11-12T01:19:24.467Z"
   },
   {
    "duration": 48,
    "start_time": "2024-11-12T01:19:24.479Z"
   },
   {
    "duration": 16,
    "start_time": "2024-11-12T01:19:24.529Z"
   },
   {
    "duration": 13,
    "start_time": "2024-11-12T01:19:24.547Z"
   },
   {
    "duration": 65,
    "start_time": "2024-11-12T01:19:24.562Z"
   },
   {
    "duration": 40,
    "start_time": "2024-11-12T01:19:24.628Z"
   },
   {
    "duration": 188,
    "start_time": "2024-11-12T01:19:24.670Z"
   },
   {
    "duration": 196,
    "start_time": "2024-11-12T01:21:54.703Z"
   },
   {
    "duration": 194,
    "start_time": "2024-11-12T01:21:54.903Z"
   },
   {
    "duration": 19,
    "start_time": "2024-11-12T01:21:55.099Z"
   },
   {
    "duration": 165,
    "start_time": "2024-11-12T01:21:55.121Z"
   },
   {
    "duration": 167,
    "start_time": "2024-11-12T01:21:55.290Z"
   },
   {
    "duration": 167,
    "start_time": "2024-11-12T01:21:55.459Z"
   },
   {
    "duration": 10,
    "start_time": "2024-11-12T01:21:55.628Z"
   },
   {
    "duration": 152,
    "start_time": "2024-11-12T01:21:55.639Z"
   },
   {
    "duration": 176,
    "start_time": "2024-11-12T01:21:55.792Z"
   },
   {
    "duration": 193,
    "start_time": "2024-11-12T01:21:55.971Z"
   },
   {
    "duration": 9,
    "start_time": "2024-11-12T01:21:56.166Z"
   },
   {
    "duration": 182,
    "start_time": "2024-11-12T01:21:56.177Z"
   },
   {
    "duration": 206,
    "start_time": "2024-11-12T01:21:56.361Z"
   },
   {
    "duration": 13,
    "start_time": "2024-11-12T01:21:56.570Z"
   },
   {
    "duration": 169,
    "start_time": "2024-11-12T01:21:56.585Z"
   },
   {
    "duration": 165,
    "start_time": "2024-11-12T01:21:56.756Z"
   },
   {
    "duration": 16,
    "start_time": "2024-11-12T01:21:56.922Z"
   },
   {
    "duration": 595,
    "start_time": "2024-11-12T01:21:56.940Z"
   },
   {
    "duration": 0,
    "start_time": "2024-11-12T01:21:57.540Z"
   },
   {
    "duration": 715,
    "start_time": "2024-11-12T01:23:53.197Z"
   },
   {
    "duration": 157,
    "start_time": "2024-11-12T01:23:53.914Z"
   },
   {
    "duration": 9,
    "start_time": "2024-11-12T01:23:54.073Z"
   },
   {
    "duration": 10,
    "start_time": "2024-11-12T01:23:54.084Z"
   },
   {
    "duration": 22,
    "start_time": "2024-11-12T01:23:54.096Z"
   },
   {
    "duration": 8,
    "start_time": "2024-11-12T01:23:54.120Z"
   },
   {
    "duration": 12,
    "start_time": "2024-11-12T01:23:54.129Z"
   },
   {
    "duration": 10,
    "start_time": "2024-11-12T01:23:54.143Z"
   },
   {
    "duration": 13,
    "start_time": "2024-11-12T01:23:54.154Z"
   },
   {
    "duration": 3,
    "start_time": "2024-11-12T01:23:54.169Z"
   },
   {
    "duration": 38,
    "start_time": "2024-11-12T01:23:54.175Z"
   },
   {
    "duration": 16,
    "start_time": "2024-11-12T01:23:54.215Z"
   },
   {
    "duration": 11,
    "start_time": "2024-11-12T01:23:54.232Z"
   },
   {
    "duration": 26,
    "start_time": "2024-11-12T01:23:54.246Z"
   },
   {
    "duration": 40,
    "start_time": "2024-11-12T01:23:54.273Z"
   },
   {
    "duration": 17,
    "start_time": "2024-11-12T01:23:54.315Z"
   },
   {
    "duration": 12,
    "start_time": "2024-11-12T01:23:54.333Z"
   },
   {
    "duration": 8,
    "start_time": "2024-11-12T01:23:54.346Z"
   },
   {
    "duration": 17,
    "start_time": "2024-11-12T01:23:54.355Z"
   },
   {
    "duration": 39,
    "start_time": "2024-11-12T01:23:54.373Z"
   },
   {
    "duration": 11,
    "start_time": "2024-11-12T01:23:54.414Z"
   },
   {
    "duration": 13,
    "start_time": "2024-11-12T01:23:54.427Z"
   },
   {
    "duration": 9,
    "start_time": "2024-11-12T01:23:54.442Z"
   },
   {
    "duration": 20,
    "start_time": "2024-11-12T01:23:54.453Z"
   },
   {
    "duration": 47,
    "start_time": "2024-11-12T01:23:54.475Z"
   },
   {
    "duration": 14,
    "start_time": "2024-11-12T01:23:54.525Z"
   },
   {
    "duration": 12,
    "start_time": "2024-11-12T01:23:54.541Z"
   },
   {
    "duration": 8,
    "start_time": "2024-11-12T01:23:54.555Z"
   },
   {
    "duration": 9,
    "start_time": "2024-11-12T01:23:54.565Z"
   },
   {
    "duration": 59,
    "start_time": "2024-11-12T01:23:54.576Z"
   },
   {
    "duration": 20,
    "start_time": "2024-11-12T01:23:54.637Z"
   },
   {
    "duration": 16,
    "start_time": "2024-11-12T01:23:54.659Z"
   },
   {
    "duration": 70,
    "start_time": "2024-11-12T01:23:54.678Z"
   },
   {
    "duration": 41,
    "start_time": "2024-11-12T01:23:54.750Z"
   },
   {
    "duration": 181,
    "start_time": "2024-11-12T01:23:54.793Z"
   },
   {
    "duration": 45365,
    "start_time": "2024-11-12T01:23:54.976Z"
   },
   {
    "duration": 0,
    "start_time": "2024-11-12T01:24:40.344Z"
   },
   {
    "duration": 0,
    "start_time": "2024-11-12T01:24:40.346Z"
   },
   {
    "duration": 0,
    "start_time": "2024-11-12T01:24:40.346Z"
   },
   {
    "duration": 0,
    "start_time": "2024-11-12T01:24:40.348Z"
   },
   {
    "duration": 0,
    "start_time": "2024-11-12T01:24:40.349Z"
   },
   {
    "duration": 0,
    "start_time": "2024-11-12T01:24:40.350Z"
   },
   {
    "duration": 0,
    "start_time": "2024-11-12T01:24:40.351Z"
   },
   {
    "duration": 0,
    "start_time": "2024-11-12T01:24:40.352Z"
   },
   {
    "duration": 0,
    "start_time": "2024-11-12T01:24:40.353Z"
   },
   {
    "duration": 0,
    "start_time": "2024-11-12T01:24:40.354Z"
   },
   {
    "duration": 0,
    "start_time": "2024-11-12T01:24:40.355Z"
   },
   {
    "duration": 0,
    "start_time": "2024-11-12T01:24:40.356Z"
   },
   {
    "duration": 0,
    "start_time": "2024-11-12T01:24:40.357Z"
   },
   {
    "duration": 0,
    "start_time": "2024-11-12T01:24:40.359Z"
   },
   {
    "duration": 0,
    "start_time": "2024-11-12T01:24:40.360Z"
   },
   {
    "duration": 0,
    "start_time": "2024-11-12T01:24:40.361Z"
   },
   {
    "duration": 0,
    "start_time": "2024-11-12T01:24:40.362Z"
   },
   {
    "duration": 0,
    "start_time": "2024-11-12T01:24:40.363Z"
   },
   {
    "duration": 2,
    "start_time": "2024-11-12T01:24:51.804Z"
   },
   {
    "duration": 159,
    "start_time": "2024-11-12T01:24:51.814Z"
   },
   {
    "duration": 9,
    "start_time": "2024-11-12T01:24:51.975Z"
   },
   {
    "duration": 8,
    "start_time": "2024-11-12T01:24:51.985Z"
   },
   {
    "duration": 10,
    "start_time": "2024-11-12T01:24:52.012Z"
   },
   {
    "duration": 8,
    "start_time": "2024-11-12T01:24:52.024Z"
   },
   {
    "duration": 10,
    "start_time": "2024-11-12T01:24:52.034Z"
   },
   {
    "duration": 11,
    "start_time": "2024-11-12T01:24:52.046Z"
   },
   {
    "duration": 13,
    "start_time": "2024-11-12T01:24:52.059Z"
   },
   {
    "duration": 41,
    "start_time": "2024-11-12T01:24:52.074Z"
   },
   {
    "duration": 4,
    "start_time": "2024-11-12T01:24:52.117Z"
   },
   {
    "duration": 16,
    "start_time": "2024-11-12T01:24:52.122Z"
   },
   {
    "duration": 11,
    "start_time": "2024-11-12T01:24:52.140Z"
   },
   {
    "duration": 24,
    "start_time": "2024-11-12T01:24:52.152Z"
   },
   {
    "duration": 43,
    "start_time": "2024-11-12T01:24:52.180Z"
   },
   {
    "duration": 17,
    "start_time": "2024-11-12T01:24:52.224Z"
   },
   {
    "duration": 12,
    "start_time": "2024-11-12T01:24:52.242Z"
   },
   {
    "duration": 8,
    "start_time": "2024-11-12T01:24:52.256Z"
   },
   {
    "duration": 49,
    "start_time": "2024-11-12T01:24:52.266Z"
   },
   {
    "duration": 9,
    "start_time": "2024-11-12T01:24:52.317Z"
   },
   {
    "duration": 15,
    "start_time": "2024-11-12T01:24:52.338Z"
   },
   {
    "duration": 15,
    "start_time": "2024-11-12T01:24:52.356Z"
   },
   {
    "duration": 9,
    "start_time": "2024-11-12T01:24:52.373Z"
   },
   {
    "duration": 38,
    "start_time": "2024-11-12T01:24:52.385Z"
   },
   {
    "duration": 18,
    "start_time": "2024-11-12T01:24:52.425Z"
   },
   {
    "duration": 13,
    "start_time": "2024-11-12T01:24:52.445Z"
   },
   {
    "duration": 12,
    "start_time": "2024-11-12T01:24:52.460Z"
   },
   {
    "duration": 7,
    "start_time": "2024-11-12T01:24:52.474Z"
   },
   {
    "duration": 39,
    "start_time": "2024-11-12T01:24:52.483Z"
   },
   {
    "duration": 20,
    "start_time": "2024-11-12T01:24:52.523Z"
   },
   {
    "duration": 13,
    "start_time": "2024-11-12T01:24:52.545Z"
   },
   {
    "duration": 13,
    "start_time": "2024-11-12T01:24:52.560Z"
   },
   {
    "duration": 70,
    "start_time": "2024-11-12T01:24:52.574Z"
   },
   {
    "duration": 38,
    "start_time": "2024-11-12T01:24:52.646Z"
   },
   {
    "duration": 70,
    "start_time": "2024-11-12T01:24:52.686Z"
   },
   {
    "duration": 116134,
    "start_time": "2024-11-12T01:24:52.758Z"
   },
   {
    "duration": 0,
    "start_time": "2024-11-12T01:26:48.895Z"
   },
   {
    "duration": 0,
    "start_time": "2024-11-12T01:26:48.896Z"
   },
   {
    "duration": 0,
    "start_time": "2024-11-12T01:26:48.896Z"
   },
   {
    "duration": 0,
    "start_time": "2024-11-12T01:26:48.897Z"
   },
   {
    "duration": 0,
    "start_time": "2024-11-12T01:26:48.898Z"
   },
   {
    "duration": 0,
    "start_time": "2024-11-12T01:26:48.899Z"
   },
   {
    "duration": 0,
    "start_time": "2024-11-12T01:26:48.912Z"
   },
   {
    "duration": 0,
    "start_time": "2024-11-12T01:26:48.914Z"
   },
   {
    "duration": 0,
    "start_time": "2024-11-12T01:26:48.916Z"
   },
   {
    "duration": 0,
    "start_time": "2024-11-12T01:26:48.917Z"
   },
   {
    "duration": 0,
    "start_time": "2024-11-12T01:26:48.918Z"
   },
   {
    "duration": 0,
    "start_time": "2024-11-12T01:26:48.920Z"
   },
   {
    "duration": 1,
    "start_time": "2024-11-12T01:26:48.921Z"
   },
   {
    "duration": 0,
    "start_time": "2024-11-12T01:26:48.923Z"
   },
   {
    "duration": 0,
    "start_time": "2024-11-12T01:26:48.925Z"
   },
   {
    "duration": 0,
    "start_time": "2024-11-12T01:26:48.927Z"
   },
   {
    "duration": 0,
    "start_time": "2024-11-12T01:26:48.928Z"
   },
   {
    "duration": 0,
    "start_time": "2024-11-12T01:26:48.930Z"
   },
   {
    "duration": 0,
    "start_time": "2024-11-12T01:26:48.931Z"
   },
   {
    "duration": 0,
    "start_time": "2024-11-12T01:26:48.937Z"
   },
   {
    "duration": 758,
    "start_time": "2024-11-12T01:27:06.577Z"
   },
   {
    "duration": 171,
    "start_time": "2024-11-12T01:27:07.337Z"
   },
   {
    "duration": 10,
    "start_time": "2024-11-12T01:27:07.510Z"
   },
   {
    "duration": 10,
    "start_time": "2024-11-12T01:27:07.522Z"
   },
   {
    "duration": 9,
    "start_time": "2024-11-12T01:27:07.535Z"
   },
   {
    "duration": 8,
    "start_time": "2024-11-12T01:27:07.546Z"
   },
   {
    "duration": 11,
    "start_time": "2024-11-12T01:27:07.556Z"
   },
   {
    "duration": 10,
    "start_time": "2024-11-12T01:27:07.569Z"
   },
   {
    "duration": 12,
    "start_time": "2024-11-12T01:27:07.613Z"
   },
   {
    "duration": 3,
    "start_time": "2024-11-12T01:27:07.627Z"
   },
   {
    "duration": 5,
    "start_time": "2024-11-12T01:27:07.632Z"
   },
   {
    "duration": 16,
    "start_time": "2024-11-12T01:27:07.638Z"
   },
   {
    "duration": 11,
    "start_time": "2024-11-12T01:27:07.655Z"
   },
   {
    "duration": 58,
    "start_time": "2024-11-12T01:27:07.670Z"
   },
   {
    "duration": 11,
    "start_time": "2024-11-12T01:27:07.730Z"
   },
   {
    "duration": 16,
    "start_time": "2024-11-12T01:27:07.742Z"
   },
   {
    "duration": 11,
    "start_time": "2024-11-12T01:27:07.760Z"
   },
   {
    "duration": 7,
    "start_time": "2024-11-12T01:27:07.773Z"
   },
   {
    "duration": 17,
    "start_time": "2024-11-12T01:27:07.811Z"
   },
   {
    "duration": 8,
    "start_time": "2024-11-12T01:27:07.829Z"
   },
   {
    "duration": 11,
    "start_time": "2024-11-12T01:27:07.839Z"
   },
   {
    "duration": 13,
    "start_time": "2024-11-12T01:27:07.851Z"
   },
   {
    "duration": 9,
    "start_time": "2024-11-12T01:27:07.865Z"
   },
   {
    "duration": 49,
    "start_time": "2024-11-12T01:27:07.876Z"
   },
   {
    "duration": 15,
    "start_time": "2024-11-12T01:27:07.926Z"
   },
   {
    "duration": 13,
    "start_time": "2024-11-12T01:27:07.943Z"
   },
   {
    "duration": 12,
    "start_time": "2024-11-12T01:27:07.958Z"
   },
   {
    "duration": 7,
    "start_time": "2024-11-12T01:27:07.971Z"
   },
   {
    "duration": 41,
    "start_time": "2024-11-12T01:27:07.980Z"
   },
   {
    "duration": 24,
    "start_time": "2024-11-12T01:27:08.022Z"
   },
   {
    "duration": 16,
    "start_time": "2024-11-12T01:27:08.048Z"
   },
   {
    "duration": 13,
    "start_time": "2024-11-12T01:27:08.065Z"
   },
   {
    "duration": 72,
    "start_time": "2024-11-12T01:27:08.080Z"
   },
   {
    "duration": 41,
    "start_time": "2024-11-12T01:27:08.154Z"
   },
   {
    "duration": 181,
    "start_time": "2024-11-12T01:27:08.211Z"
   },
   {
    "duration": 769,
    "start_time": "2024-11-12T01:29:39.307Z"
   },
   {
    "duration": 163,
    "start_time": "2024-11-12T01:29:40.078Z"
   },
   {
    "duration": 10,
    "start_time": "2024-11-12T01:29:40.242Z"
   },
   {
    "duration": 10,
    "start_time": "2024-11-12T01:29:40.253Z"
   },
   {
    "duration": 9,
    "start_time": "2024-11-12T01:29:40.266Z"
   },
   {
    "duration": 8,
    "start_time": "2024-11-12T01:29:40.277Z"
   },
   {
    "duration": 11,
    "start_time": "2024-11-12T01:29:40.313Z"
   },
   {
    "duration": 10,
    "start_time": "2024-11-12T01:29:40.326Z"
   },
   {
    "duration": 13,
    "start_time": "2024-11-12T01:29:40.338Z"
   },
   {
    "duration": 4,
    "start_time": "2024-11-12T01:29:40.353Z"
   },
   {
    "duration": 5,
    "start_time": "2024-11-12T01:29:40.358Z"
   },
   {
    "duration": 52,
    "start_time": "2024-11-12T01:29:40.364Z"
   },
   {
    "duration": 10,
    "start_time": "2024-11-12T01:29:40.418Z"
   },
   {
    "duration": 25,
    "start_time": "2024-11-12T01:29:40.432Z"
   },
   {
    "duration": 12,
    "start_time": "2024-11-12T01:29:40.458Z"
   },
   {
    "duration": 42,
    "start_time": "2024-11-12T01:29:40.472Z"
   },
   {
    "duration": 15,
    "start_time": "2024-11-12T01:29:40.516Z"
   },
   {
    "duration": 10,
    "start_time": "2024-11-12T01:29:40.533Z"
   },
   {
    "duration": 19,
    "start_time": "2024-11-12T01:29:40.544Z"
   },
   {
    "duration": 7,
    "start_time": "2024-11-12T01:29:40.565Z"
   },
   {
    "duration": 49,
    "start_time": "2024-11-12T01:29:40.574Z"
   },
   {
    "duration": 13,
    "start_time": "2024-11-12T01:29:40.625Z"
   },
   {
    "duration": 9,
    "start_time": "2024-11-12T01:29:40.640Z"
   },
   {
    "duration": 20,
    "start_time": "2024-11-12T01:29:40.650Z"
   },
   {
    "duration": 41,
    "start_time": "2024-11-12T01:29:40.672Z"
   },
   {
    "duration": 15,
    "start_time": "2024-11-12T01:29:40.715Z"
   },
   {
    "duration": 13,
    "start_time": "2024-11-12T01:29:40.731Z"
   },
   {
    "duration": 7,
    "start_time": "2024-11-12T01:29:40.745Z"
   },
   {
    "duration": 10,
    "start_time": "2024-11-12T01:29:40.754Z"
   },
   {
    "duration": 50,
    "start_time": "2024-11-12T01:29:40.766Z"
   },
   {
    "duration": 15,
    "start_time": "2024-11-12T01:29:40.818Z"
   },
   {
    "duration": 13,
    "start_time": "2024-11-12T01:29:40.835Z"
   },
   {
    "duration": 63,
    "start_time": "2024-11-12T01:29:40.849Z"
   },
   {
    "duration": 41,
    "start_time": "2024-11-12T01:29:40.914Z"
   },
   {
    "duration": 180,
    "start_time": "2024-11-12T01:29:40.957Z"
   },
   {
    "duration": 142245,
    "start_time": "2024-11-12T01:34:29.874Z"
   },
   {
    "duration": 765,
    "start_time": "2024-11-12T01:43:09.160Z"
   },
   {
    "duration": 168,
    "start_time": "2024-11-12T01:43:09.927Z"
   },
   {
    "duration": 10,
    "start_time": "2024-11-12T01:43:10.097Z"
   },
   {
    "duration": 10,
    "start_time": "2024-11-12T01:43:10.111Z"
   },
   {
    "duration": 10,
    "start_time": "2024-11-12T01:43:10.123Z"
   },
   {
    "duration": 7,
    "start_time": "2024-11-12T01:43:10.134Z"
   },
   {
    "duration": 11,
    "start_time": "2024-11-12T01:43:10.143Z"
   },
   {
    "duration": 11,
    "start_time": "2024-11-12T01:43:10.156Z"
   },
   {
    "duration": 50,
    "start_time": "2024-11-12T01:43:10.168Z"
   },
   {
    "duration": 3,
    "start_time": "2024-11-12T01:43:10.222Z"
   },
   {
    "duration": 4,
    "start_time": "2024-11-12T01:43:10.227Z"
   },
   {
    "duration": 14,
    "start_time": "2024-11-12T01:43:10.233Z"
   },
   {
    "duration": 10,
    "start_time": "2024-11-12T01:43:10.249Z"
   },
   {
    "duration": 53,
    "start_time": "2024-11-12T01:43:10.261Z"
   },
   {
    "duration": 13,
    "start_time": "2024-11-12T01:43:10.315Z"
   },
   {
    "duration": 17,
    "start_time": "2024-11-12T01:43:10.329Z"
   },
   {
    "duration": 11,
    "start_time": "2024-11-12T01:43:10.348Z"
   },
   {
    "duration": 8,
    "start_time": "2024-11-12T01:43:10.361Z"
   },
   {
    "duration": 45,
    "start_time": "2024-11-12T01:43:10.370Z"
   },
   {
    "duration": 9,
    "start_time": "2024-11-12T01:43:10.417Z"
   },
   {
    "duration": 11,
    "start_time": "2024-11-12T01:43:10.428Z"
   },
   {
    "duration": 13,
    "start_time": "2024-11-12T01:43:10.440Z"
   },
   {
    "duration": 8,
    "start_time": "2024-11-12T01:43:10.454Z"
   },
   {
    "duration": 52,
    "start_time": "2024-11-12T01:43:10.464Z"
   },
   {
    "duration": 19,
    "start_time": "2024-11-12T01:43:10.517Z"
   },
   {
    "duration": 14,
    "start_time": "2024-11-12T01:43:10.538Z"
   },
   {
    "duration": 14,
    "start_time": "2024-11-12T01:43:10.553Z"
   },
   {
    "duration": 6,
    "start_time": "2024-11-12T01:43:10.571Z"
   },
   {
    "duration": 40,
    "start_time": "2024-11-12T01:43:10.579Z"
   },
   {
    "duration": 20,
    "start_time": "2024-11-12T01:43:10.621Z"
   },
   {
    "duration": 17,
    "start_time": "2024-11-12T01:43:10.642Z"
   },
   {
    "duration": 13,
    "start_time": "2024-11-12T01:43:10.661Z"
   },
   {
    "duration": 662,
    "start_time": "2024-11-12T01:43:10.675Z"
   },
   {
    "duration": 0,
    "start_time": "2024-11-12T01:43:11.339Z"
   },
   {
    "duration": 0,
    "start_time": "2024-11-12T01:43:11.341Z"
   },
   {
    "duration": 0,
    "start_time": "2024-11-12T01:43:11.343Z"
   },
   {
    "duration": 0,
    "start_time": "2024-11-12T01:43:11.344Z"
   },
   {
    "duration": 0,
    "start_time": "2024-11-12T01:43:11.345Z"
   },
   {
    "duration": 0,
    "start_time": "2024-11-12T01:43:11.346Z"
   },
   {
    "duration": 0,
    "start_time": "2024-11-12T01:43:11.348Z"
   },
   {
    "duration": 0,
    "start_time": "2024-11-12T01:43:11.350Z"
   },
   {
    "duration": 0,
    "start_time": "2024-11-12T01:43:11.351Z"
   },
   {
    "duration": 0,
    "start_time": "2024-11-12T01:43:11.352Z"
   },
   {
    "duration": 0,
    "start_time": "2024-11-12T01:43:11.353Z"
   },
   {
    "duration": 0,
    "start_time": "2024-11-12T01:43:11.354Z"
   },
   {
    "duration": 0,
    "start_time": "2024-11-12T01:43:11.355Z"
   },
   {
    "duration": 0,
    "start_time": "2024-11-12T01:43:11.356Z"
   },
   {
    "duration": 0,
    "start_time": "2024-11-12T01:43:11.357Z"
   },
   {
    "duration": 0,
    "start_time": "2024-11-12T01:43:11.358Z"
   },
   {
    "duration": 0,
    "start_time": "2024-11-12T01:43:11.360Z"
   },
   {
    "duration": 0,
    "start_time": "2024-11-12T01:43:11.361Z"
   },
   {
    "duration": 0,
    "start_time": "2024-11-12T01:43:11.362Z"
   },
   {
    "duration": 0,
    "start_time": "2024-11-12T01:43:11.363Z"
   },
   {
    "duration": 0,
    "start_time": "2024-11-12T01:43:11.365Z"
   },
   {
    "duration": 14,
    "start_time": "2024-11-12T01:44:38.645Z"
   },
   {
    "duration": 758,
    "start_time": "2024-11-12T01:44:56.454Z"
   },
   {
    "duration": 166,
    "start_time": "2024-11-12T01:44:57.214Z"
   },
   {
    "duration": 9,
    "start_time": "2024-11-12T01:44:57.382Z"
   },
   {
    "duration": 21,
    "start_time": "2024-11-12T01:44:57.392Z"
   },
   {
    "duration": 9,
    "start_time": "2024-11-12T01:44:57.416Z"
   },
   {
    "duration": 8,
    "start_time": "2024-11-12T01:44:57.427Z"
   },
   {
    "duration": 11,
    "start_time": "2024-11-12T01:44:57.436Z"
   },
   {
    "duration": 10,
    "start_time": "2024-11-12T01:44:57.449Z"
   },
   {
    "duration": 12,
    "start_time": "2024-11-12T01:44:57.461Z"
   },
   {
    "duration": 38,
    "start_time": "2024-11-12T01:44:57.475Z"
   },
   {
    "duration": 4,
    "start_time": "2024-11-12T01:44:57.515Z"
   },
   {
    "duration": 15,
    "start_time": "2024-11-12T01:44:57.521Z"
   },
   {
    "duration": 10,
    "start_time": "2024-11-12T01:44:57.538Z"
   },
   {
    "duration": 26,
    "start_time": "2024-11-12T01:44:57.552Z"
   },
   {
    "duration": 44,
    "start_time": "2024-11-12T01:44:57.580Z"
   },
   {
    "duration": 18,
    "start_time": "2024-11-12T01:44:57.626Z"
   },
   {
    "duration": 13,
    "start_time": "2024-11-12T01:44:57.645Z"
   },
   {
    "duration": 8,
    "start_time": "2024-11-12T01:44:57.659Z"
   },
   {
    "duration": 53,
    "start_time": "2024-11-12T01:44:57.669Z"
   },
   {
    "duration": 11,
    "start_time": "2024-11-12T01:44:57.724Z"
   },
   {
    "duration": 11,
    "start_time": "2024-11-12T01:44:57.737Z"
   },
   {
    "duration": 13,
    "start_time": "2024-11-12T01:44:57.750Z"
   },
   {
    "duration": 8,
    "start_time": "2024-11-12T01:44:57.765Z"
   },
   {
    "duration": 46,
    "start_time": "2024-11-12T01:44:57.775Z"
   },
   {
    "duration": 19,
    "start_time": "2024-11-12T01:44:57.823Z"
   },
   {
    "duration": 14,
    "start_time": "2024-11-12T01:44:57.844Z"
   },
   {
    "duration": 11,
    "start_time": "2024-11-12T01:44:57.860Z"
   },
   {
    "duration": 9,
    "start_time": "2024-11-12T01:44:57.872Z"
   },
   {
    "duration": 41,
    "start_time": "2024-11-12T01:44:57.882Z"
   },
   {
    "duration": 19,
    "start_time": "2024-11-12T01:44:57.925Z"
   },
   {
    "duration": 15,
    "start_time": "2024-11-12T01:44:57.946Z"
   },
   {
    "duration": 14,
    "start_time": "2024-11-12T01:44:57.963Z"
   },
   {
    "duration": 629,
    "start_time": "2024-11-12T01:44:57.979Z"
   },
   {
    "duration": 0,
    "start_time": "2024-11-12T01:44:58.611Z"
   },
   {
    "duration": 0,
    "start_time": "2024-11-12T01:44:58.612Z"
   },
   {
    "duration": 0,
    "start_time": "2024-11-12T01:44:58.613Z"
   },
   {
    "duration": 0,
    "start_time": "2024-11-12T01:44:58.614Z"
   },
   {
    "duration": 0,
    "start_time": "2024-11-12T01:44:58.616Z"
   },
   {
    "duration": 0,
    "start_time": "2024-11-12T01:44:58.617Z"
   },
   {
    "duration": 0,
    "start_time": "2024-11-12T01:44:58.618Z"
   },
   {
    "duration": 0,
    "start_time": "2024-11-12T01:44:58.619Z"
   },
   {
    "duration": 0,
    "start_time": "2024-11-12T01:44:58.620Z"
   },
   {
    "duration": 0,
    "start_time": "2024-11-12T01:44:58.622Z"
   },
   {
    "duration": 0,
    "start_time": "2024-11-12T01:44:58.623Z"
   },
   {
    "duration": 0,
    "start_time": "2024-11-12T01:44:58.625Z"
   },
   {
    "duration": 0,
    "start_time": "2024-11-12T01:44:58.626Z"
   },
   {
    "duration": 0,
    "start_time": "2024-11-12T01:44:58.628Z"
   },
   {
    "duration": 0,
    "start_time": "2024-11-12T01:44:58.629Z"
   },
   {
    "duration": 0,
    "start_time": "2024-11-12T01:44:58.630Z"
   },
   {
    "duration": 0,
    "start_time": "2024-11-12T01:44:58.632Z"
   },
   {
    "duration": 0,
    "start_time": "2024-11-12T01:44:58.635Z"
   },
   {
    "duration": 0,
    "start_time": "2024-11-12T01:44:58.636Z"
   },
   {
    "duration": 0,
    "start_time": "2024-11-12T01:44:58.638Z"
   },
   {
    "duration": 0,
    "start_time": "2024-11-12T01:44:58.639Z"
   },
   {
    "duration": 348,
    "start_time": "2024-11-12T01:46:13.632Z"
   },
   {
    "duration": 15,
    "start_time": "2024-11-12T01:46:40.949Z"
   },
   {
    "duration": 259,
    "start_time": "2024-11-12T01:46:53.365Z"
   },
   {
    "duration": 22,
    "start_time": "2024-11-12T01:47:07.070Z"
   },
   {
    "duration": 47,
    "start_time": "2024-11-12T01:47:15.872Z"
   },
   {
    "duration": 3937,
    "start_time": "2024-11-12T01:47:22.369Z"
   },
   {
    "duration": 3650,
    "start_time": "2024-11-12T01:48:05.511Z"
   },
   {
    "duration": 203,
    "start_time": "2024-11-12T01:49:11.812Z"
   },
   {
    "duration": 162,
    "start_time": "2024-11-12T01:49:17.377Z"
   },
   {
    "duration": 7,
    "start_time": "2024-11-12T01:49:23.053Z"
   },
   {
    "duration": 106,
    "start_time": "2024-11-12T01:49:28.223Z"
   },
   {
    "duration": 150,
    "start_time": "2024-11-12T01:49:32.645Z"
   },
   {
    "duration": 138,
    "start_time": "2024-11-12T01:49:36.209Z"
   },
   {
    "duration": 8,
    "start_time": "2024-11-12T01:49:40.151Z"
   },
   {
    "duration": 130,
    "start_time": "2024-11-12T01:49:43.912Z"
   },
   {
    "duration": 263,
    "start_time": "2024-11-12T01:49:57.598Z"
   },
   {
    "duration": 154,
    "start_time": "2024-11-12T01:50:11.365Z"
   },
   {
    "duration": 8,
    "start_time": "2024-11-12T01:50:41.558Z"
   },
   {
    "duration": 106,
    "start_time": "2024-11-12T01:59:01.060Z"
   },
   {
    "duration": 177,
    "start_time": "2024-11-12T01:59:06.200Z"
   },
   {
    "duration": 6,
    "start_time": "2024-11-12T01:59:12.070Z"
   },
   {
    "duration": 196,
    "start_time": "2024-11-12T01:59:16.537Z"
   },
   {
    "duration": 106,
    "start_time": "2024-11-12T01:59:22.215Z"
   },
   {
    "duration": 8,
    "start_time": "2024-11-12T01:59:27.619Z"
   },
   {
    "duration": 164,
    "start_time": "2024-11-12T04:05:48.918Z"
   },
   {
    "duration": 14,
    "start_time": "2024-11-12T04:16:11.496Z"
   },
   {
    "duration": 14,
    "start_time": "2024-11-12T04:16:19.449Z"
   },
   {
    "duration": 11,
    "start_time": "2024-11-12T04:18:23.231Z"
   },
   {
    "duration": 2536,
    "start_time": "2024-11-12T04:18:34.826Z"
   },
   {
    "duration": 222,
    "start_time": "2024-11-12T04:18:37.365Z"
   },
   {
    "duration": 9,
    "start_time": "2024-11-12T04:18:37.589Z"
   },
   {
    "duration": 9,
    "start_time": "2024-11-12T04:18:37.600Z"
   },
   {
    "duration": 9,
    "start_time": "2024-11-12T04:18:37.612Z"
   },
   {
    "duration": 8,
    "start_time": "2024-11-12T04:18:37.631Z"
   },
   {
    "duration": 19,
    "start_time": "2024-11-12T04:18:37.641Z"
   },
   {
    "duration": 17,
    "start_time": "2024-11-12T04:18:37.662Z"
   },
   {
    "duration": 14,
    "start_time": "2024-11-12T04:18:37.681Z"
   },
   {
    "duration": 4,
    "start_time": "2024-11-12T04:18:37.697Z"
   },
   {
    "duration": 29,
    "start_time": "2024-11-12T04:18:37.704Z"
   },
   {
    "duration": 17,
    "start_time": "2024-11-12T04:18:37.735Z"
   },
   {
    "duration": 10,
    "start_time": "2024-11-12T04:18:37.754Z"
   },
   {
    "duration": 26,
    "start_time": "2024-11-12T04:18:37.767Z"
   },
   {
    "duration": 36,
    "start_time": "2024-11-12T04:18:37.795Z"
   },
   {
    "duration": 20,
    "start_time": "2024-11-12T04:18:37.833Z"
   },
   {
    "duration": 13,
    "start_time": "2024-11-12T04:18:37.854Z"
   },
   {
    "duration": 8,
    "start_time": "2024-11-12T04:18:37.868Z"
   },
   {
    "duration": 17,
    "start_time": "2024-11-12T04:18:37.878Z"
   },
   {
    "duration": 37,
    "start_time": "2024-11-12T04:18:37.897Z"
   },
   {
    "duration": 15,
    "start_time": "2024-11-12T04:18:37.935Z"
   },
   {
    "duration": 14,
    "start_time": "2024-11-12T04:18:37.952Z"
   },
   {
    "duration": 9,
    "start_time": "2024-11-12T04:18:37.969Z"
   },
   {
    "duration": 21,
    "start_time": "2024-11-12T04:18:37.979Z"
   },
   {
    "duration": 55,
    "start_time": "2024-11-12T04:18:38.002Z"
   },
   {
    "duration": 14,
    "start_time": "2024-11-12T04:18:38.059Z"
   },
   {
    "duration": 7,
    "start_time": "2024-11-12T04:18:38.075Z"
   },
   {
    "duration": 10,
    "start_time": "2024-11-12T04:18:38.084Z"
   },
   {
    "duration": 54,
    "start_time": "2024-11-12T04:18:38.096Z"
   },
   {
    "duration": 17,
    "start_time": "2024-11-12T04:18:38.151Z"
   },
   {
    "duration": 14,
    "start_time": "2024-11-12T04:18:38.170Z"
   },
   {
    "duration": 13,
    "start_time": "2024-11-12T04:18:38.186Z"
   },
   {
    "duration": 46,
    "start_time": "2024-11-12T04:18:38.200Z"
   },
   {
    "duration": 148,
    "start_time": "2024-11-12T04:18:38.249Z"
   },
   {
    "duration": 3658,
    "start_time": "2024-11-12T04:18:38.400Z"
   },
   {
    "duration": 228,
    "start_time": "2024-11-12T04:18:42.060Z"
   },
   {
    "duration": 184,
    "start_time": "2024-11-12T04:18:42.290Z"
   },
   {
    "duration": 6,
    "start_time": "2024-11-12T04:18:42.476Z"
   },
   {
    "duration": 121,
    "start_time": "2024-11-12T04:18:42.484Z"
   },
   {
    "duration": 167,
    "start_time": "2024-11-12T04:18:42.607Z"
   },
   {
    "duration": 157,
    "start_time": "2024-11-12T04:18:42.779Z"
   },
   {
    "duration": 7,
    "start_time": "2024-11-12T04:18:42.938Z"
   },
   {
    "duration": 120,
    "start_time": "2024-11-12T04:18:42.947Z"
   },
   {
    "duration": 177,
    "start_time": "2024-11-12T04:18:43.068Z"
   },
   {
    "duration": 187,
    "start_time": "2024-11-12T04:18:43.248Z"
   },
   {
    "duration": 8,
    "start_time": "2024-11-12T04:18:43.437Z"
   },
   {
    "duration": 133,
    "start_time": "2024-11-12T04:18:43.447Z"
   },
   {
    "duration": 172,
    "start_time": "2024-11-12T04:18:43.583Z"
   },
   {
    "duration": 7,
    "start_time": "2024-11-12T04:18:43.757Z"
   },
   {
    "duration": 162,
    "start_time": "2024-11-12T04:18:43.765Z"
   },
   {
    "duration": 177,
    "start_time": "2024-11-12T04:18:43.930Z"
   },
   {
    "duration": 10,
    "start_time": "2024-11-12T04:18:44.108Z"
   },
   {
    "duration": 18,
    "start_time": "2024-11-12T04:18:44.130Z"
   },
   {
    "duration": 3744,
    "start_time": "2024-11-12T04:20:48.547Z"
   },
   {
    "duration": 6,
    "start_time": "2024-11-12T04:22:19.475Z"
   },
   {
    "duration": 10,
    "start_time": "2024-11-12T04:22:27.116Z"
   },
   {
    "duration": 18,
    "start_time": "2024-11-12T04:22:45.583Z"
   },
   {
    "duration": 21,
    "start_time": "2024-11-12T04:23:02.876Z"
   },
   {
    "duration": 21,
    "start_time": "2024-11-12T04:23:33.683Z"
   },
   {
    "duration": 22,
    "start_time": "2024-11-12T04:23:48.625Z"
   },
   {
    "duration": 24,
    "start_time": "2024-11-12T04:24:02.281Z"
   },
   {
    "duration": 22,
    "start_time": "2024-11-12T04:24:10.588Z"
   },
   {
    "duration": 119,
    "start_time": "2024-11-12T04:25:18.719Z"
   },
   {
    "duration": 33,
    "start_time": "2024-11-12T04:25:38.760Z"
   },
   {
    "duration": 384,
    "start_time": "2024-11-12T04:27:02.552Z"
   },
   {
    "duration": 54,
    "start_time": "2024-11-12T04:27:39.933Z"
   },
   {
    "duration": 53,
    "start_time": "2024-11-12T04:28:25.901Z"
   },
   {
    "duration": 53,
    "start_time": "2024-11-12T04:28:36.793Z"
   },
   {
    "duration": 52,
    "start_time": "2024-11-12T04:28:39.181Z"
   },
   {
    "duration": 458,
    "start_time": "2024-11-12T04:29:05.278Z"
   },
   {
    "duration": 31,
    "start_time": "2024-11-12T04:29:17.363Z"
   },
   {
    "duration": 32,
    "start_time": "2024-11-12T04:29:44.942Z"
   },
   {
    "duration": 51,
    "start_time": "2024-11-12T04:33:31.807Z"
   },
   {
    "duration": 40,
    "start_time": "2024-11-12T04:33:41.580Z"
   },
   {
    "duration": 31,
    "start_time": "2024-11-12T04:35:29.196Z"
   },
   {
    "duration": 33,
    "start_time": "2024-11-12T04:35:33.249Z"
   },
   {
    "duration": 23,
    "start_time": "2024-11-12T04:36:21.089Z"
   },
   {
    "duration": 32,
    "start_time": "2024-11-12T04:36:32.212Z"
   },
   {
    "duration": 28,
    "start_time": "2024-11-12T04:37:36.864Z"
   },
   {
    "duration": 30,
    "start_time": "2024-11-12T04:37:52.835Z"
   },
   {
    "duration": 26,
    "start_time": "2024-11-12T04:40:35.911Z"
   },
   {
    "duration": 28,
    "start_time": "2024-11-12T04:40:47.748Z"
   },
   {
    "duration": 37,
    "start_time": "2024-11-12T04:41:15.724Z"
   },
   {
    "duration": 29,
    "start_time": "2024-11-12T04:41:25.730Z"
   },
   {
    "duration": 35,
    "start_time": "2024-11-12T04:41:33.862Z"
   },
   {
    "duration": 41,
    "start_time": "2024-11-12T04:41:49.838Z"
   },
   {
    "duration": 27,
    "start_time": "2024-11-12T04:42:08.963Z"
   },
   {
    "duration": 38,
    "start_time": "2024-11-12T04:42:19.659Z"
   },
   {
    "duration": 31,
    "start_time": "2024-11-12T04:47:55.876Z"
   },
   {
    "duration": 30,
    "start_time": "2024-11-12T04:49:05.320Z"
   },
   {
    "duration": 30,
    "start_time": "2024-11-12T04:49:50.606Z"
   },
   {
    "duration": 38,
    "start_time": "2024-11-12T04:50:36.297Z"
   },
   {
    "duration": 12,
    "start_time": "2024-11-12T04:51:49.991Z"
   },
   {
    "duration": 15,
    "start_time": "2024-11-12T04:52:03.028Z"
   },
   {
    "duration": 12,
    "start_time": "2024-11-12T04:52:21.307Z"
   },
   {
    "duration": 12,
    "start_time": "2024-11-12T04:52:28.843Z"
   },
   {
    "duration": 15,
    "start_time": "2024-11-12T04:54:25.464Z"
   },
   {
    "duration": 5,
    "start_time": "2024-11-12T04:54:38.510Z"
   },
   {
    "duration": 5,
    "start_time": "2024-11-12T04:55:06.365Z"
   },
   {
    "duration": 741,
    "start_time": "2024-11-12T04:55:22.007Z"
   },
   {
    "duration": 165,
    "start_time": "2024-11-12T04:55:22.751Z"
   },
   {
    "duration": 9,
    "start_time": "2024-11-12T04:55:22.918Z"
   },
   {
    "duration": 11,
    "start_time": "2024-11-12T04:55:22.929Z"
   },
   {
    "duration": 9,
    "start_time": "2024-11-12T04:55:22.942Z"
   },
   {
    "duration": 8,
    "start_time": "2024-11-12T04:55:22.953Z"
   },
   {
    "duration": 13,
    "start_time": "2024-11-12T04:55:22.963Z"
   },
   {
    "duration": 10,
    "start_time": "2024-11-12T04:55:22.978Z"
   },
   {
    "duration": 50,
    "start_time": "2024-11-12T04:55:22.990Z"
   },
   {
    "duration": 4,
    "start_time": "2024-11-12T04:55:23.043Z"
   },
   {
    "duration": 4,
    "start_time": "2024-11-12T04:55:23.049Z"
   },
   {
    "duration": 16,
    "start_time": "2024-11-12T04:55:23.055Z"
   },
   {
    "duration": 11,
    "start_time": "2024-11-12T04:55:23.073Z"
   },
   {
    "duration": 59,
    "start_time": "2024-11-12T04:55:23.086Z"
   },
   {
    "duration": 13,
    "start_time": "2024-11-12T04:55:23.147Z"
   },
   {
    "duration": 21,
    "start_time": "2024-11-12T04:55:23.161Z"
   },
   {
    "duration": 12,
    "start_time": "2024-11-12T04:55:23.184Z"
   },
   {
    "duration": 8,
    "start_time": "2024-11-12T04:55:23.198Z"
   },
   {
    "duration": 17,
    "start_time": "2024-11-12T04:55:23.232Z"
   },
   {
    "duration": 8,
    "start_time": "2024-11-12T04:55:23.252Z"
   },
   {
    "duration": 13,
    "start_time": "2024-11-12T04:55:23.262Z"
   },
   {
    "duration": 14,
    "start_time": "2024-11-12T04:55:23.277Z"
   },
   {
    "duration": 38,
    "start_time": "2024-11-12T04:55:23.292Z"
   },
   {
    "duration": 22,
    "start_time": "2024-11-12T04:55:23.332Z"
   },
   {
    "duration": 17,
    "start_time": "2024-11-12T04:55:23.356Z"
   },
   {
    "duration": 15,
    "start_time": "2024-11-12T04:55:23.374Z"
   },
   {
    "duration": 7,
    "start_time": "2024-11-12T04:55:23.390Z"
   },
   {
    "duration": 39,
    "start_time": "2024-11-12T04:55:23.401Z"
   },
   {
    "duration": 20,
    "start_time": "2024-11-12T04:55:23.441Z"
   },
   {
    "duration": 15,
    "start_time": "2024-11-12T04:55:23.463Z"
   },
   {
    "duration": 14,
    "start_time": "2024-11-12T04:55:23.480Z"
   },
   {
    "duration": 37,
    "start_time": "2024-11-12T04:55:23.496Z"
   },
   {
    "duration": 21,
    "start_time": "2024-11-12T04:55:23.535Z"
   },
   {
    "duration": 158,
    "start_time": "2024-11-12T04:55:23.558Z"
   },
   {
    "duration": 4121,
    "start_time": "2024-11-12T04:55:23.718Z"
   },
   {
    "duration": 183,
    "start_time": "2024-11-12T04:55:27.842Z"
   },
   {
    "duration": 189,
    "start_time": "2024-11-12T04:55:28.031Z"
   },
   {
    "duration": 15,
    "start_time": "2024-11-12T04:55:28.221Z"
   },
   {
    "duration": 118,
    "start_time": "2024-11-12T04:55:28.239Z"
   },
   {
    "duration": 167,
    "start_time": "2024-11-12T04:55:28.359Z"
   },
   {
    "duration": 150,
    "start_time": "2024-11-12T04:55:28.528Z"
   },
   {
    "duration": 8,
    "start_time": "2024-11-12T04:55:28.679Z"
   },
   {
    "duration": 116,
    "start_time": "2024-11-12T04:55:28.688Z"
   },
   {
    "duration": 175,
    "start_time": "2024-11-12T04:55:28.806Z"
   },
   {
    "duration": 161,
    "start_time": "2024-11-12T04:55:28.983Z"
   },
   {
    "duration": 9,
    "start_time": "2024-11-12T04:55:29.146Z"
   },
   {
    "duration": 124,
    "start_time": "2024-11-12T04:55:29.156Z"
   },
   {
    "duration": 243,
    "start_time": "2024-11-12T04:55:29.282Z"
   },
   {
    "duration": 9,
    "start_time": "2024-11-12T04:55:29.526Z"
   },
   {
    "duration": 163,
    "start_time": "2024-11-12T04:55:29.536Z"
   },
   {
    "duration": 118,
    "start_time": "2024-11-12T04:55:29.701Z"
   },
   {
    "duration": 15,
    "start_time": "2024-11-12T04:55:29.821Z"
   },
   {
    "duration": 38,
    "start_time": "2024-11-12T04:55:29.838Z"
   },
   {
    "duration": 705,
    "start_time": "2024-11-12T05:11:14.839Z"
   },
   {
    "duration": 25,
    "start_time": "2024-11-12T05:13:16.559Z"
   },
   {
    "duration": 53,
    "start_time": "2024-11-12T05:13:41.912Z"
   },
   {
    "duration": 38,
    "start_time": "2024-11-12T05:13:47.407Z"
   },
   {
    "duration": 39,
    "start_time": "2024-11-12T05:14:05.049Z"
   },
   {
    "duration": 37,
    "start_time": "2024-11-12T05:14:11.806Z"
   },
   {
    "duration": 53,
    "start_time": "2024-11-12T05:14:56.110Z"
   },
   {
    "duration": 41,
    "start_time": "2024-11-12T05:15:56.624Z"
   },
   {
    "duration": 34,
    "start_time": "2024-11-12T05:16:34.808Z"
   },
   {
    "duration": 39,
    "start_time": "2024-11-12T05:18:28.577Z"
   },
   {
    "duration": 8,
    "start_time": "2024-11-12T05:20:35.871Z"
   },
   {
    "duration": 5,
    "start_time": "2024-11-12T05:20:44.396Z"
   },
   {
    "duration": 761,
    "start_time": "2024-11-12T05:21:14.926Z"
   },
   {
    "duration": 164,
    "start_time": "2024-11-12T05:21:15.689Z"
   },
   {
    "duration": 9,
    "start_time": "2024-11-12T05:21:15.855Z"
   },
   {
    "duration": 9,
    "start_time": "2024-11-12T05:21:15.866Z"
   },
   {
    "duration": 9,
    "start_time": "2024-11-12T05:21:15.877Z"
   },
   {
    "duration": 8,
    "start_time": "2024-11-12T05:21:15.887Z"
   },
   {
    "duration": 40,
    "start_time": "2024-11-12T05:21:15.897Z"
   },
   {
    "duration": 11,
    "start_time": "2024-11-12T05:21:15.939Z"
   },
   {
    "duration": 12,
    "start_time": "2024-11-12T05:21:15.952Z"
   },
   {
    "duration": 4,
    "start_time": "2024-11-12T05:21:15.967Z"
   },
   {
    "duration": 5,
    "start_time": "2024-11-12T05:21:15.972Z"
   },
   {
    "duration": 16,
    "start_time": "2024-11-12T05:21:15.979Z"
   },
   {
    "duration": 43,
    "start_time": "2024-11-12T05:21:15.996Z"
   },
   {
    "duration": 26,
    "start_time": "2024-11-12T05:21:16.041Z"
   },
   {
    "duration": 12,
    "start_time": "2024-11-12T05:21:16.068Z"
   },
   {
    "duration": 17,
    "start_time": "2024-11-12T05:21:16.082Z"
   },
   {
    "duration": 37,
    "start_time": "2024-11-12T05:21:16.101Z"
   },
   {
    "duration": 8,
    "start_time": "2024-11-12T05:21:16.140Z"
   },
   {
    "duration": 20,
    "start_time": "2024-11-12T05:21:16.149Z"
   },
   {
    "duration": 9,
    "start_time": "2024-11-12T05:21:16.171Z"
   },
   {
    "duration": 11,
    "start_time": "2024-11-12T05:21:16.182Z"
   },
   {
    "duration": 46,
    "start_time": "2024-11-12T05:21:16.195Z"
   },
   {
    "duration": 9,
    "start_time": "2024-11-12T05:21:16.243Z"
   },
   {
    "duration": 20,
    "start_time": "2024-11-12T05:21:16.253Z"
   },
   {
    "duration": 16,
    "start_time": "2024-11-12T05:21:16.274Z"
   },
   {
    "duration": 45,
    "start_time": "2024-11-12T05:21:16.292Z"
   },
   {
    "duration": 9,
    "start_time": "2024-11-12T05:21:16.339Z"
   },
   {
    "duration": 16,
    "start_time": "2024-11-12T05:21:16.354Z"
   },
   {
    "duration": 21,
    "start_time": "2024-11-12T05:21:16.373Z"
   },
   {
    "duration": 41,
    "start_time": "2024-11-12T05:21:16.396Z"
   },
   {
    "duration": 14,
    "start_time": "2024-11-12T05:21:16.438Z"
   },
   {
    "duration": 14,
    "start_time": "2024-11-12T05:21:16.453Z"
   },
   {
    "duration": 22,
    "start_time": "2024-11-12T05:21:16.469Z"
   },
   {
    "duration": 168,
    "start_time": "2024-11-12T05:21:16.493Z"
   },
   {
    "duration": 3835,
    "start_time": "2024-11-12T05:21:16.663Z"
   },
   {
    "duration": 182,
    "start_time": "2024-11-12T05:21:20.499Z"
   },
   {
    "duration": 172,
    "start_time": "2024-11-12T05:21:20.682Z"
   },
   {
    "duration": 7,
    "start_time": "2024-11-12T05:21:20.856Z"
   },
   {
    "duration": 122,
    "start_time": "2024-11-12T05:21:20.865Z"
   },
   {
    "duration": 163,
    "start_time": "2024-11-12T05:21:20.989Z"
   },
   {
    "duration": 149,
    "start_time": "2024-11-12T05:21:21.154Z"
   },
   {
    "duration": 7,
    "start_time": "2024-11-12T05:21:21.304Z"
   },
   {
    "duration": 111,
    "start_time": "2024-11-12T05:21:21.312Z"
   },
   {
    "duration": 172,
    "start_time": "2024-11-12T05:21:21.425Z"
   },
   {
    "duration": 159,
    "start_time": "2024-11-12T05:21:21.599Z"
   },
   {
    "duration": 6,
    "start_time": "2024-11-12T05:21:21.760Z"
   },
   {
    "duration": 124,
    "start_time": "2024-11-12T05:21:21.768Z"
   },
   {
    "duration": 242,
    "start_time": "2024-11-12T05:21:21.894Z"
   },
   {
    "duration": 6,
    "start_time": "2024-11-12T05:21:22.138Z"
   },
   {
    "duration": 162,
    "start_time": "2024-11-12T05:21:22.146Z"
   },
   {
    "duration": 112,
    "start_time": "2024-11-12T05:21:22.310Z"
   },
   {
    "duration": 13,
    "start_time": "2024-11-12T05:21:22.424Z"
   },
   {
    "duration": 4,
    "start_time": "2024-11-12T05:21:22.439Z"
   },
   {
    "duration": 20,
    "start_time": "2024-11-12T05:21:51.429Z"
   },
   {
    "duration": 9,
    "start_time": "2024-11-12T05:22:50.114Z"
   },
   {
    "duration": 32,
    "start_time": "2024-11-12T05:22:58.959Z"
   },
   {
    "duration": 34,
    "start_time": "2024-11-12T05:24:00.046Z"
   },
   {
    "duration": 39,
    "start_time": "2024-11-12T05:24:35.364Z"
   },
   {
    "duration": 37,
    "start_time": "2024-11-12T05:26:11.575Z"
   },
   {
    "duration": 22,
    "start_time": "2024-11-12T05:27:19.783Z"
   },
   {
    "duration": 19,
    "start_time": "2024-11-12T05:27:33.311Z"
   },
   {
    "duration": 16,
    "start_time": "2024-11-12T05:28:17.992Z"
   },
   {
    "duration": 20,
    "start_time": "2024-11-12T05:28:28.025Z"
   },
   {
    "duration": 17,
    "start_time": "2024-11-12T05:28:50.546Z"
   },
   {
    "duration": 21,
    "start_time": "2024-11-12T05:30:45.260Z"
   },
   {
    "duration": 18,
    "start_time": "2024-11-12T05:32:48.257Z"
   },
   {
    "duration": 540,
    "start_time": "2024-11-12T05:37:24.942Z"
   },
   {
    "duration": 18,
    "start_time": "2024-11-12T05:37:52.598Z"
   },
   {
    "duration": 18,
    "start_time": "2024-11-12T05:37:55.836Z"
   },
   {
    "duration": 19,
    "start_time": "2024-11-12T05:38:15.556Z"
   },
   {
    "duration": 21,
    "start_time": "2024-11-12T05:38:28.296Z"
   },
   {
    "duration": 19,
    "start_time": "2024-11-12T05:41:03.427Z"
   },
   {
    "duration": 799,
    "start_time": "2024-11-12T05:41:24.837Z"
   },
   {
    "duration": 168,
    "start_time": "2024-11-12T05:41:25.638Z"
   },
   {
    "duration": 10,
    "start_time": "2024-11-12T05:41:25.808Z"
   },
   {
    "duration": 18,
    "start_time": "2024-11-12T05:41:25.819Z"
   },
   {
    "duration": 9,
    "start_time": "2024-11-12T05:41:25.839Z"
   },
   {
    "duration": 9,
    "start_time": "2024-11-12T05:41:25.849Z"
   },
   {
    "duration": 11,
    "start_time": "2024-11-12T05:41:25.859Z"
   },
   {
    "duration": 10,
    "start_time": "2024-11-12T05:41:25.872Z"
   },
   {
    "duration": 12,
    "start_time": "2024-11-12T05:41:25.884Z"
   },
   {
    "duration": 5,
    "start_time": "2024-11-12T05:41:25.932Z"
   },
   {
    "duration": 4,
    "start_time": "2024-11-12T05:41:25.939Z"
   },
   {
    "duration": 16,
    "start_time": "2024-11-12T05:41:25.944Z"
   },
   {
    "duration": 10,
    "start_time": "2024-11-12T05:41:25.961Z"
   },
   {
    "duration": 27,
    "start_time": "2024-11-12T05:41:25.972Z"
   },
   {
    "duration": 13,
    "start_time": "2024-11-12T05:41:26.030Z"
   },
   {
    "duration": 18,
    "start_time": "2024-11-12T05:41:26.046Z"
   },
   {
    "duration": 13,
    "start_time": "2024-11-12T05:41:26.066Z"
   },
   {
    "duration": 9,
    "start_time": "2024-11-12T05:41:26.080Z"
   },
   {
    "duration": 42,
    "start_time": "2024-11-12T05:41:26.091Z"
   },
   {
    "duration": 9,
    "start_time": "2024-11-12T05:41:26.135Z"
   },
   {
    "duration": 12,
    "start_time": "2024-11-12T05:41:26.145Z"
   },
   {
    "duration": 14,
    "start_time": "2024-11-12T05:41:26.158Z"
   },
   {
    "duration": 9,
    "start_time": "2024-11-12T05:41:26.174Z"
   },
   {
    "duration": 54,
    "start_time": "2024-11-12T05:41:26.185Z"
   },
   {
    "duration": 17,
    "start_time": "2024-11-12T05:41:26.240Z"
   },
   {
    "duration": 14,
    "start_time": "2024-11-12T05:41:26.258Z"
   },
   {
    "duration": 7,
    "start_time": "2024-11-12T05:41:26.274Z"
   },
   {
    "duration": 11,
    "start_time": "2024-11-12T05:41:26.286Z"
   },
   {
    "duration": 46,
    "start_time": "2024-11-12T05:41:26.298Z"
   },
   {
    "duration": 16,
    "start_time": "2024-11-12T05:41:26.346Z"
   },
   {
    "duration": 16,
    "start_time": "2024-11-12T05:41:26.363Z"
   },
   {
    "duration": 14,
    "start_time": "2024-11-12T05:41:26.381Z"
   },
   {
    "duration": 49,
    "start_time": "2024-11-12T05:41:26.397Z"
   },
   {
    "duration": 149,
    "start_time": "2024-11-12T05:41:26.448Z"
   },
   {
    "duration": 3633,
    "start_time": "2024-11-12T05:41:26.599Z"
   },
   {
    "duration": 177,
    "start_time": "2024-11-12T05:41:30.233Z"
   },
   {
    "duration": 195,
    "start_time": "2024-11-12T05:41:30.412Z"
   },
   {
    "duration": 6,
    "start_time": "2024-11-12T05:41:30.609Z"
   },
   {
    "duration": 117,
    "start_time": "2024-11-12T05:41:30.617Z"
   },
   {
    "duration": 160,
    "start_time": "2024-11-12T05:41:30.735Z"
   },
   {
    "duration": 151,
    "start_time": "2024-11-12T05:41:30.897Z"
   },
   {
    "duration": 7,
    "start_time": "2024-11-12T05:41:31.049Z"
   },
   {
    "duration": 115,
    "start_time": "2024-11-12T05:41:31.058Z"
   },
   {
    "duration": 168,
    "start_time": "2024-11-12T05:41:31.175Z"
   },
   {
    "duration": 159,
    "start_time": "2024-11-12T05:41:31.345Z"
   },
   {
    "duration": 7,
    "start_time": "2024-11-12T05:41:31.506Z"
   },
   {
    "duration": 138,
    "start_time": "2024-11-12T05:41:31.515Z"
   },
   {
    "duration": 255,
    "start_time": "2024-11-12T05:41:31.655Z"
   },
   {
    "duration": 6,
    "start_time": "2024-11-12T05:41:31.912Z"
   },
   {
    "duration": 168,
    "start_time": "2024-11-12T05:41:31.920Z"
   },
   {
    "duration": 120,
    "start_time": "2024-11-12T05:41:32.090Z"
   },
   {
    "duration": 8,
    "start_time": "2024-11-12T05:41:32.212Z"
   },
   {
    "duration": 26,
    "start_time": "2024-11-12T05:41:32.222Z"
   },
   {
    "duration": 21,
    "start_time": "2024-11-12T05:42:08.090Z"
   },
   {
    "duration": 20,
    "start_time": "2024-11-12T05:46:37.846Z"
   },
   {
    "duration": 44,
    "start_time": "2024-11-12T05:48:28.441Z"
   },
   {
    "duration": 175,
    "start_time": "2024-11-12T15:52:49.714Z"
   },
   {
    "duration": 15,
    "start_time": "2024-11-12T15:52:54.186Z"
   },
   {
    "duration": 2724,
    "start_time": "2024-11-12T15:53:04.660Z"
   },
   {
    "duration": 249,
    "start_time": "2024-11-12T15:53:07.387Z"
   },
   {
    "duration": 29,
    "start_time": "2024-11-12T15:53:07.637Z"
   },
   {
    "duration": 10,
    "start_time": "2024-11-12T15:53:07.672Z"
   },
   {
    "duration": 10,
    "start_time": "2024-11-12T15:53:07.683Z"
   },
   {
    "duration": 7,
    "start_time": "2024-11-12T15:53:07.695Z"
   },
   {
    "duration": 12,
    "start_time": "2024-11-12T15:53:07.704Z"
   },
   {
    "duration": 11,
    "start_time": "2024-11-12T15:53:07.718Z"
   },
   {
    "duration": 15,
    "start_time": "2024-11-12T15:53:07.758Z"
   },
   {
    "duration": 4,
    "start_time": "2024-11-12T15:53:07.777Z"
   },
   {
    "duration": 3,
    "start_time": "2024-11-12T15:53:07.783Z"
   },
   {
    "duration": 16,
    "start_time": "2024-11-12T15:53:07.789Z"
   },
   {
    "duration": 11,
    "start_time": "2024-11-12T15:53:07.807Z"
   },
   {
    "duration": 56,
    "start_time": "2024-11-12T15:53:07.820Z"
   },
   {
    "duration": 16,
    "start_time": "2024-11-12T15:53:07.878Z"
   },
   {
    "duration": 17,
    "start_time": "2024-11-12T15:53:07.896Z"
   },
   {
    "duration": 12,
    "start_time": "2024-11-12T15:53:07.914Z"
   },
   {
    "duration": 11,
    "start_time": "2024-11-12T15:53:07.947Z"
   },
   {
    "duration": 21,
    "start_time": "2024-11-12T15:53:07.959Z"
   },
   {
    "duration": 8,
    "start_time": "2024-11-12T15:53:07.982Z"
   },
   {
    "duration": 11,
    "start_time": "2024-11-12T15:53:07.992Z"
   },
   {
    "duration": 49,
    "start_time": "2024-11-12T15:53:08.005Z"
   },
   {
    "duration": 12,
    "start_time": "2024-11-12T15:53:08.071Z"
   },
   {
    "duration": 27,
    "start_time": "2024-11-12T15:53:08.086Z"
   },
   {
    "duration": 16,
    "start_time": "2024-11-12T15:53:08.116Z"
   },
   {
    "duration": 38,
    "start_time": "2024-11-12T15:53:08.133Z"
   },
   {
    "duration": 9,
    "start_time": "2024-11-12T15:53:08.172Z"
   },
   {
    "duration": 10,
    "start_time": "2024-11-12T15:53:08.185Z"
   },
   {
    "duration": 18,
    "start_time": "2024-11-12T15:53:08.197Z"
   },
   {
    "duration": 16,
    "start_time": "2024-11-12T15:53:08.217Z"
   },
   {
    "duration": 27,
    "start_time": "2024-11-12T15:53:08.246Z"
   },
   {
    "duration": 14,
    "start_time": "2024-11-12T15:53:08.275Z"
   },
   {
    "duration": 22,
    "start_time": "2024-11-12T15:53:08.290Z"
   },
   {
    "duration": 164,
    "start_time": "2024-11-12T15:53:08.314Z"
   },
   {
    "duration": 3997,
    "start_time": "2024-11-12T15:53:08.480Z"
   },
   {
    "duration": 186,
    "start_time": "2024-11-12T15:53:12.479Z"
   },
   {
    "duration": 182,
    "start_time": "2024-11-12T15:53:12.670Z"
   },
   {
    "duration": 20,
    "start_time": "2024-11-12T15:53:12.854Z"
   },
   {
    "duration": 186,
    "start_time": "2024-11-12T15:53:12.876Z"
   },
   {
    "duration": 160,
    "start_time": "2024-11-12T15:53:13.067Z"
   },
   {
    "duration": 157,
    "start_time": "2024-11-12T15:53:13.230Z"
   },
   {
    "duration": 9,
    "start_time": "2024-11-12T15:53:13.389Z"
   },
   {
    "duration": 120,
    "start_time": "2024-11-12T15:53:13.399Z"
   },
   {
    "duration": 197,
    "start_time": "2024-11-12T15:53:13.521Z"
   },
   {
    "duration": 182,
    "start_time": "2024-11-12T15:53:13.720Z"
   },
   {
    "duration": 8,
    "start_time": "2024-11-12T15:53:13.904Z"
   },
   {
    "duration": 141,
    "start_time": "2024-11-12T15:53:13.913Z"
   },
   {
    "duration": 185,
    "start_time": "2024-11-12T15:53:14.055Z"
   },
   {
    "duration": 6,
    "start_time": "2024-11-12T15:53:14.243Z"
   },
   {
    "duration": 172,
    "start_time": "2024-11-12T15:53:14.250Z"
   },
   {
    "duration": 130,
    "start_time": "2024-11-12T15:53:14.424Z"
   },
   {
    "duration": 11,
    "start_time": "2024-11-12T15:53:14.556Z"
   },
   {
    "duration": 45,
    "start_time": "2024-11-12T15:53:14.572Z"
   },
   {
    "duration": 20,
    "start_time": "2024-11-12T16:01:04.499Z"
   },
   {
    "duration": 20,
    "start_time": "2024-11-12T16:01:18.501Z"
   },
   {
    "duration": 26,
    "start_time": "2024-11-12T16:01:27.140Z"
   },
   {
    "duration": 30,
    "start_time": "2024-11-12T16:01:43.504Z"
   },
   {
    "duration": 30,
    "start_time": "2024-11-12T16:01:54.011Z"
   },
   {
    "duration": 2995,
    "start_time": "2024-11-12T16:02:02.192Z"
   },
   {
    "duration": 193,
    "start_time": "2024-11-12T16:02:12.871Z"
   },
   {
    "duration": 189,
    "start_time": "2024-11-12T16:02:21.436Z"
   },
   {
    "duration": 6,
    "start_time": "2024-11-12T16:02:25.467Z"
   },
   {
    "duration": 108,
    "start_time": "2024-11-12T16:02:29.932Z"
   },
   {
    "duration": 164,
    "start_time": "2024-11-12T16:02:34.171Z"
   },
   {
    "duration": 156,
    "start_time": "2024-11-12T16:02:37.532Z"
   },
   {
    "duration": 6,
    "start_time": "2024-11-12T16:02:41.035Z"
   },
   {
    "duration": 120,
    "start_time": "2024-11-12T16:02:45.518Z"
   },
   {
    "duration": 152,
    "start_time": "2024-11-12T16:02:49.266Z"
   },
   {
    "duration": 174,
    "start_time": "2024-11-12T16:02:52.133Z"
   },
   {
    "duration": 6,
    "start_time": "2024-11-12T16:02:55.571Z"
   },
   {
    "duration": 200,
    "start_time": "2024-11-12T16:03:01.431Z"
   },
   {
    "duration": 181,
    "start_time": "2024-11-12T16:03:04.869Z"
   },
   {
    "duration": 8,
    "start_time": "2024-11-12T16:03:09.276Z"
   },
   {
    "duration": 182,
    "start_time": "2024-11-12T16:03:13.641Z"
   },
   {
    "duration": 116,
    "start_time": "2024-11-12T16:03:16.997Z"
   },
   {
    "duration": 9,
    "start_time": "2024-11-12T16:03:22.663Z"
   },
   {
    "duration": 41,
    "start_time": "2024-11-12T16:03:29.793Z"
   },
   {
    "duration": 58,
    "start_time": "2024-11-12T16:03:41.812Z"
   },
   {
    "duration": 39,
    "start_time": "2024-11-12T16:04:43.767Z"
   },
   {
    "duration": 39,
    "start_time": "2024-11-12T16:23:50.408Z"
   },
   {
    "duration": 39,
    "start_time": "2024-11-12T16:24:39.775Z"
   },
   {
    "duration": 31,
    "start_time": "2024-11-12T16:28:05.968Z"
   },
   {
    "duration": 136,
    "start_time": "2024-11-12T16:28:19.152Z"
   },
   {
    "duration": 29,
    "start_time": "2024-11-12T16:28:29.509Z"
   },
   {
    "duration": 40,
    "start_time": "2024-11-12T16:28:40.469Z"
   },
   {
    "duration": 30,
    "start_time": "2024-11-12T16:29:10.991Z"
   },
   {
    "duration": 3033,
    "start_time": "2024-11-12T16:29:20.638Z"
   },
   {
    "duration": 20,
    "start_time": "2024-11-12T16:30:59.092Z"
   },
   {
    "duration": 38,
    "start_time": "2024-11-12T16:31:11.533Z"
   },
   {
    "duration": 29,
    "start_time": "2024-11-12T16:31:26.711Z"
   },
   {
    "duration": 30,
    "start_time": "2024-11-12T16:32:24.168Z"
   },
   {
    "duration": 3870,
    "start_time": "2024-11-12T16:32:30.532Z"
   },
   {
    "duration": 172,
    "start_time": "2024-11-12T16:32:41.168Z"
   },
   {
    "duration": 178,
    "start_time": "2024-11-12T16:32:43.710Z"
   },
   {
    "duration": 7,
    "start_time": "2024-11-12T16:32:47.199Z"
   },
   {
    "duration": 143,
    "start_time": "2024-11-12T16:32:50.739Z"
   },
   {
    "duration": 168,
    "start_time": "2024-11-12T16:32:53.394Z"
   },
   {
    "duration": 152,
    "start_time": "2024-11-12T16:32:56.125Z"
   },
   {
    "duration": 7,
    "start_time": "2024-11-12T16:32:58.784Z"
   },
   {
    "duration": 102,
    "start_time": "2024-11-12T16:33:01.207Z"
   },
   {
    "duration": 165,
    "start_time": "2024-11-12T16:33:03.567Z"
   },
   {
    "duration": 158,
    "start_time": "2024-11-12T16:33:06.355Z"
   },
   {
    "duration": 172,
    "start_time": "2024-11-12T16:33:12.442Z"
   },
   {
    "duration": 6,
    "start_time": "2024-11-12T16:33:12.616Z"
   },
   {
    "duration": 230,
    "start_time": "2024-11-12T16:33:12.624Z"
   },
   {
    "duration": 214,
    "start_time": "2024-11-12T16:33:12.856Z"
   },
   {
    "duration": 6,
    "start_time": "2024-11-12T16:33:13.072Z"
   },
   {
    "duration": 152,
    "start_time": "2024-11-12T16:33:13.080Z"
   },
   {
    "duration": 111,
    "start_time": "2024-11-12T16:33:13.233Z"
   },
   {
    "duration": 8,
    "start_time": "2024-11-12T16:33:13.359Z"
   },
   {
    "duration": 41,
    "start_time": "2024-11-12T16:33:13.368Z"
   },
   {
    "duration": 41,
    "start_time": "2024-11-12T16:33:55.359Z"
   },
   {
    "duration": 35,
    "start_time": "2024-11-12T16:36:07.504Z"
   },
   {
    "duration": 57,
    "start_time": "2024-11-12T16:39:41.922Z"
   },
   {
    "duration": 22,
    "start_time": "2024-11-12T16:40:19.467Z"
   },
   {
    "duration": 28,
    "start_time": "2024-11-12T16:41:21.664Z"
   },
   {
    "duration": 22,
    "start_time": "2024-11-12T16:41:36.127Z"
   },
   {
    "duration": 23,
    "start_time": "2024-11-12T16:41:49.827Z"
   },
   {
    "duration": 21,
    "start_time": "2024-11-12T16:42:03.991Z"
   },
   {
    "duration": 22,
    "start_time": "2024-11-12T16:42:22.808Z"
   },
   {
    "duration": 44,
    "start_time": "2024-11-12T16:42:39.922Z"
   },
   {
    "duration": 47,
    "start_time": "2024-11-12T16:44:02.048Z"
   },
   {
    "duration": 36,
    "start_time": "2024-11-12T16:44:21.814Z"
   },
   {
    "duration": 489,
    "start_time": "2024-11-12T16:46:32.686Z"
   },
   {
    "duration": 38,
    "start_time": "2024-11-12T16:47:05.136Z"
   },
   {
    "duration": 9,
    "start_time": "2024-11-12T16:59:07.359Z"
   },
   {
    "duration": 4,
    "start_time": "2024-11-12T16:59:30.877Z"
   },
   {
    "duration": 32,
    "start_time": "2024-11-12T17:07:16.842Z"
   },
   {
    "duration": 4,
    "start_time": "2024-11-12T17:07:21.995Z"
   },
   {
    "duration": 5,
    "start_time": "2024-11-12T17:07:52.070Z"
   },
   {
    "duration": 6,
    "start_time": "2024-11-12T17:08:45.710Z"
   },
   {
    "duration": 5,
    "start_time": "2024-11-12T17:08:52.072Z"
   },
   {
    "duration": 13,
    "start_time": "2024-11-12T17:09:02.567Z"
   },
   {
    "duration": 17,
    "start_time": "2024-11-12T17:09:10.184Z"
   },
   {
    "duration": 15,
    "start_time": "2024-11-12T17:09:26.163Z"
   },
   {
    "duration": 10,
    "start_time": "2024-11-12T17:09:50.105Z"
   },
   {
    "duration": 17,
    "start_time": "2024-11-12T17:09:54.789Z"
   },
   {
    "duration": 20,
    "start_time": "2024-11-12T17:10:00.198Z"
   },
   {
    "duration": 310,
    "start_time": "2024-11-12T17:10:28.818Z"
   },
   {
    "duration": 20,
    "start_time": "2024-11-12T17:10:37.707Z"
   },
   {
    "duration": 37,
    "start_time": "2024-11-12T17:11:01.135Z"
   },
   {
    "duration": 18,
    "start_time": "2024-11-12T17:12:07.888Z"
   },
   {
    "duration": 28,
    "start_time": "2024-11-12T17:12:25.856Z"
   },
   {
    "duration": 20,
    "start_time": "2024-11-12T17:13:45.887Z"
   },
   {
    "duration": 28,
    "start_time": "2024-11-12T17:14:26.528Z"
   },
   {
    "duration": 27,
    "start_time": "2024-11-12T17:15:14.091Z"
   },
   {
    "duration": 31,
    "start_time": "2024-11-12T17:15:27.851Z"
   },
   {
    "duration": 34,
    "start_time": "2024-11-12T17:15:40.451Z"
   },
   {
    "duration": 55,
    "start_time": "2024-11-12T17:16:10.923Z"
   },
   {
    "duration": 41,
    "start_time": "2024-11-12T17:16:40.436Z"
   },
   {
    "duration": 17,
    "start_time": "2024-11-12T17:16:54.679Z"
   },
   {
    "duration": 17,
    "start_time": "2024-11-12T17:17:53.205Z"
   },
   {
    "duration": 23,
    "start_time": "2024-11-12T17:18:08.160Z"
   },
   {
    "duration": 24,
    "start_time": "2024-11-12T17:18:20.200Z"
   },
   {
    "duration": 24,
    "start_time": "2024-11-12T17:18:41.679Z"
   },
   {
    "duration": 34,
    "start_time": "2024-11-12T17:19:03.554Z"
   },
   {
    "duration": 20,
    "start_time": "2024-11-12T17:19:24.077Z"
   },
   {
    "duration": 21,
    "start_time": "2024-11-12T17:21:57.016Z"
   },
   {
    "duration": 21,
    "start_time": "2024-11-12T17:22:09.009Z"
   },
   {
    "duration": 34,
    "start_time": "2024-11-12T17:22:19.220Z"
   },
   {
    "duration": 11,
    "start_time": "2024-11-12T17:22:34.282Z"
   },
   {
    "duration": 16,
    "start_time": "2024-11-12T17:22:41.215Z"
   },
   {
    "duration": 19,
    "start_time": "2024-11-12T17:23:09.765Z"
   },
   {
    "duration": 33,
    "start_time": "2024-11-12T17:23:21.254Z"
   },
   {
    "duration": 6,
    "start_time": "2024-11-12T17:23:44.284Z"
   },
   {
    "duration": 89,
    "start_time": "2024-11-12T17:23:50.432Z"
   },
   {
    "duration": 21,
    "start_time": "2024-11-12T17:23:55.767Z"
   },
   {
    "duration": 14,
    "start_time": "2024-11-12T17:24:20.273Z"
   },
   {
    "duration": 25,
    "start_time": "2024-11-12T17:24:35.861Z"
   },
   {
    "duration": 20,
    "start_time": "2024-11-12T17:25:10.088Z"
   },
   {
    "duration": 18,
    "start_time": "2024-11-12T17:25:21.975Z"
   },
   {
    "duration": 17,
    "start_time": "2024-11-12T17:25:57.624Z"
   },
   {
    "duration": 16,
    "start_time": "2024-11-12T17:26:28.397Z"
   },
   {
    "duration": 31,
    "start_time": "2024-11-12T17:26:47.767Z"
   },
   {
    "duration": 38,
    "start_time": "2024-11-12T17:27:37.320Z"
   },
   {
    "duration": 34,
    "start_time": "2024-11-12T17:28:15.240Z"
   },
   {
    "duration": 36,
    "start_time": "2024-11-12T17:28:52.838Z"
   },
   {
    "duration": 27,
    "start_time": "2024-11-12T17:29:09.351Z"
   },
   {
    "duration": 155,
    "start_time": "2024-11-12T17:29:19.123Z"
   },
   {
    "duration": 61,
    "start_time": "2024-11-12T17:29:57.401Z"
   },
   {
    "duration": 45,
    "start_time": "2024-11-12T17:30:08.441Z"
   },
   {
    "duration": 26,
    "start_time": "2024-11-12T17:30:33.883Z"
   },
   {
    "duration": 37,
    "start_time": "2024-11-12T17:30:50.021Z"
   },
   {
    "duration": 22,
    "start_time": "2024-11-12T17:31:19.285Z"
   },
   {
    "duration": 25,
    "start_time": "2024-11-12T17:34:43.081Z"
   },
   {
    "duration": 26,
    "start_time": "2024-11-12T17:34:52.212Z"
   },
   {
    "duration": 45,
    "start_time": "2024-11-12T17:35:02.435Z"
   },
   {
    "duration": 3,
    "start_time": "2024-11-12T17:36:18.079Z"
   },
   {
    "duration": 270,
    "start_time": "2024-11-12T17:36:22.520Z"
   },
   {
    "duration": 14,
    "start_time": "2024-11-12T17:36:32.691Z"
   },
   {
    "duration": 4,
    "start_time": "2024-11-12T17:36:38.330Z"
   },
   {
    "duration": 17,
    "start_time": "2024-11-12T17:36:44.586Z"
   },
   {
    "duration": 17,
    "start_time": "2024-11-12T17:39:37.297Z"
   },
   {
    "duration": 25,
    "start_time": "2024-11-12T17:41:48.313Z"
   },
   {
    "duration": 30,
    "start_time": "2024-11-12T17:42:11.377Z"
   },
   {
    "duration": 27,
    "start_time": "2024-11-12T17:45:07.863Z"
   },
   {
    "duration": 31,
    "start_time": "2024-11-12T17:45:30.651Z"
   },
   {
    "duration": 22,
    "start_time": "2024-11-12T17:45:57.778Z"
   },
   {
    "duration": 33,
    "start_time": "2024-11-12T17:47:00.925Z"
   },
   {
    "duration": 23,
    "start_time": "2024-11-12T17:48:29.671Z"
   },
   {
    "duration": 13,
    "start_time": "2024-11-12T17:49:00.801Z"
   },
   {
    "duration": 19,
    "start_time": "2024-11-12T17:49:10.170Z"
   },
   {
    "duration": 20,
    "start_time": "2024-11-12T17:49:20.390Z"
   },
   {
    "duration": 493,
    "start_time": "2024-11-12T17:50:25.821Z"
   },
   {
    "duration": 61,
    "start_time": "2024-11-12T17:50:27.806Z"
   },
   {
    "duration": 17,
    "start_time": "2024-11-12T17:52:03.481Z"
   },
   {
    "duration": 39,
    "start_time": "2024-11-12T17:52:22.935Z"
   },
   {
    "duration": 29,
    "start_time": "2024-11-12T17:52:29.154Z"
   },
   {
    "duration": 22,
    "start_time": "2024-11-12T18:05:06.225Z"
   },
   {
    "duration": 23,
    "start_time": "2024-11-12T18:05:17.212Z"
   },
   {
    "duration": 26,
    "start_time": "2024-11-12T18:05:28.865Z"
   },
   {
    "duration": 22,
    "start_time": "2024-11-12T18:06:27.609Z"
   },
   {
    "duration": 24,
    "start_time": "2024-11-12T18:06:36.086Z"
   },
   {
    "duration": 48,
    "start_time": "2024-11-12T18:19:05.649Z"
   },
   {
    "duration": 54,
    "start_time": "2024-11-12T18:19:22.169Z"
   },
   {
    "duration": 20,
    "start_time": "2024-11-12T18:21:10.423Z"
   },
   {
    "duration": 47,
    "start_time": "2024-11-12T18:22:47.567Z"
   },
   {
    "duration": 27,
    "start_time": "2024-11-12T18:23:44.027Z"
   },
   {
    "duration": 20,
    "start_time": "2024-11-12T18:24:37.896Z"
   },
   {
    "duration": 21,
    "start_time": "2024-11-12T18:24:46.263Z"
   },
   {
    "duration": 34,
    "start_time": "2024-11-12T18:24:57.346Z"
   },
   {
    "duration": 21,
    "start_time": "2024-11-12T18:25:06.009Z"
   },
   {
    "duration": 28,
    "start_time": "2024-11-12T18:25:35.301Z"
   },
   {
    "duration": 30,
    "start_time": "2024-11-12T18:25:46.140Z"
   },
   {
    "duration": 23,
    "start_time": "2024-11-12T18:26:48.012Z"
   },
   {
    "duration": 23,
    "start_time": "2024-11-12T18:26:57.824Z"
   },
   {
    "duration": 34,
    "start_time": "2024-11-12T18:27:08.932Z"
   },
   {
    "duration": 37,
    "start_time": "2024-11-12T18:27:13.355Z"
   },
   {
    "duration": 35,
    "start_time": "2024-11-12T18:27:27.530Z"
   },
   {
    "duration": 38,
    "start_time": "2024-11-12T18:27:39.620Z"
   },
   {
    "duration": 52,
    "start_time": "2024-11-12T18:28:16.919Z"
   },
   {
    "duration": 33,
    "start_time": "2024-11-12T18:28:22.766Z"
   },
   {
    "duration": 35,
    "start_time": "2024-11-12T18:28:33.636Z"
   },
   {
    "duration": 55,
    "start_time": "2024-11-12T18:28:38.912Z"
   },
   {
    "duration": 33,
    "start_time": "2024-11-12T18:28:51.155Z"
   },
   {
    "duration": 31,
    "start_time": "2024-11-12T18:29:22.267Z"
   },
   {
    "duration": 24,
    "start_time": "2024-11-12T18:29:55.663Z"
   },
   {
    "duration": 46,
    "start_time": "2024-11-12T18:30:25.668Z"
   },
   {
    "duration": 31,
    "start_time": "2024-11-12T18:30:35.186Z"
   },
   {
    "duration": 49,
    "start_time": "2024-11-12T18:30:51.622Z"
   },
   {
    "duration": 32,
    "start_time": "2024-11-12T18:31:02.660Z"
   },
   {
    "duration": 30,
    "start_time": "2024-11-12T18:31:15.268Z"
   },
   {
    "duration": 35,
    "start_time": "2024-11-12T18:31:27.711Z"
   },
   {
    "duration": 38,
    "start_time": "2024-11-12T18:32:17.743Z"
   },
   {
    "duration": 31,
    "start_time": "2024-11-12T18:32:26.773Z"
   },
   {
    "duration": 54,
    "start_time": "2024-11-12T18:32:30.915Z"
   },
   {
    "duration": 31,
    "start_time": "2024-11-12T18:33:08.898Z"
   },
   {
    "duration": 21,
    "start_time": "2024-11-12T18:33:25.397Z"
   },
   {
    "duration": 49,
    "start_time": "2024-11-12T18:33:50.640Z"
   },
   {
    "duration": 56,
    "start_time": "2024-11-12T18:33:59.241Z"
   },
   {
    "duration": 29,
    "start_time": "2024-11-12T18:35:06.899Z"
   },
   {
    "duration": 43,
    "start_time": "2024-11-12T18:35:31.144Z"
   },
   {
    "duration": 36,
    "start_time": "2024-11-12T18:37:33.222Z"
   },
   {
    "duration": 16,
    "start_time": "2024-11-12T18:38:20.118Z"
   },
   {
    "duration": 19,
    "start_time": "2024-11-12T18:38:26.280Z"
   },
   {
    "duration": 358,
    "start_time": "2024-11-12T18:38:42.560Z"
   },
   {
    "duration": 22,
    "start_time": "2024-11-12T18:39:12.176Z"
   },
   {
    "duration": 23,
    "start_time": "2024-11-12T18:41:29.964Z"
   },
   {
    "duration": 25,
    "start_time": "2024-11-12T18:41:52.496Z"
   },
   {
    "duration": 30,
    "start_time": "2024-11-12T18:42:06.994Z"
   },
   {
    "duration": 32,
    "start_time": "2024-11-12T18:42:38.007Z"
   },
   {
    "duration": 40,
    "start_time": "2024-11-12T18:42:55.235Z"
   },
   {
    "duration": 29,
    "start_time": "2024-11-12T18:43:45.606Z"
   },
   {
    "duration": 30,
    "start_time": "2024-11-12T18:44:13.506Z"
   },
   {
    "duration": 36,
    "start_time": "2024-11-12T18:44:23.882Z"
   },
   {
    "duration": 36,
    "start_time": "2024-11-12T18:44:43.555Z"
   },
   {
    "duration": 160,
    "start_time": "2024-11-12T18:45:17.291Z"
   },
   {
    "duration": 36,
    "start_time": "2024-11-12T18:45:32.001Z"
   },
   {
    "duration": 3882,
    "start_time": "2024-11-12T18:46:31.439Z"
   },
   {
    "duration": 39,
    "start_time": "2024-11-12T18:51:30.163Z"
   },
   {
    "duration": 28,
    "start_time": "2024-11-12T18:51:49.609Z"
   },
   {
    "duration": 36,
    "start_time": "2024-11-12T18:51:59.646Z"
   },
   {
    "duration": 4052,
    "start_time": "2024-11-12T18:58:24.475Z"
   },
   {
    "duration": 4237,
    "start_time": "2024-11-12T19:06:02.195Z"
   },
   {
    "duration": 192,
    "start_time": "2024-11-12T19:06:13.449Z"
   },
   {
    "duration": 211,
    "start_time": "2024-11-12T19:06:13.643Z"
   },
   {
    "duration": 18,
    "start_time": "2024-11-12T19:06:13.862Z"
   },
   {
    "duration": 124,
    "start_time": "2024-11-12T19:06:13.882Z"
   },
   {
    "duration": 195,
    "start_time": "2024-11-12T19:06:14.008Z"
   },
   {
    "duration": 191,
    "start_time": "2024-11-12T19:06:14.205Z"
   },
   {
    "duration": 7,
    "start_time": "2024-11-12T19:06:14.398Z"
   },
   {
    "duration": 131,
    "start_time": "2024-11-12T19:06:14.408Z"
   },
   {
    "duration": 266,
    "start_time": "2024-11-12T19:06:14.541Z"
   },
   {
    "duration": 181,
    "start_time": "2024-11-12T19:06:14.809Z"
   },
   {
    "duration": 10,
    "start_time": "2024-11-12T19:06:14.992Z"
   },
   {
    "duration": 145,
    "start_time": "2024-11-12T19:06:15.006Z"
   },
   {
    "duration": 221,
    "start_time": "2024-11-12T19:06:15.153Z"
   },
   {
    "duration": 10,
    "start_time": "2024-11-12T19:06:15.389Z"
   },
   {
    "duration": 195,
    "start_time": "2024-11-12T19:06:15.403Z"
   },
   {
    "duration": 162,
    "start_time": "2024-11-12T19:06:15.600Z"
   },
   {
    "duration": 24,
    "start_time": "2024-11-12T19:06:15.766Z"
   },
   {
    "duration": 61,
    "start_time": "2024-11-12T19:06:15.792Z"
   },
   {
    "duration": 20,
    "start_time": "2024-11-12T19:06:38.294Z"
   },
   {
    "duration": 824,
    "start_time": "2024-11-12T19:09:58.871Z"
   },
   {
    "duration": 200,
    "start_time": "2024-11-12T19:09:59.697Z"
   },
   {
    "duration": 11,
    "start_time": "2024-11-12T19:09:59.899Z"
   },
   {
    "duration": 12,
    "start_time": "2024-11-12T19:09:59.913Z"
   },
   {
    "duration": 26,
    "start_time": "2024-11-12T19:09:59.928Z"
   },
   {
    "duration": 18,
    "start_time": "2024-11-12T19:09:59.963Z"
   },
   {
    "duration": 11,
    "start_time": "2024-11-12T19:09:59.983Z"
   },
   {
    "duration": 11,
    "start_time": "2024-11-12T19:09:59.996Z"
   },
   {
    "duration": 18,
    "start_time": "2024-11-12T19:10:00.009Z"
   },
   {
    "duration": 8,
    "start_time": "2024-11-12T19:10:00.028Z"
   },
   {
    "duration": 40,
    "start_time": "2024-11-12T19:10:00.038Z"
   },
   {
    "duration": 5,
    "start_time": "2024-11-12T19:10:00.084Z"
   },
   {
    "duration": 17,
    "start_time": "2024-11-12T19:10:00.091Z"
   },
   {
    "duration": 13,
    "start_time": "2024-11-12T19:10:00.113Z"
   },
   {
    "duration": 54,
    "start_time": "2024-11-12T19:10:00.128Z"
   },
   {
    "duration": 24,
    "start_time": "2024-11-12T19:10:00.190Z"
   },
   {
    "duration": 17,
    "start_time": "2024-11-12T19:10:00.217Z"
   },
   {
    "duration": 29,
    "start_time": "2024-11-12T19:10:00.236Z"
   },
   {
    "duration": 27,
    "start_time": "2024-11-12T19:10:00.267Z"
   },
   {
    "duration": 14,
    "start_time": "2024-11-12T19:10:00.295Z"
   },
   {
    "duration": 24,
    "start_time": "2024-11-12T19:10:00.311Z"
   },
   {
    "duration": 25,
    "start_time": "2024-11-12T19:10:00.337Z"
   },
   {
    "duration": 27,
    "start_time": "2024-11-12T19:10:00.363Z"
   },
   {
    "duration": 5,
    "start_time": "2024-11-12T19:10:00.392Z"
   },
   {
    "duration": 18,
    "start_time": "2024-11-12T19:10:00.398Z"
   },
   {
    "duration": 12,
    "start_time": "2024-11-12T19:10:00.418Z"
   },
   {
    "duration": 54,
    "start_time": "2024-11-12T19:10:00.432Z"
   },
   {
    "duration": 37,
    "start_time": "2024-11-12T19:10:00.488Z"
   },
   {
    "duration": 23,
    "start_time": "2024-11-12T19:10:00.531Z"
   },
   {
    "duration": 21,
    "start_time": "2024-11-12T19:10:00.561Z"
   },
   {
    "duration": 15,
    "start_time": "2024-11-12T19:10:00.587Z"
   },
   {
    "duration": 12,
    "start_time": "2024-11-12T19:10:00.604Z"
   },
   {
    "duration": 38,
    "start_time": "2024-11-12T19:10:00.620Z"
   },
   {
    "duration": 41,
    "start_time": "2024-11-12T19:10:00.660Z"
   },
   {
    "duration": 15,
    "start_time": "2024-11-12T19:10:00.703Z"
   },
   {
    "duration": 13,
    "start_time": "2024-11-12T19:10:00.720Z"
   },
   {
    "duration": 39,
    "start_time": "2024-11-12T19:10:00.735Z"
   },
   {
    "duration": 202,
    "start_time": "2024-11-12T19:10:00.776Z"
   },
   {
    "duration": 4103,
    "start_time": "2024-11-12T19:10:00.986Z"
   },
   {
    "duration": 212,
    "start_time": "2024-11-12T19:10:05.091Z"
   },
   {
    "duration": 227,
    "start_time": "2024-11-12T19:10:05.310Z"
   },
   {
    "duration": 18,
    "start_time": "2024-11-12T19:10:05.539Z"
   },
   {
    "duration": 130,
    "start_time": "2024-11-12T19:10:05.560Z"
   },
   {
    "duration": 195,
    "start_time": "2024-11-12T19:10:05.692Z"
   },
   {
    "duration": 176,
    "start_time": "2024-11-12T19:10:05.889Z"
   },
   {
    "duration": 12,
    "start_time": "2024-11-12T19:10:06.069Z"
   },
   {
    "duration": 133,
    "start_time": "2024-11-12T19:10:06.083Z"
   },
   {
    "duration": 231,
    "start_time": "2024-11-12T19:10:06.218Z"
   },
   {
    "duration": 198,
    "start_time": "2024-11-12T19:10:06.457Z"
   },
   {
    "duration": 24,
    "start_time": "2024-11-12T19:10:06.658Z"
   },
   {
    "duration": 133,
    "start_time": "2024-11-12T19:10:06.690Z"
   },
   {
    "duration": 299,
    "start_time": "2024-11-12T19:10:06.825Z"
   },
   {
    "duration": 6,
    "start_time": "2024-11-12T19:10:07.126Z"
   },
   {
    "duration": 197,
    "start_time": "2024-11-12T19:10:07.135Z"
   },
   {
    "duration": 159,
    "start_time": "2024-11-12T19:10:07.334Z"
   },
   {
    "duration": 10,
    "start_time": "2024-11-12T19:10:07.495Z"
   },
   {
    "duration": 18,
    "start_time": "2024-11-12T19:10:07.507Z"
   },
   {
    "duration": 207,
    "start_time": "2024-11-12T19:11:59.182Z"
   },
   {
    "duration": 8,
    "start_time": "2024-11-12T20:56:53.196Z"
   },
   {
    "duration": 18,
    "start_time": "2024-11-12T20:57:04.805Z"
   },
   {
    "duration": 773,
    "start_time": "2024-11-12T20:57:40.405Z"
   },
   {
    "duration": 195,
    "start_time": "2024-11-12T20:57:41.180Z"
   },
   {
    "duration": 10,
    "start_time": "2024-11-12T20:57:41.377Z"
   },
   {
    "duration": 9,
    "start_time": "2024-11-12T20:57:41.389Z"
   },
   {
    "duration": 9,
    "start_time": "2024-11-12T20:57:41.401Z"
   },
   {
    "duration": 8,
    "start_time": "2024-11-12T20:57:41.411Z"
   },
   {
    "duration": 10,
    "start_time": "2024-11-12T20:57:41.421Z"
   },
   {
    "duration": 38,
    "start_time": "2024-11-12T20:57:41.433Z"
   },
   {
    "duration": 12,
    "start_time": "2024-11-12T20:57:41.473Z"
   },
   {
    "duration": 3,
    "start_time": "2024-11-12T20:57:41.487Z"
   },
   {
    "duration": 4,
    "start_time": "2024-11-12T20:57:41.492Z"
   },
   {
    "duration": 5,
    "start_time": "2024-11-12T20:57:41.498Z"
   },
   {
    "duration": 15,
    "start_time": "2024-11-12T20:57:41.504Z"
   },
   {
    "duration": 30,
    "start_time": "2024-11-12T20:57:41.523Z"
   },
   {
    "duration": 33,
    "start_time": "2024-11-12T20:57:41.558Z"
   },
   {
    "duration": 10,
    "start_time": "2024-11-12T20:57:41.593Z"
   },
   {
    "duration": 17,
    "start_time": "2024-11-12T20:57:41.605Z"
   },
   {
    "duration": 42,
    "start_time": "2024-11-12T20:57:41.624Z"
   },
   {
    "duration": 13,
    "start_time": "2024-11-12T20:57:41.672Z"
   },
   {
    "duration": 9,
    "start_time": "2024-11-12T20:57:41.687Z"
   },
   {
    "duration": 16,
    "start_time": "2024-11-12T20:57:41.697Z"
   },
   {
    "duration": 8,
    "start_time": "2024-11-12T20:57:41.715Z"
   },
   {
    "duration": 11,
    "start_time": "2024-11-12T20:57:41.724Z"
   },
   {
    "duration": 21,
    "start_time": "2024-11-12T20:57:41.746Z"
   },
   {
    "duration": 14,
    "start_time": "2024-11-12T20:57:41.768Z"
   },
   {
    "duration": 9,
    "start_time": "2024-11-12T20:57:41.783Z"
   },
   {
    "duration": 19,
    "start_time": "2024-11-12T20:57:41.795Z"
   },
   {
    "duration": 14,
    "start_time": "2024-11-12T20:57:41.816Z"
   },
   {
    "duration": 30,
    "start_time": "2024-11-12T20:57:41.832Z"
   },
   {
    "duration": 7,
    "start_time": "2024-11-12T20:57:41.863Z"
   },
   {
    "duration": 8,
    "start_time": "2024-11-12T20:57:41.872Z"
   },
   {
    "duration": 10,
    "start_time": "2024-11-12T20:57:41.881Z"
   },
   {
    "duration": 18,
    "start_time": "2024-11-12T20:57:41.892Z"
   },
   {
    "duration": 54,
    "start_time": "2024-11-12T20:57:41.912Z"
   },
   {
    "duration": 13,
    "start_time": "2024-11-12T20:57:41.968Z"
   },
   {
    "duration": 12,
    "start_time": "2024-11-12T20:57:41.982Z"
   },
   {
    "duration": 20,
    "start_time": "2024-11-12T20:57:41.996Z"
   },
   {
    "duration": 151,
    "start_time": "2024-11-12T20:57:42.018Z"
   },
   {
    "duration": 3737,
    "start_time": "2024-11-12T20:57:42.180Z"
   },
   {
    "duration": 196,
    "start_time": "2024-11-12T20:57:45.919Z"
   },
   {
    "duration": 216,
    "start_time": "2024-11-12T20:57:46.120Z"
   },
   {
    "duration": 13,
    "start_time": "2024-11-12T20:57:46.338Z"
   },
   {
    "duration": 121,
    "start_time": "2024-11-12T20:57:46.352Z"
   },
   {
    "duration": 193,
    "start_time": "2024-11-12T20:57:46.475Z"
   },
   {
    "duration": 155,
    "start_time": "2024-11-12T20:57:46.680Z"
   },
   {
    "duration": 33,
    "start_time": "2024-11-12T20:57:46.837Z"
   },
   {
    "duration": 135,
    "start_time": "2024-11-12T20:57:46.883Z"
   },
   {
    "duration": 201,
    "start_time": "2024-11-12T20:57:47.020Z"
   },
   {
    "duration": 179,
    "start_time": "2024-11-12T20:57:47.222Z"
   },
   {
    "duration": 10,
    "start_time": "2024-11-12T20:57:47.403Z"
   },
   {
    "duration": 135,
    "start_time": "2024-11-12T20:57:47.415Z"
   },
   {
    "duration": 240,
    "start_time": "2024-11-12T20:57:47.552Z"
   },
   {
    "duration": 6,
    "start_time": "2024-11-12T20:57:47.794Z"
   },
   {
    "duration": 190,
    "start_time": "2024-11-12T20:57:47.802Z"
   },
   {
    "duration": 179,
    "start_time": "2024-11-12T20:57:47.995Z"
   },
   {
    "duration": 9,
    "start_time": "2024-11-12T20:57:48.180Z"
   },
   {
    "duration": 25,
    "start_time": "2024-11-12T20:57:48.191Z"
   },
   {
    "duration": 8,
    "start_time": "2024-11-12T21:07:10.528Z"
   },
   {
    "duration": 180,
    "start_time": "2024-11-12T21:13:03.430Z"
   },
   {
    "duration": 161,
    "start_time": "2024-11-12T21:14:09.459Z"
   },
   {
    "duration": 196,
    "start_time": "2024-11-12T21:15:27.407Z"
   },
   {
    "duration": 157,
    "start_time": "2024-11-12T21:15:38.468Z"
   },
   {
    "duration": 128,
    "start_time": "2024-11-12T21:17:55.303Z"
   },
   {
    "duration": 140,
    "start_time": "2024-11-12T21:18:08.219Z"
   },
   {
    "duration": 183,
    "start_time": "2024-11-12T21:45:56.343Z"
   },
   {
    "duration": 3805,
    "start_time": "2024-11-12T21:48:07.820Z"
   },
   {
    "duration": 180,
    "start_time": "2024-11-12T21:48:46.551Z"
   },
   {
    "duration": 7,
    "start_time": "2024-11-12T21:49:09.163Z"
   },
   {
    "duration": 321,
    "start_time": "2024-11-12T21:49:15.711Z"
   },
   {
    "duration": 108,
    "start_time": "2024-11-12T21:49:37.631Z"
   },
   {
    "duration": 214,
    "start_time": "2024-11-12T21:50:11.563Z"
   },
   {
    "duration": 226,
    "start_time": "2024-11-12T21:50:22.828Z"
   },
   {
    "duration": 0,
    "start_time": "2024-11-12T21:51:42.071Z"
   },
   {
    "duration": 738,
    "start_time": "2024-11-12T21:52:39.499Z"
   },
   {
    "duration": 188,
    "start_time": "2024-11-12T21:52:40.239Z"
   },
   {
    "duration": 9,
    "start_time": "2024-11-12T21:52:40.429Z"
   },
   {
    "duration": 32,
    "start_time": "2024-11-12T21:52:40.440Z"
   },
   {
    "duration": 12,
    "start_time": "2024-11-12T21:52:40.473Z"
   },
   {
    "duration": 9,
    "start_time": "2024-11-12T21:52:40.490Z"
   },
   {
    "duration": 17,
    "start_time": "2024-11-12T21:52:40.501Z"
   },
   {
    "duration": 11,
    "start_time": "2024-11-12T21:52:40.520Z"
   },
   {
    "duration": 23,
    "start_time": "2024-11-12T21:52:40.532Z"
   },
   {
    "duration": 9,
    "start_time": "2024-11-12T21:52:40.565Z"
   },
   {
    "duration": 5,
    "start_time": "2024-11-12T21:52:40.577Z"
   },
   {
    "duration": 4,
    "start_time": "2024-11-12T21:52:40.584Z"
   },
   {
    "duration": 15,
    "start_time": "2024-11-12T21:52:40.590Z"
   },
   {
    "duration": 11,
    "start_time": "2024-11-12T21:52:40.606Z"
   },
   {
    "duration": 57,
    "start_time": "2024-11-12T21:52:40.619Z"
   },
   {
    "duration": 11,
    "start_time": "2024-11-12T21:52:40.678Z"
   },
   {
    "duration": 16,
    "start_time": "2024-11-12T21:52:40.691Z"
   },
   {
    "duration": 12,
    "start_time": "2024-11-12T21:52:40.709Z"
   },
   {
    "duration": 28,
    "start_time": "2024-11-12T21:52:40.722Z"
   },
   {
    "duration": 8,
    "start_time": "2024-11-12T21:52:40.752Z"
   },
   {
    "duration": 25,
    "start_time": "2024-11-12T21:52:40.761Z"
   },
   {
    "duration": 8,
    "start_time": "2024-11-12T21:52:40.788Z"
   },
   {
    "duration": 11,
    "start_time": "2024-11-12T21:52:40.797Z"
   },
   {
    "duration": 4,
    "start_time": "2024-11-12T21:52:40.810Z"
   },
   {
    "duration": 51,
    "start_time": "2024-11-12T21:52:40.815Z"
   },
   {
    "duration": 15,
    "start_time": "2024-11-12T21:52:40.872Z"
   },
   {
    "duration": 21,
    "start_time": "2024-11-12T21:52:40.889Z"
   },
   {
    "duration": 14,
    "start_time": "2024-11-12T21:52:40.914Z"
   },
   {
    "duration": 20,
    "start_time": "2024-11-12T21:52:40.930Z"
   },
   {
    "duration": 4,
    "start_time": "2024-11-12T21:52:40.951Z"
   },
   {
    "duration": 10,
    "start_time": "2024-11-12T21:52:40.957Z"
   },
   {
    "duration": 11,
    "start_time": "2024-11-12T21:52:40.969Z"
   },
   {
    "duration": 19,
    "start_time": "2024-11-12T21:52:40.986Z"
   },
   {
    "duration": 16,
    "start_time": "2024-11-12T21:52:41.006Z"
   },
   {
    "duration": 16,
    "start_time": "2024-11-12T21:52:41.043Z"
   },
   {
    "duration": 14,
    "start_time": "2024-11-12T21:52:41.060Z"
   },
   {
    "duration": 24,
    "start_time": "2024-11-12T21:52:41.075Z"
   },
   {
    "duration": 182,
    "start_time": "2024-11-12T21:52:41.101Z"
   },
   {
    "duration": 3785,
    "start_time": "2024-11-12T21:52:41.284Z"
   },
   {
    "duration": 194,
    "start_time": "2024-11-12T21:52:45.071Z"
   },
   {
    "duration": 193,
    "start_time": "2024-11-12T21:52:45.267Z"
   },
   {
    "duration": 11,
    "start_time": "2024-11-12T21:52:45.461Z"
   },
   {
    "duration": 128,
    "start_time": "2024-11-12T21:52:45.473Z"
   },
   {
    "duration": 170,
    "start_time": "2024-11-12T21:52:45.603Z"
   },
   {
    "duration": 144,
    "start_time": "2024-11-12T21:52:45.774Z"
   },
   {
    "duration": 7,
    "start_time": "2024-11-12T21:52:45.920Z"
   },
   {
    "duration": 140,
    "start_time": "2024-11-12T21:52:45.929Z"
   },
   {
    "duration": 172,
    "start_time": "2024-11-12T21:52:46.070Z"
   },
   {
    "duration": 151,
    "start_time": "2024-11-12T21:52:46.246Z"
   },
   {
    "duration": 7,
    "start_time": "2024-11-12T21:52:46.398Z"
   },
   {
    "duration": 126,
    "start_time": "2024-11-12T21:52:46.406Z"
   },
   {
    "duration": 244,
    "start_time": "2024-11-12T21:52:46.535Z"
   },
   {
    "duration": 7,
    "start_time": "2024-11-12T21:52:46.781Z"
   },
   {
    "duration": 179,
    "start_time": "2024-11-12T21:52:46.790Z"
   },
   {
    "duration": 105,
    "start_time": "2024-11-12T21:52:46.971Z"
   },
   {
    "duration": 8,
    "start_time": "2024-11-12T21:52:47.078Z"
   },
   {
    "duration": 16,
    "start_time": "2024-11-12T21:52:47.088Z"
   },
   {
    "duration": 44,
    "start_time": "2024-11-12T22:04:37.350Z"
   },
   {
    "duration": 47,
    "start_time": "2024-11-12T22:04:46.024Z"
   },
   {
    "duration": 20,
    "start_time": "2024-11-12T22:05:22.913Z"
   },
   {
    "duration": 23,
    "start_time": "2024-11-12T22:05:27.768Z"
   },
   {
    "duration": 771,
    "start_time": "2024-11-12T22:07:02.399Z"
   },
   {
    "duration": 3862,
    "start_time": "2024-11-12T22:07:21.518Z"
   },
   {
    "duration": 168,
    "start_time": "2024-11-12T22:11:32.563Z"
   },
   {
    "duration": 7,
    "start_time": "2024-11-12T22:11:45.077Z"
   },
   {
    "duration": 35,
    "start_time": "2024-11-12T22:15:30.924Z"
   },
   {
    "duration": 31,
    "start_time": "2024-11-12T22:16:13.378Z"
   },
   {
    "duration": 27,
    "start_time": "2024-11-12T22:16:37.163Z"
   },
   {
    "duration": 33,
    "start_time": "2024-11-12T22:16:45.088Z"
   },
   {
    "duration": 31,
    "start_time": "2024-11-12T22:16:55.669Z"
   },
   {
    "duration": 25,
    "start_time": "2024-11-12T22:17:22.834Z"
   },
   {
    "duration": 36,
    "start_time": "2024-11-12T22:17:56.053Z"
   },
   {
    "duration": 3793,
    "start_time": "2024-11-12T22:18:23.128Z"
   },
   {
    "duration": 3914,
    "start_time": "2024-11-12T22:18:36.922Z"
   },
   {
    "duration": 14,
    "start_time": "2024-11-12T22:28:06.499Z"
   },
   {
    "duration": 6,
    "start_time": "2024-11-12T22:28:16.417Z"
   },
   {
    "duration": 6,
    "start_time": "2024-11-12T22:28:30.509Z"
   },
   {
    "duration": 183,
    "start_time": "2024-11-12T22:29:53.555Z"
   },
   {
    "duration": 71,
    "start_time": "2024-11-12T22:30:30.555Z"
   },
   {
    "duration": 134,
    "start_time": "2024-11-12T22:30:50.728Z"
   },
   {
    "duration": 204,
    "start_time": "2024-11-12T22:31:21.163Z"
   },
   {
    "duration": 202,
    "start_time": "2024-11-12T22:31:46.709Z"
   },
   {
    "duration": 166,
    "start_time": "2024-11-12T22:32:06.571Z"
   },
   {
    "duration": 189,
    "start_time": "2024-11-12T22:32:40.246Z"
   },
   {
    "duration": 7,
    "start_time": "2024-11-12T22:32:46.313Z"
   },
   {
    "duration": 164,
    "start_time": "2024-11-12T22:32:53.430Z"
   },
   {
    "duration": 150,
    "start_time": "2024-11-12T22:33:24.375Z"
   },
   {
    "duration": 168,
    "start_time": "2024-11-12T22:37:29.763Z"
   },
   {
    "duration": 185,
    "start_time": "2024-11-12T22:37:50.822Z"
   },
   {
    "duration": 185,
    "start_time": "2024-11-12T22:38:03.591Z"
   },
   {
    "duration": 729,
    "start_time": "2024-11-13T14:00:58.487Z"
   },
   {
    "duration": 209,
    "start_time": "2024-11-13T14:00:59.218Z"
   },
   {
    "duration": 9,
    "start_time": "2024-11-13T14:00:59.429Z"
   },
   {
    "duration": 9,
    "start_time": "2024-11-13T14:00:59.441Z"
   },
   {
    "duration": 10,
    "start_time": "2024-11-13T14:00:59.452Z"
   },
   {
    "duration": 12,
    "start_time": "2024-11-13T14:00:59.464Z"
   },
   {
    "duration": 14,
    "start_time": "2024-11-13T14:00:59.478Z"
   },
   {
    "duration": 34,
    "start_time": "2024-11-13T14:00:59.495Z"
   },
   {
    "duration": 14,
    "start_time": "2024-11-13T14:00:59.531Z"
   },
   {
    "duration": 4,
    "start_time": "2024-11-13T14:00:59.547Z"
   },
   {
    "duration": 4,
    "start_time": "2024-11-13T14:00:59.552Z"
   },
   {
    "duration": 5,
    "start_time": "2024-11-13T14:00:59.558Z"
   },
   {
    "duration": 16,
    "start_time": "2024-11-13T14:00:59.564Z"
   },
   {
    "duration": 47,
    "start_time": "2024-11-13T14:00:59.581Z"
   },
   {
    "duration": 24,
    "start_time": "2024-11-13T14:00:59.630Z"
   },
   {
    "duration": 10,
    "start_time": "2024-11-13T14:00:59.656Z"
   },
   {
    "duration": 15,
    "start_time": "2024-11-13T14:00:59.668Z"
   },
   {
    "duration": 40,
    "start_time": "2024-11-13T14:00:59.685Z"
   },
   {
    "duration": 11,
    "start_time": "2024-11-13T14:00:59.727Z"
   },
   {
    "duration": 8,
    "start_time": "2024-11-13T14:00:59.740Z"
   },
   {
    "duration": 19,
    "start_time": "2024-11-13T14:00:59.750Z"
   },
   {
    "duration": 9,
    "start_time": "2024-11-13T14:00:59.771Z"
   },
   {
    "duration": 44,
    "start_time": "2024-11-13T14:00:59.782Z"
   },
   {
    "duration": 5,
    "start_time": "2024-11-13T14:00:59.828Z"
   },
   {
    "duration": 15,
    "start_time": "2024-11-13T14:00:59.834Z"
   },
   {
    "duration": 9,
    "start_time": "2024-11-13T14:00:59.850Z"
   },
   {
    "duration": 20,
    "start_time": "2024-11-13T14:00:59.861Z"
   },
   {
    "duration": 45,
    "start_time": "2024-11-13T14:00:59.887Z"
   },
   {
    "duration": 15,
    "start_time": "2024-11-13T14:00:59.934Z"
   },
   {
    "duration": 5,
    "start_time": "2024-11-13T14:00:59.950Z"
   },
   {
    "duration": 7,
    "start_time": "2024-11-13T14:00:59.957Z"
   },
   {
    "duration": 10,
    "start_time": "2024-11-13T14:00:59.965Z"
   },
   {
    "duration": 51,
    "start_time": "2024-11-13T14:00:59.977Z"
   },
   {
    "duration": 15,
    "start_time": "2024-11-13T14:01:00.031Z"
   },
   {
    "duration": 13,
    "start_time": "2024-11-13T14:01:00.048Z"
   },
   {
    "duration": 12,
    "start_time": "2024-11-13T14:01:00.062Z"
   },
   {
    "duration": 49,
    "start_time": "2024-11-13T14:01:00.076Z"
   },
   {
    "duration": 146,
    "start_time": "2024-11-13T14:01:00.127Z"
   },
   {
    "duration": 3690,
    "start_time": "2024-11-13T14:01:00.275Z"
   },
   {
    "duration": 181,
    "start_time": "2024-11-13T14:01:03.967Z"
   },
   {
    "duration": 181,
    "start_time": "2024-11-13T14:01:04.150Z"
   },
   {
    "duration": 8,
    "start_time": "2024-11-13T14:01:04.333Z"
   },
   {
    "duration": 121,
    "start_time": "2024-11-13T14:01:04.342Z"
   },
   {
    "duration": 161,
    "start_time": "2024-11-13T14:01:04.464Z"
   },
   {
    "duration": 158,
    "start_time": "2024-11-13T14:01:04.627Z"
   },
   {
    "duration": 7,
    "start_time": "2024-11-13T14:01:04.787Z"
   },
   {
    "duration": 126,
    "start_time": "2024-11-13T14:01:04.796Z"
   },
   {
    "duration": 173,
    "start_time": "2024-11-13T14:01:04.924Z"
   },
   {
    "duration": 156,
    "start_time": "2024-11-13T14:01:05.099Z"
   },
   {
    "duration": 7,
    "start_time": "2024-11-13T14:01:05.257Z"
   },
   {
    "duration": 127,
    "start_time": "2024-11-13T14:01:05.266Z"
   },
   {
    "duration": 236,
    "start_time": "2024-11-13T14:01:05.395Z"
   },
   {
    "duration": 7,
    "start_time": "2024-11-13T14:01:05.632Z"
   },
   {
    "duration": 166,
    "start_time": "2024-11-13T14:01:05.641Z"
   },
   {
    "duration": 116,
    "start_time": "2024-11-13T14:01:05.809Z"
   },
   {
    "duration": 9,
    "start_time": "2024-11-13T14:01:05.927Z"
   },
   {
    "duration": 16,
    "start_time": "2024-11-13T14:01:05.937Z"
   },
   {
    "duration": 17,
    "start_time": "2024-11-13T14:01:49.247Z"
   },
   {
    "duration": 21,
    "start_time": "2024-11-13T14:02:11.896Z"
   },
   {
    "duration": 4,
    "start_time": "2024-11-13T14:04:15.841Z"
   },
   {
    "duration": 748,
    "start_time": "2024-11-13T14:15:54.787Z"
   },
   {
    "duration": 161,
    "start_time": "2024-11-13T14:15:55.537Z"
   },
   {
    "duration": 10,
    "start_time": "2024-11-13T14:15:55.699Z"
   },
   {
    "duration": 20,
    "start_time": "2024-11-13T14:15:55.711Z"
   },
   {
    "duration": 9,
    "start_time": "2024-11-13T14:15:55.732Z"
   },
   {
    "duration": 9,
    "start_time": "2024-11-13T14:15:55.743Z"
   },
   {
    "duration": 11,
    "start_time": "2024-11-13T14:15:55.754Z"
   },
   {
    "duration": 11,
    "start_time": "2024-11-13T14:15:55.766Z"
   },
   {
    "duration": 13,
    "start_time": "2024-11-13T14:15:55.778Z"
   },
   {
    "duration": 3,
    "start_time": "2024-11-13T14:15:55.825Z"
   },
   {
    "duration": 4,
    "start_time": "2024-11-13T14:15:55.830Z"
   },
   {
    "duration": 4,
    "start_time": "2024-11-13T14:15:55.835Z"
   },
   {
    "duration": 15,
    "start_time": "2024-11-13T14:15:55.840Z"
   },
   {
    "duration": 10,
    "start_time": "2024-11-13T14:15:55.857Z"
   },
   {
    "duration": 61,
    "start_time": "2024-11-13T14:15:55.869Z"
   },
   {
    "duration": 12,
    "start_time": "2024-11-13T14:15:55.932Z"
   },
   {
    "duration": 16,
    "start_time": "2024-11-13T14:15:55.946Z"
   },
   {
    "duration": 12,
    "start_time": "2024-11-13T14:15:55.964Z"
   },
   {
    "duration": 12,
    "start_time": "2024-11-13T14:15:55.978Z"
   },
   {
    "duration": 36,
    "start_time": "2024-11-13T14:15:55.992Z"
   },
   {
    "duration": 18,
    "start_time": "2024-11-13T14:15:56.029Z"
   },
   {
    "duration": 8,
    "start_time": "2024-11-13T14:15:56.048Z"
   },
   {
    "duration": 12,
    "start_time": "2024-11-13T14:15:56.057Z"
   },
   {
    "duration": 4,
    "start_time": "2024-11-13T14:15:56.071Z"
   },
   {
    "duration": 13,
    "start_time": "2024-11-13T14:15:56.076Z"
   },
   {
    "duration": 10,
    "start_time": "2024-11-13T14:15:56.124Z"
   },
   {
    "duration": 20,
    "start_time": "2024-11-13T14:15:56.136Z"
   },
   {
    "duration": 15,
    "start_time": "2024-11-13T14:15:56.161Z"
   },
   {
    "duration": 14,
    "start_time": "2024-11-13T14:15:56.177Z"
   },
   {
    "duration": 31,
    "start_time": "2024-11-13T14:15:56.193Z"
   },
   {
    "duration": 7,
    "start_time": "2024-11-13T14:15:56.226Z"
   },
   {
    "duration": 10,
    "start_time": "2024-11-13T14:15:56.235Z"
   },
   {
    "duration": 18,
    "start_time": "2024-11-13T14:15:56.246Z"
   },
   {
    "duration": 15,
    "start_time": "2024-11-13T14:15:56.265Z"
   },
   {
    "duration": 46,
    "start_time": "2024-11-13T14:15:56.281Z"
   },
   {
    "duration": 13,
    "start_time": "2024-11-13T14:15:56.329Z"
   },
   {
    "duration": 21,
    "start_time": "2024-11-13T14:15:56.344Z"
   },
   {
    "duration": 159,
    "start_time": "2024-11-13T14:15:56.367Z"
   },
   {
    "duration": 159,
    "start_time": "2024-11-13T17:39:11.965Z"
   },
   {
    "duration": 12,
    "start_time": "2024-11-13T17:39:30.512Z"
   },
   {
    "duration": 2360,
    "start_time": "2024-11-13T17:39:36.784Z"
   },
   {
    "duration": 212,
    "start_time": "2024-11-13T17:39:39.146Z"
   },
   {
    "duration": 10,
    "start_time": "2024-11-13T17:39:39.359Z"
   },
   {
    "duration": 9,
    "start_time": "2024-11-13T17:39:39.371Z"
   },
   {
    "duration": 10,
    "start_time": "2024-11-13T17:39:39.381Z"
   },
   {
    "duration": 20,
    "start_time": "2024-11-13T17:39:39.392Z"
   },
   {
    "duration": 13,
    "start_time": "2024-11-13T17:39:39.413Z"
   },
   {
    "duration": 10,
    "start_time": "2024-11-13T17:39:39.428Z"
   },
   {
    "duration": 12,
    "start_time": "2024-11-13T17:39:39.440Z"
   },
   {
    "duration": 4,
    "start_time": "2024-11-13T17:39:39.455Z"
   },
   {
    "duration": 5,
    "start_time": "2024-11-13T17:39:39.460Z"
   },
   {
    "duration": 41,
    "start_time": "2024-11-13T17:39:39.466Z"
   },
   {
    "duration": 15,
    "start_time": "2024-11-13T17:39:39.509Z"
   },
   {
    "duration": 11,
    "start_time": "2024-11-13T17:39:39.525Z"
   },
   {
    "duration": 25,
    "start_time": "2024-11-13T17:39:39.537Z"
   },
   {
    "duration": 10,
    "start_time": "2024-11-13T17:39:39.563Z"
   },
   {
    "duration": 16,
    "start_time": "2024-11-13T17:39:39.606Z"
   },
   {
    "duration": 12,
    "start_time": "2024-11-13T17:39:39.623Z"
   },
   {
    "duration": 13,
    "start_time": "2024-11-13T17:39:39.637Z"
   },
   {
    "duration": 7,
    "start_time": "2024-11-13T17:39:39.651Z"
   },
   {
    "duration": 45,
    "start_time": "2024-11-13T17:39:39.660Z"
   },
   {
    "duration": 7,
    "start_time": "2024-11-13T17:39:39.708Z"
   },
   {
    "duration": 11,
    "start_time": "2024-11-13T17:39:39.717Z"
   },
   {
    "duration": 3,
    "start_time": "2024-11-13T17:39:39.730Z"
   },
   {
    "duration": 13,
    "start_time": "2024-11-13T17:39:39.735Z"
   },
   {
    "duration": 8,
    "start_time": "2024-11-13T17:39:39.750Z"
   },
   {
    "duration": 59,
    "start_time": "2024-11-13T17:39:39.760Z"
   },
   {
    "duration": 14,
    "start_time": "2024-11-13T17:39:39.825Z"
   },
   {
    "duration": 13,
    "start_time": "2024-11-13T17:39:39.840Z"
   },
   {
    "duration": 3,
    "start_time": "2024-11-13T17:39:39.856Z"
   },
   {
    "duration": 7,
    "start_time": "2024-11-13T17:39:39.861Z"
   },
   {
    "duration": 39,
    "start_time": "2024-11-13T17:39:39.870Z"
   },
   {
    "duration": 19,
    "start_time": "2024-11-13T17:39:39.910Z"
   },
   {
    "duration": 15,
    "start_time": "2024-11-13T17:39:39.931Z"
   },
   {
    "duration": 12,
    "start_time": "2024-11-13T17:39:39.948Z"
   },
   {
    "duration": 12,
    "start_time": "2024-11-13T17:39:39.962Z"
   },
   {
    "duration": 572,
    "start_time": "2024-11-13T17:39:39.975Z"
   },
   {
    "duration": 0,
    "start_time": "2024-11-13T17:39:40.549Z"
   },
   {
    "duration": 0,
    "start_time": "2024-11-13T17:39:40.551Z"
   },
   {
    "duration": 0,
    "start_time": "2024-11-13T17:39:40.551Z"
   },
   {
    "duration": 0,
    "start_time": "2024-11-13T17:39:40.552Z"
   },
   {
    "duration": 0,
    "start_time": "2024-11-13T17:39:40.554Z"
   },
   {
    "duration": 0,
    "start_time": "2024-11-13T17:39:40.555Z"
   },
   {
    "duration": 0,
    "start_time": "2024-11-13T17:39:40.555Z"
   },
   {
    "duration": 0,
    "start_time": "2024-11-13T17:39:40.556Z"
   },
   {
    "duration": 0,
    "start_time": "2024-11-13T17:39:40.557Z"
   },
   {
    "duration": 0,
    "start_time": "2024-11-13T17:39:40.557Z"
   },
   {
    "duration": 0,
    "start_time": "2024-11-13T17:39:40.558Z"
   },
   {
    "duration": 0,
    "start_time": "2024-11-13T17:39:40.559Z"
   },
   {
    "duration": 0,
    "start_time": "2024-11-13T17:39:40.560Z"
   },
   {
    "duration": 0,
    "start_time": "2024-11-13T17:39:40.560Z"
   },
   {
    "duration": 0,
    "start_time": "2024-11-13T17:39:40.561Z"
   },
   {
    "duration": 0,
    "start_time": "2024-11-13T17:39:40.562Z"
   },
   {
    "duration": 0,
    "start_time": "2024-11-13T17:39:40.564Z"
   },
   {
    "duration": 0,
    "start_time": "2024-11-13T17:39:40.565Z"
   },
   {
    "duration": 0,
    "start_time": "2024-11-13T17:39:40.567Z"
   },
   {
    "duration": 0,
    "start_time": "2024-11-13T17:39:40.568Z"
   },
   {
    "duration": 0,
    "start_time": "2024-11-13T17:39:40.569Z"
   },
   {
    "duration": 0,
    "start_time": "2024-11-13T17:39:40.570Z"
   },
   {
    "duration": 7,
    "start_time": "2024-11-13T17:40:56.214Z"
   },
   {
    "duration": 5,
    "start_time": "2024-11-13T17:41:06.419Z"
   },
   {
    "duration": 8,
    "start_time": "2024-11-13T17:42:13.646Z"
   },
   {
    "duration": 9,
    "start_time": "2024-11-13T17:42:50.538Z"
   },
   {
    "duration": 10,
    "start_time": "2024-11-13T17:44:41.932Z"
   },
   {
    "duration": 762,
    "start_time": "2024-11-13T17:45:33.233Z"
   },
   {
    "duration": 166,
    "start_time": "2024-11-13T17:45:33.997Z"
   },
   {
    "duration": 11,
    "start_time": "2024-11-13T17:45:34.165Z"
   },
   {
    "duration": 9,
    "start_time": "2024-11-13T17:45:34.179Z"
   },
   {
    "duration": 19,
    "start_time": "2024-11-13T17:45:34.190Z"
   },
   {
    "duration": 11,
    "start_time": "2024-11-13T17:45:34.210Z"
   },
   {
    "duration": 11,
    "start_time": "2024-11-13T17:45:34.222Z"
   },
   {
    "duration": 10,
    "start_time": "2024-11-13T17:45:34.234Z"
   },
   {
    "duration": 13,
    "start_time": "2024-11-13T17:45:34.246Z"
   },
   {
    "duration": 3,
    "start_time": "2024-11-13T17:45:34.262Z"
   },
   {
    "duration": 39,
    "start_time": "2024-11-13T17:45:34.267Z"
   },
   {
    "duration": 4,
    "start_time": "2024-11-13T17:45:34.308Z"
   },
   {
    "duration": 15,
    "start_time": "2024-11-13T17:45:34.314Z"
   },
   {
    "duration": 10,
    "start_time": "2024-11-13T17:45:34.330Z"
   },
   {
    "duration": 25,
    "start_time": "2024-11-13T17:45:34.341Z"
   },
   {
    "duration": 39,
    "start_time": "2024-11-13T17:45:34.367Z"
   },
   {
    "duration": 17,
    "start_time": "2024-11-13T17:45:34.407Z"
   },
   {
    "duration": 11,
    "start_time": "2024-11-13T17:45:34.425Z"
   },
   {
    "duration": 12,
    "start_time": "2024-11-13T17:45:34.437Z"
   },
   {
    "duration": 8,
    "start_time": "2024-11-13T17:45:34.451Z"
   },
   {
    "duration": 44,
    "start_time": "2024-11-13T17:45:34.461Z"
   },
   {
    "duration": 7,
    "start_time": "2024-11-13T17:45:34.507Z"
   },
   {
    "duration": 11,
    "start_time": "2024-11-13T17:45:34.516Z"
   },
   {
    "duration": 4,
    "start_time": "2024-11-13T17:45:34.529Z"
   },
   {
    "duration": 13,
    "start_time": "2024-11-13T17:45:34.534Z"
   },
   {
    "duration": 9,
    "start_time": "2024-11-13T17:45:34.548Z"
   },
   {
    "duration": 56,
    "start_time": "2024-11-13T17:45:34.559Z"
   },
   {
    "duration": 15,
    "start_time": "2024-11-13T17:45:34.620Z"
   },
   {
    "duration": 14,
    "start_time": "2024-11-13T17:45:34.637Z"
   },
   {
    "duration": 4,
    "start_time": "2024-11-13T17:45:34.652Z"
   },
   {
    "duration": 7,
    "start_time": "2024-11-13T17:45:34.657Z"
   },
   {
    "duration": 41,
    "start_time": "2024-11-13T17:45:34.666Z"
   },
   {
    "duration": 18,
    "start_time": "2024-11-13T17:45:34.708Z"
   },
   {
    "duration": 14,
    "start_time": "2024-11-13T17:45:34.728Z"
   },
   {
    "duration": 9,
    "start_time": "2024-11-13T17:45:34.743Z"
   },
   {
    "duration": 13,
    "start_time": "2024-11-13T17:45:34.754Z"
   },
   {
    "duration": 42,
    "start_time": "2024-11-13T17:45:34.769Z"
   },
   {
    "duration": 9,
    "start_time": "2024-11-13T17:45:34.813Z"
   },
   {
    "duration": 21,
    "start_time": "2024-11-13T17:45:34.824Z"
   },
   {
    "duration": 157,
    "start_time": "2024-11-13T17:45:34.846Z"
   },
   {
    "duration": 3667,
    "start_time": "2024-11-13T17:45:35.004Z"
   },
   {
    "duration": 19,
    "start_time": "2024-11-13T17:45:38.672Z"
   },
   {
    "duration": 180,
    "start_time": "2024-11-13T17:45:38.693Z"
   },
   {
    "duration": 179,
    "start_time": "2024-11-13T17:45:38.875Z"
   },
   {
    "duration": 6,
    "start_time": "2024-11-13T17:45:39.056Z"
   },
   {
    "duration": 116,
    "start_time": "2024-11-13T17:45:39.064Z"
   },
   {
    "duration": 159,
    "start_time": "2024-11-13T17:45:39.181Z"
   },
   {
    "duration": 139,
    "start_time": "2024-11-13T17:45:39.342Z"
   },
   {
    "duration": 7,
    "start_time": "2024-11-13T17:45:39.483Z"
   },
   {
    "duration": 114,
    "start_time": "2024-11-13T17:45:39.492Z"
   },
   {
    "duration": 178,
    "start_time": "2024-11-13T17:45:39.608Z"
   },
   {
    "duration": 149,
    "start_time": "2024-11-13T17:45:39.788Z"
   },
   {
    "duration": 7,
    "start_time": "2024-11-13T17:45:39.939Z"
   },
   {
    "duration": 118,
    "start_time": "2024-11-13T17:45:39.948Z"
   },
   {
    "duration": 230,
    "start_time": "2024-11-13T17:45:40.068Z"
   },
   {
    "duration": 9,
    "start_time": "2024-11-13T17:45:40.300Z"
   },
   {
    "duration": 155,
    "start_time": "2024-11-13T17:45:40.310Z"
   },
   {
    "duration": 103,
    "start_time": "2024-11-13T17:45:40.466Z"
   },
   {
    "duration": 9,
    "start_time": "2024-11-13T17:45:40.571Z"
   },
   {
    "duration": 29,
    "start_time": "2024-11-13T17:45:40.582Z"
   },
   {
    "duration": 766,
    "start_time": "2024-11-13T17:49:59.121Z"
   },
   {
    "duration": 155,
    "start_time": "2024-11-13T17:49:59.889Z"
   },
   {
    "duration": 12,
    "start_time": "2024-11-13T17:50:00.046Z"
   },
   {
    "duration": 12,
    "start_time": "2024-11-13T17:50:00.061Z"
   },
   {
    "duration": 9,
    "start_time": "2024-11-13T17:50:00.076Z"
   },
   {
    "duration": 21,
    "start_time": "2024-11-13T17:50:00.087Z"
   },
   {
    "duration": 10,
    "start_time": "2024-11-13T17:50:00.110Z"
   },
   {
    "duration": 10,
    "start_time": "2024-11-13T17:50:00.122Z"
   },
   {
    "duration": 13,
    "start_time": "2024-11-13T17:50:00.133Z"
   },
   {
    "duration": 4,
    "start_time": "2024-11-13T17:50:00.149Z"
   },
   {
    "duration": 4,
    "start_time": "2024-11-13T17:50:00.154Z"
   },
   {
    "duration": 3,
    "start_time": "2024-11-13T17:50:00.160Z"
   },
   {
    "duration": 53,
    "start_time": "2024-11-13T17:50:00.165Z"
   },
   {
    "duration": 10,
    "start_time": "2024-11-13T17:50:00.219Z"
   },
   {
    "duration": 24,
    "start_time": "2024-11-13T17:50:00.231Z"
   },
   {
    "duration": 11,
    "start_time": "2024-11-13T17:50:00.257Z"
   },
   {
    "duration": 41,
    "start_time": "2024-11-13T17:50:00.269Z"
   },
   {
    "duration": 12,
    "start_time": "2024-11-13T17:50:00.312Z"
   },
   {
    "duration": 11,
    "start_time": "2024-11-13T17:50:00.325Z"
   },
   {
    "duration": 8,
    "start_time": "2024-11-13T17:50:00.338Z"
   },
   {
    "duration": 17,
    "start_time": "2024-11-13T17:50:00.347Z"
   },
   {
    "duration": 7,
    "start_time": "2024-11-13T17:50:00.365Z"
   },
   {
    "duration": 41,
    "start_time": "2024-11-13T17:50:00.374Z"
   },
   {
    "duration": 4,
    "start_time": "2024-11-13T17:50:00.417Z"
   },
   {
    "duration": 13,
    "start_time": "2024-11-13T17:50:00.422Z"
   },
   {
    "duration": 9,
    "start_time": "2024-11-13T17:50:00.436Z"
   },
   {
    "duration": 19,
    "start_time": "2024-11-13T17:50:00.447Z"
   },
   {
    "duration": 15,
    "start_time": "2024-11-13T17:50:00.504Z"
   },
   {
    "duration": 13,
    "start_time": "2024-11-13T17:50:00.521Z"
   },
   {
    "duration": 3,
    "start_time": "2024-11-13T17:50:00.536Z"
   },
   {
    "duration": 7,
    "start_time": "2024-11-13T17:50:00.541Z"
   },
   {
    "duration": 11,
    "start_time": "2024-11-13T17:50:00.550Z"
   },
   {
    "duration": 51,
    "start_time": "2024-11-13T17:50:00.562Z"
   },
   {
    "duration": 15,
    "start_time": "2024-11-13T17:50:00.614Z"
   },
   {
    "duration": 8,
    "start_time": "2024-11-13T17:50:00.631Z"
   },
   {
    "duration": 14,
    "start_time": "2024-11-13T17:50:00.641Z"
   },
   {
    "duration": 12,
    "start_time": "2024-11-13T17:50:00.656Z"
   },
   {
    "duration": 37,
    "start_time": "2024-11-13T17:50:00.670Z"
   },
   {
    "duration": 21,
    "start_time": "2024-11-13T17:50:00.709Z"
   },
   {
    "duration": 151,
    "start_time": "2024-11-13T17:50:00.731Z"
   },
   {
    "duration": 3629,
    "start_time": "2024-11-13T17:50:00.883Z"
   },
   {
    "duration": 176,
    "start_time": "2024-11-13T17:50:04.514Z"
   },
   {
    "duration": 181,
    "start_time": "2024-11-13T17:50:04.692Z"
   },
   {
    "duration": 8,
    "start_time": "2024-11-13T17:50:04.875Z"
   },
   {
    "duration": 113,
    "start_time": "2024-11-13T17:50:04.885Z"
   },
   {
    "duration": 158,
    "start_time": "2024-11-13T17:50:05.000Z"
   },
   {
    "duration": 141,
    "start_time": "2024-11-13T17:50:05.160Z"
   },
   {
    "duration": 7,
    "start_time": "2024-11-13T17:50:05.305Z"
   },
   {
    "duration": 110,
    "start_time": "2024-11-13T17:50:05.314Z"
   },
   {
    "duration": 172,
    "start_time": "2024-11-13T17:50:05.426Z"
   },
   {
    "duration": 158,
    "start_time": "2024-11-13T17:50:05.599Z"
   },
   {
    "duration": 7,
    "start_time": "2024-11-13T17:50:05.758Z"
   },
   {
    "duration": 115,
    "start_time": "2024-11-13T17:50:05.767Z"
   },
   {
    "duration": 233,
    "start_time": "2024-11-13T17:50:05.884Z"
   },
   {
    "duration": 6,
    "start_time": "2024-11-13T17:50:06.118Z"
   },
   {
    "duration": 159,
    "start_time": "2024-11-13T17:50:06.126Z"
   },
   {
    "duration": 108,
    "start_time": "2024-11-13T17:50:06.287Z"
   },
   {
    "duration": 13,
    "start_time": "2024-11-13T17:50:06.396Z"
   },
   {
    "duration": 18,
    "start_time": "2024-11-13T17:50:06.412Z"
   },
   {
    "duration": 2472,
    "start_time": "2024-11-14T14:05:15.912Z"
   },
   {
    "duration": 222,
    "start_time": "2024-11-14T14:05:18.387Z"
   },
   {
    "duration": 10,
    "start_time": "2024-11-14T14:05:18.610Z"
   },
   {
    "duration": 9,
    "start_time": "2024-11-14T14:05:18.623Z"
   },
   {
    "duration": 9,
    "start_time": "2024-11-14T14:05:18.634Z"
   },
   {
    "duration": 8,
    "start_time": "2024-11-14T14:05:18.646Z"
   },
   {
    "duration": 32,
    "start_time": "2024-11-14T14:05:18.656Z"
   },
   {
    "duration": 11,
    "start_time": "2024-11-14T14:05:18.690Z"
   },
   {
    "duration": 13,
    "start_time": "2024-11-14T14:05:18.702Z"
   },
   {
    "duration": 3,
    "start_time": "2024-11-14T14:05:18.718Z"
   },
   {
    "duration": 3,
    "start_time": "2024-11-14T14:05:18.723Z"
   },
   {
    "duration": 4,
    "start_time": "2024-11-14T14:05:18.728Z"
   },
   {
    "duration": 53,
    "start_time": "2024-11-14T14:05:18.734Z"
   },
   {
    "duration": 9,
    "start_time": "2024-11-14T14:05:18.789Z"
   },
   {
    "duration": 24,
    "start_time": "2024-11-14T14:05:18.800Z"
   },
   {
    "duration": 11,
    "start_time": "2024-11-14T14:05:18.825Z"
   },
   {
    "duration": 16,
    "start_time": "2024-11-14T14:05:18.837Z"
   },
   {
    "duration": 42,
    "start_time": "2024-11-14T14:05:18.854Z"
   },
   {
    "duration": 12,
    "start_time": "2024-11-14T14:05:18.898Z"
   },
   {
    "duration": 8,
    "start_time": "2024-11-14T14:05:18.912Z"
   },
   {
    "duration": 17,
    "start_time": "2024-11-14T14:05:18.921Z"
   },
   {
    "duration": 8,
    "start_time": "2024-11-14T14:05:18.939Z"
   },
   {
    "duration": 40,
    "start_time": "2024-11-14T14:05:18.948Z"
   },
   {
    "duration": 3,
    "start_time": "2024-11-14T14:05:18.990Z"
   },
   {
    "duration": 14,
    "start_time": "2024-11-14T14:05:18.995Z"
   },
   {
    "duration": 9,
    "start_time": "2024-11-14T14:05:19.010Z"
   },
   {
    "duration": 21,
    "start_time": "2024-11-14T14:05:19.021Z"
   },
   {
    "duration": 44,
    "start_time": "2024-11-14T14:05:19.046Z"
   },
   {
    "duration": 14,
    "start_time": "2024-11-14T14:05:19.092Z"
   },
   {
    "duration": 4,
    "start_time": "2024-11-14T14:05:19.108Z"
   },
   {
    "duration": 7,
    "start_time": "2024-11-14T14:05:19.114Z"
   },
   {
    "duration": 10,
    "start_time": "2024-11-14T14:05:19.122Z"
   },
   {
    "duration": 18,
    "start_time": "2024-11-14T14:05:19.134Z"
   },
   {
    "duration": 15,
    "start_time": "2024-11-14T14:05:19.187Z"
   },
   {
    "duration": 8,
    "start_time": "2024-11-14T14:05:19.204Z"
   },
   {
    "duration": 13,
    "start_time": "2024-11-14T14:05:19.214Z"
   },
   {
    "duration": 11,
    "start_time": "2024-11-14T14:05:19.229Z"
   },
   {
    "duration": 8,
    "start_time": "2024-11-14T14:05:19.242Z"
   },
   {
    "duration": 53,
    "start_time": "2024-11-14T14:05:19.252Z"
   },
   {
    "duration": 164,
    "start_time": "2024-11-14T14:05:19.307Z"
   },
   {
    "duration": 3459,
    "start_time": "2024-11-14T14:05:19.473Z"
   },
   {
    "duration": 237,
    "start_time": "2024-11-14T14:05:22.934Z"
   },
   {
    "duration": 177,
    "start_time": "2024-11-14T14:05:23.173Z"
   },
   {
    "duration": 8,
    "start_time": "2024-11-14T14:05:23.351Z"
   },
   {
    "duration": 118,
    "start_time": "2024-11-14T14:05:23.360Z"
   },
   {
    "duration": 166,
    "start_time": "2024-11-14T14:05:23.487Z"
   },
   {
    "duration": 151,
    "start_time": "2024-11-14T14:05:23.655Z"
   },
   {
    "duration": 7,
    "start_time": "2024-11-14T14:05:23.808Z"
   },
   {
    "duration": 115,
    "start_time": "2024-11-14T14:05:23.817Z"
   },
   {
    "duration": 173,
    "start_time": "2024-11-14T14:05:23.934Z"
   },
   {
    "duration": 154,
    "start_time": "2024-11-14T14:05:24.109Z"
   },
   {
    "duration": 8,
    "start_time": "2024-11-14T14:05:24.265Z"
   },
   {
    "duration": 120,
    "start_time": "2024-11-14T14:05:24.275Z"
   },
   {
    "duration": 175,
    "start_time": "2024-11-14T14:05:24.397Z"
   },
   {
    "duration": 6,
    "start_time": "2024-11-14T14:05:24.574Z"
   },
   {
    "duration": 154,
    "start_time": "2024-11-14T14:05:24.581Z"
   },
   {
    "duration": 175,
    "start_time": "2024-11-14T14:05:24.737Z"
   },
   {
    "duration": 8,
    "start_time": "2024-11-14T14:05:24.914Z"
   },
   {
    "duration": 15,
    "start_time": "2024-11-14T14:05:24.924Z"
   },
   {
    "duration": 19,
    "start_time": "2024-11-14T14:05:53.940Z"
   },
   {
    "duration": 8,
    "start_time": "2024-11-14T14:08:46.722Z"
   },
   {
    "duration": 8,
    "start_time": "2024-11-14T14:12:18.004Z"
   },
   {
    "duration": 2545,
    "start_time": "2024-11-14T15:40:49.980Z"
   },
   {
    "duration": 236,
    "start_time": "2024-11-14T15:40:52.527Z"
   },
   {
    "duration": 10,
    "start_time": "2024-11-14T15:40:52.765Z"
   },
   {
    "duration": 11,
    "start_time": "2024-11-14T15:40:52.777Z"
   },
   {
    "duration": 10,
    "start_time": "2024-11-14T15:40:52.790Z"
   },
   {
    "duration": 8,
    "start_time": "2024-11-14T15:40:52.802Z"
   },
   {
    "duration": 27,
    "start_time": "2024-11-14T15:40:52.812Z"
   },
   {
    "duration": 11,
    "start_time": "2024-11-14T15:40:52.841Z"
   },
   {
    "duration": 13,
    "start_time": "2024-11-14T15:40:52.854Z"
   },
   {
    "duration": 5,
    "start_time": "2024-11-14T15:40:52.869Z"
   },
   {
    "duration": 4,
    "start_time": "2024-11-14T15:40:52.876Z"
   },
   {
    "duration": 5,
    "start_time": "2024-11-14T15:40:52.881Z"
   },
   {
    "duration": 59,
    "start_time": "2024-11-14T15:40:52.887Z"
   },
   {
    "duration": 10,
    "start_time": "2024-11-14T15:40:52.950Z"
   },
   {
    "duration": 29,
    "start_time": "2024-11-14T15:40:52.961Z"
   },
   {
    "duration": 15,
    "start_time": "2024-11-14T15:40:52.991Z"
   },
   {
    "duration": 17,
    "start_time": "2024-11-14T15:40:53.032Z"
   },
   {
    "duration": 12,
    "start_time": "2024-11-14T15:40:53.051Z"
   },
   {
    "duration": 14,
    "start_time": "2024-11-14T15:40:53.065Z"
   },
   {
    "duration": 8,
    "start_time": "2024-11-14T15:40:53.080Z"
   },
   {
    "duration": 47,
    "start_time": "2024-11-14T15:40:53.090Z"
   },
   {
    "duration": 7,
    "start_time": "2024-11-14T15:40:53.139Z"
   },
   {
    "duration": 12,
    "start_time": "2024-11-14T15:40:53.148Z"
   },
   {
    "duration": 4,
    "start_time": "2024-11-14T15:40:53.162Z"
   },
   {
    "duration": 15,
    "start_time": "2024-11-14T15:40:53.168Z"
   },
   {
    "duration": 9,
    "start_time": "2024-11-14T15:40:53.184Z"
   },
   {
    "duration": 56,
    "start_time": "2024-11-14T15:40:53.194Z"
   },
   {
    "duration": 15,
    "start_time": "2024-11-14T15:40:53.253Z"
   },
   {
    "duration": 16,
    "start_time": "2024-11-14T15:40:53.270Z"
   },
   {
    "duration": 4,
    "start_time": "2024-11-14T15:40:53.287Z"
   },
   {
    "duration": 8,
    "start_time": "2024-11-14T15:40:53.293Z"
   },
   {
    "duration": 40,
    "start_time": "2024-11-14T15:40:53.303Z"
   },
   {
    "duration": 19,
    "start_time": "2024-11-14T15:40:53.344Z"
   },
   {
    "duration": 15,
    "start_time": "2024-11-14T15:40:53.365Z"
   },
   {
    "duration": 9,
    "start_time": "2024-11-14T15:40:53.382Z"
   },
   {
    "duration": 45,
    "start_time": "2024-11-14T15:40:53.393Z"
   },
   {
    "duration": 13,
    "start_time": "2024-11-14T15:40:53.439Z"
   },
   {
    "duration": 10,
    "start_time": "2024-11-14T15:40:53.454Z"
   },
   {
    "duration": 23,
    "start_time": "2024-11-14T15:40:53.466Z"
   },
   {
    "duration": 165,
    "start_time": "2024-11-14T15:40:53.491Z"
   },
   {
    "duration": 3481,
    "start_time": "2024-11-14T15:40:53.661Z"
   },
   {
    "duration": 19,
    "start_time": "2024-11-14T15:40:57.144Z"
   },
   {
    "duration": 186,
    "start_time": "2024-11-14T15:40:57.165Z"
   },
   {
    "duration": 196,
    "start_time": "2024-11-14T15:40:57.353Z"
   },
   {
    "duration": 7,
    "start_time": "2024-11-14T15:40:57.552Z"
   },
   {
    "duration": 131,
    "start_time": "2024-11-14T15:40:57.560Z"
   },
   {
    "duration": 162,
    "start_time": "2024-11-14T15:40:57.693Z"
   },
   {
    "duration": 153,
    "start_time": "2024-11-14T15:40:57.856Z"
   },
   {
    "duration": 6,
    "start_time": "2024-11-14T15:40:58.011Z"
   },
   {
    "duration": 108,
    "start_time": "2024-11-14T15:40:58.031Z"
   },
   {
    "duration": 182,
    "start_time": "2024-11-14T15:40:58.141Z"
   },
   {
    "duration": 165,
    "start_time": "2024-11-14T15:40:58.326Z"
   },
   {
    "duration": 9,
    "start_time": "2024-11-14T15:40:58.493Z"
   },
   {
    "duration": 127,
    "start_time": "2024-11-14T15:40:58.504Z"
   },
   {
    "duration": 173,
    "start_time": "2024-11-14T15:40:58.633Z"
   },
   {
    "duration": 7,
    "start_time": "2024-11-14T15:40:58.808Z"
   },
   {
    "duration": 237,
    "start_time": "2024-11-14T15:40:58.816Z"
   },
   {
    "duration": 114,
    "start_time": "2024-11-14T15:40:59.055Z"
   },
   {
    "duration": 8,
    "start_time": "2024-11-14T15:40:59.171Z"
   },
   {
    "duration": 18,
    "start_time": "2024-11-14T15:40:59.181Z"
   },
   {
    "duration": 17,
    "start_time": "2024-11-14T15:42:59.327Z"
   },
   {
    "duration": 9,
    "start_time": "2024-11-14T15:43:03.591Z"
   },
   {
    "duration": 10,
    "start_time": "2024-11-14T15:43:51.154Z"
   },
   {
    "duration": 9,
    "start_time": "2024-11-14T15:44:45.322Z"
   },
   {
    "duration": 10,
    "start_time": "2024-11-14T15:45:07.434Z"
   },
   {
    "duration": 9,
    "start_time": "2024-11-14T15:45:57.085Z"
   },
   {
    "duration": 11,
    "start_time": "2024-11-14T15:46:03.017Z"
   },
   {
    "duration": 16,
    "start_time": "2024-11-14T15:46:10.929Z"
   },
   {
    "duration": 10,
    "start_time": "2024-11-14T15:46:13.457Z"
   },
   {
    "duration": 17,
    "start_time": "2024-11-14T15:46:38.452Z"
   },
   {
    "duration": 10,
    "start_time": "2024-11-14T15:46:40.731Z"
   },
   {
    "duration": 733,
    "start_time": "2024-11-14T15:47:18.905Z"
   },
   {
    "duration": 178,
    "start_time": "2024-11-14T15:47:19.640Z"
   },
   {
    "duration": 13,
    "start_time": "2024-11-14T15:47:19.820Z"
   },
   {
    "duration": 12,
    "start_time": "2024-11-14T15:47:19.835Z"
   },
   {
    "duration": 11,
    "start_time": "2024-11-14T15:47:19.848Z"
   },
   {
    "duration": 8,
    "start_time": "2024-11-14T15:47:19.861Z"
   },
   {
    "duration": 12,
    "start_time": "2024-11-14T15:47:19.871Z"
   },
   {
    "duration": 11,
    "start_time": "2024-11-14T15:47:19.884Z"
   },
   {
    "duration": 47,
    "start_time": "2024-11-14T15:47:19.896Z"
   },
   {
    "duration": 5,
    "start_time": "2024-11-14T15:47:19.947Z"
   },
   {
    "duration": 5,
    "start_time": "2024-11-14T15:47:19.953Z"
   },
   {
    "duration": 5,
    "start_time": "2024-11-14T15:47:19.959Z"
   },
   {
    "duration": 17,
    "start_time": "2024-11-14T15:47:19.965Z"
   },
   {
    "duration": 10,
    "start_time": "2024-11-14T15:47:19.984Z"
   },
   {
    "duration": 26,
    "start_time": "2024-11-14T15:47:20.032Z"
   },
   {
    "duration": 12,
    "start_time": "2024-11-14T15:47:20.060Z"
   },
   {
    "duration": 18,
    "start_time": "2024-11-14T15:47:20.074Z"
   },
   {
    "duration": 38,
    "start_time": "2024-11-14T15:47:20.094Z"
   },
   {
    "duration": 13,
    "start_time": "2024-11-14T15:47:20.134Z"
   },
   {
    "duration": 9,
    "start_time": "2024-11-14T15:47:20.149Z"
   },
   {
    "duration": 19,
    "start_time": "2024-11-14T15:47:20.159Z"
   },
   {
    "duration": 9,
    "start_time": "2024-11-14T15:47:20.180Z"
   },
   {
    "duration": 44,
    "start_time": "2024-11-14T15:47:20.191Z"
   },
   {
    "duration": 4,
    "start_time": "2024-11-14T15:47:20.237Z"
   },
   {
    "duration": 14,
    "start_time": "2024-11-14T15:47:20.243Z"
   },
   {
    "duration": 10,
    "start_time": "2024-11-14T15:47:20.259Z"
   },
   {
    "duration": 20,
    "start_time": "2024-11-14T15:47:20.271Z"
   },
   {
    "duration": 49,
    "start_time": "2024-11-14T15:47:20.296Z"
   },
   {
    "duration": 14,
    "start_time": "2024-11-14T15:47:20.347Z"
   },
   {
    "duration": 4,
    "start_time": "2024-11-14T15:47:20.363Z"
   },
   {
    "duration": 8,
    "start_time": "2024-11-14T15:47:20.368Z"
   },
   {
    "duration": 10,
    "start_time": "2024-11-14T15:47:20.378Z"
   },
   {
    "duration": 48,
    "start_time": "2024-11-14T15:47:20.390Z"
   },
   {
    "duration": 15,
    "start_time": "2024-11-14T15:47:20.440Z"
   },
   {
    "duration": 8,
    "start_time": "2024-11-14T15:47:20.457Z"
   },
   {
    "duration": 13,
    "start_time": "2024-11-14T15:47:20.468Z"
   },
   {
    "duration": 14,
    "start_time": "2024-11-14T15:47:20.483Z"
   },
   {
    "duration": 40,
    "start_time": "2024-11-14T15:47:20.499Z"
   },
   {
    "duration": 21,
    "start_time": "2024-11-14T15:47:20.541Z"
   },
   {
    "duration": 155,
    "start_time": "2024-11-14T15:47:20.564Z"
   },
   {
    "duration": 3716,
    "start_time": "2024-11-14T15:47:20.722Z"
   },
   {
    "duration": 20,
    "start_time": "2024-11-14T15:47:24.440Z"
   },
   {
    "duration": 194,
    "start_time": "2024-11-14T15:47:24.462Z"
   },
   {
    "duration": 196,
    "start_time": "2024-11-14T15:47:24.658Z"
   },
   {
    "duration": 8,
    "start_time": "2024-11-14T15:47:24.855Z"
   },
   {
    "duration": 135,
    "start_time": "2024-11-14T15:47:24.864Z"
   },
   {
    "duration": 166,
    "start_time": "2024-11-14T15:47:25.001Z"
   },
   {
    "duration": 153,
    "start_time": "2024-11-14T15:47:25.169Z"
   },
   {
    "duration": 11,
    "start_time": "2024-11-14T15:47:25.324Z"
   },
   {
    "duration": 111,
    "start_time": "2024-11-14T15:47:25.337Z"
   },
   {
    "duration": 181,
    "start_time": "2024-11-14T15:47:25.450Z"
   },
   {
    "duration": 159,
    "start_time": "2024-11-14T15:47:25.633Z"
   },
   {
    "duration": 7,
    "start_time": "2024-11-14T15:47:25.794Z"
   },
   {
    "duration": 115,
    "start_time": "2024-11-14T15:47:25.803Z"
   },
   {
    "duration": 252,
    "start_time": "2024-11-14T15:47:25.920Z"
   },
   {
    "duration": 7,
    "start_time": "2024-11-14T15:47:26.174Z"
   },
   {
    "duration": 165,
    "start_time": "2024-11-14T15:47:26.183Z"
   },
   {
    "duration": 114,
    "start_time": "2024-11-14T15:47:26.350Z"
   },
   {
    "duration": 8,
    "start_time": "2024-11-14T15:47:26.466Z"
   },
   {
    "duration": 17,
    "start_time": "2024-11-14T15:47:26.476Z"
   },
   {
    "duration": 805,
    "start_time": "2024-11-14T15:48:13.116Z"
   },
   {
    "duration": 168,
    "start_time": "2024-11-14T15:48:13.924Z"
   },
   {
    "duration": 10,
    "start_time": "2024-11-14T15:48:14.094Z"
   },
   {
    "duration": 12,
    "start_time": "2024-11-14T15:48:14.106Z"
   },
   {
    "duration": 19,
    "start_time": "2024-11-14T15:48:14.121Z"
   },
   {
    "duration": 9,
    "start_time": "2024-11-14T15:48:14.142Z"
   },
   {
    "duration": 19,
    "start_time": "2024-11-14T15:48:14.152Z"
   },
   {
    "duration": 13,
    "start_time": "2024-11-14T15:48:14.173Z"
   },
   {
    "duration": 17,
    "start_time": "2024-11-14T15:48:14.188Z"
   },
   {
    "duration": 6,
    "start_time": "2024-11-14T15:48:14.232Z"
   },
   {
    "duration": 4,
    "start_time": "2024-11-14T15:48:14.239Z"
   },
   {
    "duration": 5,
    "start_time": "2024-11-14T15:48:14.245Z"
   },
   {
    "duration": 17,
    "start_time": "2024-11-14T15:48:14.252Z"
   },
   {
    "duration": 15,
    "start_time": "2024-11-14T15:48:14.274Z"
   },
   {
    "duration": 67,
    "start_time": "2024-11-14T15:48:14.291Z"
   },
   {
    "duration": 18,
    "start_time": "2024-11-14T15:48:14.360Z"
   },
   {
    "duration": 17,
    "start_time": "2024-11-14T15:48:14.380Z"
   },
   {
    "duration": 36,
    "start_time": "2024-11-14T15:48:14.399Z"
   },
   {
    "duration": 13,
    "start_time": "2024-11-14T15:48:14.437Z"
   },
   {
    "duration": 10,
    "start_time": "2024-11-14T15:48:14.452Z"
   },
   {
    "duration": 25,
    "start_time": "2024-11-14T15:48:14.463Z"
   },
   {
    "duration": 42,
    "start_time": "2024-11-14T15:48:14.490Z"
   },
   {
    "duration": 15,
    "start_time": "2024-11-14T15:48:14.533Z"
   },
   {
    "duration": 6,
    "start_time": "2024-11-14T15:48:14.550Z"
   },
   {
    "duration": 14,
    "start_time": "2024-11-14T15:48:14.558Z"
   },
   {
    "duration": 13,
    "start_time": "2024-11-14T15:48:14.573Z"
   },
   {
    "duration": 54,
    "start_time": "2024-11-14T15:48:14.588Z"
   },
   {
    "duration": 21,
    "start_time": "2024-11-14T15:48:14.644Z"
   },
   {
    "duration": 18,
    "start_time": "2024-11-14T15:48:14.668Z"
   },
   {
    "duration": 5,
    "start_time": "2024-11-14T15:48:14.687Z"
   },
   {
    "duration": 8,
    "start_time": "2024-11-14T15:48:14.693Z"
   },
   {
    "duration": 38,
    "start_time": "2024-11-14T15:48:14.703Z"
   },
   {
    "duration": 19,
    "start_time": "2024-11-14T15:48:14.742Z"
   },
   {
    "duration": 17,
    "start_time": "2024-11-14T15:48:14.762Z"
   },
   {
    "duration": 9,
    "start_time": "2024-11-14T15:48:14.781Z"
   },
   {
    "duration": 42,
    "start_time": "2024-11-14T15:48:14.791Z"
   },
   {
    "duration": 17,
    "start_time": "2024-11-14T15:48:14.835Z"
   },
   {
    "duration": 12,
    "start_time": "2024-11-14T15:48:14.853Z"
   },
   {
    "duration": 31,
    "start_time": "2024-11-14T15:48:14.867Z"
   },
   {
    "duration": 167,
    "start_time": "2024-11-14T15:48:14.900Z"
   },
   {
    "duration": 3601,
    "start_time": "2024-11-14T15:48:15.072Z"
   },
   {
    "duration": 21,
    "start_time": "2024-11-14T15:48:18.675Z"
   },
   {
    "duration": 190,
    "start_time": "2024-11-14T15:48:18.698Z"
   },
   {
    "duration": 195,
    "start_time": "2024-11-14T15:48:18.890Z"
   },
   {
    "duration": 9,
    "start_time": "2024-11-14T15:48:19.089Z"
   },
   {
    "duration": 171,
    "start_time": "2024-11-14T15:48:19.100Z"
   },
   {
    "duration": 170,
    "start_time": "2024-11-14T15:48:19.274Z"
   },
   {
    "duration": 150,
    "start_time": "2024-11-14T15:48:19.447Z"
   },
   {
    "duration": 6,
    "start_time": "2024-11-14T15:48:19.599Z"
   },
   {
    "duration": 111,
    "start_time": "2024-11-14T15:48:19.608Z"
   },
   {
    "duration": 207,
    "start_time": "2024-11-14T15:48:19.721Z"
   },
   {
    "duration": 161,
    "start_time": "2024-11-14T15:48:19.931Z"
   },
   {
    "duration": 7,
    "start_time": "2024-11-14T15:48:20.094Z"
   },
   {
    "duration": 122,
    "start_time": "2024-11-14T15:48:20.104Z"
   },
   {
    "duration": 234,
    "start_time": "2024-11-14T15:48:20.232Z"
   },
   {
    "duration": 7,
    "start_time": "2024-11-14T15:48:20.467Z"
   },
   {
    "duration": 159,
    "start_time": "2024-11-14T15:48:20.476Z"
   },
   {
    "duration": 108,
    "start_time": "2024-11-14T15:48:20.637Z"
   },
   {
    "duration": 9,
    "start_time": "2024-11-14T15:48:20.747Z"
   },
   {
    "duration": 16,
    "start_time": "2024-11-14T15:48:20.758Z"
   },
   {
    "duration": 9,
    "start_time": "2024-11-14T15:48:58.495Z"
   },
   {
    "duration": 10,
    "start_time": "2024-11-14T15:51:08.774Z"
   },
   {
    "duration": 17,
    "start_time": "2024-11-14T15:51:12.117Z"
   },
   {
    "duration": 11,
    "start_time": "2024-11-14T15:51:15.102Z"
   },
   {
    "duration": 22,
    "start_time": "2024-11-14T15:51:18.579Z"
   },
   {
    "duration": 34,
    "start_time": "2024-11-14T15:51:21.981Z"
   },
   {
    "duration": 3544,
    "start_time": "2024-11-14T15:51:40.122Z"
   },
   {
    "duration": 3653,
    "start_time": "2024-11-14T15:55:12.463Z"
   },
   {
    "duration": 3471,
    "start_time": "2024-11-14T15:55:36.162Z"
   },
   {
    "duration": 811,
    "start_time": "2024-11-14T16:35:48.773Z"
   },
   {
    "duration": 152,
    "start_time": "2024-11-14T16:35:49.586Z"
   },
   {
    "duration": 10,
    "start_time": "2024-11-14T16:35:49.740Z"
   },
   {
    "duration": 10,
    "start_time": "2024-11-14T16:35:49.751Z"
   },
   {
    "duration": 23,
    "start_time": "2024-11-14T16:35:49.764Z"
   },
   {
    "duration": 8,
    "start_time": "2024-11-14T16:35:49.789Z"
   },
   {
    "duration": 10,
    "start_time": "2024-11-14T16:35:49.799Z"
   },
   {
    "duration": 11,
    "start_time": "2024-11-14T16:35:49.811Z"
   },
   {
    "duration": 12,
    "start_time": "2024-11-14T16:35:49.824Z"
   },
   {
    "duration": 4,
    "start_time": "2024-11-14T16:35:49.838Z"
   },
   {
    "duration": 4,
    "start_time": "2024-11-14T16:35:49.843Z"
   },
   {
    "duration": 4,
    "start_time": "2024-11-14T16:35:49.887Z"
   },
   {
    "duration": 16,
    "start_time": "2024-11-14T16:35:49.893Z"
   },
   {
    "duration": 11,
    "start_time": "2024-11-14T16:35:49.912Z"
   },
   {
    "duration": 26,
    "start_time": "2024-11-14T16:35:49.924Z"
   },
   {
    "duration": 42,
    "start_time": "2024-11-14T16:35:49.952Z"
   },
   {
    "duration": 18,
    "start_time": "2024-11-14T16:35:49.996Z"
   },
   {
    "duration": 14,
    "start_time": "2024-11-14T16:35:50.016Z"
   },
   {
    "duration": 11,
    "start_time": "2024-11-14T16:35:50.032Z"
   },
   {
    "duration": 41,
    "start_time": "2024-11-14T16:35:50.046Z"
   },
   {
    "duration": 17,
    "start_time": "2024-11-14T16:35:50.089Z"
   },
   {
    "duration": 8,
    "start_time": "2024-11-14T16:35:50.108Z"
   },
   {
    "duration": 11,
    "start_time": "2024-11-14T16:35:50.119Z"
   },
   {
    "duration": 5,
    "start_time": "2024-11-14T16:35:50.131Z"
   },
   {
    "duration": 14,
    "start_time": "2024-11-14T16:35:50.137Z"
   },
   {
    "duration": 38,
    "start_time": "2024-11-14T16:35:50.152Z"
   },
   {
    "duration": 19,
    "start_time": "2024-11-14T16:35:50.192Z"
   },
   {
    "duration": 14,
    "start_time": "2024-11-14T16:35:50.214Z"
   },
   {
    "duration": 13,
    "start_time": "2024-11-14T16:35:50.230Z"
   },
   {
    "duration": 4,
    "start_time": "2024-11-14T16:35:50.245Z"
   },
   {
    "duration": 36,
    "start_time": "2024-11-14T16:35:50.251Z"
   },
   {
    "duration": 11,
    "start_time": "2024-11-14T16:35:50.289Z"
   },
   {
    "duration": 17,
    "start_time": "2024-11-14T16:35:50.302Z"
   },
   {
    "duration": 14,
    "start_time": "2024-11-14T16:35:50.321Z"
   },
   {
    "duration": 8,
    "start_time": "2024-11-14T16:35:50.336Z"
   },
   {
    "duration": 47,
    "start_time": "2024-11-14T16:35:50.346Z"
   },
   {
    "duration": 12,
    "start_time": "2024-11-14T16:35:50.395Z"
   },
   {
    "duration": 9,
    "start_time": "2024-11-14T16:35:50.410Z"
   },
   {
    "duration": 20,
    "start_time": "2024-11-14T16:35:50.421Z"
   },
   {
    "duration": 165,
    "start_time": "2024-11-14T16:35:50.443Z"
   },
   {
    "duration": 3589,
    "start_time": "2024-11-14T16:35:50.612Z"
   },
   {
    "duration": 20,
    "start_time": "2024-11-14T16:35:54.203Z"
   },
   {
    "duration": 186,
    "start_time": "2024-11-14T16:35:54.225Z"
   },
   {
    "duration": 182,
    "start_time": "2024-11-14T16:35:54.413Z"
   },
   {
    "duration": 7,
    "start_time": "2024-11-14T16:35:54.597Z"
   },
   {
    "duration": 117,
    "start_time": "2024-11-14T16:35:54.605Z"
   },
   {
    "duration": 162,
    "start_time": "2024-11-14T16:35:54.724Z"
   },
   {
    "duration": 141,
    "start_time": "2024-11-14T16:35:54.888Z"
   },
   {
    "duration": 7,
    "start_time": "2024-11-14T16:35:55.032Z"
   },
   {
    "duration": 113,
    "start_time": "2024-11-14T16:35:55.040Z"
   },
   {
    "duration": 182,
    "start_time": "2024-11-14T16:35:55.155Z"
   },
   {
    "duration": 161,
    "start_time": "2024-11-14T16:35:55.339Z"
   },
   {
    "duration": 8,
    "start_time": "2024-11-14T16:35:55.502Z"
   },
   {
    "duration": 117,
    "start_time": "2024-11-14T16:35:55.511Z"
   },
   {
    "duration": 221,
    "start_time": "2024-11-14T16:35:55.630Z"
   },
   {
    "duration": 6,
    "start_time": "2024-11-14T16:35:55.854Z"
   },
   {
    "duration": 159,
    "start_time": "2024-11-14T16:35:55.862Z"
   },
   {
    "duration": 108,
    "start_time": "2024-11-14T16:35:56.023Z"
   },
   {
    "duration": 9,
    "start_time": "2024-11-14T16:35:56.132Z"
   },
   {
    "duration": 16,
    "start_time": "2024-11-14T16:35:56.144Z"
   },
   {
    "duration": 3489,
    "start_time": "2024-11-14T16:36:20.672Z"
   },
   {
    "duration": 20,
    "start_time": "2024-11-14T16:36:26.257Z"
   }
  ],
  "colab": {
   "provenance": []
  },
  "kernelspec": {
   "display_name": "Python 3 (ipykernel)",
   "language": "python",
   "name": "python3"
  },
  "language_info": {
   "codemirror_mode": {
    "name": "ipython",
    "version": 3
   },
   "file_extension": ".py",
   "mimetype": "text/x-python",
   "name": "python",
   "nbconvert_exporter": "python",
   "pygments_lexer": "ipython3",
   "version": "3.9.19"
  },
  "toc": {
   "base_numbering": 1,
   "nav_menu": {},
   "number_sections": true,
   "sideBar": true,
   "skip_h1_title": false,
   "title_cell": "Table of Contents",
   "title_sidebar": "Contents",
   "toc_cell": false,
   "toc_position": {},
   "toc_section_display": true,
   "toc_window_display": false
  }
 },
 "nbformat": 4,
 "nbformat_minor": 1
}
